{
  "nbformat": 4,
  "nbformat_minor": 0,
  "metadata": {
    "kernelspec": {
      "display_name": "Python 3",
      "language": "python",
      "name": "python3"
    },
    "language_info": {
      "codemirror_mode": {
        "name": "ipython",
        "version": 3
      },
      "file_extension": ".py",
      "mimetype": "text/x-python",
      "name": "python",
      "nbconvert_exporter": "python",
      "pygments_lexer": "ipython3",
      "version": "3.6.4"
    },
    "colab": {
      "name": "API-MiniProject.ipynb",
      "provenance": [],
      "collapsed_sections": []
    }
  },
  "cells": [
    {
      "cell_type": "markdown",
      "metadata": {
        "id": "yy8_EArKvlBQ"
      },
      "source": [
        "This exercise will require you to pull some data from the Qunadl API. Qaundl is currently the most widely used aggregator of financial market data."
      ]
    },
    {
      "cell_type": "markdown",
      "metadata": {
        "id": "JU-vut2-vlBW"
      },
      "source": [
        "As a first step, you will need to register a free account on the http://www.quandl.com website."
      ]
    },
    {
      "cell_type": "markdown",
      "metadata": {
        "id": "Qysuw3gGvlBX"
      },
      "source": [
        "After you register, you will be provided with a unique API key, that you should store:"
      ]
    },
    {
      "cell_type": "code",
      "metadata": {
        "collapsed": true,
        "id": "Fnp0YdDUvlBX"
      },
      "source": [
        "# Store the API key as a string - according to PEP8, constants are always named in all upper case\n",
        "API_KEY = 'W6roZUPPsfcnA3sfkfzJ'"
      ],
      "execution_count": 1,
      "outputs": []
    },
    {
      "cell_type": "markdown",
      "metadata": {
        "id": "_p-XvajtvlBY"
      },
      "source": [
        "Qaundl has a large number of data sources, but, unfortunately, most of them require a Premium subscription. Still, there are also a good number of free datasets."
      ]
    },
    {
      "cell_type": "markdown",
      "metadata": {
        "id": "VByxG_9zvlBY"
      },
      "source": [
        "For this mini project, we will focus on equities data from the Frankfurt Stock Exhange (FSE), which is available for free. We'll try and analyze the stock prices of a company called Carl Zeiss Meditec, which manufactures tools for eye examinations, as well as medical lasers for laser eye surgery: https://www.zeiss.com/meditec/int/home.html. The company is listed under the stock ticker AFX_X."
      ]
    },
    {
      "cell_type": "markdown",
      "metadata": {
        "id": "mA-QDgZAvlBY"
      },
      "source": [
        "You can find the detailed Quandl API instructions here: https://docs.quandl.com/docs/time-series"
      ]
    },
    {
      "cell_type": "markdown",
      "metadata": {
        "id": "zg-p_7muvlBY"
      },
      "source": [
        "While there is a dedicated Python package for connecting to the Quandl API, we would prefer that you use the *requests* package, which can be easily downloaded using *pip* or *conda*. You can find the documentation for the package here: http://docs.python-requests.org/en/master/ "
      ]
    },
    {
      "cell_type": "markdown",
      "metadata": {
        "id": "NrZ2PB1DvlBZ"
      },
      "source": [
        "Finally, apart from the *requests* package, you are encouraged to not use any third party Python packages, such as *pandas*, and instead focus on what's available in the Python Standard Library (the *collections* module might come in handy: https://pymotw.com/3/collections/).\n",
        "Also, since you won't have access to DataFrames, you are encouraged to us Python's native data structures - preferably dictionaries, though some questions can also be answered using lists.\n",
        "You can read more on these data structures here: https://docs.python.org/3/tutorial/datastructures.html"
      ]
    },
    {
      "cell_type": "markdown",
      "metadata": {
        "id": "WQc2ZEmmvlBZ"
      },
      "source": [
        "Keep in mind that the JSON responses you will be getting from the API map almost one-to-one to Python's dictionaries. Unfortunately, they can be very nested, so make sure you read up on indexing dictionaries in the documentation provided above."
      ]
    },
    {
      "cell_type": "code",
      "metadata": {
        "collapsed": true,
        "id": "bvigZRmFvlBZ"
      },
      "source": [
        "# First, import the relevant modules\n",
        "import json\n",
        "import urllib.request\n",
        "import requests\n",
        "import statistics\n"
      ],
      "execution_count": 2,
      "outputs": []
    },
    {
      "cell_type": "code",
      "metadata": {
        "collapsed": true,
        "id": "IiU0zsPcvlBZ"
      },
      "source": [
        "# Now, call the Quandl API and pull out a small sample of the data (only one day) to get a glimpse\n",
        "# into the JSON structure that will be returned\n",
        "\n",
        "sample_url = 'https://www.quandl.com/api/v3/datasets/XFRA/AXV_UADJ/data.json?start_date=2018-11-30&end_date=2018-11-30&api_key=W6roZUPPsfcnA3sfkfzJ'\n",
        "sample_data = json.loads(urllib.request.urlopen(sample_url).read())\n"
      ],
      "execution_count": 3,
      "outputs": []
    },
    {
      "cell_type": "code",
      "metadata": {
        "collapsed": true,
        "colab": {
          "base_uri": "https://localhost:8080/"
        },
        "id": "Ejcda9epvlBa",
        "outputId": "aa394cb0-c01d-4ef0-dbf8-8a65173a5450"
      },
      "source": [
        "# Inspect the JSON structure of the object you created, and take note of how nested it is,\n",
        "# as well as the overall structure\n",
        "sample_data"
      ],
      "execution_count": 4,
      "outputs": [
        {
          "output_type": "execute_result",
          "data": {
            "text/plain": [
              "{'dataset_data': {'collapse': None,\n",
              "  'column_index': None,\n",
              "  'column_names': ['Date',\n",
              "   'Open',\n",
              "   'High',\n",
              "   'Low',\n",
              "   'Close',\n",
              "   'Volume',\n",
              "   'Adjustment Factor',\n",
              "   'Adjustment Type'],\n",
              "  'data': [['2018-11-30', 46.3, 46.3, 46.3, 46.3, 0.0, None, None]],\n",
              "  'end_date': '2018-11-30',\n",
              "  'frequency': 'daily',\n",
              "  'limit': None,\n",
              "  'order': None,\n",
              "  'start_date': '2018-11-30',\n",
              "  'transform': None}}"
            ]
          },
          "metadata": {
            "tags": []
          },
          "execution_count": 4
        }
      ]
    },
    {
      "cell_type": "markdown",
      "metadata": {
        "id": "WWF-ByyLvlBa"
      },
      "source": [
        "These are your tasks for this mini project:\n",
        "\n",
        "1. Collect data from the Franfurt Stock Exchange, for the ticker AFX_X, for the whole year 2017 (keep in mind that the date format is YYYY-MM-DD).\n",
        "2. Convert the returned JSON object into a Python dictionary.\n",
        "3. Calculate what the highest and lowest opening prices were for the stock in this period.\n",
        "4. What was the largest change in any one day (based on High and Low price)?\n",
        "5. What was the largest change between any two days (based on Closing Price)?\n",
        "6. What was the average daily trading volume during this year?\n",
        "7. (Optional) What was the median trading volume during this year. (Note: you may need to implement your own function for calculating the median.)"
      ]
    },
    {
      "cell_type": "code",
      "metadata": {
        "collapsed": true,
        "colab": {
          "base_uri": "https://localhost:8080/"
        },
        "id": "kxZZYnfGvlBa",
        "outputId": "368f589a-a527-463c-a6ea-036251f9687f"
      },
      "source": [
        "url = 'https://www.quandl.com/api/v3/datasets/XFRA/AXV_UADJ/data.json?start_date=2017-01-01&end_date=2018-01-01&api_key=W6roZUPPsfcnA3sfkfzJ'\n",
        " \n",
        "data = json.loads(urllib.request.urlopen(url).read())\n",
        "data = data.pop('dataset_data',None)\n",
        "\n",
        "print(data['column_names'])\n",
        "#First 10 rows of data \n",
        "data['data'][:10]"
      ],
      "execution_count": 5,
      "outputs": [
        {
          "output_type": "stream",
          "text": [
            "['Date', 'Open', 'High', 'Low', 'Close', 'Volume', 'Adjustment Factor', 'Adjustment Type']\n"
          ],
          "name": "stdout"
        },
        {
          "output_type": "execute_result",
          "data": {
            "text/plain": [
              "[['2018-01-01', 40.026, 40.026, 40.026, 40.026, 0.0, None, None],\n",
              " ['2017-12-29', 40.143, 40.143, 40.026, 40.026, 0.0, None, None],\n",
              " ['2017-12-28', 40.038, 40.038, 40.038, 40.038, 0.0, 0.992087, 17.0],\n",
              " ['2017-12-27', 40.266, 41.263, 40.266, 41.263, 0.0, None, None],\n",
              " ['2017-12-26', 40.997, 40.997, 40.997, 40.997, 0.0, None, None],\n",
              " ['2017-12-25', 40.997, 40.997, 40.997, 40.997, 0.0, None, None],\n",
              " ['2017-12-22', 39.932, 40.999, 39.932, 40.997, 0.0, None, None],\n",
              " ['2017-12-21', 39.861, 39.861, 39.861, 39.861, 0.0, None, None],\n",
              " ['2017-12-20', 40.361, 41.465, 40.361, 41.465, 0.0, None, None],\n",
              " ['2017-12-19', 40.582, 41.622, 40.582, 41.582, 0.0, None, None]]"
            ]
          },
          "metadata": {
            "tags": []
          },
          "execution_count": 5
        }
      ]
    },
    {
      "cell_type": "markdown",
      "metadata": {
        "id": "JbT1u5tEQeBt"
      },
      "source": [
        "## **Answers to tasks 1-7**"
      ]
    },
    {
      "cell_type": "code",
      "metadata": {
        "colab": {
          "base_uri": "https://localhost:8080/"
        },
        "id": "2daebkHnE9Se",
        "outputId": "1b10af20-9a05-4d5a-8967-e9de33315e13"
      },
      "source": [
        "print('1. Completed in previous cell')\n",
        "print('2. Completed in previous cell')\n",
        "open = []\n",
        "for x in data['data']:\n",
        "  open.append(x[1])\n",
        "print('3. The highest opening stock price was', round(max(open),3), 'And lowest opening price was', round(min(open),3))\n",
        "\n",
        "high_low = []\n",
        "for x in data['data']:\n",
        "  high_low.append(abs((x[2])-x[3]))\n",
        "print('4. The largest change of stock price in any one day was', round(max(high_low), 3))\n",
        "\n",
        "close = []\n",
        "for x in data['data']:\n",
        "  close.append(x[4])\n",
        "print('5. The largest change of stock price between any two days was', round(max(close),3))\n",
        "\n",
        "vol = []\n",
        "for x in data['data']:\n",
        "  vol.append(x[5])\n",
        "\n",
        "print('6. The average daily trading volume this year was', round((sum(vol)/len(vol)),3))\n",
        "print('7. The median trading volume during this year was', round(statistics.median(vol),3))\n"
      ],
      "execution_count": 6,
      "outputs": [
        {
          "output_type": "stream",
          "text": [
            "1. Completed in previous cell\n",
            "2. Completed in previous cell\n",
            "3. The highest opening stock price was 68.5 And lowest opening price was 39.861\n",
            "4. The largest change of stock price in any one day was 2.5\n",
            "5. The largest change of stock price between any two days was 66.0\n",
            "6. The average daily trading volume this year was 1.582\n",
            "7. The median trading volume during this year was 0.0\n"
          ],
          "name": "stdout"
        }
      ]
    }
  ]
}