{
  "nbformat": 4,
  "nbformat_minor": 0,
  "metadata": {
    "kernelspec": {
      "display_name": "Python 3",
      "language": "python",
      "name": "python3"
    },
    "language_info": {
      "codemirror_mode": {
        "name": "ipython",
        "version": 3
      },
      "file_extension": ".py",
      "mimetype": "text/x-python",
      "name": "python",
      "nbconvert_exporter": "python",
      "pygments_lexer": "ipython3",
      "version": "3.7.6"
    },
    "colab": {
      "name": "Anomaly_Detection_MiniProject.ipynb",
      "provenance": [],
      "collapsed_sections": [],
      "toc_visible": true
    }
  },
  "cells": [
    {
      "cell_type": "markdown",
      "metadata": {
        "id": "ObWa5RAYmQ6C"
      },
      "source": [
        "# Anomaly Detection of Retail Store Sales\n",
        "\n",
        "This hands-on mini-project will enable you to reinforce your learnings pertaining to anomaly detection in this unit. By now, you must already be aware of the key objective of anomaly detection. Just to refresh your memory, anomaly detection is the identification of outliers or rare event items in a dataset which potentially exhibit abnormal behavior or properties as compared to the rest of the datapoints.\n",
        "\n",
        "There are a wide variety of anomaly detection methods including supervised, unsupervised and semi-supervised. Typically you can perform anomaly detection on univariate data, multivariate data as well as data which is temporal in nature. In this mini-project you will leverage state-of-the-art anomaly detection models from frameworks like [__`scikit-learn`__](https://scikit-learn.org/stable/modules/outlier_detection.html) and [__`PyOD`__](https://pyod.readthedocs.io/en/latest/index.html).\n",
        "\n",
        "\n",
        "By the end of this mini-project, you will have successfully applied these techniques to find out potential outliers pertaining to sales transactional data in a retail store dataset and also learnt how to visualize outliers similar to the following plot.\n",
        "\n",
        "![](outlier_ex.png)\n",
        "\n",
        "We will be performing anomaly detection on both univariate and multivariate data and leverage the following anomaly detection techniques.\n",
        "\n",
        "- Simple Statistical Models (mean & standard deviation: the three-sigma rule)\n",
        "- Isolation Forest\n",
        "- Clustering-Based Local Outlier Factor\n",
        "- Auto-encoders"
      ]
    },
    {
      "cell_type": "markdown",
      "metadata": {
        "id": "2E6whB6XmQ6J"
      },
      "source": [
        "# 1. Getting and Loading the Dataset\n",
        "\n",
        "The first step towards solving any data science or machine learning problem is to obtain the necessary data. In this scenario, we will be dealing with a popular retail dataset known as the [SuperStore Sales Dataset](https://community.tableau.com/docs/DOC-1236) which consists of transactional data pertaining to a retail store.\n",
        "\n",
        "#### Please download the required dataset from [here](https://community.tableau.com/docs/DOC-1236) if necessary, although it will also be provided to you along with this notebook for this mini-project\n",
        "\n",
        "Once we have the necessary data, we will load up the dataset and perform some initial exploratory data analysis"
      ]
    },
    {
      "cell_type": "markdown",
      "metadata": {
        "id": "eMO8eIeOmQ6K"
      },
      "source": [
        "# 2. Exploratory Data Analysis\n",
        "\n",
        "It's time to do some basic exploratory analysis on the retail store transactional data. We start by loading up the dataset into a pandas dataframe."
      ]
    },
    {
      "cell_type": "code",
      "metadata": {
        "colab": {
          "base_uri": "https://localhost:8080/"
        },
        "id": "2PaRTsoTmQ6K",
        "outputId": "1c1f7de2-c60a-4d11-820e-811b3a4e0f47"
      },
      "source": [
        "import pandas as pd\n",
        "import numpy as np\n",
        "import matplotlib.pyplot as plt\n",
        "import seaborn as sns\n",
        "import matplotlib\n",
        "import warnings\n",
        "warnings.filterwarnings('ignore')\n",
        "\n",
        "%matplotlib inline\n",
        "\n",
        "\n",
        "df = pd.read_excel(\"./Superstore.xls\")\n",
        "df.info()"
      ],
      "execution_count": 1,
      "outputs": [
        {
          "output_type": "stream",
          "text": [
            "<class 'pandas.core.frame.DataFrame'>\n",
            "RangeIndex: 9994 entries, 0 to 9993\n",
            "Data columns (total 21 columns):\n",
            " #   Column         Non-Null Count  Dtype         \n",
            "---  ------         --------------  -----         \n",
            " 0   Row ID         9994 non-null   int64         \n",
            " 1   Order ID       9994 non-null   object        \n",
            " 2   Order Date     9994 non-null   datetime64[ns]\n",
            " 3   Ship Date      9994 non-null   datetime64[ns]\n",
            " 4   Ship Mode      9994 non-null   object        \n",
            " 5   Customer ID    9994 non-null   object        \n",
            " 6   Customer Name  9994 non-null   object        \n",
            " 7   Segment        9994 non-null   object        \n",
            " 8   Country        9994 non-null   object        \n",
            " 9   City           9994 non-null   object        \n",
            " 10  State          9994 non-null   object        \n",
            " 11  Postal Code    9994 non-null   int64         \n",
            " 12  Region         9994 non-null   object        \n",
            " 13  Product ID     9994 non-null   object        \n",
            " 14  Category       9994 non-null   object        \n",
            " 15  Sub-Category   9994 non-null   object        \n",
            " 16  Product Name   9994 non-null   object        \n",
            " 17  Sales          9994 non-null   float64       \n",
            " 18  Quantity       9994 non-null   int64         \n",
            " 19  Discount       9994 non-null   float64       \n",
            " 20  Profit         9994 non-null   float64       \n",
            "dtypes: datetime64[ns](2), float64(3), int64(3), object(13)\n",
            "memory usage: 1.6+ MB\n"
          ],
          "name": "stdout"
        }
      ]
    },
    {
      "cell_type": "markdown",
      "metadata": {
        "id": "OEmah4AymQ6L"
      },
      "source": [
        "We don't have any major missing values in our dataset and we can now look at a sample subset of the data"
      ]
    },
    {
      "cell_type": "code",
      "metadata": {
        "colab": {
          "base_uri": "https://localhost:8080/",
          "height": 520
        },
        "id": "RlVfgbZDmQ6L",
        "outputId": "6ea6923a-188d-4494-b5eb-41bf4244af9f"
      },
      "source": [
        "df.head()"
      ],
      "execution_count": 2,
      "outputs": [
        {
          "output_type": "execute_result",
          "data": {
            "text/html": [
              "<div>\n",
              "<style scoped>\n",
              "    .dataframe tbody tr th:only-of-type {\n",
              "        vertical-align: middle;\n",
              "    }\n",
              "\n",
              "    .dataframe tbody tr th {\n",
              "        vertical-align: top;\n",
              "    }\n",
              "\n",
              "    .dataframe thead th {\n",
              "        text-align: right;\n",
              "    }\n",
              "</style>\n",
              "<table border=\"1\" class=\"dataframe\">\n",
              "  <thead>\n",
              "    <tr style=\"text-align: right;\">\n",
              "      <th></th>\n",
              "      <th>Row ID</th>\n",
              "      <th>Order ID</th>\n",
              "      <th>Order Date</th>\n",
              "      <th>Ship Date</th>\n",
              "      <th>Ship Mode</th>\n",
              "      <th>Customer ID</th>\n",
              "      <th>Customer Name</th>\n",
              "      <th>Segment</th>\n",
              "      <th>Country</th>\n",
              "      <th>City</th>\n",
              "      <th>State</th>\n",
              "      <th>Postal Code</th>\n",
              "      <th>Region</th>\n",
              "      <th>Product ID</th>\n",
              "      <th>Category</th>\n",
              "      <th>Sub-Category</th>\n",
              "      <th>Product Name</th>\n",
              "      <th>Sales</th>\n",
              "      <th>Quantity</th>\n",
              "      <th>Discount</th>\n",
              "      <th>Profit</th>\n",
              "    </tr>\n",
              "  </thead>\n",
              "  <tbody>\n",
              "    <tr>\n",
              "      <th>0</th>\n",
              "      <td>1</td>\n",
              "      <td>CA-2016-152156</td>\n",
              "      <td>2016-11-08</td>\n",
              "      <td>2016-11-11</td>\n",
              "      <td>Second Class</td>\n",
              "      <td>CG-12520</td>\n",
              "      <td>Claire Gute</td>\n",
              "      <td>Consumer</td>\n",
              "      <td>United States</td>\n",
              "      <td>Henderson</td>\n",
              "      <td>Kentucky</td>\n",
              "      <td>42420</td>\n",
              "      <td>South</td>\n",
              "      <td>FUR-BO-10001798</td>\n",
              "      <td>Furniture</td>\n",
              "      <td>Bookcases</td>\n",
              "      <td>Bush Somerset Collection Bookcase</td>\n",
              "      <td>261.9600</td>\n",
              "      <td>2</td>\n",
              "      <td>0.00</td>\n",
              "      <td>41.9136</td>\n",
              "    </tr>\n",
              "    <tr>\n",
              "      <th>1</th>\n",
              "      <td>2</td>\n",
              "      <td>CA-2016-152156</td>\n",
              "      <td>2016-11-08</td>\n",
              "      <td>2016-11-11</td>\n",
              "      <td>Second Class</td>\n",
              "      <td>CG-12520</td>\n",
              "      <td>Claire Gute</td>\n",
              "      <td>Consumer</td>\n",
              "      <td>United States</td>\n",
              "      <td>Henderson</td>\n",
              "      <td>Kentucky</td>\n",
              "      <td>42420</td>\n",
              "      <td>South</td>\n",
              "      <td>FUR-CH-10000454</td>\n",
              "      <td>Furniture</td>\n",
              "      <td>Chairs</td>\n",
              "      <td>Hon Deluxe Fabric Upholstered Stacking Chairs,...</td>\n",
              "      <td>731.9400</td>\n",
              "      <td>3</td>\n",
              "      <td>0.00</td>\n",
              "      <td>219.5820</td>\n",
              "    </tr>\n",
              "    <tr>\n",
              "      <th>2</th>\n",
              "      <td>3</td>\n",
              "      <td>CA-2016-138688</td>\n",
              "      <td>2016-06-12</td>\n",
              "      <td>2016-06-16</td>\n",
              "      <td>Second Class</td>\n",
              "      <td>DV-13045</td>\n",
              "      <td>Darrin Van Huff</td>\n",
              "      <td>Corporate</td>\n",
              "      <td>United States</td>\n",
              "      <td>Los Angeles</td>\n",
              "      <td>California</td>\n",
              "      <td>90036</td>\n",
              "      <td>West</td>\n",
              "      <td>OFF-LA-10000240</td>\n",
              "      <td>Office Supplies</td>\n",
              "      <td>Labels</td>\n",
              "      <td>Self-Adhesive Address Labels for Typewriters b...</td>\n",
              "      <td>14.6200</td>\n",
              "      <td>2</td>\n",
              "      <td>0.00</td>\n",
              "      <td>6.8714</td>\n",
              "    </tr>\n",
              "    <tr>\n",
              "      <th>3</th>\n",
              "      <td>4</td>\n",
              "      <td>US-2015-108966</td>\n",
              "      <td>2015-10-11</td>\n",
              "      <td>2015-10-18</td>\n",
              "      <td>Standard Class</td>\n",
              "      <td>SO-20335</td>\n",
              "      <td>Sean O'Donnell</td>\n",
              "      <td>Consumer</td>\n",
              "      <td>United States</td>\n",
              "      <td>Fort Lauderdale</td>\n",
              "      <td>Florida</td>\n",
              "      <td>33311</td>\n",
              "      <td>South</td>\n",
              "      <td>FUR-TA-10000577</td>\n",
              "      <td>Furniture</td>\n",
              "      <td>Tables</td>\n",
              "      <td>Bretford CR4500 Series Slim Rectangular Table</td>\n",
              "      <td>957.5775</td>\n",
              "      <td>5</td>\n",
              "      <td>0.45</td>\n",
              "      <td>-383.0310</td>\n",
              "    </tr>\n",
              "    <tr>\n",
              "      <th>4</th>\n",
              "      <td>5</td>\n",
              "      <td>US-2015-108966</td>\n",
              "      <td>2015-10-11</td>\n",
              "      <td>2015-10-18</td>\n",
              "      <td>Standard Class</td>\n",
              "      <td>SO-20335</td>\n",
              "      <td>Sean O'Donnell</td>\n",
              "      <td>Consumer</td>\n",
              "      <td>United States</td>\n",
              "      <td>Fort Lauderdale</td>\n",
              "      <td>Florida</td>\n",
              "      <td>33311</td>\n",
              "      <td>South</td>\n",
              "      <td>OFF-ST-10000760</td>\n",
              "      <td>Office Supplies</td>\n",
              "      <td>Storage</td>\n",
              "      <td>Eldon Fold 'N Roll Cart System</td>\n",
              "      <td>22.3680</td>\n",
              "      <td>2</td>\n",
              "      <td>0.20</td>\n",
              "      <td>2.5164</td>\n",
              "    </tr>\n",
              "  </tbody>\n",
              "</table>\n",
              "</div>"
            ],
            "text/plain": [
              "   Row ID        Order ID Order Date  ... Quantity Discount    Profit\n",
              "0       1  CA-2016-152156 2016-11-08  ...        2     0.00   41.9136\n",
              "1       2  CA-2016-152156 2016-11-08  ...        3     0.00  219.5820\n",
              "2       3  CA-2016-138688 2016-06-12  ...        2     0.00    6.8714\n",
              "3       4  US-2015-108966 2015-10-11  ...        5     0.45 -383.0310\n",
              "4       5  US-2015-108966 2015-10-11  ...        2     0.20    2.5164\n",
              "\n",
              "[5 rows x 21 columns]"
            ]
          },
          "metadata": {
            "tags": []
          },
          "execution_count": 2
        }
      ]
    },
    {
      "cell_type": "markdown",
      "metadata": {
        "id": "1jJ5-FOmmQ6M"
      },
      "source": [
        "## Visualize Sales vs. Order Date \n",
        "\n",
        "Let's look more closely at the __`Sales`__ attribute of the dataset in the next few cells. We'll start by looking at typical sales over time "
      ]
    },
    {
      "cell_type": "code",
      "metadata": {
        "colab": {
          "base_uri": "https://localhost:8080/",
          "height": 392
        },
        "id": "TJFiA_R_mQ6M",
        "outputId": "6371535e-b2b1-4026-bee6-73a18ae53425"
      },
      "source": [
        "fig, ax = plt.subplots(1, 1, figsize=(12, 6))\n",
        "sns.lineplot(x=df['Order Date'], y=df['Sales']);"
      ],
      "execution_count": 3,
      "outputs": [
        {
          "output_type": "display_data",
          "data": {
            "image/png": "[encoded data removed]",
            "text/plain": [
              "<Figure size 864x432 with 1 Axes>"
            ]
          },
          "metadata": {
            "tags": [],
            "needs_background": "light"
          }
        }
      ]
    },
    {
      "cell_type": "markdown",
      "metadata": {
        "id": "AwySwKEemQ6M"
      },
      "source": [
        "## Visualize Sales Distribution\n",
        "\n",
        "\n",
        "Let's now look at the data distribution for __`Sales`__"
      ]
    },
    {
      "cell_type": "code",
      "metadata": {
        "colab": {
          "base_uri": "https://localhost:8080/",
          "height": 295
        },
        "id": "_pCJOEl4mQ6N",
        "outputId": "16e18ea4-8bb0-47b7-88e8-762164591adb"
      },
      "source": [
        "sns.distplot(df['Sales'])\n",
        "plt.title(\"Sales Distribution\");"
      ],
      "execution_count": 4,
      "outputs": [
        {
          "output_type": "display_data",
          "data": {
            "image/png": "[encoded data removed]",
            "text/plain": [
              "<Figure size 432x288 with 1 Axes>"
            ]
          },
          "metadata": {
            "tags": [],
            "needs_background": "light"
          }
        }
      ]
    },
    {
      "cell_type": "code",
      "metadata": {
        "colab": {
          "base_uri": "https://localhost:8080/"
        },
        "id": "2QgKmAZQmQ6N",
        "outputId": "7606e4c7-e6c6-4673-b307-218a11488676"
      },
      "source": [
        "df['Sales'].describe()"
      ],
      "execution_count": 5,
      "outputs": [
        {
          "output_type": "execute_result",
          "data": {
            "text/plain": [
              "count     9994.000000\n",
              "mean       229.858001\n",
              "std        623.245101\n",
              "min          0.444000\n",
              "25%         17.280000\n",
              "50%         54.490000\n",
              "75%        209.940000\n",
              "max      22638.480000\n",
              "Name: Sales, dtype: float64"
            ]
          },
          "metadata": {
            "tags": []
          },
          "execution_count": 5
        }
      ]
    },
    {
      "cell_type": "markdown",
      "metadata": {
        "id": "8keYbWLgmQ6N"
      },
      "source": [
        "We can definitely see the presence of potential outliers in terms of the min or max values as compared to the meat of the distribution in the interquartile range as observed in the distribution statistics"
      ]
    },
    {
      "cell_type": "markdown",
      "metadata": {
        "id": "8jRwZqpimQ6N"
      },
      "source": [
        "## Q 2.1: Visualize Profit vs. Order Date \n",
        "\n",
        "Let's now look closely at the __`Profit`__ attribute of the dataset in the next few cells. We'll start by looking at typical profits over time.\n",
        "\n",
        "__Your turn: Plot `Order Date` vs. `Profit` using a line plot__"
      ]
    },
    {
      "cell_type": "code",
      "metadata": {
        "colab": {
          "base_uri": "https://localhost:8080/",
          "height": 387
        },
        "id": "_irwEaUhmQ6N",
        "outputId": "a0dc6bd2-9d50-4cdb-b1ba-d4a48420353c"
      },
      "source": [
        "fig, ax = plt.subplots(1, 1, figsize=(12, 6))\n",
        "sns.lineplot(x=df['Order Date'], y=df['Profit']);"
      ],
      "execution_count": 6,
      "outputs": [
        {
          "output_type": "display_data",
          "data": {
            "image/png": "[encoded data removed]",
            "text/plain": [
              "<Figure size 864x432 with 1 Axes>"
            ]
          },
          "metadata": {
            "tags": [],
            "needs_background": "light"
          }
        }
      ]
    },
    {
      "cell_type": "markdown",
      "metadata": {
        "id": "ZLS01kuWmQ6P"
      },
      "source": [
        "## Q 2.2: Visualize Profit Distribution\n",
        "\n",
        "Let's now look at the data distribution for __`Profit`__\n",
        "\n",
        "__Your turn: Plot the distribution for `Profit`__"
      ]
    },
    {
      "cell_type": "code",
      "metadata": {
        "colab": {
          "base_uri": "https://localhost:8080/",
          "height": 350
        },
        "id": "AQG1IBFkmQ6P",
        "outputId": "66e1c579-db90-44d5-faa2-4bbe91f25857"
      },
      "source": [
        "plt.figure(figsize=(13,5))\n",
        "sns.distplot(df.Profit)\n",
        "plt.title(\"Profit Distribution\");"
      ],
      "execution_count": 7,
      "outputs": [
        {
          "output_type": "display_data",
          "data": {
            "image/png": "[encoded data removed]",
            "text/plain": [
              "<Figure size 936x360 with 1 Axes>"
            ]
          },
          "metadata": {
            "tags": [],
            "needs_background": "light"
          }
        }
      ]
    },
    {
      "cell_type": "markdown",
      "metadata": {
        "id": "91G48ZT5mQ6Q"
      },
      "source": [
        "__Your turn: Get the essential descriptive statistics for `Profit` using an appropriate function__"
      ]
    },
    {
      "cell_type": "code",
      "metadata": {
        "colab": {
          "base_uri": "https://localhost:8080/"
        },
        "id": "uLtRQpYbmQ6Q",
        "outputId": "218f71c9-1151-4a61-edfe-1b1ed2c4c557"
      },
      "source": [
        "df.Profit.describe()"
      ],
      "execution_count": 8,
      "outputs": [
        {
          "output_type": "execute_result",
          "data": {
            "text/plain": [
              "count    9994.000000\n",
              "mean       28.656896\n",
              "std       234.260108\n",
              "min     -6599.978000\n",
              "25%         1.728750\n",
              "50%         8.666500\n",
              "75%        29.364000\n",
              "max      8399.976000\n",
              "Name: Profit, dtype: float64"
            ]
          },
          "metadata": {
            "tags": []
          },
          "execution_count": 8
        }
      ]
    },
    {
      "cell_type": "markdown",
      "metadata": {
        "id": "dJNo-VPXmQ6R"
      },
      "source": [
        "We have both positive and negative values in profits since it indicates either a profit or a loss based on the sales and original price of the items."
      ]
    },
    {
      "cell_type": "markdown",
      "metadata": {
        "id": "LZvYEr9pmQ6Q"
      },
      "source": [
        "**Do you notice anything interesting about the distribution?**\n",
        "- **The distribution for Profit is interesting because most of the values are clustered around values -100 to 100, however the plot is stretched out because of a few extremely large and extremely small values which affect the std. dev and mean values.**"
      ]
    },
    {
      "cell_type": "markdown",
      "metadata": {
        "id": "NRpPwgYSmQ6R"
      },
      "source": [
        "## Visualize Discount vs. Profit"
      ]
    },
    {
      "cell_type": "code",
      "metadata": {
        "colab": {
          "base_uri": "https://localhost:8080/",
          "height": 387
        },
        "id": "uw1WMnKjmQ6R",
        "outputId": "42e4ab76-eb79-43f0-cf99-1140f71eb8fd"
      },
      "source": [
        "plt.figure(figsize = (15,6))\n",
        "sns.scatterplot(x=\"Discount\", y=\"Profit\", data=df);"
      ],
      "execution_count": 9,
      "outputs": [
        {
          "output_type": "display_data",
          "data": {
            "image/png": "[encoded data removed]",
            "text/plain": [
              "<Figure size 1080x432 with 1 Axes>"
            ]
          },
          "metadata": {
            "tags": [],
            "needs_background": "light"
          }
        }
      ]
    },
    {
      "cell_type": "markdown",
      "metadata": {
        "id": "ohYNUpUYmQ6S"
      },
      "source": [
        "In the above visual, we look at a scatter plot showing the distribution of profits w.r.t discounts given"
      ]
    },
    {
      "cell_type": "markdown",
      "metadata": {
        "id": "sf0_BdULmQ6S"
      },
      "source": [
        "# 3. Univariate Anomaly Detection\n",
        "\n",
        "Univariate is basically analysis done on a single attribute or feature. In this section, we will perform anomaly detection on a single attribute using the following methods.\n",
        "\n",
        "- Statistical Process Control Methods (mean + 3sigma thresholding)\n",
        "- Isolation Forest\n",
        "\n",
        "We will start off by demonstrating both these techniques on the __`Sales`__ attribute and later on, you will implement similar techniques on the __`Profit`__ attribute."
      ]
    },
    {
      "cell_type": "markdown",
      "metadata": {
        "id": "c1wFBdi1mQ6T"
      },
      "source": [
        "## 3.1: Univariate Anomaly Detection on Sales using Statistical Modeling\n",
        "\n",
        "Here we start off by implementing anomaly detecting using statistical modeling on the __`Sales`__ attribute"
      ]
    },
    {
      "cell_type": "markdown",
      "metadata": {
        "id": "JNYj0eo8mQ6T"
      },
      "source": [
        "### Obtain Upper Limit Threshold for Sales\n",
        "\n",
        "Here we are concerned about transactions with high sales values so we compute the upper limit using the $\\mu$ + 3$\\sigma$ rule where $\\mu$ is the mean of the distribution and $\\sigma$ is the standard deviation of the distribution."
      ]
    },
    {
      "cell_type": "code",
      "metadata": {
        "colab": {
          "base_uri": "https://localhost:8080/"
        },
        "id": "X8QblKfDmQ6T",
        "outputId": "62b7c0b8-a1dc-47e1-d49b-cd966cc1e429"
      },
      "source": [
        "mean_sales = df['Sales'].mean()\n",
        "sigma_sales = df['Sales'].std()\n",
        "three_sigma_sales = 3*sigma_sales\n",
        "\n",
        "threshold_sales_value = mean_sales + three_sigma_sales\n",
        "print('Threshold Sales:', threshold_sales_value)"
      ],
      "execution_count": 10,
      "outputs": [
        {
          "output_type": "stream",
          "text": [
            "Threshold Sales: 2099.5933023565394\n"
          ],
          "name": "stdout"
        }
      ]
    },
    {
      "cell_type": "markdown",
      "metadata": {
        "id": "MgycMeg5mQ6T"
      },
      "source": [
        "### Visualize Outlier Region"
      ]
    },
    {
      "cell_type": "code",
      "metadata": {
        "colab": {
          "base_uri": "https://localhost:8080/",
          "height": 403
        },
        "id": "15o-ooCBmQ6T",
        "outputId": "b11a79d7-694a-4317-da5e-47e7493dd400"
      },
      "source": [
        "fig, ax = plt.subplots(1, 1, figsize=(12, 6))\n",
        "\n",
        "sns.distplot(df['Sales'])\n",
        "plt.axvspan(threshold_sales_value, df['Sales'].max(), facecolor='r', alpha=0.3)\n",
        "plt.title(\"Sales Distribution with Outlier Region\");"
      ],
      "execution_count": 11,
      "outputs": [
        {
          "output_type": "display_data",
          "data": {
            "image/png": "[encoded data removed]",
            "text/plain": [
              "<Figure size 864x432 with 1 Axes>"
            ]
          },
          "metadata": {
            "tags": [],
            "needs_background": "light"
          }
        }
      ]
    },
    {
      "cell_type": "markdown",
      "metadata": {
        "id": "7ZUV5SdqmQ6U"
      },
      "source": [
        "### Filter and Sort Outliers\n",
        "\n",
        "Here we filter out the outlier observations and sort by descending order and view the top 5 outlier values"
      ]
    },
    {
      "cell_type": "code",
      "metadata": {
        "colab": {
          "base_uri": "https://localhost:8080/"
        },
        "id": "LGKRQiO3mQ6U",
        "outputId": "691066c0-8c49-4dd4-9a60-02f4ae71c6a4"
      },
      "source": [
        "sales_outliers_df = df['Sales'][df['Sales'] > threshold_sales_value]\n",
        "print('Total Sales Outliers:', len(sales_outliers_df))\n",
        "sales_outliers_sorted = sales_outliers_df.sort_values(ascending=False)\n",
        "sales_outliers_sorted.head(5)"
      ],
      "execution_count": 12,
      "outputs": [
        {
          "output_type": "stream",
          "text": [
            "Total Sales Outliers: 127\n"
          ],
          "name": "stdout"
        },
        {
          "output_type": "execute_result",
          "data": {
            "text/plain": [
              "2697    22638.480\n",
              "6826    17499.950\n",
              "8153    13999.960\n",
              "2623    11199.968\n",
              "4190    10499.970\n",
              "Name: Sales, dtype: float64"
            ]
          },
          "metadata": {
            "tags": []
          },
          "execution_count": 12
        }
      ]
    },
    {
      "cell_type": "markdown",
      "metadata": {
        "id": "Y9pFkCG4mQ6U"
      },
      "source": [
        "### View Top 10 Outlier Transactions"
      ]
    },
    {
      "cell_type": "code",
      "metadata": {
        "colab": {
          "base_uri": "https://localhost:8080/",
          "height": 335
        },
        "id": "5DVOZo0FmQ6U",
        "outputId": "9f87b7b8-3bca-46f2-b64a-5147ec19c1c1"
      },
      "source": [
        "(df.loc[sales_outliers_sorted.index.tolist()][['City', 'Category', 'Sub-Category', 'Product Name', \n",
        "                                              'Sales', 'Quantity', 'Discount', 'Profit']]).head(10)"
      ],
      "execution_count": 13,
      "outputs": [
        {
          "output_type": "execute_result",
          "data": {
            "text/html": [
              "<div>\n",
              "<style scoped>\n",
              "    .dataframe tbody tr th:only-of-type {\n",
              "        vertical-align: middle;\n",
              "    }\n",
              "\n",
              "    .dataframe tbody tr th {\n",
              "        vertical-align: top;\n",
              "    }\n",
              "\n",
              "    .dataframe thead th {\n",
              "        text-align: right;\n",
              "    }\n",
              "</style>\n",
              "<table border=\"1\" class=\"dataframe\">\n",
              "  <thead>\n",
              "    <tr style=\"text-align: right;\">\n",
              "      <th></th>\n",
              "      <th>City</th>\n",
              "      <th>Category</th>\n",
              "      <th>Sub-Category</th>\n",
              "      <th>Product Name</th>\n",
              "      <th>Sales</th>\n",
              "      <th>Quantity</th>\n",
              "      <th>Discount</th>\n",
              "      <th>Profit</th>\n",
              "    </tr>\n",
              "  </thead>\n",
              "  <tbody>\n",
              "    <tr>\n",
              "      <th>2697</th>\n",
              "      <td>Jacksonville</td>\n",
              "      <td>Technology</td>\n",
              "      <td>Machines</td>\n",
              "      <td>Cisco TelePresence System EX90 Videoconferenci...</td>\n",
              "      <td>22638.480</td>\n",
              "      <td>6</td>\n",
              "      <td>0.5</td>\n",
              "      <td>-1811.0784</td>\n",
              "    </tr>\n",
              "    <tr>\n",
              "      <th>6826</th>\n",
              "      <td>Lafayette</td>\n",
              "      <td>Technology</td>\n",
              "      <td>Copiers</td>\n",
              "      <td>Canon imageCLASS 2200 Advanced Copier</td>\n",
              "      <td>17499.950</td>\n",
              "      <td>5</td>\n",
              "      <td>0.0</td>\n",
              "      <td>8399.9760</td>\n",
              "    </tr>\n",
              "    <tr>\n",
              "      <th>8153</th>\n",
              "      <td>Seattle</td>\n",
              "      <td>Technology</td>\n",
              "      <td>Copiers</td>\n",
              "      <td>Canon imageCLASS 2200 Advanced Copier</td>\n",
              "      <td>13999.960</td>\n",
              "      <td>4</td>\n",
              "      <td>0.0</td>\n",
              "      <td>6719.9808</td>\n",
              "    </tr>\n",
              "    <tr>\n",
              "      <th>2623</th>\n",
              "      <td>New York City</td>\n",
              "      <td>Technology</td>\n",
              "      <td>Copiers</td>\n",
              "      <td>Canon imageCLASS 2200 Advanced Copier</td>\n",
              "      <td>11199.968</td>\n",
              "      <td>4</td>\n",
              "      <td>0.2</td>\n",
              "      <td>3919.9888</td>\n",
              "    </tr>\n",
              "    <tr>\n",
              "      <th>4190</th>\n",
              "      <td>Newark</td>\n",
              "      <td>Technology</td>\n",
              "      <td>Copiers</td>\n",
              "      <td>Canon imageCLASS 2200 Advanced Copier</td>\n",
              "      <td>10499.970</td>\n",
              "      <td>3</td>\n",
              "      <td>0.0</td>\n",
              "      <td>5039.9856</td>\n",
              "    </tr>\n",
              "    <tr>\n",
              "      <th>9039</th>\n",
              "      <td>Detroit</td>\n",
              "      <td>Office Supplies</td>\n",
              "      <td>Binders</td>\n",
              "      <td>GBC Ibimaster 500 Manual ProClick Binding System</td>\n",
              "      <td>9892.740</td>\n",
              "      <td>13</td>\n",
              "      <td>0.0</td>\n",
              "      <td>4946.3700</td>\n",
              "    </tr>\n",
              "    <tr>\n",
              "      <th>4098</th>\n",
              "      <td>Minneapolis</td>\n",
              "      <td>Office Supplies</td>\n",
              "      <td>Binders</td>\n",
              "      <td>Ibico EPK-21 Electric Binding System</td>\n",
              "      <td>9449.950</td>\n",
              "      <td>5</td>\n",
              "      <td>0.0</td>\n",
              "      <td>4630.4755</td>\n",
              "    </tr>\n",
              "    <tr>\n",
              "      <th>4277</th>\n",
              "      <td>Lakewood</td>\n",
              "      <td>Technology</td>\n",
              "      <td>Machines</td>\n",
              "      <td>3D Systems Cube Printer, 2nd Generation, Magenta</td>\n",
              "      <td>9099.930</td>\n",
              "      <td>7</td>\n",
              "      <td>0.0</td>\n",
              "      <td>2365.9818</td>\n",
              "    </tr>\n",
              "    <tr>\n",
              "      <th>8488</th>\n",
              "      <td>Arlington</td>\n",
              "      <td>Technology</td>\n",
              "      <td>Machines</td>\n",
              "      <td>HP Designjet T520 Inkjet Large Format Printer ...</td>\n",
              "      <td>8749.950</td>\n",
              "      <td>5</td>\n",
              "      <td>0.0</td>\n",
              "      <td>2799.9840</td>\n",
              "    </tr>\n",
              "    <tr>\n",
              "      <th>6425</th>\n",
              "      <td>Philadelphia</td>\n",
              "      <td>Technology</td>\n",
              "      <td>Copiers</td>\n",
              "      <td>Canon imageCLASS 2200 Advanced Copier</td>\n",
              "      <td>8399.976</td>\n",
              "      <td>4</td>\n",
              "      <td>0.4</td>\n",
              "      <td>1119.9968</td>\n",
              "    </tr>\n",
              "  </tbody>\n",
              "</table>\n",
              "</div>"
            ],
            "text/plain": [
              "               City         Category  ... Discount     Profit\n",
              "2697   Jacksonville       Technology  ...      0.5 -1811.0784\n",
              "6826      Lafayette       Technology  ...      0.0  8399.9760\n",
              "8153        Seattle       Technology  ...      0.0  6719.9808\n",
              "2623  New York City       Technology  ...      0.2  3919.9888\n",
              "4190         Newark       Technology  ...      0.0  5039.9856\n",
              "9039        Detroit  Office Supplies  ...      0.0  4946.3700\n",
              "4098    Minneapolis  Office Supplies  ...      0.0  4630.4755\n",
              "4277       Lakewood       Technology  ...      0.0  2365.9818\n",
              "8488      Arlington       Technology  ...      0.0  2799.9840\n",
              "6425   Philadelphia       Technology  ...      0.4  1119.9968\n",
              "\n",
              "[10 rows x 8 columns]"
            ]
          },
          "metadata": {
            "tags": []
          },
          "execution_count": 13
        }
      ]
    },
    {
      "cell_type": "markdown",
      "metadata": {
        "id": "vQuiTNLKmQ6U"
      },
      "source": [
        "### View Bottom 10 Outlier Transactions"
      ]
    },
    {
      "cell_type": "code",
      "metadata": {
        "colab": {
          "base_uri": "https://localhost:8080/",
          "height": 335
        },
        "id": "O6dgAAyPmQ6V",
        "outputId": "d0a28a9a-fdf6-4ebf-b4aa-b109a3af1abf"
      },
      "source": [
        "(df.loc[sales_outliers_sorted.index.tolist()][['City', 'Category', 'Sub-Category', 'Product Name', \n",
        "                                              'Sales', 'Quantity', 'Discount', 'Profit']]).tail(10)"
      ],
      "execution_count": 14,
      "outputs": [
        {
          "output_type": "execute_result",
          "data": {
            "text/html": [
              "<div>\n",
              "<style scoped>\n",
              "    .dataframe tbody tr th:only-of-type {\n",
              "        vertical-align: middle;\n",
              "    }\n",
              "\n",
              "    .dataframe tbody tr th {\n",
              "        vertical-align: top;\n",
              "    }\n",
              "\n",
              "    .dataframe thead th {\n",
              "        text-align: right;\n",
              "    }\n",
              "</style>\n",
              "<table border=\"1\" class=\"dataframe\">\n",
              "  <thead>\n",
              "    <tr style=\"text-align: right;\">\n",
              "      <th></th>\n",
              "      <th>City</th>\n",
              "      <th>Category</th>\n",
              "      <th>Sub-Category</th>\n",
              "      <th>Product Name</th>\n",
              "      <th>Sales</th>\n",
              "      <th>Quantity</th>\n",
              "      <th>Discount</th>\n",
              "      <th>Profit</th>\n",
              "    </tr>\n",
              "  </thead>\n",
              "  <tbody>\n",
              "    <tr>\n",
              "      <th>5300</th>\n",
              "      <td>Springfield</td>\n",
              "      <td>Furniture</td>\n",
              "      <td>Tables</td>\n",
              "      <td>Hon Rectangular Conference Tables</td>\n",
              "      <td>2275.500</td>\n",
              "      <td>10</td>\n",
              "      <td>0.0</td>\n",
              "      <td>386.8350</td>\n",
              "    </tr>\n",
              "    <tr>\n",
              "      <th>6101</th>\n",
              "      <td>New York City</td>\n",
              "      <td>Furniture</td>\n",
              "      <td>Chairs</td>\n",
              "      <td>Global Troy Executive Leather Low-Back Tilter</td>\n",
              "      <td>2254.410</td>\n",
              "      <td>5</td>\n",
              "      <td>0.1</td>\n",
              "      <td>375.7350</td>\n",
              "    </tr>\n",
              "    <tr>\n",
              "      <th>4881</th>\n",
              "      <td>Henderson</td>\n",
              "      <td>Technology</td>\n",
              "      <td>Accessories</td>\n",
              "      <td>Logitech diNovo Edge Keyboard</td>\n",
              "      <td>2249.910</td>\n",
              "      <td>9</td>\n",
              "      <td>0.0</td>\n",
              "      <td>517.4793</td>\n",
              "    </tr>\n",
              "    <tr>\n",
              "      <th>7487</th>\n",
              "      <td>Dover</td>\n",
              "      <td>Technology</td>\n",
              "      <td>Accessories</td>\n",
              "      <td>Logitech diNovo Edge Keyboard</td>\n",
              "      <td>2249.910</td>\n",
              "      <td>9</td>\n",
              "      <td>0.0</td>\n",
              "      <td>517.4793</td>\n",
              "    </tr>\n",
              "    <tr>\n",
              "      <th>1155</th>\n",
              "      <td>Harrisonburg</td>\n",
              "      <td>Furniture</td>\n",
              "      <td>Tables</td>\n",
              "      <td>Chromcraft 48\" x 96\" Racetrack Double Pedestal...</td>\n",
              "      <td>2244.480</td>\n",
              "      <td>7</td>\n",
              "      <td>0.0</td>\n",
              "      <td>493.7856</td>\n",
              "    </tr>\n",
              "    <tr>\n",
              "      <th>8699</th>\n",
              "      <td>Nashville</td>\n",
              "      <td>Technology</td>\n",
              "      <td>Phones</td>\n",
              "      <td>Samsung Galaxy S III - 16GB - pebble blue (T-M...</td>\n",
              "      <td>2239.936</td>\n",
              "      <td>8</td>\n",
              "      <td>0.2</td>\n",
              "      <td>223.9936</td>\n",
              "    </tr>\n",
              "    <tr>\n",
              "      <th>9774</th>\n",
              "      <td>San Antonio</td>\n",
              "      <td>Office Supplies</td>\n",
              "      <td>Binders</td>\n",
              "      <td>GBC DocuBind P400 Electric Binding System</td>\n",
              "      <td>2177.584</td>\n",
              "      <td>8</td>\n",
              "      <td>0.8</td>\n",
              "      <td>-3701.8928</td>\n",
              "    </tr>\n",
              "    <tr>\n",
              "      <th>8424</th>\n",
              "      <td>Lakewood</td>\n",
              "      <td>Furniture</td>\n",
              "      <td>Bookcases</td>\n",
              "      <td>Global Adaptabilites Bookcase, Cherry/Storm Gr...</td>\n",
              "      <td>2154.900</td>\n",
              "      <td>5</td>\n",
              "      <td>0.0</td>\n",
              "      <td>129.2940</td>\n",
              "    </tr>\n",
              "    <tr>\n",
              "      <th>6534</th>\n",
              "      <td>Buffalo</td>\n",
              "      <td>Office Supplies</td>\n",
              "      <td>Binders</td>\n",
              "      <td>GBC DocuBind TL300 Electric Binding System</td>\n",
              "      <td>2152.776</td>\n",
              "      <td>3</td>\n",
              "      <td>0.2</td>\n",
              "      <td>726.5619</td>\n",
              "    </tr>\n",
              "    <tr>\n",
              "      <th>8680</th>\n",
              "      <td>Richmond</td>\n",
              "      <td>Office Supplies</td>\n",
              "      <td>Appliances</td>\n",
              "      <td>Honeywell Enviracaire Portable HEPA Air Cleane...</td>\n",
              "      <td>2104.550</td>\n",
              "      <td>7</td>\n",
              "      <td>0.0</td>\n",
              "      <td>694.5015</td>\n",
              "    </tr>\n",
              "  </tbody>\n",
              "</table>\n",
              "</div>"
            ],
            "text/plain": [
              "               City         Category  ... Discount     Profit\n",
              "5300    Springfield        Furniture  ...      0.0   386.8350\n",
              "6101  New York City        Furniture  ...      0.1   375.7350\n",
              "4881      Henderson       Technology  ...      0.0   517.4793\n",
              "7487          Dover       Technology  ...      0.0   517.4793\n",
              "1155   Harrisonburg        Furniture  ...      0.0   493.7856\n",
              "8699      Nashville       Technology  ...      0.2   223.9936\n",
              "9774    San Antonio  Office Supplies  ...      0.8 -3701.8928\n",
              "8424       Lakewood        Furniture  ...      0.0   129.2940\n",
              "6534        Buffalo  Office Supplies  ...      0.2   726.5619\n",
              "8680       Richmond  Office Supplies  ...      0.0   694.5015\n",
              "\n",
              "[10 rows x 8 columns]"
            ]
          },
          "metadata": {
            "tags": []
          },
          "execution_count": 14
        }
      ]
    },
    {
      "cell_type": "markdown",
      "metadata": {
        "id": "NAu-lTASmQ6V"
      },
      "source": [
        "## Q 3.2: Univariate Anomaly Detection on Profit using Statistical Modeling\n",
        "\n",
        "In this section you will use the learning from Section 3.1 and implement anomaly detecting using statistical modeling on the __`Profit`__ attribute. Since we have both +ve (profits) and -ve (losses) values in the distribution, we will try to find anomalies for each."
      ]
    },
    {
      "cell_type": "markdown",
      "metadata": {
        "id": "hPD0cWXUmQ6V"
      },
      "source": [
        "### Obtain Upper Limit Threshold for Profit\n",
        "\n",
        "__Your turn:__ Compute the upper and lower limits using the  𝜇  + 3 𝜎  rule where  𝜇  is the mean of the distribution and  𝜎  is the standard deviation of the distribution."
      ]
    },
    {
      "cell_type": "code",
      "metadata": {
        "colab": {
          "base_uri": "https://localhost:8080/"
        },
        "id": "LlZqjeulmQ6V",
        "outputId": "f75ef2e6-4a08-4325-d9b1-d8197f5356f6"
      },
      "source": [
        "mean_profit = df.Profit.mean()\n",
        "sigma_profit = df.Profit.std()\n",
        "three_sigma_profit = (3 * (sigma_profit))\n",
        "\n",
        "threshold_profit_upper_limit = mean_profit + three_sigma_profit\n",
        "threshold_profit_lower_limit = mean_profit - three_sigma_profit\n",
        "\n",
        "print('Thresholds Profit : (Lower: {}, Upper: {})'.format(threshold_profit_lower_limit, threshold_profit_upper_limit))"
      ],
      "execution_count": 15,
      "outputs": [
        {
          "output_type": "stream",
          "text": [
            "Thresholds Profit : (Lower: -674.123426765088, Upper: 731.4372193806576)\n"
          ],
          "name": "stdout"
        }
      ]
    },
    {
      "cell_type": "markdown",
      "metadata": {
        "id": "5SuHjodgmQ6V"
      },
      "source": [
        "### Visualize Outlier Regions\n",
        "\n",
        "__Your turn:__ Visualize the upper and lower outlier regions in the distribution similar to what you did in 3.1"
      ]
    },
    {
      "cell_type": "code",
      "metadata": {
        "colab": {
          "base_uri": "https://localhost:8080/",
          "height": 403
        },
        "id": "Wr_JQMOYmQ6W",
        "outputId": "86715050-9fde-4703-8bf2-d803eb111080"
      },
      "source": [
        "fig, ax = plt.subplots(1, 1, figsize=(12, 6))\n",
        "\n",
        "sns.distplot(df.Profit)\n",
        "plt.axvspan(threshold_profit_lower_limit,df.Profit.min(), facecolor='r', alpha=0.3)\n",
        "plt.axvspan(threshold_profit_upper_limit ,df.Profit.max(),facecolor='r', alpha=0.3)\n",
        "plt.title(\"Profit Distribution with Outlier Region\");"
      ],
      "execution_count": 16,
      "outputs": [
        {
          "output_type": "display_data",
          "data": {
            "image/png": "[encoded data removed]",
            "text/plain": [
              "<Figure size 864x432 with 1 Axes>"
            ]
          },
          "metadata": {
            "tags": [],
            "needs_background": "light"
          }
        }
      ]
    },
    {
      "cell_type": "markdown",
      "metadata": {
        "id": "u_2Y6W3bmQ6W"
      },
      "source": [
        "### Filter and Sort Outliers\n",
        "\n",
        "__Your turn:__ Filter out the outlier observations and sort by descending order and view the top 5 outlier values"
      ]
    },
    {
      "cell_type": "code",
      "metadata": {
        "colab": {
          "base_uri": "https://localhost:8080/"
        },
        "id": "Bz4dclB7mQ6W",
        "outputId": "8b0a8bd0-3358-44e1-8685-f7a667f5b445"
      },
      "source": [
        "profit_outliers_df = df['Profit'][(df.Profit > threshold_profit_upper_limit) | (df.Profit < threshold_profit_lower_limit)]\n",
        "print('Total Profit Outliers:', len(profit_outliers_df))\n",
        "profit_outliers_sorted = profit_outliers_df.sort_values(ascending=False)\n",
        "profit_outliers_sorted.head(5)"
      ],
      "execution_count": 17,
      "outputs": [
        {
          "output_type": "stream",
          "text": [
            "Total Profit Outliers: 107\n"
          ],
          "name": "stdout"
        },
        {
          "output_type": "execute_result",
          "data": {
            "text/plain": [
              "6826    8399.9760\n",
              "8153    6719.9808\n",
              "4190    5039.9856\n",
              "9039    4946.3700\n",
              "4098    4630.4755\n",
              "Name: Profit, dtype: float64"
            ]
          },
          "metadata": {
            "tags": []
          },
          "execution_count": 17
        }
      ]
    },
    {
      "cell_type": "markdown",
      "metadata": {
        "id": "iWlv2OyumQ6W"
      },
      "source": [
        "### View Top 10 Outlier Transactions\n",
        "\n",
        "__Your turn:__ View the top ten transactions based on highest profits"
      ]
    },
    {
      "cell_type": "code",
      "metadata": {
        "colab": {
          "base_uri": "https://localhost:8080/",
          "height": 335
        },
        "id": "O09h7tWtmQ6W",
        "outputId": "d9f9c48c-cf3d-480b-e84b-53b06c1ae8bc"
      },
      "source": [
        "(df.loc[sales_outliers_sorted.index.tolist()][['City', 'Category', 'Sub-Category', 'Product Name', \n",
        "                                              'Sales', 'Quantity', 'Discount', 'Profit']]).head(10)"
      ],
      "execution_count": 18,
      "outputs": [
        {
          "output_type": "execute_result",
          "data": {
            "text/html": [
              "<div>\n",
              "<style scoped>\n",
              "    .dataframe tbody tr th:only-of-type {\n",
              "        vertical-align: middle;\n",
              "    }\n",
              "\n",
              "    .dataframe tbody tr th {\n",
              "        vertical-align: top;\n",
              "    }\n",
              "\n",
              "    .dataframe thead th {\n",
              "        text-align: right;\n",
              "    }\n",
              "</style>\n",
              "<table border=\"1\" class=\"dataframe\">\n",
              "  <thead>\n",
              "    <tr style=\"text-align: right;\">\n",
              "      <th></th>\n",
              "      <th>City</th>\n",
              "      <th>Category</th>\n",
              "      <th>Sub-Category</th>\n",
              "      <th>Product Name</th>\n",
              "      <th>Sales</th>\n",
              "      <th>Quantity</th>\n",
              "      <th>Discount</th>\n",
              "      <th>Profit</th>\n",
              "    </tr>\n",
              "  </thead>\n",
              "  <tbody>\n",
              "    <tr>\n",
              "      <th>2697</th>\n",
              "      <td>Jacksonville</td>\n",
              "      <td>Technology</td>\n",
              "      <td>Machines</td>\n",
              "      <td>Cisco TelePresence System EX90 Videoconferenci...</td>\n",
              "      <td>22638.480</td>\n",
              "      <td>6</td>\n",
              "      <td>0.5</td>\n",
              "      <td>-1811.0784</td>\n",
              "    </tr>\n",
              "    <tr>\n",
              "      <th>6826</th>\n",
              "      <td>Lafayette</td>\n",
              "      <td>Technology</td>\n",
              "      <td>Copiers</td>\n",
              "      <td>Canon imageCLASS 2200 Advanced Copier</td>\n",
              "      <td>17499.950</td>\n",
              "      <td>5</td>\n",
              "      <td>0.0</td>\n",
              "      <td>8399.9760</td>\n",
              "    </tr>\n",
              "    <tr>\n",
              "      <th>8153</th>\n",
              "      <td>Seattle</td>\n",
              "      <td>Technology</td>\n",
              "      <td>Copiers</td>\n",
              "      <td>Canon imageCLASS 2200 Advanced Copier</td>\n",
              "      <td>13999.960</td>\n",
              "      <td>4</td>\n",
              "      <td>0.0</td>\n",
              "      <td>6719.9808</td>\n",
              "    </tr>\n",
              "    <tr>\n",
              "      <th>2623</th>\n",
              "      <td>New York City</td>\n",
              "      <td>Technology</td>\n",
              "      <td>Copiers</td>\n",
              "      <td>Canon imageCLASS 2200 Advanced Copier</td>\n",
              "      <td>11199.968</td>\n",
              "      <td>4</td>\n",
              "      <td>0.2</td>\n",
              "      <td>3919.9888</td>\n",
              "    </tr>\n",
              "    <tr>\n",
              "      <th>4190</th>\n",
              "      <td>Newark</td>\n",
              "      <td>Technology</td>\n",
              "      <td>Copiers</td>\n",
              "      <td>Canon imageCLASS 2200 Advanced Copier</td>\n",
              "      <td>10499.970</td>\n",
              "      <td>3</td>\n",
              "      <td>0.0</td>\n",
              "      <td>5039.9856</td>\n",
              "    </tr>\n",
              "    <tr>\n",
              "      <th>9039</th>\n",
              "      <td>Detroit</td>\n",
              "      <td>Office Supplies</td>\n",
              "      <td>Binders</td>\n",
              "      <td>GBC Ibimaster 500 Manual ProClick Binding System</td>\n",
              "      <td>9892.740</td>\n",
              "      <td>13</td>\n",
              "      <td>0.0</td>\n",
              "      <td>4946.3700</td>\n",
              "    </tr>\n",
              "    <tr>\n",
              "      <th>4098</th>\n",
              "      <td>Minneapolis</td>\n",
              "      <td>Office Supplies</td>\n",
              "      <td>Binders</td>\n",
              "      <td>Ibico EPK-21 Electric Binding System</td>\n",
              "      <td>9449.950</td>\n",
              "      <td>5</td>\n",
              "      <td>0.0</td>\n",
              "      <td>4630.4755</td>\n",
              "    </tr>\n",
              "    <tr>\n",
              "      <th>4277</th>\n",
              "      <td>Lakewood</td>\n",
              "      <td>Technology</td>\n",
              "      <td>Machines</td>\n",
              "      <td>3D Systems Cube Printer, 2nd Generation, Magenta</td>\n",
              "      <td>9099.930</td>\n",
              "      <td>7</td>\n",
              "      <td>0.0</td>\n",
              "      <td>2365.9818</td>\n",
              "    </tr>\n",
              "    <tr>\n",
              "      <th>8488</th>\n",
              "      <td>Arlington</td>\n",
              "      <td>Technology</td>\n",
              "      <td>Machines</td>\n",
              "      <td>HP Designjet T520 Inkjet Large Format Printer ...</td>\n",
              "      <td>8749.950</td>\n",
              "      <td>5</td>\n",
              "      <td>0.0</td>\n",
              "      <td>2799.9840</td>\n",
              "    </tr>\n",
              "    <tr>\n",
              "      <th>6425</th>\n",
              "      <td>Philadelphia</td>\n",
              "      <td>Technology</td>\n",
              "      <td>Copiers</td>\n",
              "      <td>Canon imageCLASS 2200 Advanced Copier</td>\n",
              "      <td>8399.976</td>\n",
              "      <td>4</td>\n",
              "      <td>0.4</td>\n",
              "      <td>1119.9968</td>\n",
              "    </tr>\n",
              "  </tbody>\n",
              "</table>\n",
              "</div>"
            ],
            "text/plain": [
              "               City         Category  ... Discount     Profit\n",
              "2697   Jacksonville       Technology  ...      0.5 -1811.0784\n",
              "6826      Lafayette       Technology  ...      0.0  8399.9760\n",
              "8153        Seattle       Technology  ...      0.0  6719.9808\n",
              "2623  New York City       Technology  ...      0.2  3919.9888\n",
              "4190         Newark       Technology  ...      0.0  5039.9856\n",
              "9039        Detroit  Office Supplies  ...      0.0  4946.3700\n",
              "4098    Minneapolis  Office Supplies  ...      0.0  4630.4755\n",
              "4277       Lakewood       Technology  ...      0.0  2365.9818\n",
              "8488      Arlington       Technology  ...      0.0  2799.9840\n",
              "6425   Philadelphia       Technology  ...      0.4  1119.9968\n",
              "\n",
              "[10 rows x 8 columns]"
            ]
          },
          "metadata": {
            "tags": []
          },
          "execution_count": 18
        }
      ]
    },
    {
      "cell_type": "markdown",
      "metadata": {
        "id": "7qhIvOm4mQ6X"
      },
      "source": [
        "### Q: Do you notice any interesting insights based on these transactions?"
      ]
    },
    {
      "cell_type": "markdown",
      "metadata": {
        "id": "7ZSsRdLmmQ6X"
      },
      "source": [
        "__A:__ **Most of these are purchases for Copiers and Binders , and it looks like Canon products yielded some good profits.**`"
      ]
    },
    {
      "cell_type": "markdown",
      "metadata": {
        "id": "KiNb6gvMmQ6X"
      },
      "source": [
        "### View Bottom 10 Outlier Transactions\n",
        "\n",
        "__Your turn:__ View the bottom ten transactions based on lowest profits (highest losses)"
      ]
    },
    {
      "cell_type": "code",
      "metadata": {
        "colab": {
          "base_uri": "https://localhost:8080/",
          "height": 335
        },
        "id": "t3FYWVejmQ6X",
        "outputId": "a5c18cdb-e57e-4e3d-d3fc-89e96db5f84b"
      },
      "source": [
        "(df.loc[sales_outliers_sorted.index.tolist()][['City', 'Category', 'Sub-Category', 'Product Name', \n",
        "                                              'Sales', 'Quantity', 'Discount', 'Profit']]).tail(10)"
      ],
      "execution_count": 19,
      "outputs": [
        {
          "output_type": "execute_result",
          "data": {
            "text/html": [
              "<div>\n",
              "<style scoped>\n",
              "    .dataframe tbody tr th:only-of-type {\n",
              "        vertical-align: middle;\n",
              "    }\n",
              "\n",
              "    .dataframe tbody tr th {\n",
              "        vertical-align: top;\n",
              "    }\n",
              "\n",
              "    .dataframe thead th {\n",
              "        text-align: right;\n",
              "    }\n",
              "</style>\n",
              "<table border=\"1\" class=\"dataframe\">\n",
              "  <thead>\n",
              "    <tr style=\"text-align: right;\">\n",
              "      <th></th>\n",
              "      <th>City</th>\n",
              "      <th>Category</th>\n",
              "      <th>Sub-Category</th>\n",
              "      <th>Product Name</th>\n",
              "      <th>Sales</th>\n",
              "      <th>Quantity</th>\n",
              "      <th>Discount</th>\n",
              "      <th>Profit</th>\n",
              "    </tr>\n",
              "  </thead>\n",
              "  <tbody>\n",
              "    <tr>\n",
              "      <th>5300</th>\n",
              "      <td>Springfield</td>\n",
              "      <td>Furniture</td>\n",
              "      <td>Tables</td>\n",
              "      <td>Hon Rectangular Conference Tables</td>\n",
              "      <td>2275.500</td>\n",
              "      <td>10</td>\n",
              "      <td>0.0</td>\n",
              "      <td>386.8350</td>\n",
              "    </tr>\n",
              "    <tr>\n",
              "      <th>6101</th>\n",
              "      <td>New York City</td>\n",
              "      <td>Furniture</td>\n",
              "      <td>Chairs</td>\n",
              "      <td>Global Troy Executive Leather Low-Back Tilter</td>\n",
              "      <td>2254.410</td>\n",
              "      <td>5</td>\n",
              "      <td>0.1</td>\n",
              "      <td>375.7350</td>\n",
              "    </tr>\n",
              "    <tr>\n",
              "      <th>4881</th>\n",
              "      <td>Henderson</td>\n",
              "      <td>Technology</td>\n",
              "      <td>Accessories</td>\n",
              "      <td>Logitech diNovo Edge Keyboard</td>\n",
              "      <td>2249.910</td>\n",
              "      <td>9</td>\n",
              "      <td>0.0</td>\n",
              "      <td>517.4793</td>\n",
              "    </tr>\n",
              "    <tr>\n",
              "      <th>7487</th>\n",
              "      <td>Dover</td>\n",
              "      <td>Technology</td>\n",
              "      <td>Accessories</td>\n",
              "      <td>Logitech diNovo Edge Keyboard</td>\n",
              "      <td>2249.910</td>\n",
              "      <td>9</td>\n",
              "      <td>0.0</td>\n",
              "      <td>517.4793</td>\n",
              "    </tr>\n",
              "    <tr>\n",
              "      <th>1155</th>\n",
              "      <td>Harrisonburg</td>\n",
              "      <td>Furniture</td>\n",
              "      <td>Tables</td>\n",
              "      <td>Chromcraft 48\" x 96\" Racetrack Double Pedestal...</td>\n",
              "      <td>2244.480</td>\n",
              "      <td>7</td>\n",
              "      <td>0.0</td>\n",
              "      <td>493.7856</td>\n",
              "    </tr>\n",
              "    <tr>\n",
              "      <th>8699</th>\n",
              "      <td>Nashville</td>\n",
              "      <td>Technology</td>\n",
              "      <td>Phones</td>\n",
              "      <td>Samsung Galaxy S III - 16GB - pebble blue (T-M...</td>\n",
              "      <td>2239.936</td>\n",
              "      <td>8</td>\n",
              "      <td>0.2</td>\n",
              "      <td>223.9936</td>\n",
              "    </tr>\n",
              "    <tr>\n",
              "      <th>9774</th>\n",
              "      <td>San Antonio</td>\n",
              "      <td>Office Supplies</td>\n",
              "      <td>Binders</td>\n",
              "      <td>GBC DocuBind P400 Electric Binding System</td>\n",
              "      <td>2177.584</td>\n",
              "      <td>8</td>\n",
              "      <td>0.8</td>\n",
              "      <td>-3701.8928</td>\n",
              "    </tr>\n",
              "    <tr>\n",
              "      <th>8424</th>\n",
              "      <td>Lakewood</td>\n",
              "      <td>Furniture</td>\n",
              "      <td>Bookcases</td>\n",
              "      <td>Global Adaptabilites Bookcase, Cherry/Storm Gr...</td>\n",
              "      <td>2154.900</td>\n",
              "      <td>5</td>\n",
              "      <td>0.0</td>\n",
              "      <td>129.2940</td>\n",
              "    </tr>\n",
              "    <tr>\n",
              "      <th>6534</th>\n",
              "      <td>Buffalo</td>\n",
              "      <td>Office Supplies</td>\n",
              "      <td>Binders</td>\n",
              "      <td>GBC DocuBind TL300 Electric Binding System</td>\n",
              "      <td>2152.776</td>\n",
              "      <td>3</td>\n",
              "      <td>0.2</td>\n",
              "      <td>726.5619</td>\n",
              "    </tr>\n",
              "    <tr>\n",
              "      <th>8680</th>\n",
              "      <td>Richmond</td>\n",
              "      <td>Office Supplies</td>\n",
              "      <td>Appliances</td>\n",
              "      <td>Honeywell Enviracaire Portable HEPA Air Cleane...</td>\n",
              "      <td>2104.550</td>\n",
              "      <td>7</td>\n",
              "      <td>0.0</td>\n",
              "      <td>694.5015</td>\n",
              "    </tr>\n",
              "  </tbody>\n",
              "</table>\n",
              "</div>"
            ],
            "text/plain": [
              "               City         Category  ... Discount     Profit\n",
              "5300    Springfield        Furniture  ...      0.0   386.8350\n",
              "6101  New York City        Furniture  ...      0.1   375.7350\n",
              "4881      Henderson       Technology  ...      0.0   517.4793\n",
              "7487          Dover       Technology  ...      0.0   517.4793\n",
              "1155   Harrisonburg        Furniture  ...      0.0   493.7856\n",
              "8699      Nashville       Technology  ...      0.2   223.9936\n",
              "9774    San Antonio  Office Supplies  ...      0.8 -3701.8928\n",
              "8424       Lakewood        Furniture  ...      0.0   129.2940\n",
              "6534        Buffalo  Office Supplies  ...      0.2   726.5619\n",
              "8680       Richmond  Office Supplies  ...      0.0   694.5015\n",
              "\n",
              "[10 rows x 8 columns]"
            ]
          },
          "metadata": {
            "tags": []
          },
          "execution_count": 19
        }
      ]
    },
    {
      "cell_type": "markdown",
      "metadata": {
        "id": "vNFO-DMZmQ6X"
      },
      "source": [
        "### Q: Do you notice any interesting insights based on these transactions?"
      ]
    },
    {
      "cell_type": "markdown",
      "metadata": {
        "id": "TjtmoW_RmQ6X"
      },
      "source": [
        "__Answer:__ **Most of these are purchases for Machines and Binders , and it looks like Cibify 3D Printers yielded high losses.**"
      ]
    },
    {
      "cell_type": "markdown",
      "metadata": {
        "id": "oQdPIagkmQ6X"
      },
      "source": [
        "## 3.3: Univariate Anomaly Detection on Sales using Isolation Forest\n",
        "\n",
        "You might have already learnt about this model from the curriculum. Just to briefly recap, the Isolation Forest model,  'isolates' observations by randomly selecting a feature and then randomly selecting a split value between the maximum and minimum values of the selected feature.\n",
        "\n",
        "Recursive partitioning can be represented by a tree structure. Hence, the number of splittings required to isolate a sample is equivalent to the path length from the root node to the terminating node. This path length, averaged over a forest of such random trees, is a measure of normality and our decision function.\n",
        "\n",
        "Random partitioning produces noticeably shorter paths for anomalies. Hence, when a forest of random trees collectively produce shorter path lengths for particular samples, they are highly likely to be anomalies.\n",
        "\n",
        "More details are available in this [User Guide](https://scikit-learn.org/stable/modules/outlier_detection.html#isolation-forest)"
      ]
    },
    {
      "cell_type": "markdown",
      "metadata": {
        "id": "3t9HmnkimQ6Y"
      },
      "source": [
        "### Initialize and Train Model\n",
        "\n",
        "Here we initialize the isolation forest model with some hyperparameters assuming the proportion of outliers to be 1% of the total data (using the `contamination` setting)"
      ]
    },
    {
      "cell_type": "code",
      "metadata": {
        "colab": {
          "base_uri": "https://localhost:8080/"
        },
        "id": "hxXWrsO0mQ6Y",
        "outputId": "fef6c548-0c09-429d-fff6-8ff8eafcd01f"
      },
      "source": [
        "from sklearn.ensemble import IsolationForest\n",
        "\n",
        "sales_ifmodel = IsolationForest(n_estimators=100,\n",
        "                                contamination=0.01)\n",
        "sales_ifmodel.fit(df[['Sales']])"
      ],
      "execution_count": 20,
      "outputs": [
        {
          "output_type": "execute_result",
          "data": {
            "text/plain": [
              "IsolationForest(behaviour='deprecated', bootstrap=False, contamination=0.01,\n",
              "                max_features=1.0, max_samples='auto', n_estimators=100,\n",
              "                n_jobs=None, random_state=None, verbose=0, warm_start=False)"
            ]
          },
          "metadata": {
            "tags": []
          },
          "execution_count": 20
        }
      ]
    },
    {
      "cell_type": "markdown",
      "metadata": {
        "id": "57kkujJ9mQ6Y"
      },
      "source": [
        "### Visualize Outlier Region\n",
        "\n",
        "Here we visualize the outlier region in the data distribution"
      ]
    },
    {
      "cell_type": "code",
      "metadata": {
        "scrolled": false,
        "colab": {
          "base_uri": "https://localhost:8080/",
          "height": 387
        },
        "id": "4IHl-x6tmQ6Y",
        "outputId": "350bd66f-bf7d-4767-a5c6-6ff4809c8281"
      },
      "source": [
        "xx = np.linspace(df['Sales'].min(), df['Sales'].max(), len(df)).reshape(-1,1)\n",
        "anomaly_score = sales_ifmodel.decision_function(xx)\n",
        "outlier = sales_ifmodel.predict(xx)\n",
        "plt.figure(figsize=(12, 6))\n",
        "plt.plot(xx, anomaly_score, label='anomaly score')\n",
        "plt.fill_between(xx.T[0], np.min(anomaly_score), np.max(anomaly_score), \n",
        "                 where=outlier==-1, color='r', \n",
        "                 alpha=.4, label='outlier region')\n",
        "plt.legend()\n",
        "plt.ylabel('anomaly score')\n",
        "plt.xlabel('Sales');"
      ],
      "execution_count": 21,
      "outputs": [
        {
          "output_type": "display_data",
          "data": {
            "image/png": "[encoded data removed]",
            "text/plain": [
              "<Figure size 864x432 with 1 Axes>"
            ]
          },
          "metadata": {
            "tags": [],
            "needs_background": "light"
          }
        }
      ]
    },
    {
      "cell_type": "markdown",
      "metadata": {
        "id": "5U99U6OmmQ6Z"
      },
      "source": [
        "### Filter and Sort Outliers\n",
        "\n",
        "Here we predict outliers in our dataset using our trained model and filter out the outlier observations and sort by descending order and view the top 5 outlier values"
      ]
    },
    {
      "cell_type": "code",
      "metadata": {
        "colab": {
          "base_uri": "https://localhost:8080/"
        },
        "id": "ftrOTnnCmQ6Z",
        "outputId": "487865f1-0c75-40d1-8fce-9841f500c88a"
      },
      "source": [
        "outlier_predictions = sales_ifmodel.predict(df[['Sales']])\n",
        "\n",
        "sales_outliers_df = df[['Sales']]\n",
        "sales_outliers_df['Outlier'] = outlier_predictions\n",
        "sales_outliers_df = sales_outliers_df[sales_outliers_df['Outlier'] == -1]['Sales']\n",
        "\n",
        "print('Total Sales Outliers:', len(sales_outliers_df))\n",
        "sales_outliers_sorted = sales_outliers_df.sort_values(ascending=False)\n",
        "sales_outliers_sorted.head(5)"
      ],
      "execution_count": 22,
      "outputs": [
        {
          "output_type": "stream",
          "text": [
            "Total Sales Outliers: 100\n"
          ],
          "name": "stdout"
        },
        {
          "output_type": "execute_result",
          "data": {
            "text/plain": [
              "2697    22638.480\n",
              "6826    17499.950\n",
              "8153    13999.960\n",
              "2623    11199.968\n",
              "4190    10499.970\n",
              "Name: Sales, dtype: float64"
            ]
          },
          "metadata": {
            "tags": []
          },
          "execution_count": 22
        }
      ]
    },
    {
      "cell_type": "markdown",
      "metadata": {
        "id": "VOtvuWilmQ6Z"
      },
      "source": [
        "### View Top 10 Outlier Transactions"
      ]
    },
    {
      "cell_type": "code",
      "metadata": {
        "colab": {
          "base_uri": "https://localhost:8080/",
          "height": 335
        },
        "id": "tCC1enfhmQ6Z",
        "outputId": "0be0beab-6a97-4c4a-8b58-e7c45a82e82f"
      },
      "source": [
        "(df.loc[sales_outliers_sorted.index.tolist()][['City', 'Category', 'Sub-Category', 'Product Name', \n",
        "                                              'Sales', 'Quantity', 'Discount', 'Profit']]).head(10)"
      ],
      "execution_count": 23,
      "outputs": [
        {
          "output_type": "execute_result",
          "data": {
            "text/html": [
              "<div>\n",
              "<style scoped>\n",
              "    .dataframe tbody tr th:only-of-type {\n",
              "        vertical-align: middle;\n",
              "    }\n",
              "\n",
              "    .dataframe tbody tr th {\n",
              "        vertical-align: top;\n",
              "    }\n",
              "\n",
              "    .dataframe thead th {\n",
              "        text-align: right;\n",
              "    }\n",
              "</style>\n",
              "<table border=\"1\" class=\"dataframe\">\n",
              "  <thead>\n",
              "    <tr style=\"text-align: right;\">\n",
              "      <th></th>\n",
              "      <th>City</th>\n",
              "      <th>Category</th>\n",
              "      <th>Sub-Category</th>\n",
              "      <th>Product Name</th>\n",
              "      <th>Sales</th>\n",
              "      <th>Quantity</th>\n",
              "      <th>Discount</th>\n",
              "      <th>Profit</th>\n",
              "    </tr>\n",
              "  </thead>\n",
              "  <tbody>\n",
              "    <tr>\n",
              "      <th>2697</th>\n",
              "      <td>Jacksonville</td>\n",
              "      <td>Technology</td>\n",
              "      <td>Machines</td>\n",
              "      <td>Cisco TelePresence System EX90 Videoconferenci...</td>\n",
              "      <td>22638.480</td>\n",
              "      <td>6</td>\n",
              "      <td>0.5</td>\n",
              "      <td>-1811.0784</td>\n",
              "    </tr>\n",
              "    <tr>\n",
              "      <th>6826</th>\n",
              "      <td>Lafayette</td>\n",
              "      <td>Technology</td>\n",
              "      <td>Copiers</td>\n",
              "      <td>Canon imageCLASS 2200 Advanced Copier</td>\n",
              "      <td>17499.950</td>\n",
              "      <td>5</td>\n",
              "      <td>0.0</td>\n",
              "      <td>8399.9760</td>\n",
              "    </tr>\n",
              "    <tr>\n",
              "      <th>8153</th>\n",
              "      <td>Seattle</td>\n",
              "      <td>Technology</td>\n",
              "      <td>Copiers</td>\n",
              "      <td>Canon imageCLASS 2200 Advanced Copier</td>\n",
              "      <td>13999.960</td>\n",
              "      <td>4</td>\n",
              "      <td>0.0</td>\n",
              "      <td>6719.9808</td>\n",
              "    </tr>\n",
              "    <tr>\n",
              "      <th>2623</th>\n",
              "      <td>New York City</td>\n",
              "      <td>Technology</td>\n",
              "      <td>Copiers</td>\n",
              "      <td>Canon imageCLASS 2200 Advanced Copier</td>\n",
              "      <td>11199.968</td>\n",
              "      <td>4</td>\n",
              "      <td>0.2</td>\n",
              "      <td>3919.9888</td>\n",
              "    </tr>\n",
              "    <tr>\n",
              "      <th>4190</th>\n",
              "      <td>Newark</td>\n",
              "      <td>Technology</td>\n",
              "      <td>Copiers</td>\n",
              "      <td>Canon imageCLASS 2200 Advanced Copier</td>\n",
              "      <td>10499.970</td>\n",
              "      <td>3</td>\n",
              "      <td>0.0</td>\n",
              "      <td>5039.9856</td>\n",
              "    </tr>\n",
              "    <tr>\n",
              "      <th>9039</th>\n",
              "      <td>Detroit</td>\n",
              "      <td>Office Supplies</td>\n",
              "      <td>Binders</td>\n",
              "      <td>GBC Ibimaster 500 Manual ProClick Binding System</td>\n",
              "      <td>9892.740</td>\n",
              "      <td>13</td>\n",
              "      <td>0.0</td>\n",
              "      <td>4946.3700</td>\n",
              "    </tr>\n",
              "    <tr>\n",
              "      <th>4098</th>\n",
              "      <td>Minneapolis</td>\n",
              "      <td>Office Supplies</td>\n",
              "      <td>Binders</td>\n",
              "      <td>Ibico EPK-21 Electric Binding System</td>\n",
              "      <td>9449.950</td>\n",
              "      <td>5</td>\n",
              "      <td>0.0</td>\n",
              "      <td>4630.4755</td>\n",
              "    </tr>\n",
              "    <tr>\n",
              "      <th>4277</th>\n",
              "      <td>Lakewood</td>\n",
              "      <td>Technology</td>\n",
              "      <td>Machines</td>\n",
              "      <td>3D Systems Cube Printer, 2nd Generation, Magenta</td>\n",
              "      <td>9099.930</td>\n",
              "      <td>7</td>\n",
              "      <td>0.0</td>\n",
              "      <td>2365.9818</td>\n",
              "    </tr>\n",
              "    <tr>\n",
              "      <th>8488</th>\n",
              "      <td>Arlington</td>\n",
              "      <td>Technology</td>\n",
              "      <td>Machines</td>\n",
              "      <td>HP Designjet T520 Inkjet Large Format Printer ...</td>\n",
              "      <td>8749.950</td>\n",
              "      <td>5</td>\n",
              "      <td>0.0</td>\n",
              "      <td>2799.9840</td>\n",
              "    </tr>\n",
              "    <tr>\n",
              "      <th>6425</th>\n",
              "      <td>Philadelphia</td>\n",
              "      <td>Technology</td>\n",
              "      <td>Copiers</td>\n",
              "      <td>Canon imageCLASS 2200 Advanced Copier</td>\n",
              "      <td>8399.976</td>\n",
              "      <td>4</td>\n",
              "      <td>0.4</td>\n",
              "      <td>1119.9968</td>\n",
              "    </tr>\n",
              "  </tbody>\n",
              "</table>\n",
              "</div>"
            ],
            "text/plain": [
              "               City         Category  ... Discount     Profit\n",
              "2697   Jacksonville       Technology  ...      0.5 -1811.0784\n",
              "6826      Lafayette       Technology  ...      0.0  8399.9760\n",
              "8153        Seattle       Technology  ...      0.0  6719.9808\n",
              "2623  New York City       Technology  ...      0.2  3919.9888\n",
              "4190         Newark       Technology  ...      0.0  5039.9856\n",
              "9039        Detroit  Office Supplies  ...      0.0  4946.3700\n",
              "4098    Minneapolis  Office Supplies  ...      0.0  4630.4755\n",
              "4277       Lakewood       Technology  ...      0.0  2365.9818\n",
              "8488      Arlington       Technology  ...      0.0  2799.9840\n",
              "6425   Philadelphia       Technology  ...      0.4  1119.9968\n",
              "\n",
              "[10 rows x 8 columns]"
            ]
          },
          "metadata": {
            "tags": []
          },
          "execution_count": 23
        }
      ]
    },
    {
      "cell_type": "markdown",
      "metadata": {
        "id": "CV3G3ip1mQ6Z"
      },
      "source": [
        "### View Bottom 10 Outlier Transactions"
      ]
    },
    {
      "cell_type": "code",
      "metadata": {
        "colab": {
          "base_uri": "https://localhost:8080/",
          "height": 335
        },
        "id": "1XGf8oVdmQ6a",
        "outputId": "4e636b2e-4d14-4cd7-9f8e-c5cf9354c689"
      },
      "source": [
        "(df.loc[sales_outliers_sorted.index.tolist()][['City', 'Category', 'Sub-Category', 'Product Name', \n",
        "                                              'Sales', 'Quantity', 'Discount', 'Profit']]).tail(10)"
      ],
      "execution_count": 24,
      "outputs": [
        {
          "output_type": "execute_result",
          "data": {
            "text/html": [
              "<div>\n",
              "<style scoped>\n",
              "    .dataframe tbody tr th:only-of-type {\n",
              "        vertical-align: middle;\n",
              "    }\n",
              "\n",
              "    .dataframe tbody tr th {\n",
              "        vertical-align: top;\n",
              "    }\n",
              "\n",
              "    .dataframe thead th {\n",
              "        text-align: right;\n",
              "    }\n",
              "</style>\n",
              "<table border=\"1\" class=\"dataframe\">\n",
              "  <thead>\n",
              "    <tr style=\"text-align: right;\">\n",
              "      <th></th>\n",
              "      <th>City</th>\n",
              "      <th>Category</th>\n",
              "      <th>Sub-Category</th>\n",
              "      <th>Product Name</th>\n",
              "      <th>Sales</th>\n",
              "      <th>Quantity</th>\n",
              "      <th>Discount</th>\n",
              "      <th>Profit</th>\n",
              "    </tr>\n",
              "  </thead>\n",
              "  <tbody>\n",
              "    <tr>\n",
              "      <th>1805</th>\n",
              "      <td>Los Angeles</td>\n",
              "      <td>Technology</td>\n",
              "      <td>Phones</td>\n",
              "      <td>Samsung Galaxy Note 2</td>\n",
              "      <td>2575.944</td>\n",
              "      <td>7</td>\n",
              "      <td>0.2</td>\n",
              "      <td>257.5944</td>\n",
              "    </tr>\n",
              "    <tr>\n",
              "      <th>7474</th>\n",
              "      <td>Henderson</td>\n",
              "      <td>Furniture</td>\n",
              "      <td>Chairs</td>\n",
              "      <td>Global Deluxe High-Back Manager's Chair</td>\n",
              "      <td>2573.820</td>\n",
              "      <td>9</td>\n",
              "      <td>0.0</td>\n",
              "      <td>746.4078</td>\n",
              "    </tr>\n",
              "    <tr>\n",
              "      <th>6884</th>\n",
              "      <td>Minneapolis</td>\n",
              "      <td>Furniture</td>\n",
              "      <td>Chairs</td>\n",
              "      <td>Hon Pagoda Stacking Chairs</td>\n",
              "      <td>2567.840</td>\n",
              "      <td>8</td>\n",
              "      <td>0.0</td>\n",
              "      <td>770.3520</td>\n",
              "    </tr>\n",
              "    <tr>\n",
              "      <th>8271</th>\n",
              "      <td>New York City</td>\n",
              "      <td>Furniture</td>\n",
              "      <td>Chairs</td>\n",
              "      <td>Hon 4700 Series Mobuis Mid-Back Task Chairs wi...</td>\n",
              "      <td>2563.056</td>\n",
              "      <td>8</td>\n",
              "      <td>0.1</td>\n",
              "      <td>313.2624</td>\n",
              "    </tr>\n",
              "    <tr>\n",
              "      <th>3011</th>\n",
              "      <td>Louisville</td>\n",
              "      <td>Technology</td>\n",
              "      <td>Machines</td>\n",
              "      <td>Lexmark MX611dhe Monochrome Laser Printer</td>\n",
              "      <td>2549.985</td>\n",
              "      <td>5</td>\n",
              "      <td>0.7</td>\n",
              "      <td>-3399.9800</td>\n",
              "    </tr>\n",
              "    <tr>\n",
              "      <th>6010</th>\n",
              "      <td>Los Angeles</td>\n",
              "      <td>Technology</td>\n",
              "      <td>Machines</td>\n",
              "      <td>Zebra GX420t Direct Thermal/Thermal Transfer P...</td>\n",
              "      <td>2548.560</td>\n",
              "      <td>6</td>\n",
              "      <td>0.2</td>\n",
              "      <td>286.7130</td>\n",
              "    </tr>\n",
              "    <tr>\n",
              "      <th>7280</th>\n",
              "      <td>Columbia</td>\n",
              "      <td>Office Supplies</td>\n",
              "      <td>Binders</td>\n",
              "      <td>Fellowes PB500 Electric Punch Plastic Comb Bin...</td>\n",
              "      <td>2541.980</td>\n",
              "      <td>2</td>\n",
              "      <td>0.0</td>\n",
              "      <td>1270.9900</td>\n",
              "    </tr>\n",
              "    <tr>\n",
              "      <th>3443</th>\n",
              "      <td>New York City</td>\n",
              "      <td>Office Supplies</td>\n",
              "      <td>Appliances</td>\n",
              "      <td>Hoover Shoulder Vac Commercial Portable Vacuum</td>\n",
              "      <td>2504.740</td>\n",
              "      <td>7</td>\n",
              "      <td>0.0</td>\n",
              "      <td>626.1850</td>\n",
              "    </tr>\n",
              "    <tr>\n",
              "      <th>5530</th>\n",
              "      <td>Omaha</td>\n",
              "      <td>Technology</td>\n",
              "      <td>Phones</td>\n",
              "      <td>ClearOne CHATAttach 160 - speaker phone</td>\n",
              "      <td>2479.960</td>\n",
              "      <td>4</td>\n",
              "      <td>0.0</td>\n",
              "      <td>743.9880</td>\n",
              "    </tr>\n",
              "    <tr>\n",
              "      <th>1438</th>\n",
              "      <td>Amarillo</td>\n",
              "      <td>Furniture</td>\n",
              "      <td>Chairs</td>\n",
              "      <td>HON 5400 Series Task Chairs for Big and Tall</td>\n",
              "      <td>2453.430</td>\n",
              "      <td>5</td>\n",
              "      <td>0.3</td>\n",
              "      <td>-350.4900</td>\n",
              "    </tr>\n",
              "  </tbody>\n",
              "</table>\n",
              "</div>"
            ],
            "text/plain": [
              "               City         Category  ... Discount     Profit\n",
              "1805    Los Angeles       Technology  ...      0.2   257.5944\n",
              "7474      Henderson        Furniture  ...      0.0   746.4078\n",
              "6884    Minneapolis        Furniture  ...      0.0   770.3520\n",
              "8271  New York City        Furniture  ...      0.1   313.2624\n",
              "3011     Louisville       Technology  ...      0.7 -3399.9800\n",
              "6010    Los Angeles       Technology  ...      0.2   286.7130\n",
              "7280       Columbia  Office Supplies  ...      0.0  1270.9900\n",
              "3443  New York City  Office Supplies  ...      0.0   626.1850\n",
              "5530          Omaha       Technology  ...      0.0   743.9880\n",
              "1438       Amarillo        Furniture  ...      0.3  -350.4900\n",
              "\n",
              "[10 rows x 8 columns]"
            ]
          },
          "metadata": {
            "tags": []
          },
          "execution_count": 24
        }
      ]
    },
    {
      "cell_type": "markdown",
      "metadata": {
        "id": "yjSc4kVpmQ6a"
      },
      "source": [
        "## Q 3.4: Univariate Anomaly Detection on Profit using Isolation Forest\n",
        "\n",
        "In this section you will use the learning from Section 3.3 and implement anomaly detecting using isolation on the __`Profit`__ attribute. Since we have both +ve (profits) and -ve (losses) values in the distribution, we will try to find anomalies for each."
      ]
    },
    {
      "cell_type": "markdown",
      "metadata": {
        "id": "sN0g_fUEmQ6a"
      },
      "source": [
        "### Initialize and Train Model\n",
        "\n",
        "__Your Turn:__ Initialize the isolation forest model with similar hyperparameters as Section 3.3 and also assuming the proportion of outliers to be 1% of the total data (using the contamination setting)"
      ]
    },
    {
      "cell_type": "code",
      "metadata": {
        "colab": {
          "base_uri": "https://localhost:8080/"
        },
        "id": "Ve4khq46mQ6a",
        "outputId": "2c99db4a-f934-46c2-bcd0-251e0efbc73c"
      },
      "source": [
        "profit_ifmodel = IsolationForest(n_estimators=100,\n",
        "                                contamination=0.01)\n",
        "profit_ifmodel.fit(df[['Profit']])"
      ],
      "execution_count": 25,
      "outputs": [
        {
          "output_type": "execute_result",
          "data": {
            "text/plain": [
              "IsolationForest(behaviour='deprecated', bootstrap=False, contamination=0.01,\n",
              "                max_features=1.0, max_samples='auto', n_estimators=100,\n",
              "                n_jobs=None, random_state=None, verbose=0, warm_start=False)"
            ]
          },
          "metadata": {
            "tags": []
          },
          "execution_count": 25
        }
      ]
    },
    {
      "cell_type": "markdown",
      "metadata": {
        "id": "vJMX8_3PmQ6a"
      },
      "source": [
        "### Visualize Outlier Regions\n",
        "\n",
        "__Your turn:__ Visualize the upper and lower outlier regions in the distribution similar to what you did in 3.3"
      ]
    },
    {
      "cell_type": "code",
      "metadata": {
        "colab": {
          "base_uri": "https://localhost:8080/",
          "height": 387
        },
        "id": "GGAClgf7mQ6a",
        "outputId": "24729ea5-d66f-4740-8018-6fabc2cc1e84"
      },
      "source": [
        "xx = np.linspace(df['Profit'].min(), df['Profit'].max(), len(df)).reshape(-1,1)\n",
        "anomaly_score = profit_ifmodel.decision_function(xx)\n",
        "outlier = profit_ifmodel.predict(xx)\n",
        "\n",
        "plt.figure(figsize=(12, 6))\n",
        "plt.plot(xx, anomaly_score, label='anomaly score')\n",
        "plt.fill_between(xx.T[0], np.min(anomaly_score), np.max(anomaly_score), \n",
        "                 where=outlier==-1, color='r', \n",
        "                 alpha=.4, label='outlier region')\n",
        "plt.legend()\n",
        "plt.ylabel('Anomaly Score')\n",
        "plt.xlabel('Profit');"
      ],
      "execution_count": 26,
      "outputs": [
        {
          "output_type": "display_data",
          "data": {
            "image/png": "[encoded data removed]",
            "text/plain": [
              "<Figure size 864x432 with 1 Axes>"
            ]
          },
          "metadata": {
            "tags": [],
            "needs_background": "light"
          }
        }
      ]
    },
    {
      "cell_type": "markdown",
      "metadata": {
        "id": "uxx0N50mAFMe"
      },
      "source": [
        "**The Isolated forest base estimator is ExtraTreeRegressor - an extremely randomized tree regressor. It splits the best split among randomly chosen attributes with randomly chosen split points. This helps overcome overfitting and locally greedy trees. It returns a value of (0.5 - anomaly score), so  SMALLER (negative) anomaly scores are attributed to anomalous values.**"
      ]
    },
    {
      "cell_type": "markdown",
      "metadata": {
        "id": "ae50otQImQ6a"
      },
      "source": [
        "### Filter and Sort Outliers\n",
        "\n",
        "__Your Turn:__ Predict outliers in our dataset using our trained model and filter out the outlier observations and sort by descending order and view the top 5 outlier values similar to 3.3"
      ]
    },
    {
      "cell_type": "code",
      "metadata": {
        "colab": {
          "base_uri": "https://localhost:8080/"
        },
        "id": "Mi9BL-YjmQ6b",
        "outputId": "84ec4a7d-3edb-4fcd-82b0-8274d6da6938"
      },
      "source": [
        "outlier_predictions = profit_ifmodel.predict(df[['Profit']])\n",
        "\n",
        "profit_outliers_df = df[['Profit']]\n",
        "profit_outliers_df['Outlier'] = outlier_predictions\n",
        "profit_outliers_df = profit_outliers_df[profit_outliers_df['Outlier'] == -1]['Profit']\n",
        "\n",
        "print('Total Profit Outliers:', len(profit_outliers_df))\n",
        "profit_outliers_sorted = profit_outliers_df.sort_values(ascending=False)\n",
        "profit_outliers_sorted.head(5)"
      ],
      "execution_count": 27,
      "outputs": [
        {
          "output_type": "stream",
          "text": [
            "Total Profit Outliers: 100\n"
          ],
          "name": "stdout"
        },
        {
          "output_type": "execute_result",
          "data": {
            "text/plain": [
              "6826    8399.9760\n",
              "8153    6719.9808\n",
              "4190    5039.9856\n",
              "9039    4946.3700\n",
              "4098    4630.4755\n",
              "Name: Profit, dtype: float64"
            ]
          },
          "metadata": {
            "tags": []
          },
          "execution_count": 27
        }
      ]
    },
    {
      "cell_type": "markdown",
      "metadata": {
        "id": "Ty9J_-5DmQ6b"
      },
      "source": [
        "### View Top 10 Outlier Transactions\n",
        "\n",
        "__Your turn:__ View the top ten transactions based on highest profits"
      ]
    },
    {
      "cell_type": "code",
      "metadata": {
        "colab": {
          "base_uri": "https://localhost:8080/",
          "height": 335
        },
        "id": "724ceCs6mQ6b",
        "outputId": "5f9e07da-9805-4576-f680-f968bf1f29bc"
      },
      "source": [
        "(df.loc[profit_outliers_sorted.index.tolist()][['City', 'Category', 'Sub-Category', 'Product Name', \n",
        "                                              'Sales', 'Quantity', 'Discount', 'Profit']]).head(10)"
      ],
      "execution_count": 28,
      "outputs": [
        {
          "output_type": "execute_result",
          "data": {
            "text/html": [
              "<div>\n",
              "<style scoped>\n",
              "    .dataframe tbody tr th:only-of-type {\n",
              "        vertical-align: middle;\n",
              "    }\n",
              "\n",
              "    .dataframe tbody tr th {\n",
              "        vertical-align: top;\n",
              "    }\n",
              "\n",
              "    .dataframe thead th {\n",
              "        text-align: right;\n",
              "    }\n",
              "</style>\n",
              "<table border=\"1\" class=\"dataframe\">\n",
              "  <thead>\n",
              "    <tr style=\"text-align: right;\">\n",
              "      <th></th>\n",
              "      <th>City</th>\n",
              "      <th>Category</th>\n",
              "      <th>Sub-Category</th>\n",
              "      <th>Product Name</th>\n",
              "      <th>Sales</th>\n",
              "      <th>Quantity</th>\n",
              "      <th>Discount</th>\n",
              "      <th>Profit</th>\n",
              "    </tr>\n",
              "  </thead>\n",
              "  <tbody>\n",
              "    <tr>\n",
              "      <th>6826</th>\n",
              "      <td>Lafayette</td>\n",
              "      <td>Technology</td>\n",
              "      <td>Copiers</td>\n",
              "      <td>Canon imageCLASS 2200 Advanced Copier</td>\n",
              "      <td>17499.950</td>\n",
              "      <td>5</td>\n",
              "      <td>0.0</td>\n",
              "      <td>8399.9760</td>\n",
              "    </tr>\n",
              "    <tr>\n",
              "      <th>8153</th>\n",
              "      <td>Seattle</td>\n",
              "      <td>Technology</td>\n",
              "      <td>Copiers</td>\n",
              "      <td>Canon imageCLASS 2200 Advanced Copier</td>\n",
              "      <td>13999.960</td>\n",
              "      <td>4</td>\n",
              "      <td>0.0</td>\n",
              "      <td>6719.9808</td>\n",
              "    </tr>\n",
              "    <tr>\n",
              "      <th>4190</th>\n",
              "      <td>Newark</td>\n",
              "      <td>Technology</td>\n",
              "      <td>Copiers</td>\n",
              "      <td>Canon imageCLASS 2200 Advanced Copier</td>\n",
              "      <td>10499.970</td>\n",
              "      <td>3</td>\n",
              "      <td>0.0</td>\n",
              "      <td>5039.9856</td>\n",
              "    </tr>\n",
              "    <tr>\n",
              "      <th>9039</th>\n",
              "      <td>Detroit</td>\n",
              "      <td>Office Supplies</td>\n",
              "      <td>Binders</td>\n",
              "      <td>GBC Ibimaster 500 Manual ProClick Binding System</td>\n",
              "      <td>9892.740</td>\n",
              "      <td>13</td>\n",
              "      <td>0.0</td>\n",
              "      <td>4946.3700</td>\n",
              "    </tr>\n",
              "    <tr>\n",
              "      <th>4098</th>\n",
              "      <td>Minneapolis</td>\n",
              "      <td>Office Supplies</td>\n",
              "      <td>Binders</td>\n",
              "      <td>Ibico EPK-21 Electric Binding System</td>\n",
              "      <td>9449.950</td>\n",
              "      <td>5</td>\n",
              "      <td>0.0</td>\n",
              "      <td>4630.4755</td>\n",
              "    </tr>\n",
              "    <tr>\n",
              "      <th>2623</th>\n",
              "      <td>New York City</td>\n",
              "      <td>Technology</td>\n",
              "      <td>Copiers</td>\n",
              "      <td>Canon imageCLASS 2200 Advanced Copier</td>\n",
              "      <td>11199.968</td>\n",
              "      <td>4</td>\n",
              "      <td>0.2</td>\n",
              "      <td>3919.9888</td>\n",
              "    </tr>\n",
              "    <tr>\n",
              "      <th>509</th>\n",
              "      <td>Atlanta</td>\n",
              "      <td>Office Supplies</td>\n",
              "      <td>Binders</td>\n",
              "      <td>Fellowes PB500 Electric Punch Plastic Comb Bin...</td>\n",
              "      <td>6354.950</td>\n",
              "      <td>5</td>\n",
              "      <td>0.0</td>\n",
              "      <td>3177.4750</td>\n",
              "    </tr>\n",
              "    <tr>\n",
              "      <th>8488</th>\n",
              "      <td>Arlington</td>\n",
              "      <td>Technology</td>\n",
              "      <td>Machines</td>\n",
              "      <td>HP Designjet T520 Inkjet Large Format Printer ...</td>\n",
              "      <td>8749.950</td>\n",
              "      <td>5</td>\n",
              "      <td>0.0</td>\n",
              "      <td>2799.9840</td>\n",
              "    </tr>\n",
              "    <tr>\n",
              "      <th>7666</th>\n",
              "      <td>Providence</td>\n",
              "      <td>Technology</td>\n",
              "      <td>Copiers</td>\n",
              "      <td>Hewlett Packard LaserJet 3310 Copier</td>\n",
              "      <td>5399.910</td>\n",
              "      <td>9</td>\n",
              "      <td>0.0</td>\n",
              "      <td>2591.9568</td>\n",
              "    </tr>\n",
              "    <tr>\n",
              "      <th>6520</th>\n",
              "      <td>Jackson</td>\n",
              "      <td>Office Supplies</td>\n",
              "      <td>Binders</td>\n",
              "      <td>GBC DocuBind P400 Electric Binding System</td>\n",
              "      <td>5443.960</td>\n",
              "      <td>4</td>\n",
              "      <td>0.0</td>\n",
              "      <td>2504.2216</td>\n",
              "    </tr>\n",
              "  </tbody>\n",
              "</table>\n",
              "</div>"
            ],
            "text/plain": [
              "               City         Category  ... Discount     Profit\n",
              "6826      Lafayette       Technology  ...      0.0  8399.9760\n",
              "8153        Seattle       Technology  ...      0.0  6719.9808\n",
              "4190         Newark       Technology  ...      0.0  5039.9856\n",
              "9039        Detroit  Office Supplies  ...      0.0  4946.3700\n",
              "4098    Minneapolis  Office Supplies  ...      0.0  4630.4755\n",
              "2623  New York City       Technology  ...      0.2  3919.9888\n",
              "509         Atlanta  Office Supplies  ...      0.0  3177.4750\n",
              "8488      Arlington       Technology  ...      0.0  2799.9840\n",
              "7666     Providence       Technology  ...      0.0  2591.9568\n",
              "6520        Jackson  Office Supplies  ...      0.0  2504.2216\n",
              "\n",
              "[10 rows x 8 columns]"
            ]
          },
          "metadata": {
            "tags": []
          },
          "execution_count": 28
        }
      ]
    },
    {
      "cell_type": "markdown",
      "metadata": {
        "id": "r0mAwP4bmQ6b"
      },
      "source": [
        "### View Bottom 10 Outlier Transactions\n",
        "\n",
        "__Your turn:__ View the bottom ten transactions based on lowest profits (highest losses)"
      ]
    },
    {
      "cell_type": "code",
      "metadata": {
        "colab": {
          "base_uri": "https://localhost:8080/",
          "height": 335
        },
        "id": "beNjfWYZmQ6b",
        "outputId": "ee574c84-c6ea-400f-a1cb-c9a9b1ef3d0c"
      },
      "source": [
        "(df.loc[profit_outliers_sorted.index.tolist()][['City', 'Category', 'Sub-Category', 'Product Name', \n",
        "                                              'Sales', 'Quantity', 'Discount', 'Profit']]).tail(10)"
      ],
      "execution_count": 29,
      "outputs": [
        {
          "output_type": "execute_result",
          "data": {
            "text/html": [
              "<div>\n",
              "<style scoped>\n",
              "    .dataframe tbody tr th:only-of-type {\n",
              "        vertical-align: middle;\n",
              "    }\n",
              "\n",
              "    .dataframe tbody tr th {\n",
              "        vertical-align: top;\n",
              "    }\n",
              "\n",
              "    .dataframe thead th {\n",
              "        text-align: right;\n",
              "    }\n",
              "</style>\n",
              "<table border=\"1\" class=\"dataframe\">\n",
              "  <thead>\n",
              "    <tr style=\"text-align: right;\">\n",
              "      <th></th>\n",
              "      <th>City</th>\n",
              "      <th>Category</th>\n",
              "      <th>Sub-Category</th>\n",
              "      <th>Product Name</th>\n",
              "      <th>Sales</th>\n",
              "      <th>Quantity</th>\n",
              "      <th>Discount</th>\n",
              "      <th>Profit</th>\n",
              "    </tr>\n",
              "  </thead>\n",
              "  <tbody>\n",
              "    <tr>\n",
              "      <th>2697</th>\n",
              "      <td>Jacksonville</td>\n",
              "      <td>Technology</td>\n",
              "      <td>Machines</td>\n",
              "      <td>Cisco TelePresence System EX90 Videoconferenci...</td>\n",
              "      <td>22638.480</td>\n",
              "      <td>6</td>\n",
              "      <td>0.5</td>\n",
              "      <td>-1811.0784</td>\n",
              "    </tr>\n",
              "    <tr>\n",
              "      <th>1199</th>\n",
              "      <td>Houston</td>\n",
              "      <td>Office Supplies</td>\n",
              "      <td>Binders</td>\n",
              "      <td>GBC DocuBind P400 Electric Binding System</td>\n",
              "      <td>1088.792</td>\n",
              "      <td>4</td>\n",
              "      <td>0.8</td>\n",
              "      <td>-1850.9464</td>\n",
              "    </tr>\n",
              "    <tr>\n",
              "      <th>9639</th>\n",
              "      <td>Concord</td>\n",
              "      <td>Furniture</td>\n",
              "      <td>Tables</td>\n",
              "      <td>Chromcraft Bull-Nose Wood Oval Conference Tabl...</td>\n",
              "      <td>4297.644</td>\n",
              "      <td>13</td>\n",
              "      <td>0.4</td>\n",
              "      <td>-1862.3124</td>\n",
              "    </tr>\n",
              "    <tr>\n",
              "      <th>5310</th>\n",
              "      <td>Houston</td>\n",
              "      <td>Office Supplies</td>\n",
              "      <td>Binders</td>\n",
              "      <td>Fellowes PB500 Electric Punch Plastic Comb Bin...</td>\n",
              "      <td>1525.188</td>\n",
              "      <td>6</td>\n",
              "      <td>0.8</td>\n",
              "      <td>-2287.7820</td>\n",
              "    </tr>\n",
              "    <tr>\n",
              "      <th>3151</th>\n",
              "      <td>Newark</td>\n",
              "      <td>Technology</td>\n",
              "      <td>Machines</td>\n",
              "      <td>Cubify CubeX 3D Printer Double Head Print</td>\n",
              "      <td>1799.994</td>\n",
              "      <td>2</td>\n",
              "      <td>0.7</td>\n",
              "      <td>-2639.9912</td>\n",
              "    </tr>\n",
              "    <tr>\n",
              "      <th>4991</th>\n",
              "      <td>Chicago</td>\n",
              "      <td>Office Supplies</td>\n",
              "      <td>Binders</td>\n",
              "      <td>Ibico EPK-21 Electric Binding System</td>\n",
              "      <td>1889.990</td>\n",
              "      <td>5</td>\n",
              "      <td>0.8</td>\n",
              "      <td>-2929.4845</td>\n",
              "    </tr>\n",
              "    <tr>\n",
              "      <th>3011</th>\n",
              "      <td>Louisville</td>\n",
              "      <td>Technology</td>\n",
              "      <td>Machines</td>\n",
              "      <td>Lexmark MX611dhe Monochrome Laser Printer</td>\n",
              "      <td>2549.985</td>\n",
              "      <td>5</td>\n",
              "      <td>0.7</td>\n",
              "      <td>-3399.9800</td>\n",
              "    </tr>\n",
              "    <tr>\n",
              "      <th>9774</th>\n",
              "      <td>San Antonio</td>\n",
              "      <td>Office Supplies</td>\n",
              "      <td>Binders</td>\n",
              "      <td>GBC DocuBind P400 Electric Binding System</td>\n",
              "      <td>2177.584</td>\n",
              "      <td>8</td>\n",
              "      <td>0.8</td>\n",
              "      <td>-3701.8928</td>\n",
              "    </tr>\n",
              "    <tr>\n",
              "      <th>683</th>\n",
              "      <td>Burlington</td>\n",
              "      <td>Technology</td>\n",
              "      <td>Machines</td>\n",
              "      <td>Cubify CubeX 3D Printer Triple Head Print</td>\n",
              "      <td>7999.980</td>\n",
              "      <td>4</td>\n",
              "      <td>0.5</td>\n",
              "      <td>-3839.9904</td>\n",
              "    </tr>\n",
              "    <tr>\n",
              "      <th>7772</th>\n",
              "      <td>Lancaster</td>\n",
              "      <td>Technology</td>\n",
              "      <td>Machines</td>\n",
              "      <td>Cubify CubeX 3D Printer Double Head Print</td>\n",
              "      <td>4499.985</td>\n",
              "      <td>5</td>\n",
              "      <td>0.7</td>\n",
              "      <td>-6599.9780</td>\n",
              "    </tr>\n",
              "  </tbody>\n",
              "</table>\n",
              "</div>"
            ],
            "text/plain": [
              "              City         Category Sub-Category  ... Quantity  Discount     Profit\n",
              "2697  Jacksonville       Technology     Machines  ...        6       0.5 -1811.0784\n",
              "1199       Houston  Office Supplies      Binders  ...        4       0.8 -1850.9464\n",
              "9639       Concord        Furniture       Tables  ...       13       0.4 -1862.3124\n",
              "5310       Houston  Office Supplies      Binders  ...        6       0.8 -2287.7820\n",
              "3151        Newark       Technology     Machines  ...        2       0.7 -2639.9912\n",
              "4991       Chicago  Office Supplies      Binders  ...        5       0.8 -2929.4845\n",
              "3011    Louisville       Technology     Machines  ...        5       0.7 -3399.9800\n",
              "9774   San Antonio  Office Supplies      Binders  ...        8       0.8 -3701.8928\n",
              "683     Burlington       Technology     Machines  ...        4       0.5 -3839.9904\n",
              "7772     Lancaster       Technology     Machines  ...        5       0.7 -6599.9780\n",
              "\n",
              "[10 rows x 8 columns]"
            ]
          },
          "metadata": {
            "tags": []
          },
          "execution_count": 29
        }
      ]
    },
    {
      "cell_type": "markdown",
      "metadata": {
        "id": "IROSGibdmQ6b"
      },
      "source": [
        "### Q: Do you observe any similarity in the results with the previous method?"
      ]
    },
    {
      "cell_type": "markdown",
      "metadata": {
        "id": "iUMgPZOMmQ6b"
      },
      "source": [
        "__Answer:__ **Yes, there is significant similarity in the results with the previous method**"
      ]
    },
    {
      "cell_type": "markdown",
      "metadata": {
        "id": "PnJttgSpmQ6b"
      },
      "source": [
        "Another interesting approach to check out would be the [Generalized ESD Test for Outliers](https://www.itl.nist.gov/div898/handbook/eda/section3/eda35h3.htm)\n",
        "\n"
      ]
    },
    {
      "cell_type": "markdown",
      "metadata": {
        "id": "sMrmbClWmQ6c"
      },
      "source": [
        "# 4. Multivariate Anomaly Detection\n",
        "\n",
        "Multivariate is basically analysis done on more than one attribute or feature at a time. In this section, we will perform anomaly detection on two attributes (__`Discount`__ & __`Profit`__) using the following methods.\n",
        "\n",
        "- Clustering Based Local Outlier Factor (CBLOF)\n",
        "- Isolation Forest\n",
        "- Auto-Encoders\n",
        "\n",
        "You will learn how to train these models to detect outliers and also visualize these outliers. For this section we will be using the __[`pyod`](https://pyod.readthedocs.io/en/latest/)__ package so make sure you have it installed."
      ]
    },
    {
      "cell_type": "code",
      "metadata": {
        "colab": {
          "base_uri": "https://localhost:8080/"
        },
        "id": "Lr2ll7jCmQ6c",
        "outputId": "cefaa63e-3fcb-4148-ad90-d5b60f09bcb5"
      },
      "source": [
        "!pip install pyod"
      ],
      "execution_count": 30,
      "outputs": [
        {
          "output_type": "stream",
          "text": [
            "Requirement already satisfied: pyod in /usr/local/lib/python3.7/dist-packages (0.8.7)\n",
            "Requirement already satisfied: statsmodels in /usr/local/lib/python3.7/dist-packages (from pyod) (0.10.2)\n",
            "Requirement already satisfied: numpy>=1.13 in /usr/local/lib/python3.7/dist-packages (from pyod) (1.19.5)\n",
            "Requirement already satisfied: joblib in /usr/local/lib/python3.7/dist-packages (from pyod) (1.0.1)\n",
            "Requirement already satisfied: numba>=0.35 in /usr/local/lib/python3.7/dist-packages (from pyod) (0.51.2)\n",
            "Requirement already satisfied: six in /usr/local/lib/python3.7/dist-packages (from pyod) (1.15.0)\n",
            "Requirement already satisfied: scipy>=0.19.1 in /usr/local/lib/python3.7/dist-packages (from pyod) (1.4.1)\n",
            "Requirement already satisfied: pandas>=0.25 in /usr/local/lib/python3.7/dist-packages (from pyod) (1.1.5)\n",
            "Requirement already satisfied: scikit-learn>=0.19.1 in /usr/local/lib/python3.7/dist-packages (from pyod) (0.22.2.post1)\n",
            "Requirement already satisfied: matplotlib in /usr/local/lib/python3.7/dist-packages (from pyod) (3.2.2)\n",
            "Requirement already satisfied: patsy>=0.4.0 in /usr/local/lib/python3.7/dist-packages (from statsmodels->pyod) (0.5.1)\n",
            "Requirement already satisfied: setuptools in /usr/local/lib/python3.7/dist-packages (from numba>=0.35->pyod) (54.2.0)\n",
            "Requirement already satisfied: llvmlite<0.35,>=0.34.0.dev0 in /usr/local/lib/python3.7/dist-packages (from numba>=0.35->pyod) (0.34.0)\n",
            "Requirement already satisfied: pytz>=2017.2 in /usr/local/lib/python3.7/dist-packages (from pandas>=0.25->pyod) (2018.9)\n",
            "Requirement already satisfied: python-dateutil>=2.7.3 in /usr/local/lib/python3.7/dist-packages (from pandas>=0.25->pyod) (2.8.1)\n",
            "Requirement already satisfied: cycler>=0.10 in /usr/local/lib/python3.7/dist-packages (from matplotlib->pyod) (0.10.0)\n",
            "Requirement already satisfied: kiwisolver>=1.0.1 in /usr/local/lib/python3.7/dist-packages (from matplotlib->pyod) (1.3.1)\n",
            "Requirement already satisfied: pyparsing!=2.0.4,!=2.1.2,!=2.1.6,>=2.0.1 in /usr/local/lib/python3.7/dist-packages (from matplotlib->pyod) (2.4.7)\n"
          ],
          "name": "stdout"
        }
      ]
    },
    {
      "cell_type": "markdown",
      "metadata": {
        "id": "Z3ZzvuwJmQ6c"
      },
      "source": [
        "## Extract Subset Data for Outlier Detection"
      ]
    },
    {
      "cell_type": "code",
      "metadata": {
        "colab": {
          "base_uri": "https://localhost:8080/",
          "height": 191
        },
        "id": "cSiKFg56mQ6c",
        "outputId": "2bfb7acd-2d65-4007-cf4c-e18fd4176ac3"
      },
      "source": [
        "cols = ['Discount', 'Profit']\n",
        "subset_df = df[cols]\n",
        "subset_df.head()"
      ],
      "execution_count": 31,
      "outputs": [
        {
          "output_type": "execute_result",
          "data": {
            "text/html": [
              "<div>\n",
              "<style scoped>\n",
              "    .dataframe tbody tr th:only-of-type {\n",
              "        vertical-align: middle;\n",
              "    }\n",
              "\n",
              "    .dataframe tbody tr th {\n",
              "        vertical-align: top;\n",
              "    }\n",
              "\n",
              "    .dataframe thead th {\n",
              "        text-align: right;\n",
              "    }\n",
              "</style>\n",
              "<table border=\"1\" class=\"dataframe\">\n",
              "  <thead>\n",
              "    <tr style=\"text-align: right;\">\n",
              "      <th></th>\n",
              "      <th>Discount</th>\n",
              "      <th>Profit</th>\n",
              "    </tr>\n",
              "  </thead>\n",
              "  <tbody>\n",
              "    <tr>\n",
              "      <th>0</th>\n",
              "      <td>0.00</td>\n",
              "      <td>41.9136</td>\n",
              "    </tr>\n",
              "    <tr>\n",
              "      <th>1</th>\n",
              "      <td>0.00</td>\n",
              "      <td>219.5820</td>\n",
              "    </tr>\n",
              "    <tr>\n",
              "      <th>2</th>\n",
              "      <td>0.00</td>\n",
              "      <td>6.8714</td>\n",
              "    </tr>\n",
              "    <tr>\n",
              "      <th>3</th>\n",
              "      <td>0.45</td>\n",
              "      <td>-383.0310</td>\n",
              "    </tr>\n",
              "    <tr>\n",
              "      <th>4</th>\n",
              "      <td>0.20</td>\n",
              "      <td>2.5164</td>\n",
              "    </tr>\n",
              "  </tbody>\n",
              "</table>\n",
              "</div>"
            ],
            "text/plain": [
              "   Discount    Profit\n",
              "0      0.00   41.9136\n",
              "1      0.00  219.5820\n",
              "2      0.00    6.8714\n",
              "3      0.45 -383.0310\n",
              "4      0.20    2.5164"
            ]
          },
          "metadata": {
            "tags": []
          },
          "execution_count": 31
        }
      ]
    },
    {
      "cell_type": "markdown",
      "metadata": {
        "id": "HQzWCedGmQ6c"
      },
      "source": [
        "## Feature Scaling"
      ]
    },
    {
      "cell_type": "code",
      "metadata": {
        "colab": {
          "base_uri": "https://localhost:8080/",
          "height": 191
        },
        "id": "HWfkduvZmQ6c",
        "outputId": "8ee184d3-0c4e-42ac-a079-e0e1499b1545"
      },
      "source": [
        "from sklearn.preprocessing import MinMaxScaler\n",
        "\n",
        "mms = MinMaxScaler(feature_range=(0, 1))\n",
        "subset_df[cols] = mms.fit_transform(subset_df)\n",
        "subset_df.head()"
      ],
      "execution_count": 32,
      "outputs": [
        {
          "output_type": "execute_result",
          "data": {
            "text/html": [
              "<div>\n",
              "<style scoped>\n",
              "    .dataframe tbody tr th:only-of-type {\n",
              "        vertical-align: middle;\n",
              "    }\n",
              "\n",
              "    .dataframe tbody tr th {\n",
              "        vertical-align: top;\n",
              "    }\n",
              "\n",
              "    .dataframe thead th {\n",
              "        text-align: right;\n",
              "    }\n",
              "</style>\n",
              "<table border=\"1\" class=\"dataframe\">\n",
              "  <thead>\n",
              "    <tr style=\"text-align: right;\">\n",
              "      <th></th>\n",
              "      <th>Discount</th>\n",
              "      <th>Profit</th>\n",
              "    </tr>\n",
              "  </thead>\n",
              "  <tbody>\n",
              "    <tr>\n",
              "      <th>0</th>\n",
              "      <td>0.0000</td>\n",
              "      <td>0.442794</td>\n",
              "    </tr>\n",
              "    <tr>\n",
              "      <th>1</th>\n",
              "      <td>0.0000</td>\n",
              "      <td>0.454639</td>\n",
              "    </tr>\n",
              "    <tr>\n",
              "      <th>2</th>\n",
              "      <td>0.0000</td>\n",
              "      <td>0.440458</td>\n",
              "    </tr>\n",
              "    <tr>\n",
              "      <th>3</th>\n",
              "      <td>0.5625</td>\n",
              "      <td>0.414464</td>\n",
              "    </tr>\n",
              "    <tr>\n",
              "      <th>4</th>\n",
              "      <td>0.2500</td>\n",
              "      <td>0.440168</td>\n",
              "    </tr>\n",
              "  </tbody>\n",
              "</table>\n",
              "</div>"
            ],
            "text/plain": [
              "   Discount    Profit\n",
              "0    0.0000  0.442794\n",
              "1    0.0000  0.454639\n",
              "2    0.0000  0.440458\n",
              "3    0.5625  0.414464\n",
              "4    0.2500  0.440168"
            ]
          },
          "metadata": {
            "tags": []
          },
          "execution_count": 32
        }
      ]
    },
    {
      "cell_type": "markdown",
      "metadata": {
        "id": "-EymYYKtmQ6c"
      },
      "source": [
        "## 4.1: Multivariate Anomaly Detection with Clustering Based Local Outlier Factor (CBLOF)\n",
        "\n",
        "The CBLOF model takes as an input the dataset and the cluster model that was generated by a clustering algorithm. It classifies the clusters into small clusters and large clusters using the parameters alpha and beta. The anomaly score is then calculated based on the size of the cluster the point belongs to as well as the distance to the nearest large cluster.\n",
        "\n",
        "By default, kMeans is used for clustering algorithm. You can read more in the [official documentation](https://pyod.readthedocs.io/en/latest/pyod.models.html#module-pyod.models.cblof)"
      ]
    },
    {
      "cell_type": "markdown",
      "metadata": {
        "id": "7NHauycHmQ6c"
      },
      "source": [
        "### Initialize and Train Model\n",
        "\n",
        "Here we initialize the CBLOF model with some hyperparameters assuming the proportion of outliers to be 1% of the total data (using the `contamination` setting)"
      ]
    },
    {
      "cell_type": "code",
      "metadata": {
        "colab": {
          "base_uri": "https://localhost:8080/"
        },
        "id": "ms62jJRnmQ6d",
        "outputId": "098994f1-af7a-4d60-ecf4-912eb019da21"
      },
      "source": [
        "from pyod.models import cblof\n",
        "\n",
        "cblof_model = cblof.CBLOF(contamination=0.01, random_state=42)\n",
        "cblof_model.fit(subset_df)"
      ],
      "execution_count": 33,
      "outputs": [
        {
          "output_type": "execute_result",
          "data": {
            "text/plain": [
              "CBLOF(alpha=0.9, beta=5, check_estimator=False, clustering_estimator=None,\n",
              "   contamination=0.01, n_clusters=8, n_jobs=1, random_state=42,\n",
              "   use_weights=False)"
            ]
          },
          "metadata": {
            "tags": []
          },
          "execution_count": 33
        }
      ]
    },
    {
      "cell_type": "markdown",
      "metadata": {
        "id": "Cs6QS3m3mQ6d"
      },
      "source": [
        "### Filter and Sort Outliers\n",
        "\n",
        "Here we predict outliers in our dataset using our trained model and filter out the outlier observations and sort by descending order and view the top 5 outlier values"
      ]
    },
    {
      "cell_type": "code",
      "metadata": {
        "colab": {
          "base_uri": "https://localhost:8080/",
          "height": 207
        },
        "id": "idNhBclWmQ6d",
        "outputId": "694f70ba-0c2a-4575-b55f-93eeb3ab26df"
      },
      "source": [
        "outlier_predictions = cblof_model.predict(subset_df)\n",
        "\n",
        "outliers_df = subset_df.copy(deep=True)\n",
        "outliers_df['Outlier'] = outlier_predictions\n",
        "outliers_df = outliers_df[outliers_df['Outlier'] == 1]\n",
        "\n",
        "print('Total Outliers:', len(outliers_df))\n",
        "outliers_sorted = outliers_df.sort_values(by=['Profit', 'Discount'], ascending=False)\n",
        "outliers_sorted.head(5)"
      ],
      "execution_count": 34,
      "outputs": [
        {
          "output_type": "stream",
          "text": [
            "Total Outliers: 100\n"
          ],
          "name": "stdout"
        },
        {
          "output_type": "execute_result",
          "data": {
            "text/html": [
              "<div>\n",
              "<style scoped>\n",
              "    .dataframe tbody tr th:only-of-type {\n",
              "        vertical-align: middle;\n",
              "    }\n",
              "\n",
              "    .dataframe tbody tr th {\n",
              "        vertical-align: top;\n",
              "    }\n",
              "\n",
              "    .dataframe thead th {\n",
              "        text-align: right;\n",
              "    }\n",
              "</style>\n",
              "<table border=\"1\" class=\"dataframe\">\n",
              "  <thead>\n",
              "    <tr style=\"text-align: right;\">\n",
              "      <th></th>\n",
              "      <th>Discount</th>\n",
              "      <th>Profit</th>\n",
              "      <th>Outlier</th>\n",
              "    </tr>\n",
              "  </thead>\n",
              "  <tbody>\n",
              "    <tr>\n",
              "      <th>6826</th>\n",
              "      <td>0.0</td>\n",
              "      <td>1.000000</td>\n",
              "      <td>1</td>\n",
              "    </tr>\n",
              "    <tr>\n",
              "      <th>8153</th>\n",
              "      <td>0.0</td>\n",
              "      <td>0.888000</td>\n",
              "      <td>1</td>\n",
              "    </tr>\n",
              "    <tr>\n",
              "      <th>4190</th>\n",
              "      <td>0.0</td>\n",
              "      <td>0.776000</td>\n",
              "      <td>1</td>\n",
              "    </tr>\n",
              "    <tr>\n",
              "      <th>9039</th>\n",
              "      <td>0.0</td>\n",
              "      <td>0.769759</td>\n",
              "      <td>1</td>\n",
              "    </tr>\n",
              "    <tr>\n",
              "      <th>4098</th>\n",
              "      <td>0.0</td>\n",
              "      <td>0.748699</td>\n",
              "      <td>1</td>\n",
              "    </tr>\n",
              "  </tbody>\n",
              "</table>\n",
              "</div>"
            ],
            "text/plain": [
              "      Discount    Profit  Outlier\n",
              "6826       0.0  1.000000        1\n",
              "8153       0.0  0.888000        1\n",
              "4190       0.0  0.776000        1\n",
              "9039       0.0  0.769759        1\n",
              "4098       0.0  0.748699        1"
            ]
          },
          "metadata": {
            "tags": []
          },
          "execution_count": 34
        }
      ]
    },
    {
      "cell_type": "markdown",
      "metadata": {
        "id": "HmM-rHt4mQ6d"
      },
      "source": [
        "### View Bottom 10 Outlier Transactions"
      ]
    },
    {
      "cell_type": "code",
      "metadata": {
        "colab": {
          "base_uri": "https://localhost:8080/",
          "height": 335
        },
        "id": "r4s2vK32mQ6d",
        "outputId": "146b6f5e-6b3b-457f-e515-1d11ae1d3b60"
      },
      "source": [
        "(df.loc[outliers_sorted.index.tolist()][['City', 'Category', 'Sub-Category', 'Product Name', \n",
        "                                              'Sales', 'Quantity', 'Discount', 'Profit']]).tail(10)"
      ],
      "execution_count": 35,
      "outputs": [
        {
          "output_type": "execute_result",
          "data": {
            "text/html": [
              "<div>\n",
              "<style scoped>\n",
              "    .dataframe tbody tr th:only-of-type {\n",
              "        vertical-align: middle;\n",
              "    }\n",
              "\n",
              "    .dataframe tbody tr th {\n",
              "        vertical-align: top;\n",
              "    }\n",
              "\n",
              "    .dataframe thead th {\n",
              "        text-align: right;\n",
              "    }\n",
              "</style>\n",
              "<table border=\"1\" class=\"dataframe\">\n",
              "  <thead>\n",
              "    <tr style=\"text-align: right;\">\n",
              "      <th></th>\n",
              "      <th>City</th>\n",
              "      <th>Category</th>\n",
              "      <th>Sub-Category</th>\n",
              "      <th>Product Name</th>\n",
              "      <th>Sales</th>\n",
              "      <th>Quantity</th>\n",
              "      <th>Discount</th>\n",
              "      <th>Profit</th>\n",
              "    </tr>\n",
              "  </thead>\n",
              "  <tbody>\n",
              "    <tr>\n",
              "      <th>463</th>\n",
              "      <td>Phoenix</td>\n",
              "      <td>Furniture</td>\n",
              "      <td>Tables</td>\n",
              "      <td>Bush Advantage Collection Racetrack Conference...</td>\n",
              "      <td>1272.630</td>\n",
              "      <td>6</td>\n",
              "      <td>0.5</td>\n",
              "      <td>-814.4832</td>\n",
              "    </tr>\n",
              "    <tr>\n",
              "      <th>4128</th>\n",
              "      <td>Charlotte</td>\n",
              "      <td>Technology</td>\n",
              "      <td>Machines</td>\n",
              "      <td>HP Designjet T520 Inkjet Large Format Printer ...</td>\n",
              "      <td>2624.985</td>\n",
              "      <td>3</td>\n",
              "      <td>0.5</td>\n",
              "      <td>-944.9946</td>\n",
              "    </tr>\n",
              "    <tr>\n",
              "      <th>8993</th>\n",
              "      <td>Columbia</td>\n",
              "      <td>Furniture</td>\n",
              "      <td>Tables</td>\n",
              "      <td>Balt Solid Wood Round Tables</td>\n",
              "      <td>1875.258</td>\n",
              "      <td>7</td>\n",
              "      <td>0.4</td>\n",
              "      <td>-968.8833</td>\n",
              "    </tr>\n",
              "    <tr>\n",
              "      <th>5320</th>\n",
              "      <td>Knoxville</td>\n",
              "      <td>Furniture</td>\n",
              "      <td>Tables</td>\n",
              "      <td>Chromcraft Bull-Nose Wood Oval Conference Tabl...</td>\n",
              "      <td>2314.116</td>\n",
              "      <td>7</td>\n",
              "      <td>0.4</td>\n",
              "      <td>-1002.7836</td>\n",
              "    </tr>\n",
              "    <tr>\n",
              "      <th>165</th>\n",
              "      <td>San Antonio</td>\n",
              "      <td>Technology</td>\n",
              "      <td>Machines</td>\n",
              "      <td>Lexmark MX611dhe Monochrome Laser Printer</td>\n",
              "      <td>8159.952</td>\n",
              "      <td>8</td>\n",
              "      <td>0.4</td>\n",
              "      <td>-1359.9920</td>\n",
              "    </tr>\n",
              "    <tr>\n",
              "      <th>27</th>\n",
              "      <td>Philadelphia</td>\n",
              "      <td>Furniture</td>\n",
              "      <td>Bookcases</td>\n",
              "      <td>Riverside Palais Royal Lawyers Bookcase, Royal...</td>\n",
              "      <td>3083.430</td>\n",
              "      <td>7</td>\n",
              "      <td>0.5</td>\n",
              "      <td>-1665.0522</td>\n",
              "    </tr>\n",
              "    <tr>\n",
              "      <th>2697</th>\n",
              "      <td>Jacksonville</td>\n",
              "      <td>Technology</td>\n",
              "      <td>Machines</td>\n",
              "      <td>Cisco TelePresence System EX90 Videoconferenci...</td>\n",
              "      <td>22638.480</td>\n",
              "      <td>6</td>\n",
              "      <td>0.5</td>\n",
              "      <td>-1811.0784</td>\n",
              "    </tr>\n",
              "    <tr>\n",
              "      <th>9639</th>\n",
              "      <td>Concord</td>\n",
              "      <td>Furniture</td>\n",
              "      <td>Tables</td>\n",
              "      <td>Chromcraft Bull-Nose Wood Oval Conference Tabl...</td>\n",
              "      <td>4297.644</td>\n",
              "      <td>13</td>\n",
              "      <td>0.4</td>\n",
              "      <td>-1862.3124</td>\n",
              "    </tr>\n",
              "    <tr>\n",
              "      <th>683</th>\n",
              "      <td>Burlington</td>\n",
              "      <td>Technology</td>\n",
              "      <td>Machines</td>\n",
              "      <td>Cubify CubeX 3D Printer Triple Head Print</td>\n",
              "      <td>7999.980</td>\n",
              "      <td>4</td>\n",
              "      <td>0.5</td>\n",
              "      <td>-3839.9904</td>\n",
              "    </tr>\n",
              "    <tr>\n",
              "      <th>7772</th>\n",
              "      <td>Lancaster</td>\n",
              "      <td>Technology</td>\n",
              "      <td>Machines</td>\n",
              "      <td>Cubify CubeX 3D Printer Double Head Print</td>\n",
              "      <td>4499.985</td>\n",
              "      <td>5</td>\n",
              "      <td>0.7</td>\n",
              "      <td>-6599.9780</td>\n",
              "    </tr>\n",
              "  </tbody>\n",
              "</table>\n",
              "</div>"
            ],
            "text/plain": [
              "              City    Category Sub-Category  ... Quantity  Discount     Profit\n",
              "463        Phoenix   Furniture       Tables  ...        6       0.5  -814.4832\n",
              "4128     Charlotte  Technology     Machines  ...        3       0.5  -944.9946\n",
              "8993      Columbia   Furniture       Tables  ...        7       0.4  -968.8833\n",
              "5320     Knoxville   Furniture       Tables  ...        7       0.4 -1002.7836\n",
              "165    San Antonio  Technology     Machines  ...        8       0.4 -1359.9920\n",
              "27    Philadelphia   Furniture    Bookcases  ...        7       0.5 -1665.0522\n",
              "2697  Jacksonville  Technology     Machines  ...        6       0.5 -1811.0784\n",
              "9639       Concord   Furniture       Tables  ...       13       0.4 -1862.3124\n",
              "683     Burlington  Technology     Machines  ...        4       0.5 -3839.9904\n",
              "7772     Lancaster  Technology     Machines  ...        5       0.7 -6599.9780\n",
              "\n",
              "[10 rows x 8 columns]"
            ]
          },
          "metadata": {
            "tags": []
          },
          "execution_count": 35
        }
      ]
    },
    {
      "cell_type": "markdown",
      "metadata": {
        "id": "Jm3RSIMFmQ6d"
      },
      "source": [
        "We can definitely see some huge losses incurred based on giving higher discounts even if the sales amount was high which is interesting as well as concerning."
      ]
    },
    {
      "cell_type": "markdown",
      "metadata": {
        "id": "AluWKaZUmQ6d"
      },
      "source": [
        "## Q 4.2: Multivariate Anomaly Detection with Isolation Forest\n",
        "\n",
        "Here you will detect anomalies using the Isolation Forest model and use the learnings from 4.1. Here you will use the [`pyod`](https://pyod.readthedocs.io/en/latest/pyod.models.html#module-pyod.models.iforest) version of [Isolation Forest](https://pyod.readthedocs.io/en/latest/pyod.models.html#module-pyod.models.iforest) which is basically a wrapper over the `scikit-learn` version but with more functionalities."
      ]
    },
    {
      "cell_type": "markdown",
      "metadata": {
        "id": "OLJSGaQnmQ6d"
      },
      "source": [
        "### Initialize and Train Model\n",
        "\n",
        "__Your Turn:__ Initialize the isolation forest model with similar hyperparameters as before and also assuming the proportion of outliers to be 1% of the total data (using the contamination setting)"
      ]
    },
    {
      "cell_type": "code",
      "metadata": {
        "colab": {
          "base_uri": "https://localhost:8080/"
        },
        "id": "kfDndh-bmQ6e",
        "outputId": "a423d7ec-3028-4124-c9c5-5f253606f238"
      },
      "source": [
        "from pyod.models import iforest\n",
        "\n",
        "if_model = iforest.IForest(contamination=0.01, random_state=42)\n",
        "if_model.fit(subset_df)"
      ],
      "execution_count": 36,
      "outputs": [
        {
          "output_type": "execute_result",
          "data": {
            "text/plain": [
              "IForest(behaviour='old', bootstrap=False, contamination=0.01,\n",
              "    max_features=1.0, max_samples='auto', n_estimators=100, n_jobs=1,\n",
              "    random_state=42, verbose=0)"
            ]
          },
          "metadata": {
            "tags": []
          },
          "execution_count": 36
        }
      ]
    },
    {
      "cell_type": "markdown",
      "metadata": {
        "id": "__D2IOW7mQ6e"
      },
      "source": [
        "### Filter and Sort Outliers\n",
        "\n",
        "__Your Turn:__ Predict outliers in our dataset using our trained model and filter out the outlier observations and sort by descending order and view the top 5 outlier values similar to 4.1"
      ]
    },
    {
      "cell_type": "code",
      "metadata": {
        "colab": {
          "base_uri": "https://localhost:8080/",
          "height": 207
        },
        "id": "Lgwqh8eCmQ6e",
        "outputId": "7f3673ac-d120-42fe-b665-a7ccc337d8b2"
      },
      "source": [
        "outlier_predictions = if_model.predict(subset_df)\n",
        "\n",
        "outliers_df = subset_df.copy(deep=True)\n",
        "outliers_df['Outlier'] = outlier_predictions\n",
        "outliers_df = outliers_df[outliers_df['Outlier'] == 1]\n",
        "\n",
        "print('Total Outliers:', len(outliers_df))\n",
        "outliers_sorted = outliers_df.sort_values(by=['Profit', 'Discount'], ascending=False)\n",
        "outliers_sorted.head(5)"
      ],
      "execution_count": 37,
      "outputs": [
        {
          "output_type": "stream",
          "text": [
            "Total Outliers: 100\n"
          ],
          "name": "stdout"
        },
        {
          "output_type": "execute_result",
          "data": {
            "text/html": [
              "<div>\n",
              "<style scoped>\n",
              "    .dataframe tbody tr th:only-of-type {\n",
              "        vertical-align: middle;\n",
              "    }\n",
              "\n",
              "    .dataframe tbody tr th {\n",
              "        vertical-align: top;\n",
              "    }\n",
              "\n",
              "    .dataframe thead th {\n",
              "        text-align: right;\n",
              "    }\n",
              "</style>\n",
              "<table border=\"1\" class=\"dataframe\">\n",
              "  <thead>\n",
              "    <tr style=\"text-align: right;\">\n",
              "      <th></th>\n",
              "      <th>Discount</th>\n",
              "      <th>Profit</th>\n",
              "      <th>Outlier</th>\n",
              "    </tr>\n",
              "  </thead>\n",
              "  <tbody>\n",
              "    <tr>\n",
              "      <th>6826</th>\n",
              "      <td>0.0</td>\n",
              "      <td>1.000000</td>\n",
              "      <td>1</td>\n",
              "    </tr>\n",
              "    <tr>\n",
              "      <th>8153</th>\n",
              "      <td>0.0</td>\n",
              "      <td>0.888000</td>\n",
              "      <td>1</td>\n",
              "    </tr>\n",
              "    <tr>\n",
              "      <th>4190</th>\n",
              "      <td>0.0</td>\n",
              "      <td>0.776000</td>\n",
              "      <td>1</td>\n",
              "    </tr>\n",
              "    <tr>\n",
              "      <th>9039</th>\n",
              "      <td>0.0</td>\n",
              "      <td>0.769759</td>\n",
              "      <td>1</td>\n",
              "    </tr>\n",
              "    <tr>\n",
              "      <th>4098</th>\n",
              "      <td>0.0</td>\n",
              "      <td>0.748699</td>\n",
              "      <td>1</td>\n",
              "    </tr>\n",
              "  </tbody>\n",
              "</table>\n",
              "</div>"
            ],
            "text/plain": [
              "      Discount    Profit  Outlier\n",
              "6826       0.0  1.000000        1\n",
              "8153       0.0  0.888000        1\n",
              "4190       0.0  0.776000        1\n",
              "9039       0.0  0.769759        1\n",
              "4098       0.0  0.748699        1"
            ]
          },
          "metadata": {
            "tags": []
          },
          "execution_count": 37
        }
      ]
    },
    {
      "cell_type": "markdown",
      "metadata": {
        "id": "RJXwAt0emQ6e"
      },
      "source": [
        "### View Bottom 10 Outlier Transactions\n",
        "\n",
        "__Your turn:__ View the bottom ten transactions "
      ]
    },
    {
      "cell_type": "code",
      "metadata": {
        "colab": {
          "base_uri": "https://localhost:8080/",
          "height": 335
        },
        "id": "raoOcvi5mQ6e",
        "outputId": "d8c54440-22a1-4402-e278-3c7aab230f0b"
      },
      "source": [
        "(df.loc[outliers_sorted.index.tolist()][['City', 'Category', 'Sub-Category', 'Product Name', \n",
        "                                              'Sales', 'Quantity', 'Discount', 'Profit']]).tail(10)"
      ],
      "execution_count": 38,
      "outputs": [
        {
          "output_type": "execute_result",
          "data": {
            "text/html": [
              "<div>\n",
              "<style scoped>\n",
              "    .dataframe tbody tr th:only-of-type {\n",
              "        vertical-align: middle;\n",
              "    }\n",
              "\n",
              "    .dataframe tbody tr th {\n",
              "        vertical-align: top;\n",
              "    }\n",
              "\n",
              "    .dataframe thead th {\n",
              "        text-align: right;\n",
              "    }\n",
              "</style>\n",
              "<table border=\"1\" class=\"dataframe\">\n",
              "  <thead>\n",
              "    <tr style=\"text-align: right;\">\n",
              "      <th></th>\n",
              "      <th>City</th>\n",
              "      <th>Category</th>\n",
              "      <th>Sub-Category</th>\n",
              "      <th>Product Name</th>\n",
              "      <th>Sales</th>\n",
              "      <th>Quantity</th>\n",
              "      <th>Discount</th>\n",
              "      <th>Profit</th>\n",
              "    </tr>\n",
              "  </thead>\n",
              "  <tbody>\n",
              "    <tr>\n",
              "      <th>2697</th>\n",
              "      <td>Jacksonville</td>\n",
              "      <td>Technology</td>\n",
              "      <td>Machines</td>\n",
              "      <td>Cisco TelePresence System EX90 Videoconferenci...</td>\n",
              "      <td>22638.480</td>\n",
              "      <td>6</td>\n",
              "      <td>0.5</td>\n",
              "      <td>-1811.0784</td>\n",
              "    </tr>\n",
              "    <tr>\n",
              "      <th>1199</th>\n",
              "      <td>Houston</td>\n",
              "      <td>Office Supplies</td>\n",
              "      <td>Binders</td>\n",
              "      <td>GBC DocuBind P400 Electric Binding System</td>\n",
              "      <td>1088.792</td>\n",
              "      <td>4</td>\n",
              "      <td>0.8</td>\n",
              "      <td>-1850.9464</td>\n",
              "    </tr>\n",
              "    <tr>\n",
              "      <th>9639</th>\n",
              "      <td>Concord</td>\n",
              "      <td>Furniture</td>\n",
              "      <td>Tables</td>\n",
              "      <td>Chromcraft Bull-Nose Wood Oval Conference Tabl...</td>\n",
              "      <td>4297.644</td>\n",
              "      <td>13</td>\n",
              "      <td>0.4</td>\n",
              "      <td>-1862.3124</td>\n",
              "    </tr>\n",
              "    <tr>\n",
              "      <th>5310</th>\n",
              "      <td>Houston</td>\n",
              "      <td>Office Supplies</td>\n",
              "      <td>Binders</td>\n",
              "      <td>Fellowes PB500 Electric Punch Plastic Comb Bin...</td>\n",
              "      <td>1525.188</td>\n",
              "      <td>6</td>\n",
              "      <td>0.8</td>\n",
              "      <td>-2287.7820</td>\n",
              "    </tr>\n",
              "    <tr>\n",
              "      <th>3151</th>\n",
              "      <td>Newark</td>\n",
              "      <td>Technology</td>\n",
              "      <td>Machines</td>\n",
              "      <td>Cubify CubeX 3D Printer Double Head Print</td>\n",
              "      <td>1799.994</td>\n",
              "      <td>2</td>\n",
              "      <td>0.7</td>\n",
              "      <td>-2639.9912</td>\n",
              "    </tr>\n",
              "    <tr>\n",
              "      <th>4991</th>\n",
              "      <td>Chicago</td>\n",
              "      <td>Office Supplies</td>\n",
              "      <td>Binders</td>\n",
              "      <td>Ibico EPK-21 Electric Binding System</td>\n",
              "      <td>1889.990</td>\n",
              "      <td>5</td>\n",
              "      <td>0.8</td>\n",
              "      <td>-2929.4845</td>\n",
              "    </tr>\n",
              "    <tr>\n",
              "      <th>3011</th>\n",
              "      <td>Louisville</td>\n",
              "      <td>Technology</td>\n",
              "      <td>Machines</td>\n",
              "      <td>Lexmark MX611dhe Monochrome Laser Printer</td>\n",
              "      <td>2549.985</td>\n",
              "      <td>5</td>\n",
              "      <td>0.7</td>\n",
              "      <td>-3399.9800</td>\n",
              "    </tr>\n",
              "    <tr>\n",
              "      <th>9774</th>\n",
              "      <td>San Antonio</td>\n",
              "      <td>Office Supplies</td>\n",
              "      <td>Binders</td>\n",
              "      <td>GBC DocuBind P400 Electric Binding System</td>\n",
              "      <td>2177.584</td>\n",
              "      <td>8</td>\n",
              "      <td>0.8</td>\n",
              "      <td>-3701.8928</td>\n",
              "    </tr>\n",
              "    <tr>\n",
              "      <th>683</th>\n",
              "      <td>Burlington</td>\n",
              "      <td>Technology</td>\n",
              "      <td>Machines</td>\n",
              "      <td>Cubify CubeX 3D Printer Triple Head Print</td>\n",
              "      <td>7999.980</td>\n",
              "      <td>4</td>\n",
              "      <td>0.5</td>\n",
              "      <td>-3839.9904</td>\n",
              "    </tr>\n",
              "    <tr>\n",
              "      <th>7772</th>\n",
              "      <td>Lancaster</td>\n",
              "      <td>Technology</td>\n",
              "      <td>Machines</td>\n",
              "      <td>Cubify CubeX 3D Printer Double Head Print</td>\n",
              "      <td>4499.985</td>\n",
              "      <td>5</td>\n",
              "      <td>0.7</td>\n",
              "      <td>-6599.9780</td>\n",
              "    </tr>\n",
              "  </tbody>\n",
              "</table>\n",
              "</div>"
            ],
            "text/plain": [
              "              City         Category Sub-Category  ... Quantity  Discount     Profit\n",
              "2697  Jacksonville       Technology     Machines  ...        6       0.5 -1811.0784\n",
              "1199       Houston  Office Supplies      Binders  ...        4       0.8 -1850.9464\n",
              "9639       Concord        Furniture       Tables  ...       13       0.4 -1862.3124\n",
              "5310       Houston  Office Supplies      Binders  ...        6       0.8 -2287.7820\n",
              "3151        Newark       Technology     Machines  ...        2       0.7 -2639.9912\n",
              "4991       Chicago  Office Supplies      Binders  ...        5       0.8 -2929.4845\n",
              "3011    Louisville       Technology     Machines  ...        5       0.7 -3399.9800\n",
              "9774   San Antonio  Office Supplies      Binders  ...        8       0.8 -3701.8928\n",
              "683     Burlington       Technology     Machines  ...        4       0.5 -3839.9904\n",
              "7772     Lancaster       Technology     Machines  ...        5       0.7 -6599.9780\n",
              "\n",
              "[10 rows x 8 columns]"
            ]
          },
          "metadata": {
            "tags": []
          },
          "execution_count": 38
        }
      ]
    },
    {
      "cell_type": "markdown",
      "metadata": {
        "id": "jvnLltZYmQ6f"
      },
      "source": [
        "### Q: Do you notice any differences in the results with the previous model?"
      ]
    },
    {
      "cell_type": "markdown",
      "metadata": {
        "id": "Ni_xd-2qmQ6f"
      },
      "source": [
        "**Answer: We do notice some transactions with 80% discount and high losses**"
      ]
    },
    {
      "cell_type": "markdown",
      "metadata": {
        "id": "0DkKPZ0wmQ6f"
      },
      "source": [
        "## Q 4.3: Multivariate Anomaly Detection with Auto-encoders\n",
        "\n",
        "Here you will detect anomalies using the Auto-encoder model and use the learnings from 4.1. Here you will use the [Auto-encoder](https://pyod.readthedocs.io/en/latest/pyod.models.html#module-pyod.models.auto_encoder) model from `pyod` which is a deep learning model often used for learning useful data representations in an unsupervised fashion without any labeled data. \n",
        "\n",
        "![](outlier_ae.png)\n",
        "\n",
        "Similar to PCA, AE could be used to detect outlier objects in the data by calculating the reconstruction errors"
      ]
    },
    {
      "cell_type": "markdown",
      "metadata": {
        "id": "8wG0jiQ0mQ6h"
      },
      "source": [
        "### Initialize Model\n",
        "\n",
        "Here we initiaze an auto-encoder network with a few hidden layers so that we could train it for a 100 epochs"
      ]
    },
    {
      "cell_type": "code",
      "metadata": {
        "id": "ZNFSJzXrmQ6h"
      },
      "source": [
        "from pyod.models import auto_encoder\n",
        "\n",
        "ae_model = auto_encoder.AutoEncoder(hidden_neurons=[2, 32, 32, 2], \n",
        "                                    hidden_activation='relu',\n",
        "                                    output_activation='sigmoid',\n",
        "                                    epochs=100,\n",
        "                                    batch_size=32,\n",
        "                                    contamination=0.01)"
      ],
      "execution_count": 39,
      "outputs": []
    },
    {
      "cell_type": "markdown",
      "metadata": {
        "id": "soqK1ZD2mQ6h"
      },
      "source": [
        "### Train Model\n",
        "\n",
        "__Your turn:__ Train the model by calling the `fit()` function on the right data"
      ]
    },
    {
      "cell_type": "code",
      "metadata": {
        "colab": {
          "base_uri": "https://localhost:8080/"
        },
        "id": "pANNmjfzmQ6i",
        "outputId": "455d477f-3482-4aca-b51e-8c1ed53b789b"
      },
      "source": [
        "# Calling Autoencoder model to fit df with all columns\n",
        "ae_model.fit(subset_df)"
      ],
      "execution_count": 42,
      "outputs": [
        {
          "output_type": "stream",
          "text": [
            "282/282 [==============================] - 1s 2ms/step - loss: 0.9017 - val_loss: 0.9139\n",
            "Epoch 90/100\n",
            "282/282 [==============================] - 1s 2ms/step - loss: 0.9618 - val_loss: 0.9139\n",
            "Epoch 91/100\n",
            "282/282 [==============================] - 1s 2ms/step - loss: 0.9325 - val_loss: 0.9139\n",
            "Epoch 92/100\n",
            "282/282 [==============================] - 1s 2ms/step - loss: 1.1275 - val_loss: 0.9139\n",
            "Epoch 93/100\n",
            "282/282 [==============================] - 1s 2ms/step - loss: 0.8807 - val_loss: 0.9139\n",
            "Epoch 94/100\n",
            "282/282 [==============================] - 1s 3ms/step - loss: 0.9629 - val_loss: 0.9139\n",
            "Epoch 95/100\n",
            "282/282 [==============================] - 1s 2ms/step - loss: 1.0780 - val_loss: 0.9139\n",
            "Epoch 96/100\n",
            "282/282 [==============================] - 1s 2ms/step - loss: 1.1251 - val_loss: 0.9139\n",
            "Epoch 97/100\n",
            "282/282 [==============================] - 1s 2ms/step - loss: 1.1399 - val_loss: 0.9139\n",
            "Epoch 98/100\n",
            "282/282 [==============================] - 1s 2ms/step - loss: 1.0913 - val_loss: 0.9139\n",
            "Epoch 99/100\n",
            "282/282 [==============================] - 1s 2ms/step - loss: 0.8972 - val_loss: 0.9139\n",
            "Epoch 100/100\n",
            "282/282 [==============================] - 1s 2ms/step - loss: 1.0431 - val_loss: 0.9139\n"
          ],
          "name": "stdout"
        },
        {
          "output_type": "execute_result",
          "data": {
            "text/plain": [
              "AutoEncoder(batch_size=32, contamination=0.01, dropout_rate=0.2, epochs=100,\n",
              "      hidden_activation='relu', hidden_neurons=[2, 32, 32, 2],\n",
              "      l2_regularizer=0.1,\n",
              "      loss=<function mean_squared_error at 0x7ff7d0e5ef80>,\n",
              "      optimizer='adam', output_activation='sigmoid', preprocessing=True,\n",
              "      random_state=None, validation_size=0.1, verbose=1)"
            ]
          },
          "metadata": {
            "tags": []
          },
          "execution_count": 42
        }
      ]
    },
    {
      "cell_type": "markdown",
      "metadata": {
        "id": "hIcAk7ZymQ6i"
      },
      "source": [
        "### Filter and Sort Outliers\n",
        "\n",
        "__Your Turn:__ Predict outliers in our dataset using our trained model and filter out the outlier observations and sort by descending order and view the top 5 outlier values similar to 4.1"
      ]
    },
    {
      "cell_type": "code",
      "metadata": {
        "colab": {
          "base_uri": "https://localhost:8080/",
          "height": 207
        },
        "id": "tFHwtudZmQ6i",
        "outputId": "b1c63899-aec8-41a1-909d-7962fee944a3"
      },
      "source": [
        "outlier_predictions = ae_model.predict(subset_df)\n",
        "\n",
        "outliers_df = subset_df.copy(deep=True)\n",
        "outliers_df['Outlier'] = outlier_predictions\n",
        "outliers_df = outliers_df[outliers_df['Outlier'] == 1]\n",
        "\n",
        "print('Total Outliers:', len(outliers_df))\n",
        "outliers_sorted = outliers_df.sort_values(by=['Profit', 'Discount'], ascending=False)\n",
        "outliers_sorted.head(5)"
      ],
      "execution_count": 43,
      "outputs": [
        {
          "output_type": "stream",
          "text": [
            "Total Outliers: 100\n"
          ],
          "name": "stdout"
        },
        {
          "output_type": "execute_result",
          "data": {
            "text/html": [
              "<div>\n",
              "<style scoped>\n",
              "    .dataframe tbody tr th:only-of-type {\n",
              "        vertical-align: middle;\n",
              "    }\n",
              "\n",
              "    .dataframe tbody tr th {\n",
              "        vertical-align: top;\n",
              "    }\n",
              "\n",
              "    .dataframe thead th {\n",
              "        text-align: right;\n",
              "    }\n",
              "</style>\n",
              "<table border=\"1\" class=\"dataframe\">\n",
              "  <thead>\n",
              "    <tr style=\"text-align: right;\">\n",
              "      <th></th>\n",
              "      <th>Discount</th>\n",
              "      <th>Profit</th>\n",
              "      <th>Outlier</th>\n",
              "    </tr>\n",
              "  </thead>\n",
              "  <tbody>\n",
              "    <tr>\n",
              "      <th>6826</th>\n",
              "      <td>0.0</td>\n",
              "      <td>1.000000</td>\n",
              "      <td>1</td>\n",
              "    </tr>\n",
              "    <tr>\n",
              "      <th>8153</th>\n",
              "      <td>0.0</td>\n",
              "      <td>0.888000</td>\n",
              "      <td>1</td>\n",
              "    </tr>\n",
              "    <tr>\n",
              "      <th>4190</th>\n",
              "      <td>0.0</td>\n",
              "      <td>0.776000</td>\n",
              "      <td>1</td>\n",
              "    </tr>\n",
              "    <tr>\n",
              "      <th>9039</th>\n",
              "      <td>0.0</td>\n",
              "      <td>0.769759</td>\n",
              "      <td>1</td>\n",
              "    </tr>\n",
              "    <tr>\n",
              "      <th>4098</th>\n",
              "      <td>0.0</td>\n",
              "      <td>0.748699</td>\n",
              "      <td>1</td>\n",
              "    </tr>\n",
              "  </tbody>\n",
              "</table>\n",
              "</div>"
            ],
            "text/plain": [
              "      Discount    Profit  Outlier\n",
              "6826       0.0  1.000000        1\n",
              "8153       0.0  0.888000        1\n",
              "4190       0.0  0.776000        1\n",
              "9039       0.0  0.769759        1\n",
              "4098       0.0  0.748699        1"
            ]
          },
          "metadata": {
            "tags": []
          },
          "execution_count": 43
        }
      ]
    },
    {
      "cell_type": "markdown",
      "metadata": {
        "id": "YC71IS1emQ6i"
      },
      "source": [
        "### View Bottom 10 Outlier Transactions\n",
        "\n",
        "__Your turn:__ View the bottom ten transactions "
      ]
    },
    {
      "cell_type": "code",
      "metadata": {
        "colab": {
          "base_uri": "https://localhost:8080/",
          "height": 335
        },
        "id": "9jLOL5D0mQ6i",
        "outputId": "34af20b1-8e7e-4aab-e34d-a635e80a1c79"
      },
      "source": [
        "(df.loc[outliers_sorted.index.tolist()][['City', 'Category', 'Sub-Category', 'Product Name', \n",
        "                                              'Sales', 'Quantity', 'Discount', 'Profit']]).tail(10)"
      ],
      "execution_count": 44,
      "outputs": [
        {
          "output_type": "execute_result",
          "data": {
            "text/html": [
              "<div>\n",
              "<style scoped>\n",
              "    .dataframe tbody tr th:only-of-type {\n",
              "        vertical-align: middle;\n",
              "    }\n",
              "\n",
              "    .dataframe tbody tr th {\n",
              "        vertical-align: top;\n",
              "    }\n",
              "\n",
              "    .dataframe thead th {\n",
              "        text-align: right;\n",
              "    }\n",
              "</style>\n",
              "<table border=\"1\" class=\"dataframe\">\n",
              "  <thead>\n",
              "    <tr style=\"text-align: right;\">\n",
              "      <th></th>\n",
              "      <th>City</th>\n",
              "      <th>Category</th>\n",
              "      <th>Sub-Category</th>\n",
              "      <th>Product Name</th>\n",
              "      <th>Sales</th>\n",
              "      <th>Quantity</th>\n",
              "      <th>Discount</th>\n",
              "      <th>Profit</th>\n",
              "    </tr>\n",
              "  </thead>\n",
              "  <tbody>\n",
              "    <tr>\n",
              "      <th>2697</th>\n",
              "      <td>Jacksonville</td>\n",
              "      <td>Technology</td>\n",
              "      <td>Machines</td>\n",
              "      <td>Cisco TelePresence System EX90 Videoconferenci...</td>\n",
              "      <td>22638.480</td>\n",
              "      <td>6</td>\n",
              "      <td>0.5</td>\n",
              "      <td>-1811.0784</td>\n",
              "    </tr>\n",
              "    <tr>\n",
              "      <th>1199</th>\n",
              "      <td>Houston</td>\n",
              "      <td>Office Supplies</td>\n",
              "      <td>Binders</td>\n",
              "      <td>GBC DocuBind P400 Electric Binding System</td>\n",
              "      <td>1088.792</td>\n",
              "      <td>4</td>\n",
              "      <td>0.8</td>\n",
              "      <td>-1850.9464</td>\n",
              "    </tr>\n",
              "    <tr>\n",
              "      <th>9639</th>\n",
              "      <td>Concord</td>\n",
              "      <td>Furniture</td>\n",
              "      <td>Tables</td>\n",
              "      <td>Chromcraft Bull-Nose Wood Oval Conference Tabl...</td>\n",
              "      <td>4297.644</td>\n",
              "      <td>13</td>\n",
              "      <td>0.4</td>\n",
              "      <td>-1862.3124</td>\n",
              "    </tr>\n",
              "    <tr>\n",
              "      <th>5310</th>\n",
              "      <td>Houston</td>\n",
              "      <td>Office Supplies</td>\n",
              "      <td>Binders</td>\n",
              "      <td>Fellowes PB500 Electric Punch Plastic Comb Bin...</td>\n",
              "      <td>1525.188</td>\n",
              "      <td>6</td>\n",
              "      <td>0.8</td>\n",
              "      <td>-2287.7820</td>\n",
              "    </tr>\n",
              "    <tr>\n",
              "      <th>3151</th>\n",
              "      <td>Newark</td>\n",
              "      <td>Technology</td>\n",
              "      <td>Machines</td>\n",
              "      <td>Cubify CubeX 3D Printer Double Head Print</td>\n",
              "      <td>1799.994</td>\n",
              "      <td>2</td>\n",
              "      <td>0.7</td>\n",
              "      <td>-2639.9912</td>\n",
              "    </tr>\n",
              "    <tr>\n",
              "      <th>4991</th>\n",
              "      <td>Chicago</td>\n",
              "      <td>Office Supplies</td>\n",
              "      <td>Binders</td>\n",
              "      <td>Ibico EPK-21 Electric Binding System</td>\n",
              "      <td>1889.990</td>\n",
              "      <td>5</td>\n",
              "      <td>0.8</td>\n",
              "      <td>-2929.4845</td>\n",
              "    </tr>\n",
              "    <tr>\n",
              "      <th>3011</th>\n",
              "      <td>Louisville</td>\n",
              "      <td>Technology</td>\n",
              "      <td>Machines</td>\n",
              "      <td>Lexmark MX611dhe Monochrome Laser Printer</td>\n",
              "      <td>2549.985</td>\n",
              "      <td>5</td>\n",
              "      <td>0.7</td>\n",
              "      <td>-3399.9800</td>\n",
              "    </tr>\n",
              "    <tr>\n",
              "      <th>9774</th>\n",
              "      <td>San Antonio</td>\n",
              "      <td>Office Supplies</td>\n",
              "      <td>Binders</td>\n",
              "      <td>GBC DocuBind P400 Electric Binding System</td>\n",
              "      <td>2177.584</td>\n",
              "      <td>8</td>\n",
              "      <td>0.8</td>\n",
              "      <td>-3701.8928</td>\n",
              "    </tr>\n",
              "    <tr>\n",
              "      <th>683</th>\n",
              "      <td>Burlington</td>\n",
              "      <td>Technology</td>\n",
              "      <td>Machines</td>\n",
              "      <td>Cubify CubeX 3D Printer Triple Head Print</td>\n",
              "      <td>7999.980</td>\n",
              "      <td>4</td>\n",
              "      <td>0.5</td>\n",
              "      <td>-3839.9904</td>\n",
              "    </tr>\n",
              "    <tr>\n",
              "      <th>7772</th>\n",
              "      <td>Lancaster</td>\n",
              "      <td>Technology</td>\n",
              "      <td>Machines</td>\n",
              "      <td>Cubify CubeX 3D Printer Double Head Print</td>\n",
              "      <td>4499.985</td>\n",
              "      <td>5</td>\n",
              "      <td>0.7</td>\n",
              "      <td>-6599.9780</td>\n",
              "    </tr>\n",
              "  </tbody>\n",
              "</table>\n",
              "</div>"
            ],
            "text/plain": [
              "              City         Category Sub-Category  ... Quantity  Discount     Profit\n",
              "2697  Jacksonville       Technology     Machines  ...        6       0.5 -1811.0784\n",
              "1199       Houston  Office Supplies      Binders  ...        4       0.8 -1850.9464\n",
              "9639       Concord        Furniture       Tables  ...       13       0.4 -1862.3124\n",
              "5310       Houston  Office Supplies      Binders  ...        6       0.8 -2287.7820\n",
              "3151        Newark       Technology     Machines  ...        2       0.7 -2639.9912\n",
              "4991       Chicago  Office Supplies      Binders  ...        5       0.8 -2929.4845\n",
              "3011    Louisville       Technology     Machines  ...        5       0.7 -3399.9800\n",
              "9774   San Antonio  Office Supplies      Binders  ...        8       0.8 -3701.8928\n",
              "683     Burlington       Technology     Machines  ...        4       0.5 -3839.9904\n",
              "7772     Lancaster       Technology     Machines  ...        5       0.7 -6599.9780\n",
              "\n",
              "[10 rows x 8 columns]"
            ]
          },
          "metadata": {
            "tags": []
          },
          "execution_count": 44
        }
      ]
    },
    {
      "cell_type": "markdown",
      "metadata": {
        "id": "JTtiFkHhmQ6j"
      },
      "source": [
        "## 4.4: Visualize Anomalies and Compare Anomaly Detection Models\n",
        "\n",
        "Here we will look at the visual plots of anomalies as detected by the above three models"
      ]
    },
    {
      "cell_type": "code",
      "metadata": {
        "id": "vt13_cpEmQ6j"
      },
      "source": [
        "def visualize_anomalies(model, xx, yy, data_df, ax_obj, subplot_title):\n",
        "    \n",
        "    # predict raw anomaly score\n",
        "    scores_pred = model.decision_function(data_df) * -1\n",
        "    # prediction of a datapoint category outlier or inlier\n",
        "    y_pred = model.predict(data_df)\n",
        "    n_inliers = len(y_pred) - np.count_nonzero(y_pred)\n",
        "    n_outliers = np.count_nonzero(y_pred == 1)\n",
        "\n",
        "\n",
        "    out_df = data_df.copy(deep=True)\n",
        "    out_df['Outlier'] = y_pred.tolist()\n",
        "    # discount - inlier feature 1,  profit - inlier feature 2\n",
        "    inliers_discount = out_df[out_df['Outlier'] == 0]['Discount'].values\n",
        "    inliers_profit = out_df[out_df['Outlier'] == 0]['Profit'].values\n",
        "    # discount - outlier feature 1, profit - outlier feature 2\n",
        "    outliers_discount = out_df[out_df['Outlier'] == 1]['Discount'].values\n",
        "    outliers_profit = out_df[out_df['Outlier'] == 1]['Profit'].values\n",
        "\n",
        "    # Use threshold value to consider a datapoint inlier or outlier\n",
        "    # threshold = stats.scoreatpercentile(scores_pred,100 * outliers_fraction)\n",
        "    threshold = np.percentile(scores_pred, 100 * outliers_fraction)   \n",
        "    # decision function calculates the raw anomaly score for every point\n",
        "    Z = model.decision_function(np.c_[xx.ravel(), yy.ravel()]) * -1\n",
        "    Z = Z.reshape(xx.shape)\n",
        "    # fill blue map colormap from minimum anomaly score to threshold value\n",
        "    ax_obj.contourf(xx, yy, Z, levels=np.linspace(Z.min(), threshold, 7),cmap=plt.cm.Blues_r)\n",
        "    # draw red contour line where anomaly score is equal to thresold\n",
        "    a = ax_obj.contour(xx, yy, Z, levels=[threshold],linewidths=2, colors='red')\n",
        "    # fill orange contour lines where range of anomaly score is from threshold to maximum anomaly score\n",
        "    ax_obj.contourf(xx, yy, Z, levels=[threshold, Z.max()],colors='orange')\n",
        "    b = ax_obj.scatter(inliers_discount, inliers_profit, c='white',s=20, edgecolor='k')\n",
        "    c = ax_obj.scatter(outliers_discount, outliers_profit, c='black',s=20, edgecolor='k')\n",
        "\n",
        "\n",
        "    ax_obj.legend([a.collections[0], b,c], ['learned decision function', 'inliers','outliers'],\n",
        "               prop=matplotlib.font_manager.FontProperties(size=10),loc='upper right')\n",
        "\n",
        "    ax_obj.set_xlim((0, 1))\n",
        "    ax_obj.set_ylim((0, 1))\n",
        "    ax_obj.set_xlabel('Discount')\n",
        "    ax_obj.set_ylabel('Sales')\n",
        "    ax_obj.set_title(subplot_title)"
      ],
      "execution_count": 45,
      "outputs": []
    },
    {
      "cell_type": "code",
      "metadata": {
        "colab": {
          "base_uri": "https://localhost:8080/",
          "height": 403
        },
        "id": "K1UPstAvmQ6j",
        "outputId": "6a7de5bb-784e-4264-fcaa-0c0da0a9e133"
      },
      "source": [
        "outliers_fraction = 0.01\n",
        "xx , yy = np.meshgrid(np.linspace(0, 1, 100), np.linspace(0, 1, 100))\n",
        "fig, ax = plt.subplots(1, 3, figsize=(20, 6))\n",
        "\n",
        "ax_objs = [ax[0], ax[1], ax[2]]\n",
        "models = [cblof_model, if_model, ae_model]\n",
        "plot_titles = ['Cluster-based Local Outlier Factor (CBLOF)',\n",
        "               'Isolation Forest',\n",
        "               'Auto-Encoder']\n",
        "\n",
        "for ax_obj, model, plot_title in zip(ax_objs, models, plot_titles):\n",
        "    visualize_anomalies(model=model,\n",
        "                        xx=xx, yy=yy,\n",
        "                        data_df=subset_df,\n",
        "                        ax_obj=ax_obj,\n",
        "                        subplot_title=plot_title)\n",
        "plt.axis('tight');\n"
      ],
      "execution_count": 46,
      "outputs": [
        {
          "output_type": "display_data",
          "data": {
            "image/png": "[encoded data removed]",
            "text/plain": [
              "<Figure size 1440x432 with 3 Axes>"
            ]
          },
          "metadata": {
            "tags": [],
            "needs_background": "light"
          }
        }
      ]
    }
  ]
}