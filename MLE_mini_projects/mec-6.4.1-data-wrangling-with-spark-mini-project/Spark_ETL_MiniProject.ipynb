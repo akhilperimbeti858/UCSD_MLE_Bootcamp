{
  "nbformat": 4,
  "nbformat_minor": 0,
  "metadata": {
    "colab": {
      "name": "Spark_ETL_MiniProject.ipynb",
      "provenance": [],
      "collapsed_sections": [
        "8k4-PjEFXvBv",
        "lLXpioWzZlug"
      ],
      "toc_visible": true
    },
    "kernelspec": {
      "display_name": "Python 3",
      "language": "python",
      "name": "python3"
    },
    "language_info": {
      "codemirror_mode": {
        "name": "ipython",
        "version": 3
      },
      "file_extension": ".py",
      "mimetype": "text/x-python",
      "name": "python",
      "nbconvert_exporter": "python",
      "pygments_lexer": "ipython3",
      "version": "3.7.6"
    },
    "name": "Mini_Project_Data_Wrangling_at_Scale_with_Spark_Solutions_checkpoint",
    "notebookId": 3935650049725854
  },
  "cells": [
    {
      "cell_type": "markdown",
      "metadata": {
        "id": "q0ap-hmpXu-s"
      },
      "source": [
        "# Analyzing Web Server Logs with Apache Spark\n",
        "\n",
        "Apache Spark is an excellent and ideal framework for wrangling, analyzing and modeling on structured and unstructured data - at scale! In this mini-project, we will be focusing on one of the most popular use-cases in the industry - log analytics.\n",
        "\n",
        "Typically, server logs are a very common data source in enterprises and often contain a gold mine of actionable insights and information. Log data comes from many sources in an enterprise, such as the web, client and compute servers, applications, user-generated content, flat files. They can be used for monitoring servers, improving business and customer intelligence, building recommendation systems, fraud detection, and much more.\n",
        "\n",
        "Spark allows you to dump and store your logs in files on disk cheaply, while still providing rich APIs to perform data analysis at scale. This mini-project will show you how to use Apache Spark on real-world production logs from NASA.\n",
        "You will complete the extract, transform, and load (ETL) process in this Apache Spark enviroment. During this process, you will learn why the ETL process is so crucial to the quality of the machine learning work we will be doing later on.\n",
        "\n",
        "\n",
        "There is a total of 15 questions for you to solve along with some interactive examples which will help you learn aspects of leveraging spark for analyzing over 3 million logs at scale.\n",
        "\n",
        "Remember to focus on the __`# TODO: Replace <FILL IN> with appropriate code`__ sections to fill them up with necessary code to solve the desired questions in the notebook"
      ]
    },
    {
      "cell_type": "markdown",
      "metadata": {
        "id": "6IkR5OAXYBVV"
      },
      "source": [
        "# Data extraction:"
      ]
    },
    {
      "cell_type": "code",
      "metadata": {
        "colab": {
          "base_uri": "https://localhost:8080/"
        },
        "id": "T7euV_Kctxgp",
        "outputId": "d2898547-f20b-4db3-db6c-ea14022ccfed"
      },
      "source": [
        "!pip install pyspark\n",
        "!pip install spark"
      ],
      "execution_count": 1,
      "outputs": [
        {
          "output_type": "stream",
          "text": [
            "Requirement already satisfied: pyspark in /usr/local/lib/python3.7/dist-packages (3.1.1)\n",
            "Requirement already satisfied: py4j==0.10.9 in /usr/local/lib/python3.7/dist-packages (from pyspark) (0.10.9)\n",
            "Requirement already satisfied: spark in /usr/local/lib/python3.7/dist-packages (0.2.1)\n"
          ],
          "name": "stdout"
        }
      ]
    },
    {
      "cell_type": "markdown",
      "metadata": {
        "id": "W4XXOPlzXu-7"
      },
      "source": [
        "# Step 1 - Loading up Dependencies"
      ]
    },
    {
      "cell_type": "code",
      "metadata": {
        "colab": {
          "base_uri": "https://localhost:8080/",
          "height": 216
        },
        "id": "zYGRL15uXu--",
        "outputId": "64632a3e-d711-4b07-8243-905ceff14359"
      },
      "source": [
        "spark"
      ],
      "execution_count": 3,
      "outputs": [
        {
          "output_type": "execute_result",
          "data": {
            "text/html": [
              "\n",
              "            <div>\n",
              "                <p><b>SparkSession - in-memory</b></p>\n",
              "                \n",
              "        <div>\n",
              "            <p><b>SparkContext</b></p>\n",
              "\n",
              "            <p><a href=\"http://078f2fa505bd:4040\">Spark UI</a></p>\n",
              "\n",
              "            <dl>\n",
              "              <dt>Version</dt>\n",
              "                <dd><code>v3.1.1</code></dd>\n",
              "              <dt>Master</dt>\n",
              "                <dd><code>local[*]</code></dd>\n",
              "              <dt>AppName</dt>\n",
              "                <dd><code>pyspark-shell</code></dd>\n",
              "            </dl>\n",
              "        </div>\n",
              "        \n",
              "            </div>\n",
              "        "
            ],
            "text/plain": [
              "<pyspark.sql.session.SparkSession at 0x7f13495b3810>"
            ]
          },
          "metadata": {
            "tags": []
          },
          "execution_count": 3
        }
      ]
    },
    {
      "cell_type": "code",
      "metadata": {
        "colab": {
          "base_uri": "https://localhost:8080/"
        },
        "id": "TQ9VOjOGXu_N",
        "outputId": "f6da081f-6f08-4491-9155-73d3e340526a"
      },
      "source": [
        "sqlContext"
      ],
      "execution_count": 4,
      "outputs": [
        {
          "output_type": "execute_result",
          "data": {
            "text/plain": [
              "<pyspark.sql.context.SQLContext at 0x7f13495b31d0>"
            ]
          },
          "metadata": {
            "tags": []
          },
          "execution_count": 4
        }
      ]
    },
    {
      "cell_type": "code",
      "metadata": {
        "id": "IM6ajIMVXu_V"
      },
      "source": [
        "if 'sc' not in locals():\n",
        "    from pyspark.context import SparkContext\n",
        "    from pyspark.sql.context import SQLContext\n",
        "    from pyspark.sql.session import SparkSession\n",
        "    \n",
        "    sc = SparkContext()\n",
        "    sqlContext = SQLContext(sc)\n",
        "    spark = SparkSession(sc)"
      ],
      "execution_count": 2,
      "outputs": []
    },
    {
      "cell_type": "code",
      "metadata": {
        "id": "r3E2N5WCXu_b"
      },
      "source": [
        "import re\n",
        "import pandas as pd"
      ],
      "execution_count": 5,
      "outputs": []
    },
    {
      "cell_type": "code",
      "metadata": {
        "colab": {
          "base_uri": "https://localhost:8080/"
        },
        "id": "UupCPIruXu_i",
        "outputId": "00359ec7-e9f3-44aa-de97-4e54a819ee86"
      },
      "source": [
        "m = re.finditer(r'.*?(spark).*?', \"I'm searching for a spark in PySpark\", re.I)\n",
        "for match in m:\n",
        "    print(match)"
      ],
      "execution_count": 6,
      "outputs": [
        {
          "output_type": "stream",
          "text": [
            "<re.Match object; span=(0, 25), match=\"I'm searching for a spark\">\n",
            "<re.Match object; span=(25, 36), match=' in PySpark'>\n"
          ],
          "name": "stdout"
        }
      ]
    },
    {
      "cell_type": "markdown",
      "metadata": {
        "id": "Pln9za4iXu_n"
      },
      "source": [
        "For this mini-project, we will analyze datasets from NASA Kennedy Space Center web server in Florida. The full data set is freely available for download [__here__](http://ita.ee.lbl.gov/html/contrib/NASA-HTTP.html).\n",
        "\n",
        "These two traces contain two month's worth of all HTTP requests to the NASA Kennedy Space Center WWW server in Florida. You can head over to the [__website__](http://ita.ee.lbl.gov/html/contrib/NASA-HTTP.html) and download the following files if needed OR just upload the files we have already provided for you into Domino's Cloud Platform (unless you plan to use Spark locally).\n",
        "\n",
        "- Jul 01 to Jul 31, ASCII format, 20.7 MB gzip compressed, 205.2 MB uncompressed: [ftp://ita.ee.lbl.gov/traces/NASA_access_log_Jul95.gz](ftp://ita.ee.lbl.gov/traces/NASA_access_log_Jul95.gz)\n",
        "- Aug 04 to Aug 31, ASCII format, 21.8 MB gzip compressed, 167.8 MB uncompressed: [ftp://ita.ee.lbl.gov/traces/NASA_access_log_Aug95.gz](ftp://ita.ee.lbl.gov/traces/NASA_access_log_Aug95.gz)\n",
        "\n",
        "Make sure both the data files have been uploaded to Databricks under **\"Data\" > \"DBFS\" > \"Tables\"** as a **.txt** file\n",
        "\n",
        "\n",
        "![DBFS](https://drive.google.com/uc?id=1eE9_CgnUW7psBs_Nlk9qrdD2dXh1sU9A)\n",
        "\n"
      ]
    },
    {
      "cell_type": "markdown",
      "metadata": {
        "id": "KESqVXmAXu_p"
      },
      "source": [
        "# Step 2 - Loading and Viewing the Log Dataset\n",
        "\n",
        "Given that our data is stored in the following mentioned path, let's load it into a DataFrame. We'll do this in steps. First, we'll use `sqlContext.read.text()` or `spark.read.text()` to read the text file. This will produce a DataFrame with a single string column called `value`."
      ]
    },
    {
      "cell_type": "markdown",
      "metadata": {
        "id": "pis2_lWcXu_u"
      },
      "source": [
        "### Taking a look at the metadata of our dataframe"
      ]
    },
    {
      "cell_type": "code",
      "metadata": {
        "colab": {
          "base_uri": "https://localhost:8080/"
        },
        "id": "f4-znXsmXu_w",
        "outputId": "e1b5bba1-8a99-4f1d-a4e3-35e0283c835e"
      },
      "source": [
        "# make sure you have upload NASA_access_log_Aug95.txt and NASA_access_log_Jul95.txt onto Spark before you run the following code\n",
        "base_df = spark.read.text('/content/*')\n",
        "base_df.printSchema()"
      ],
      "execution_count": 8,
      "outputs": [
        {
          "output_type": "stream",
          "text": [
            "root\n",
            " |-- value: string (nullable = true)\n",
            "\n"
          ],
          "name": "stdout"
        }
      ]
    },
    {
      "cell_type": "code",
      "metadata": {
        "colab": {
          "base_uri": "https://localhost:8080/"
        },
        "id": "IBHQ8QQkXu_0",
        "outputId": "e87b01f1-7782-4551-c72c-7bf928e63c0c"
      },
      "source": [
        "type(base_df)"
      ],
      "execution_count": 9,
      "outputs": [
        {
          "output_type": "execute_result",
          "data": {
            "text/plain": [
              "pyspark.sql.dataframe.DataFrame"
            ]
          },
          "metadata": {
            "tags": []
          },
          "execution_count": 9
        }
      ]
    },
    {
      "cell_type": "markdown",
      "metadata": {
        "id": "gOKkUBQvXu_5"
      },
      "source": [
        "You can also convert a dataframe to an RDD if needed"
      ]
    },
    {
      "cell_type": "code",
      "metadata": {
        "colab": {
          "base_uri": "https://localhost:8080/"
        },
        "id": "hMByB80sXu_6",
        "outputId": "fe3b8561-d010-43a4-99a1-2f4323bc1fd0"
      },
      "source": [
        "base_df_rdd = base_df.rdd\n",
        "type(base_df_rdd)"
      ],
      "execution_count": 10,
      "outputs": [
        {
          "output_type": "execute_result",
          "data": {
            "text/plain": [
              "pyspark.rdd.RDD"
            ]
          },
          "metadata": {
            "tags": []
          },
          "execution_count": 10
        }
      ]
    },
    {
      "cell_type": "markdown",
      "metadata": {
        "id": "oi1QtXBhXvAB"
      },
      "source": [
        "### Viewing sample data in our dataframe\n",
        "Looks like it needs to be wrangled and parsed!"
      ]
    },
    {
      "cell_type": "code",
      "metadata": {
        "colab": {
          "base_uri": "https://localhost:8080/"
        },
        "id": "iertYldRXvAD",
        "outputId": "92d6dc6f-ca0e-4154-d58b-8a47225f8200"
      },
      "source": [
        "base_df.show(10, truncate=False)"
      ],
      "execution_count": 11,
      "outputs": [
        {
          "output_type": "stream",
          "text": [
            "+--------------------------------------------------------------------------------------------------------------------------+\n",
            "|value                                                                                                                     |\n",
            "+--------------------------------------------------------------------------------------------------------------------------+\n",
            "|in24.inetnebr.com - - [01/Aug/1995:00:00:01 -0400] \"GET /shuttle/missions/sts-68/news/sts-68-mcc-05.txt HTTP/1.0\" 200 1839|\n",
            "|uplherc.upl.com - - [01/Aug/1995:00:00:07 -0400] \"GET / HTTP/1.0\" 304 0                                                   |\n",
            "|uplherc.upl.com - - [01/Aug/1995:00:00:08 -0400] \"GET /images/ksclogo-medium.gif HTTP/1.0\" 304 0                          |\n",
            "|uplherc.upl.com - - [01/Aug/1995:00:00:08 -0400] \"GET /images/MOSAIC-logosmall.gif HTTP/1.0\" 304 0                        |\n",
            "|uplherc.upl.com - - [01/Aug/1995:00:00:08 -0400] \"GET /images/USA-logosmall.gif HTTP/1.0\" 304 0                           |\n",
            "|ix-esc-ca2-07.ix.netcom.com - - [01/Aug/1995:00:00:09 -0400] \"GET /images/launch-logo.gif HTTP/1.0\" 200 1713              |\n",
            "|uplherc.upl.com - - [01/Aug/1995:00:00:10 -0400] \"GET /images/WORLD-logosmall.gif HTTP/1.0\" 304 0                         |\n",
            "|slppp6.intermind.net - - [01/Aug/1995:00:00:10 -0400] \"GET /history/skylab/skylab.html HTTP/1.0\" 200 1687                 |\n",
            "|piweba4y.prodigy.com - - [01/Aug/1995:00:00:10 -0400] \"GET /images/launchmedium.gif HTTP/1.0\" 200 11853                   |\n",
            "|slppp6.intermind.net - - [01/Aug/1995:00:00:11 -0400] \"GET /history/skylab/skylab-small.gif HTTP/1.0\" 200 9202            |\n",
            "+--------------------------------------------------------------------------------------------------------------------------+\n",
            "only showing top 10 rows\n",
            "\n"
          ],
          "name": "stdout"
        }
      ]
    },
    {
      "cell_type": "markdown",
      "metadata": {
        "id": "T9aeiekzXvAJ"
      },
      "source": [
        "Getting data from an RDD is slightly different. You can see how the data representation is different in the following RDD"
      ]
    },
    {
      "cell_type": "code",
      "metadata": {
        "colab": {
          "base_uri": "https://localhost:8080/"
        },
        "id": "PCdKKlCeXvAK",
        "outputId": "e31bb094-a4ec-4b92-8d9f-359c166ed861"
      },
      "source": [
        "base_df_rdd.take(10)"
      ],
      "execution_count": 12,
      "outputs": [
        {
          "output_type": "execute_result",
          "data": {
            "text/plain": [
              "[Row(value='in24.inetnebr.com - - [01/Aug/1995:00:00:01 -0400] \"GET /shuttle/missions/sts-68/news/sts-68-mcc-05.txt HTTP/1.0\" 200 1839'),\n",
              " Row(value='uplherc.upl.com - - [01/Aug/1995:00:00:07 -0400] \"GET / HTTP/1.0\" 304 0'),\n",
              " Row(value='uplherc.upl.com - - [01/Aug/1995:00:00:08 -0400] \"GET /images/ksclogo-medium.gif HTTP/1.0\" 304 0'),\n",
              " Row(value='uplherc.upl.com - - [01/Aug/1995:00:00:08 -0400] \"GET /images/MOSAIC-logosmall.gif HTTP/1.0\" 304 0'),\n",
              " Row(value='uplherc.upl.com - - [01/Aug/1995:00:00:08 -0400] \"GET /images/USA-logosmall.gif HTTP/1.0\" 304 0'),\n",
              " Row(value='ix-esc-ca2-07.ix.netcom.com - - [01/Aug/1995:00:00:09 -0400] \"GET /images/launch-logo.gif HTTP/1.0\" 200 1713'),\n",
              " Row(value='uplherc.upl.com - - [01/Aug/1995:00:00:10 -0400] \"GET /images/WORLD-logosmall.gif HTTP/1.0\" 304 0'),\n",
              " Row(value='slppp6.intermind.net - - [01/Aug/1995:00:00:10 -0400] \"GET /history/skylab/skylab.html HTTP/1.0\" 200 1687'),\n",
              " Row(value='piweba4y.prodigy.com - - [01/Aug/1995:00:00:10 -0400] \"GET /images/launchmedium.gif HTTP/1.0\" 200 11853'),\n",
              " Row(value='slppp6.intermind.net - - [01/Aug/1995:00:00:11 -0400] \"GET /history/skylab/skylab-small.gif HTTP/1.0\" 200 9202')]"
            ]
          },
          "metadata": {
            "tags": []
          },
          "execution_count": 12
        }
      ]
    },
    {
      "cell_type": "markdown",
      "metadata": {
        "id": "asaanbGIYfR8"
      },
      "source": [
        "# Data transformation"
      ]
    },
    {
      "cell_type": "markdown",
      "metadata": {
        "id": "yv5kCt3xXvAP"
      },
      "source": [
        "# Step 1 - Data Wrangling\n",
        "\n",
        "In this section, we will try and clean and parse our log dataset to really extract structured attributes with meaningful information from each log message.\n",
        "\n",
        "### Data understanding\n",
        "If you're familiar with web server logs, you'll recognize that the above displayed data is in [Common Log Format](https://www.w3.org/Daemon/User/Config/Logging.html#common-logfile-format). \n",
        "\n",
        "The fields are:\n",
        "__`remotehost rfc931 authuser [date] \"request\" status bytes`__\n",
        "\n",
        "\n",
        "| field         | meaning                                                                |\n",
        "| ------------- | ---------------------------------------------------------------------- |\n",
        "| _remotehost_  | Remote hostname (or IP number if DNS hostname is not available or if [DNSLookup](https://www.w3.org/Daemon/User/Config/General.html#DNSLookup) is off).       |\n",
        "| _rfc931_      | The remote logname of the user if at all it is present. |\n",
        "| _authuser_    | The username of the remote user after authentication by the HTTP server.  |\n",
        "| _[date]_      | Date and time of the request.                                      |\n",
        "| _\"request\"_   | The request, exactly as it came from the browser or client.            |\n",
        "| _status_      | The [HTTP status code](https://en.wikipedia.org/wiki/List_of_HTTP_status_codes) the server sent back to the client.               |\n",
        "| _bytes_       | The number of bytes (`Content-Length`) transferred to the client.      |\n",
        "\n",
        "We will need to use some specific techniques to parse, match and extract these attributes from the log data"
      ]
    },
    {
      "cell_type": "markdown",
      "metadata": {
        "id": "9aCEcwBLXvAQ"
      },
      "source": [
        "## Data Parsing and Extraction with Regular Expressions\n",
        "\n",
        "Next, we have to parse it into individual columns. We'll use the special built-in [regexp\\_extract()](http://spark.apache.org/docs/latest/api/python/pyspark.sql.html#pyspark.sql.functions.regexp_extract)\n",
        "function to do the parsing. This function matches a column against a regular expression with one or more [capture groups](http://regexone.com/lesson/capturing_groups) and allows you to extract one of the matched groups. We'll use one regular expression for each field we wish to extract.\n",
        "\n",
        "You must have heard or used a fair bit of regular expressions by now. If you find regular expressions confusing (and they certainly _can_ be), and you want to learn more about them, we recommend checking out the\n",
        "[RegexOne web site](http://regexone.com/). You might also find [_Regular Expressions Cookbook_](http://shop.oreilly.com/product/0636920023630.do), by Goyvaerts and Levithan, to be useful as a reference."
      ]
    },
    {
      "cell_type": "markdown",
      "metadata": {
        "id": "a3TFNjb1XvAS"
      },
      "source": [
        "#### Let's take a look at our dataset dimensions"
      ]
    },
    {
      "cell_type": "code",
      "metadata": {
        "colab": {
          "base_uri": "https://localhost:8080/"
        },
        "id": "ncbKGPMJXvAT",
        "outputId": "113edddb-6081-42be-f5c5-10ff3ae21a04"
      },
      "source": [
        "print((base_df.count(), len(base_df.columns)))"
      ],
      "execution_count": 13,
      "outputs": [
        {
          "output_type": "stream",
          "text": [
            "(3461615, 1)\n"
          ],
          "name": "stdout"
        }
      ]
    },
    {
      "cell_type": "markdown",
      "metadata": {
        "id": "dtZOfHsVXvAZ"
      },
      "source": [
        "Let's extract and take a look at some sample log messages"
      ]
    },
    {
      "cell_type": "code",
      "metadata": {
        "colab": {
          "base_uri": "https://localhost:8080/"
        },
        "id": "-3sfUy4NXvAa",
        "outputId": "f0df7b69-6877-4417-e808-09fb420e4c1f"
      },
      "source": [
        "sample_logs = [item['value'] for item in base_df.take(15)]\n",
        "sample_logs"
      ],
      "execution_count": 14,
      "outputs": [
        {
          "output_type": "execute_result",
          "data": {
            "text/plain": [
              "['in24.inetnebr.com - - [01/Aug/1995:00:00:01 -0400] \"GET /shuttle/missions/sts-68/news/sts-68-mcc-05.txt HTTP/1.0\" 200 1839',\n",
              " 'uplherc.upl.com - - [01/Aug/1995:00:00:07 -0400] \"GET / HTTP/1.0\" 304 0',\n",
              " 'uplherc.upl.com - - [01/Aug/1995:00:00:08 -0400] \"GET /images/ksclogo-medium.gif HTTP/1.0\" 304 0',\n",
              " 'uplherc.upl.com - - [01/Aug/1995:00:00:08 -0400] \"GET /images/MOSAIC-logosmall.gif HTTP/1.0\" 304 0',\n",
              " 'uplherc.upl.com - - [01/Aug/1995:00:00:08 -0400] \"GET /images/USA-logosmall.gif HTTP/1.0\" 304 0',\n",
              " 'ix-esc-ca2-07.ix.netcom.com - - [01/Aug/1995:00:00:09 -0400] \"GET /images/launch-logo.gif HTTP/1.0\" 200 1713',\n",
              " 'uplherc.upl.com - - [01/Aug/1995:00:00:10 -0400] \"GET /images/WORLD-logosmall.gif HTTP/1.0\" 304 0',\n",
              " 'slppp6.intermind.net - - [01/Aug/1995:00:00:10 -0400] \"GET /history/skylab/skylab.html HTTP/1.0\" 200 1687',\n",
              " 'piweba4y.prodigy.com - - [01/Aug/1995:00:00:10 -0400] \"GET /images/launchmedium.gif HTTP/1.0\" 200 11853',\n",
              " 'slppp6.intermind.net - - [01/Aug/1995:00:00:11 -0400] \"GET /history/skylab/skylab-small.gif HTTP/1.0\" 200 9202',\n",
              " 'slppp6.intermind.net - - [01/Aug/1995:00:00:12 -0400] \"GET /images/ksclogosmall.gif HTTP/1.0\" 200 3635',\n",
              " 'ix-esc-ca2-07.ix.netcom.com - - [01/Aug/1995:00:00:12 -0400] \"GET /history/apollo/images/apollo-logo1.gif HTTP/1.0\" 200 1173',\n",
              " 'slppp6.intermind.net - - [01/Aug/1995:00:00:13 -0400] \"GET /history/apollo/images/apollo-logo.gif HTTP/1.0\" 200 3047',\n",
              " 'uplherc.upl.com - - [01/Aug/1995:00:00:14 -0400] \"GET /images/NASA-logosmall.gif HTTP/1.0\" 304 0',\n",
              " '133.43.96.45 - - [01/Aug/1995:00:00:16 -0400] \"GET /shuttle/missions/sts-69/mission-sts-69.html HTTP/1.0\" 200 10566']"
            ]
          },
          "metadata": {
            "tags": []
          },
          "execution_count": 14
        }
      ]
    },
    {
      "cell_type": "markdown",
      "metadata": {
        "id": "0aPYBjkwXvAf"
      },
      "source": [
        "### Extracting host names\n",
        "\n",
        "Let's try and write some regular expressions to extract the host name from the logs"
      ]
    },
    {
      "cell_type": "code",
      "metadata": {
        "colab": {
          "base_uri": "https://localhost:8080/"
        },
        "id": "WarNo8bGXvAh",
        "outputId": "3a72f147-136e-4846-b70d-677c0f76ba6e"
      },
      "source": [
        "host_pattern = r'(^\\S+\\.[\\S+\\.]+\\S+)\\s'\n",
        "hosts = [re.search(host_pattern, item).group(1)\n",
        "           if re.search(host_pattern, item)\n",
        "           else 'no match'\n",
        "           for item in sample_logs]\n",
        "hosts"
      ],
      "execution_count": 15,
      "outputs": [
        {
          "output_type": "execute_result",
          "data": {
            "text/plain": [
              "['in24.inetnebr.com',\n",
              " 'uplherc.upl.com',\n",
              " 'uplherc.upl.com',\n",
              " 'uplherc.upl.com',\n",
              " 'uplherc.upl.com',\n",
              " 'ix-esc-ca2-07.ix.netcom.com',\n",
              " 'uplherc.upl.com',\n",
              " 'slppp6.intermind.net',\n",
              " 'piweba4y.prodigy.com',\n",
              " 'slppp6.intermind.net',\n",
              " 'slppp6.intermind.net',\n",
              " 'ix-esc-ca2-07.ix.netcom.com',\n",
              " 'slppp6.intermind.net',\n",
              " 'uplherc.upl.com',\n",
              " '133.43.96.45']"
            ]
          },
          "metadata": {
            "tags": []
          },
          "execution_count": 15
        }
      ]
    },
    {
      "cell_type": "markdown",
      "metadata": {
        "id": "TcZrGpgwXvAk"
      },
      "source": [
        "### Extracting timestamps \n",
        "\n",
        "Let's now try and use regular expressions to extract the timestamp fields from the logs"
      ]
    },
    {
      "cell_type": "code",
      "metadata": {
        "colab": {
          "base_uri": "https://localhost:8080/"
        },
        "id": "GOot8niKXvAl",
        "outputId": "3fd761b4-0908-4825-93ec-eafbd4d63ca3"
      },
      "source": [
        "ts_pattern = r'\\[(\\d{2}/\\w{3}/\\d{4}:\\d{2}:\\d{2}:\\d{2} -\\d{4})]'\n",
        "timestamps = [re.search(ts_pattern, item).group(1) for item in sample_logs]\n",
        "timestamps"
      ],
      "execution_count": 16,
      "outputs": [
        {
          "output_type": "execute_result",
          "data": {
            "text/plain": [
              "['01/Aug/1995:00:00:01 -0400',\n",
              " '01/Aug/1995:00:00:07 -0400',\n",
              " '01/Aug/1995:00:00:08 -0400',\n",
              " '01/Aug/1995:00:00:08 -0400',\n",
              " '01/Aug/1995:00:00:08 -0400',\n",
              " '01/Aug/1995:00:00:09 -0400',\n",
              " '01/Aug/1995:00:00:10 -0400',\n",
              " '01/Aug/1995:00:00:10 -0400',\n",
              " '01/Aug/1995:00:00:10 -0400',\n",
              " '01/Aug/1995:00:00:11 -0400',\n",
              " '01/Aug/1995:00:00:12 -0400',\n",
              " '01/Aug/1995:00:00:12 -0400',\n",
              " '01/Aug/1995:00:00:13 -0400',\n",
              " '01/Aug/1995:00:00:14 -0400',\n",
              " '01/Aug/1995:00:00:16 -0400']"
            ]
          },
          "metadata": {
            "tags": []
          },
          "execution_count": 16
        }
      ]
    },
    {
      "cell_type": "markdown",
      "metadata": {
        "id": "CKJ5F8tCXvAo"
      },
      "source": [
        "### Extracting HTTP Request Method, URIs and Protocol \n",
        "\n",
        "Let's now try and use regular expressions to extract the HTTP request methods, URIs and Protocol patterns fields from the logs"
      ]
    },
    {
      "cell_type": "code",
      "metadata": {
        "colab": {
          "base_uri": "https://localhost:8080/"
        },
        "id": "TZvnPVXeXvAp",
        "outputId": "fa33a2e4-a882-4952-932d-c4fe98f8e5a8"
      },
      "source": [
        "method_uri_protocol_pattern = r'\\\"(\\S+)\\s(\\S+)\\s*(\\S*)\\\"'\n",
        "method_uri_protocol = [re.search(method_uri_protocol_pattern, item).groups()\n",
        "               if re.search(method_uri_protocol_pattern, item)\n",
        "               else 'no match'\n",
        "              for item in sample_logs]\n",
        "method_uri_protocol"
      ],
      "execution_count": 17,
      "outputs": [
        {
          "output_type": "execute_result",
          "data": {
            "text/plain": [
              "[('GET', '/shuttle/missions/sts-68/news/sts-68-mcc-05.txt', 'HTTP/1.0'),\n",
              " ('GET', '/', 'HTTP/1.0'),\n",
              " ('GET', '/images/ksclogo-medium.gif', 'HTTP/1.0'),\n",
              " ('GET', '/images/MOSAIC-logosmall.gif', 'HTTP/1.0'),\n",
              " ('GET', '/images/USA-logosmall.gif', 'HTTP/1.0'),\n",
              " ('GET', '/images/launch-logo.gif', 'HTTP/1.0'),\n",
              " ('GET', '/images/WORLD-logosmall.gif', 'HTTP/1.0'),\n",
              " ('GET', '/history/skylab/skylab.html', 'HTTP/1.0'),\n",
              " ('GET', '/images/launchmedium.gif', 'HTTP/1.0'),\n",
              " ('GET', '/history/skylab/skylab-small.gif', 'HTTP/1.0'),\n",
              " ('GET', '/images/ksclogosmall.gif', 'HTTP/1.0'),\n",
              " ('GET', '/history/apollo/images/apollo-logo1.gif', 'HTTP/1.0'),\n",
              " ('GET', '/history/apollo/images/apollo-logo.gif', 'HTTP/1.0'),\n",
              " ('GET', '/images/NASA-logosmall.gif', 'HTTP/1.0'),\n",
              " ('GET', '/shuttle/missions/sts-69/mission-sts-69.html', 'HTTP/1.0')]"
            ]
          },
          "metadata": {
            "tags": []
          },
          "execution_count": 17
        }
      ]
    },
    {
      "cell_type": "markdown",
      "metadata": {
        "id": "oaBizluJXvAu"
      },
      "source": [
        "### Building an intermediate parsed dataframe\n",
        "\n",
        "Let's try and use our regular expressions we have implemented so far into parsing and extracting the relevant entities in separate columns in a new dataframe"
      ]
    },
    {
      "cell_type": "code",
      "metadata": {
        "colab": {
          "base_uri": "https://localhost:8080/"
        },
        "id": "MLI8LUVPXvAv",
        "outputId": "55c9ae82-d9ea-4925-fc70-72871ed3ef7d"
      },
      "source": [
        "from pyspark.sql.functions import regexp_extract\n",
        "\n",
        "logs_df = base_df.select(regexp_extract('value', host_pattern, 1).alias('host'),\n",
        "                         regexp_extract('value', ts_pattern, 1).alias('timestamp'),\n",
        "                         regexp_extract('value', method_uri_protocol_pattern, 1).alias('method'),\n",
        "                         regexp_extract('value', method_uri_protocol_pattern, 2).alias('endpoint'),\n",
        "                         regexp_extract('value', method_uri_protocol_pattern, 3).alias('protocol'))\n",
        "logs_df.show(10, truncate=False)\n",
        "print((logs_df.count(), len(logs_df.columns)))"
      ],
      "execution_count": 18,
      "outputs": [
        {
          "output_type": "stream",
          "text": [
            "+---------------------------+--------------------------+------+-----------------------------------------------+--------+\n",
            "|host                       |timestamp                 |method|endpoint                                       |protocol|\n",
            "+---------------------------+--------------------------+------+-----------------------------------------------+--------+\n",
            "|in24.inetnebr.com          |01/Aug/1995:00:00:01 -0400|GET   |/shuttle/missions/sts-68/news/sts-68-mcc-05.txt|HTTP/1.0|\n",
            "|uplherc.upl.com            |01/Aug/1995:00:00:07 -0400|GET   |/                                              |HTTP/1.0|\n",
            "|uplherc.upl.com            |01/Aug/1995:00:00:08 -0400|GET   |/images/ksclogo-medium.gif                     |HTTP/1.0|\n",
            "|uplherc.upl.com            |01/Aug/1995:00:00:08 -0400|GET   |/images/MOSAIC-logosmall.gif                   |HTTP/1.0|\n",
            "|uplherc.upl.com            |01/Aug/1995:00:00:08 -0400|GET   |/images/USA-logosmall.gif                      |HTTP/1.0|\n",
            "|ix-esc-ca2-07.ix.netcom.com|01/Aug/1995:00:00:09 -0400|GET   |/images/launch-logo.gif                        |HTTP/1.0|\n",
            "|uplherc.upl.com            |01/Aug/1995:00:00:10 -0400|GET   |/images/WORLD-logosmall.gif                    |HTTP/1.0|\n",
            "|slppp6.intermind.net       |01/Aug/1995:00:00:10 -0400|GET   |/history/skylab/skylab.html                    |HTTP/1.0|\n",
            "|piweba4y.prodigy.com       |01/Aug/1995:00:00:10 -0400|GET   |/images/launchmedium.gif                       |HTTP/1.0|\n",
            "|slppp6.intermind.net       |01/Aug/1995:00:00:11 -0400|GET   |/history/skylab/skylab-small.gif               |HTTP/1.0|\n",
            "+---------------------------+--------------------------+------+-----------------------------------------------+--------+\n",
            "only showing top 10 rows\n",
            "\n",
            "(3461615, 5)\n"
          ],
          "name": "stdout"
        }
      ]
    },
    {
      "cell_type": "markdown",
      "metadata": {
        "id": "-c-LK4TNXvAy"
      },
      "source": [
        "### Extracting HTTP Status Codes\n",
        "\n",
        "Let's now try and use regular expressions to extract the HTTP status codes from the logs"
      ]
    },
    {
      "cell_type": "code",
      "metadata": {
        "colab": {
          "base_uri": "https://localhost:8080/"
        },
        "id": "kvWWXeTcXvA1",
        "outputId": "675f3c76-197e-4403-8c2f-5688e3e76e56"
      },
      "source": [
        "status_pattern = r'\\s(\\d{3})\\s'\n",
        "status = [re.search(status_pattern, item).group(1) for item in sample_logs]\n",
        "print(status)"
      ],
      "execution_count": 19,
      "outputs": [
        {
          "output_type": "stream",
          "text": [
            "['200', '304', '304', '304', '304', '200', '304', '200', '200', '200', '200', '200', '200', '304', '200']\n"
          ],
          "name": "stdout"
        }
      ]
    },
    {
      "cell_type": "markdown",
      "metadata": {
        "id": "jFemwBnSXvA4"
      },
      "source": [
        "### Extracting HTTP Response Content Size\n",
        "\n",
        "Let's now try and use regular expressions to extract the HTTP response content size from the logs"
      ]
    },
    {
      "cell_type": "code",
      "metadata": {
        "colab": {
          "base_uri": "https://localhost:8080/"
        },
        "id": "l0kmQOqjXvA5",
        "outputId": "62452d9a-3455-4da8-a132-241f270706c3"
      },
      "source": [
        "content_size_pattern = r'\\s(\\d+)$'\n",
        "content_size = [re.search(content_size_pattern, item).group(1) for item in sample_logs]\n",
        "print(content_size)"
      ],
      "execution_count": 20,
      "outputs": [
        {
          "output_type": "stream",
          "text": [
            "['1839', '0', '0', '0', '0', '1713', '0', '1687', '11853', '9202', '3635', '1173', '3047', '0', '10566']\n"
          ],
          "name": "stdout"
        }
      ]
    },
    {
      "cell_type": "markdown",
      "metadata": {
        "id": "DHPbsgMsXvA8"
      },
      "source": [
        "## Q1: Your Turn: Putting it all together \n",
        "\n",
        "Let's now try and leverage all the regular expression patterns we previously built and use the `regexp_extract(...)` method to build our dataframe with all the log attributes neatly extracted in their own separate columns.\n",
        "\n",
        "- You can reuse the code we used previously to build the intermediate dataframe\n",
        "- Remember to cast the HTTP status code and content size as integers. \n",
        "- You can cast data as integer type using the following: __`regexp_extract('value', ...., ...).cast('integer').alias(...)`__"
      ]
    },
    {
      "cell_type": "markdown",
      "metadata": {
        "id": "WVTmQjxz8x7U"
      },
      "source": [
        "## **Q1: Answer**"
      ]
    },
    {
      "cell_type": "code",
      "metadata": {
        "colab": {
          "base_uri": "https://localhost:8080/"
        },
        "id": "bM4iBWjRXvA-",
        "outputId": "9d0e4389-1509-49ee-afcc-34090efe0485"
      },
      "source": [
        "logs_df = base_df.select(regexp_extract('value', host_pattern, 1).alias('host'),\n",
        "                         regexp_extract('value', ts_pattern, 1).alias('timestamp'),\n",
        "                         regexp_extract('value', method_uri_protocol_pattern, 1).alias('method'),\n",
        "                         regexp_extract('value', method_uri_protocol_pattern, 2).alias('endpoint'),\n",
        "                         regexp_extract('value', method_uri_protocol_pattern, 3).alias('protocol'),\n",
        "                         regexp_extract('value', status_pattern, 1).cast('integer').alias('status'),\n",
        "                         regexp_extract('value', content_size_pattern, 1).cast('integer').alias('content_size'))\n",
        "logs_df.show(10, truncate=True)\n",
        "print((logs_df.count(), len(logs_df.columns)))"
      ],
      "execution_count": 21,
      "outputs": [
        {
          "output_type": "stream",
          "text": [
            "+--------------------+--------------------+------+--------------------+--------+------+------------+\n",
            "|                host|           timestamp|method|            endpoint|protocol|status|content_size|\n",
            "+--------------------+--------------------+------+--------------------+--------+------+------------+\n",
            "|   in24.inetnebr.com|01/Aug/1995:00:00...|   GET|/shuttle/missions...|HTTP/1.0|   200|        1839|\n",
            "|     uplherc.upl.com|01/Aug/1995:00:00...|   GET|                   /|HTTP/1.0|   304|           0|\n",
            "|     uplherc.upl.com|01/Aug/1995:00:00...|   GET|/images/ksclogo-m...|HTTP/1.0|   304|           0|\n",
            "|     uplherc.upl.com|01/Aug/1995:00:00...|   GET|/images/MOSAIC-lo...|HTTP/1.0|   304|           0|\n",
            "|     uplherc.upl.com|01/Aug/1995:00:00...|   GET|/images/USA-logos...|HTTP/1.0|   304|           0|\n",
            "|ix-esc-ca2-07.ix....|01/Aug/1995:00:00...|   GET|/images/launch-lo...|HTTP/1.0|   200|        1713|\n",
            "|     uplherc.upl.com|01/Aug/1995:00:00...|   GET|/images/WORLD-log...|HTTP/1.0|   304|           0|\n",
            "|slppp6.intermind.net|01/Aug/1995:00:00...|   GET|/history/skylab/s...|HTTP/1.0|   200|        1687|\n",
            "|piweba4y.prodigy.com|01/Aug/1995:00:00...|   GET|/images/launchmed...|HTTP/1.0|   200|       11853|\n",
            "|slppp6.intermind.net|01/Aug/1995:00:00...|   GET|/history/skylab/s...|HTTP/1.0|   200|        9202|\n",
            "+--------------------+--------------------+------+--------------------+--------+------+------------+\n",
            "only showing top 10 rows\n",
            "\n",
            "(3461615, 7)\n"
          ],
          "name": "stdout"
        }
      ]
    },
    {
      "cell_type": "markdown",
      "metadata": {
        "id": "EgLGxYRYXvBB"
      },
      "source": [
        "## Finding Missing Values\n",
        "\n",
        "Missing and null values are the bane of data analysis and machine learning. Let's see how well our data parsing and extraction logic worked. First, let's verify that there are no null rows in the original dataframe."
      ]
    },
    {
      "cell_type": "code",
      "metadata": {
        "colab": {
          "base_uri": "https://localhost:8080/"
        },
        "id": "O4ppVUoJXvBC",
        "outputId": "a6cf4421-3476-4ebc-b677-f101f320c4c4"
      },
      "source": [
        "base_df.filter(base_df['value'].isNull()).count()"
      ],
      "execution_count": 22,
      "outputs": [
        {
          "output_type": "execute_result",
          "data": {
            "text/plain": [
              "0"
            ]
          },
          "metadata": {
            "tags": []
          },
          "execution_count": 22
        }
      ]
    },
    {
      "cell_type": "markdown",
      "metadata": {
        "id": "7V0g6vHcXvBG"
      },
      "source": [
        "If our data parsing and extraction worked properly, we should not have any rows with potential null values. Let's try and put that to test!"
      ]
    },
    {
      "cell_type": "code",
      "metadata": {
        "colab": {
          "base_uri": "https://localhost:8080/"
        },
        "id": "4NFuk6QTXvBH",
        "outputId": "a0cdef8a-636d-4ca2-81da-1bf02f3a8a96"
      },
      "source": [
        "bad_rows_df = logs_df.filter(logs_df['host'].isNull()| \n",
        "                             logs_df['timestamp'].isNull() | \n",
        "                             logs_df['method'].isNull() |\n",
        "                             logs_df['endpoint'].isNull() |\n",
        "                             logs_df['status'].isNull() |\n",
        "                             logs_df['content_size'].isNull()|\n",
        "                             logs_df['protocol'].isNull())\n",
        "bad_rows_df.count()"
      ],
      "execution_count": 23,
      "outputs": [
        {
          "output_type": "execute_result",
          "data": {
            "text/plain": [
              "33907"
            ]
          },
          "metadata": {
            "tags": []
          },
          "execution_count": 23
        }
      ]
    },
    {
      "cell_type": "markdown",
      "metadata": {
        "id": "CIqr5XvhXvBM"
      },
      "source": [
        "Ouch! Looks like we have over 30K missing values in our data! Can we handle this?"
      ]
    },
    {
      "cell_type": "markdown",
      "metadata": {
        "id": "g8iWYrBoXvBN"
      },
      "source": [
        "Do remember, this is not a regular pandas dataframe which you can directly query and get which columns have null. Our so-called _big dataset_ is residing on disk which can potentially be present in multiple nodes in a spark cluster. So how do we find out which columns have potential nulls? \n",
        "\n",
        "### Finding Null Counts\n",
        "\n",
        "We can typically use the following technique to find out which columns have null values. \n",
        "\n",
        "(__Note:__ This approach is adapted from an [excellent answer](http://stackoverflow.com/a/33901312) on StackOverflow.)"
      ]
    },
    {
      "cell_type": "code",
      "metadata": {
        "colab": {
          "base_uri": "https://localhost:8080/"
        },
        "id": "h0TWdnaPXvBP",
        "outputId": "6fee1ec4-90fd-4017-c180-c2af53b77b64"
      },
      "source": [
        "logs_df.columns"
      ],
      "execution_count": 24,
      "outputs": [
        {
          "output_type": "execute_result",
          "data": {
            "text/plain": [
              "['host',\n",
              " 'timestamp',\n",
              " 'method',\n",
              " 'endpoint',\n",
              " 'protocol',\n",
              " 'status',\n",
              " 'content_size']"
            ]
          },
          "metadata": {
            "tags": []
          },
          "execution_count": 24
        }
      ]
    },
    {
      "cell_type": "code",
      "metadata": {
        "colab": {
          "base_uri": "https://localhost:8080/"
        },
        "id": "LtNLdagZXvBT",
        "outputId": "47ed8c52-9933-4e21-b5dc-ecdb2b7474af"
      },
      "source": [
        "from pyspark.sql.functions import col\n",
        "from pyspark.sql.functions import sum as spark_sum\n",
        "\n",
        "def count_null(col_name):\n",
        "    return spark_sum(col(col_name).isNull().cast('integer')).alias(col_name)\n",
        "\n",
        "# Build up a list of column expressions, one per column.\n",
        "exprs = [count_null(col_name) for col_name in logs_df.columns]\n",
        "\n",
        "# Run the aggregation. The *exprs converts the list of expressions into\n",
        "# variable function arguments.\n",
        "logs_df.agg(*exprs).show()"
      ],
      "execution_count": 25,
      "outputs": [
        {
          "output_type": "stream",
          "text": [
            "+----+---------+------+--------+--------+------+------------+\n",
            "|host|timestamp|method|endpoint|protocol|status|content_size|\n",
            "+----+---------+------+--------+--------+------+------------+\n",
            "|   0|        0|     0|       0|       0|     3|       33907|\n",
            "+----+---------+------+--------+--------+------+------------+\n",
            "\n"
          ],
          "name": "stdout"
        }
      ]
    },
    {
      "cell_type": "markdown",
      "metadata": {
        "id": "g5z_B22MXvBX"
      },
      "source": [
        "Well, looks like we have one missing value in the `status` column and everything else is in the `content_size` column. \n",
        "Let's see if we can figure out what's wrong!"
      ]
    },
    {
      "cell_type": "markdown",
      "metadata": {
        "id": "jGoLzGeEXvBZ"
      },
      "source": [
        "### Handling nulls in HTTP status\n",
        "\n",
        "If you had solved it correctly, our original parsing regular expression for the `status` column was:\n",
        "\n",
        "```\n",
        "regexp_extract('value', r'\\s(\\d{3})\\s', 1).cast('integer').alias('status')\n",
        "``` \n",
        "\n",
        "Could it be that there are more digits making our regular expression wrong? or is the data point itself bad? Let's try and find out!\n",
        "\n",
        "**Note**: In the expression below, `~` means \"not\"."
      ]
    },
    {
      "cell_type": "code",
      "metadata": {
        "colab": {
          "base_uri": "https://localhost:8080/"
        },
        "id": "tscbB01GXvBb",
        "outputId": "6f347dfa-5b1e-4fd6-b44a-0bcb7a3764f8"
      },
      "source": [
        "null_status_df = base_df.filter(~base_df['value'].rlike(r'\\s(\\d{3})\\s'))\n",
        "null_status_df.count()"
      ],
      "execution_count": 26,
      "outputs": [
        {
          "output_type": "execute_result",
          "data": {
            "text/plain": [
              "3"
            ]
          },
          "metadata": {
            "tags": []
          },
          "execution_count": 26
        }
      ]
    },
    {
      "cell_type": "code",
      "metadata": {
        "colab": {
          "base_uri": "https://localhost:8080/"
        },
        "id": "KMRiPoTXXvBe",
        "outputId": "eeb4407e-240e-4533-b48b-7c053b358073"
      },
      "source": [
        "null_status_df.show(truncate=False)"
      ],
      "execution_count": 27,
      "outputs": [
        {
          "output_type": "stream",
          "text": [
            "+--------+\n",
            "|value   |\n",
            "+--------+\n",
            "|alyssa.p|\n",
            "|default |\n",
            "|False   |\n",
            "+--------+\n",
            "\n"
          ],
          "name": "stdout"
        }
      ]
    },
    {
      "cell_type": "code",
      "metadata": {
        "colab": {
          "base_uri": "https://localhost:8080/"
        },
        "id": "-ec9HtGwXvBh",
        "outputId": "ae3dbc2c-5193-4e91-a6f0-b8e4f2d5d6e4"
      },
      "source": [
        "bad_status_df = null_status_df.select(regexp_extract('value', host_pattern, 1).alias('host'),\n",
        "                                      regexp_extract('value', ts_pattern, 1).alias('timestamp'),\n",
        "                                      regexp_extract('value', method_uri_protocol_pattern, 1).alias('method'),\n",
        "                                      regexp_extract('value', method_uri_protocol_pattern, 2).alias('endpoint'),\n",
        "                                      regexp_extract('value', method_uri_protocol_pattern, 3).alias('protocol'),\n",
        "                                      regexp_extract('value', status_pattern, 1).cast('integer').alias('status'),\n",
        "                                      regexp_extract('value', content_size_pattern, 1).cast('integer').alias('content_size'))\n",
        "bad_status_df.show(truncate=False)"
      ],
      "execution_count": 28,
      "outputs": [
        {
          "output_type": "stream",
          "text": [
            "+----+---------+------+--------+--------+------+------------+\n",
            "|host|timestamp|method|endpoint|protocol|status|content_size|\n",
            "+----+---------+------+--------+--------+------+------------+\n",
            "|    |         |      |        |        |null  |null        |\n",
            "|    |         |      |        |        |null  |null        |\n",
            "|    |         |      |        |        |null  |null        |\n",
            "+----+---------+------+--------+--------+------+------------+\n",
            "\n"
          ],
          "name": "stdout"
        }
      ]
    },
    {
      "cell_type": "markdown",
      "metadata": {
        "id": "wS7tZXIUXvBk"
      },
      "source": [
        "Looks like the record itself is an incomplete record with no useful information, the best option would be to drop this record as follows!"
      ]
    },
    {
      "cell_type": "code",
      "metadata": {
        "colab": {
          "base_uri": "https://localhost:8080/"
        },
        "id": "zb6wxLWuXvBl",
        "outputId": "c8bc3cf1-c323-483f-88df-ad84ede3d92f"
      },
      "source": [
        "logs_df.count()"
      ],
      "execution_count": 29,
      "outputs": [
        {
          "output_type": "execute_result",
          "data": {
            "text/plain": [
              "3461615"
            ]
          },
          "metadata": {
            "tags": []
          },
          "execution_count": 29
        }
      ]
    },
    {
      "cell_type": "code",
      "metadata": {
        "colab": {
          "base_uri": "https://localhost:8080/"
        },
        "id": "RQogALLJXvBo",
        "outputId": "457ee3b3-fe5d-4c99-9a93-2054d519b70c"
      },
      "source": [
        "logs_df = logs_df[logs_df['status'].isNotNull()] #OR can use dropna() --> try\n",
        "logs_df.count()"
      ],
      "execution_count": 30,
      "outputs": [
        {
          "output_type": "execute_result",
          "data": {
            "text/plain": [
              "3461612"
            ]
          },
          "metadata": {
            "tags": []
          },
          "execution_count": 30
        }
      ]
    },
    {
      "cell_type": "code",
      "metadata": {
        "colab": {
          "base_uri": "https://localhost:8080/"
        },
        "id": "_rHsvCeeXvBs",
        "outputId": "8c1c5d72-8d93-4eb4-c509-5d2fba7655f2"
      },
      "source": [
        "exprs = [count_null(col_name) for col_name in logs_df.columns]\n",
        "logs_df.agg(*exprs).show()"
      ],
      "execution_count": 31,
      "outputs": [
        {
          "output_type": "stream",
          "text": [
            "+----+---------+------+--------+--------+------+------------+\n",
            "|host|timestamp|method|endpoint|protocol|status|content_size|\n",
            "+----+---------+------+--------+--------+------+------------+\n",
            "|   0|        0|     0|       0|       0|     0|       33904|\n",
            "+----+---------+------+--------+--------+------+------------+\n",
            "\n"
          ],
          "name": "stdout"
        }
      ]
    },
    {
      "cell_type": "markdown",
      "metadata": {
        "id": "8k4-PjEFXvBv"
      },
      "source": [
        "### Handling nulls in HTTP content size\n",
        "\n",
        "Again based on our previous regular expression and assuming you were able to solve it correctly, our original parsing regular expression for the `content_size` column was:\n",
        "\n",
        "```\n",
        "regexp_extract('value', r'\\s(\\d+)$', 1).cast('integer').alias('content_size')\n",
        "``` \n",
        "\n",
        "Could there be missing data in our original dataset itself? Let's try and find out!"
      ]
    },
    {
      "cell_type": "markdown",
      "metadata": {
        "id": "MMjHfm1aXvBw"
      },
      "source": [
        "### Q2: Your Turn: Find out the records in our base data frame with potential missing content sizes\n",
        "\n",
        "- Use the `r'\\s\\d+$'` regex pattern with the `rlike()` function like we demonstrated in the previous example\n",
        "- Remember to work on `base_df` since we are searching on the raw records NOT the parsed `logs_df`\n",
        "- Find the total count of the records with missing content size in `base_df` using the `count()` function"
      ]
    },
    {
      "cell_type": "markdown",
      "metadata": {
        "id": "sXenp9ce9ON4"
      },
      "source": [
        "## **Q2: Answer**"
      ]
    },
    {
      "cell_type": "code",
      "metadata": {
        "colab": {
          "base_uri": "https://localhost:8080/"
        },
        "id": "ki7G6daTXvBx",
        "outputId": "4fa74c66-88b6-44d6-b90f-effd09ffa7aa"
      },
      "source": [
        "null_content_size_df = base_df.filter(~base_df['value'].rlike(r'\\s(\\d+)$'))\n",
        "null_content_size_df.count()"
      ],
      "execution_count": 32,
      "outputs": [
        {
          "output_type": "execute_result",
          "data": {
            "text/plain": [
              "33907"
            ]
          },
          "metadata": {
            "tags": []
          },
          "execution_count": 32
        }
      ]
    },
    {
      "cell_type": "markdown",
      "metadata": {
        "id": "6te6fSfCXvB0"
      },
      "source": [
        "### Q3: Your Turn: Display the top ten records of your data frame having missing content sizes"
      ]
    },
    {
      "cell_type": "markdown",
      "metadata": {
        "id": "3sk0pmmb9mmg"
      },
      "source": [
        "## **Q3: Answer**"
      ]
    },
    {
      "cell_type": "code",
      "metadata": {
        "colab": {
          "base_uri": "https://localhost:8080/"
        },
        "id": "P1vwVWX4XvB1",
        "outputId": "c2d3fc51-003f-417d-cde7-a404f4d76dc3"
      },
      "source": [
        "null_content_size_df.show(10,truncate=False)"
      ],
      "execution_count": 33,
      "outputs": [
        {
          "output_type": "stream",
          "text": [
            "+---------------------------------------------------------------------------------------------------------------------------+\n",
            "|value                                                                                                                      |\n",
            "+---------------------------------------------------------------------------------------------------------------------------+\n",
            "|gw1.att.com - - [01/Aug/1995:00:03:53 -0400] \"GET /shuttle/missions/sts-73/news HTTP/1.0\" 302 -                            |\n",
            "|js002.cc.utsunomiya-u.ac.jp - - [01/Aug/1995:00:07:33 -0400] \"GET /shuttle/resources/orbiters/discovery.gif HTTP/1.0\" 404 -|\n",
            "|tia1.eskimo.com - - [01/Aug/1995:00:28:41 -0400] \"GET /pub/winvn/release.txt HTTP/1.0\" 404 -                               |\n",
            "|itws.info.eng.niigata-u.ac.jp - - [01/Aug/1995:00:38:01 -0400] \"GET /ksc.html/facts/about_ksc.html HTTP/1.0\" 403 -         |\n",
            "|grimnet23.idirect.com - - [01/Aug/1995:00:50:12 -0400] \"GET /www/software/winvn/winvn.html HTTP/1.0\" 404 -                 |\n",
            "|miriworld.its.unimelb.edu.au - - [01/Aug/1995:01:04:54 -0400] \"GET /history/history.htm HTTP/1.0\" 404 -                    |\n",
            "|ras38.srv.net - - [01/Aug/1995:01:05:14 -0400] \"GET /elv/DELTA/uncons.htm HTTP/1.0\" 404 -                                  |\n",
            "|cs1-06.leh.ptd.net - - [01/Aug/1995:01:17:38 -0400] \"GET /sts-71/launch/\" 404 -                                            |\n",
            "|www-b2.proxy.aol.com - - [01/Aug/1995:01:22:07 -0400] \"GET /shuttle/countdown HTTP/1.0\" 302 -                              |\n",
            "|maui56.maui.net - - [01/Aug/1995:01:31:56 -0400] \"GET /shuttle HTTP/1.0\" 302 -                                             |\n",
            "+---------------------------------------------------------------------------------------------------------------------------+\n",
            "only showing top 10 rows\n",
            "\n"
          ],
          "name": "stdout"
        }
      ]
    },
    {
      "cell_type": "markdown",
      "metadata": {
        "id": "Rl3J6c5sXvB8"
      },
      "source": [
        "Assuming you were able to get to the missing records above, it is quite evident that the bad raw data records correspond to error responses, where no content was sent back and the server emitted a \"`-`\" for the `content_size` field. \n",
        "\n",
        "Since we don't want to discard those rows from our analysis, let's impute or fill them to 0."
      ]
    },
    {
      "cell_type": "markdown",
      "metadata": {
        "id": "2y3iD47fXvCB"
      },
      "source": [
        "### Q4: Your Turn: Fix the rows with null content\\_size\n",
        "\n",
        "The easiest solution is to replace the null values in `logs_df` with 0 like we discussed earlier. The Spark DataFrame API provides a set of functions and fields specifically designed for working with null values, among them:\n",
        "\n",
        "* [fillna()](http://spark.apache.org/docs/latest/api/python/pyspark.sql.html#pyspark.sql.DataFrame.fillna), which fills null values with specified non-null values.\n",
        "* [na](http://spark.apache.org/docs/latest/api/python/pyspark.sql.html#pyspark.sql.DataFrame.na), which returns a [DataFrameNaFunctions](http://spark.apache.org/docs/latest/api/python/pyspark.sql.html#pyspark.sql.DataFrameNaFunctions) object with many functions for operating on null columns.\n",
        "\n",
        "There are several ways to invoke this function. The easiest is just to replace _all_ null columns with known values. But, for safety, it's better to pass a Python dictionary containing (column\\_name, value) mappings. That's what we'll do. A sample example from the documentation is depicted below\n",
        "\n",
        "```\n",
        ">>> df4.na.fill({'age': 50, 'name': 'unknown'}).show()\n",
        "+---+------+-------+\n",
        "|age|height|   name|\n",
        "+---+------+-------+\n",
        "| 10|    80|  Alice|\n",
        "|  5|  null|    Bob|\n",
        "| 50|  null|    Tom|\n",
        "| 50|  null|unknown|\n",
        "+---+------+-------+\n",
        "```\n",
        "\n",
        "Now use this function and fill all the missing values in the `content_size` field with 0!"
      ]
    },
    {
      "cell_type": "markdown",
      "metadata": {
        "id": "1yvXOuwC94hS"
      },
      "source": [
        "## **Q4: Answer**"
      ]
    },
    {
      "cell_type": "code",
      "metadata": {
        "id": "_2w5KTE0XvCC"
      },
      "source": [
        "logs_df = logs_df.fillna(0) #OR logs_df.na.fill({'content_size': 0}).show()"
      ],
      "execution_count": 34,
      "outputs": []
    },
    {
      "cell_type": "markdown",
      "metadata": {
        "id": "zdjkzs6UXvCJ"
      },
      "source": [
        "Now assuming you were able to fill in the missing values successfully in the previous question, we should have no missing values \\ nulls in our dataset. Let's verify this!"
      ]
    },
    {
      "cell_type": "code",
      "metadata": {
        "colab": {
          "base_uri": "https://localhost:8080/"
        },
        "id": "wDaLqVZOXvCK",
        "outputId": "42765081-896d-403c-fd4c-796fe4b2b27d"
      },
      "source": [
        "exprs = [count_null(col_name) for col_name in logs_df.columns]\n",
        "logs_df.agg(*exprs).show()"
      ],
      "execution_count": 35,
      "outputs": [
        {
          "output_type": "stream",
          "text": [
            "+----+---------+------+--------+--------+------+------------+\n",
            "|host|timestamp|method|endpoint|protocol|status|content_size|\n",
            "+----+---------+------+--------+--------+------+------------+\n",
            "|   0|        0|     0|       0|       0|     0|           0|\n",
            "+----+---------+------+--------+--------+------+------------+\n",
            "\n"
          ],
          "name": "stdout"
        }
      ]
    },
    {
      "cell_type": "markdown",
      "metadata": {
        "id": "Bjr1f1m2XvCN"
      },
      "source": [
        "Look at that, no missing values!"
      ]
    },
    {
      "cell_type": "markdown",
      "metadata": {
        "id": "UFtYMGZhXvCN"
      },
      "source": [
        "## Handling Temporal Fields (Timestamp)\n",
        "\n",
        "Now that we have a clean, parsed DataFrame, we have to parse the timestamp field into an actual timestamp. The Common Log Format time is somewhat non-standard. A User-Defined Function (UDF) is the most straightforward way to parse it."
      ]
    },
    {
      "cell_type": "code",
      "metadata": {
        "id": "k5t5VysnXvCS"
      },
      "source": [
        "from pyspark.sql.functions import udf\n",
        "\n",
        "month_map = {\n",
        "  'Jan': 1, 'Feb': 2, 'Mar':3, 'Apr':4, 'May':5, 'Jun':6, 'Jul':7,\n",
        "  'Aug':8,  'Sep': 9, 'Oct':10, 'Nov': 11, 'Dec': 12\n",
        "}\n",
        "\n",
        "def parse_clf_time(text):\n",
        "    \"\"\" Convert Common Log time format into a Python datetime object\n",
        "    Args:\n",
        "        text (str): date and time in Apache time format [dd/mmm/yyyy:hh:mm:ss (+/-)zzzz]\n",
        "    Returns:\n",
        "        a string suitable for passing to CAST('timestamp')\n",
        "    \"\"\"\n",
        "    # NOTE: We're ignoring time zone here. In a production application, you'd want to handle that.\n",
        "    return \"{0:04d}-{1:02d}-{2:02d} {3:02d}:{4:02d}:{5:02d}\".format(\n",
        "      int(text[7:11]),\n",
        "      month_map[text[3:6]],\n",
        "      int(text[0:2]),\n",
        "      int(text[12:14]),\n",
        "      int(text[15:17]),\n",
        "      int(text[18:20])\n",
        "    )"
      ],
      "execution_count": 36,
      "outputs": []
    },
    {
      "cell_type": "code",
      "metadata": {
        "colab": {
          "base_uri": "https://localhost:8080/"
        },
        "id": "RLJHPXHwXvCW",
        "outputId": "4d49c546-dd3a-4e2d-cde5-c837feeae572"
      },
      "source": [
        "sample_ts = [item['timestamp'] for item in logs_df.select('timestamp').take(5)]\n",
        "sample_ts"
      ],
      "execution_count": 37,
      "outputs": [
        {
          "output_type": "execute_result",
          "data": {
            "text/plain": [
              "['01/Aug/1995:00:00:01 -0400',\n",
              " '01/Aug/1995:00:00:07 -0400',\n",
              " '01/Aug/1995:00:00:08 -0400',\n",
              " '01/Aug/1995:00:00:08 -0400',\n",
              " '01/Aug/1995:00:00:08 -0400']"
            ]
          },
          "metadata": {
            "tags": []
          },
          "execution_count": 37
        }
      ]
    },
    {
      "cell_type": "code",
      "metadata": {
        "colab": {
          "base_uri": "https://localhost:8080/"
        },
        "id": "0K5Yd1Z2XvCY",
        "outputId": "29e2e8f6-099d-4a17-95f1-f1fd3c7cb792"
      },
      "source": [
        "[parse_clf_time(item) for item in sample_ts]    #parse_clf_time is function from 2 cells above"
      ],
      "execution_count": 38,
      "outputs": [
        {
          "output_type": "execute_result",
          "data": {
            "text/plain": [
              "['1995-08-01 00:00:01',\n",
              " '1995-08-01 00:00:07',\n",
              " '1995-08-01 00:00:08',\n",
              " '1995-08-01 00:00:08',\n",
              " '1995-08-01 00:00:08']"
            ]
          },
          "metadata": {
            "tags": []
          },
          "execution_count": 38
        }
      ]
    },
    {
      "cell_type": "code",
      "metadata": {
        "colab": {
          "base_uri": "https://localhost:8080/"
        },
        "id": "WBbQ_QNsXvCb",
        "outputId": "5e520e69-fedb-4e56-92e5-fef6d27240cb"
      },
      "source": [
        "udf_parse_time = udf(parse_clf_time)\n",
        "\n",
        "logs_df = logs_df.select('*', udf_parse_time(logs_df['timestamp']).cast('timestamp').alias('time')).drop('timestamp')\n",
        "logs_df.show(10, truncate=True)"
      ],
      "execution_count": 39,
      "outputs": [
        {
          "output_type": "stream",
          "text": [
            "+--------------------+------+--------------------+--------+------+------------+-------------------+\n",
            "|                host|method|            endpoint|protocol|status|content_size|               time|\n",
            "+--------------------+------+--------------------+--------+------+------------+-------------------+\n",
            "|   in24.inetnebr.com|   GET|/shuttle/missions...|HTTP/1.0|   200|        1839|1995-08-01 00:00:01|\n",
            "|     uplherc.upl.com|   GET|                   /|HTTP/1.0|   304|           0|1995-08-01 00:00:07|\n",
            "|     uplherc.upl.com|   GET|/images/ksclogo-m...|HTTP/1.0|   304|           0|1995-08-01 00:00:08|\n",
            "|     uplherc.upl.com|   GET|/images/MOSAIC-lo...|HTTP/1.0|   304|           0|1995-08-01 00:00:08|\n",
            "|     uplherc.upl.com|   GET|/images/USA-logos...|HTTP/1.0|   304|           0|1995-08-01 00:00:08|\n",
            "|ix-esc-ca2-07.ix....|   GET|/images/launch-lo...|HTTP/1.0|   200|        1713|1995-08-01 00:00:09|\n",
            "|     uplherc.upl.com|   GET|/images/WORLD-log...|HTTP/1.0|   304|           0|1995-08-01 00:00:10|\n",
            "|slppp6.intermind.net|   GET|/history/skylab/s...|HTTP/1.0|   200|        1687|1995-08-01 00:00:10|\n",
            "|piweba4y.prodigy.com|   GET|/images/launchmed...|HTTP/1.0|   200|       11853|1995-08-01 00:00:10|\n",
            "|slppp6.intermind.net|   GET|/history/skylab/s...|HTTP/1.0|   200|        9202|1995-08-01 00:00:11|\n",
            "+--------------------+------+--------------------+--------+------+------------+-------------------+\n",
            "only showing top 10 rows\n",
            "\n"
          ],
          "name": "stdout"
        }
      ]
    },
    {
      "cell_type": "code",
      "metadata": {
        "colab": {
          "base_uri": "https://localhost:8080/"
        },
        "id": "9Yy-eIDtXvCi",
        "outputId": "38209d8a-1ab3-4e78-99b7-f3f54bbd3aa8"
      },
      "source": [
        "logs_df.printSchema()"
      ],
      "execution_count": 40,
      "outputs": [
        {
          "output_type": "stream",
          "text": [
            "root\n",
            " |-- host: string (nullable = true)\n",
            " |-- method: string (nullable = true)\n",
            " |-- endpoint: string (nullable = true)\n",
            " |-- protocol: string (nullable = true)\n",
            " |-- status: integer (nullable = true)\n",
            " |-- content_size: integer (nullable = true)\n",
            " |-- time: timestamp (nullable = true)\n",
            "\n"
          ],
          "name": "stdout"
        }
      ]
    },
    {
      "cell_type": "code",
      "metadata": {
        "colab": {
          "base_uri": "https://localhost:8080/",
          "height": 204
        },
        "id": "wfMB_2JvXvCk",
        "outputId": "58555875-9677-4db5-fe77-ed85ccdc7377"
      },
      "source": [
        "logs_df.limit(5).toPandas()"
      ],
      "execution_count": 41,
      "outputs": [
        {
          "output_type": "execute_result",
          "data": {
            "text/html": [
              "<div>\n",
              "<style scoped>\n",
              "    .dataframe tbody tr th:only-of-type {\n",
              "        vertical-align: middle;\n",
              "    }\n",
              "\n",
              "    .dataframe tbody tr th {\n",
              "        vertical-align: top;\n",
              "    }\n",
              "\n",
              "    .dataframe thead th {\n",
              "        text-align: right;\n",
              "    }\n",
              "</style>\n",
              "<table border=\"1\" class=\"dataframe\">\n",
              "  <thead>\n",
              "    <tr style=\"text-align: right;\">\n",
              "      <th></th>\n",
              "      <th>host</th>\n",
              "      <th>method</th>\n",
              "      <th>endpoint</th>\n",
              "      <th>protocol</th>\n",
              "      <th>status</th>\n",
              "      <th>content_size</th>\n",
              "      <th>time</th>\n",
              "    </tr>\n",
              "  </thead>\n",
              "  <tbody>\n",
              "    <tr>\n",
              "      <th>0</th>\n",
              "      <td>in24.inetnebr.com</td>\n",
              "      <td>GET</td>\n",
              "      <td>/shuttle/missions/sts-68/news/sts-68-mcc-05.txt</td>\n",
              "      <td>HTTP/1.0</td>\n",
              "      <td>200</td>\n",
              "      <td>1839</td>\n",
              "      <td>1995-08-01 00:00:01</td>\n",
              "    </tr>\n",
              "    <tr>\n",
              "      <th>1</th>\n",
              "      <td>uplherc.upl.com</td>\n",
              "      <td>GET</td>\n",
              "      <td>/</td>\n",
              "      <td>HTTP/1.0</td>\n",
              "      <td>304</td>\n",
              "      <td>0</td>\n",
              "      <td>1995-08-01 00:00:07</td>\n",
              "    </tr>\n",
              "    <tr>\n",
              "      <th>2</th>\n",
              "      <td>uplherc.upl.com</td>\n",
              "      <td>GET</td>\n",
              "      <td>/images/ksclogo-medium.gif</td>\n",
              "      <td>HTTP/1.0</td>\n",
              "      <td>304</td>\n",
              "      <td>0</td>\n",
              "      <td>1995-08-01 00:00:08</td>\n",
              "    </tr>\n",
              "    <tr>\n",
              "      <th>3</th>\n",
              "      <td>uplherc.upl.com</td>\n",
              "      <td>GET</td>\n",
              "      <td>/images/MOSAIC-logosmall.gif</td>\n",
              "      <td>HTTP/1.0</td>\n",
              "      <td>304</td>\n",
              "      <td>0</td>\n",
              "      <td>1995-08-01 00:00:08</td>\n",
              "    </tr>\n",
              "    <tr>\n",
              "      <th>4</th>\n",
              "      <td>uplherc.upl.com</td>\n",
              "      <td>GET</td>\n",
              "      <td>/images/USA-logosmall.gif</td>\n",
              "      <td>HTTP/1.0</td>\n",
              "      <td>304</td>\n",
              "      <td>0</td>\n",
              "      <td>1995-08-01 00:00:08</td>\n",
              "    </tr>\n",
              "  </tbody>\n",
              "</table>\n",
              "</div>"
            ],
            "text/plain": [
              "                host method  ... content_size                time\n",
              "0  in24.inetnebr.com    GET  ...         1839 1995-08-01 00:00:01\n",
              "1    uplherc.upl.com    GET  ...            0 1995-08-01 00:00:07\n",
              "2    uplherc.upl.com    GET  ...            0 1995-08-01 00:00:08\n",
              "3    uplherc.upl.com    GET  ...            0 1995-08-01 00:00:08\n",
              "4    uplherc.upl.com    GET  ...            0 1995-08-01 00:00:08\n",
              "\n",
              "[5 rows x 7 columns]"
            ]
          },
          "metadata": {
            "tags": []
          },
          "execution_count": 41
        }
      ]
    },
    {
      "cell_type": "markdown",
      "metadata": {
        "id": "cn3ghlDsXvCp"
      },
      "source": [
        "Let's now cache `logs_df` since we will be using it extensively for our data analysis section in the next part!"
      ]
    },
    {
      "cell_type": "markdown",
      "metadata": {
        "id": "1WTHkvANXvCq"
      },
      "source": [
        "# Step 2 - Exploratory Data Analysis on our Web Logs\n",
        "\n",
        "Now that we have a DataFrame containing the parsed log file as a data frame, we can perform some interesting exploratory data analysis (EDA)\n",
        "\n",
        "## Example: Content Size Statistics\n",
        "\n",
        "Let's compute some statistics about the sizes of content being returned by the web server. In particular, we'd like to know what are the average, minimum, and maximum content sizes.\n",
        "\n",
        "We can compute the statistics by calling `.describe()` on the `content_size` column of `logs_df`.  The `.describe()` function returns the count, mean, stddev, min, and max of a given column."
      ]
    },
    {
      "cell_type": "code",
      "metadata": {
        "colab": {
          "base_uri": "https://localhost:8080/",
          "height": 204
        },
        "id": "FHkVy3ZXXvCr",
        "outputId": "8c62fa29-a853-4af9-e93b-8619cc7a09b2"
      },
      "source": [
        "content_size_summary_df = logs_df.describe(['content_size'])\n",
        "content_size_summary_df.toPandas()"
      ],
      "execution_count": 42,
      "outputs": [
        {
          "output_type": "execute_result",
          "data": {
            "text/html": [
              "<div>\n",
              "<style scoped>\n",
              "    .dataframe tbody tr th:only-of-type {\n",
              "        vertical-align: middle;\n",
              "    }\n",
              "\n",
              "    .dataframe tbody tr th {\n",
              "        vertical-align: top;\n",
              "    }\n",
              "\n",
              "    .dataframe thead th {\n",
              "        text-align: right;\n",
              "    }\n",
              "</style>\n",
              "<table border=\"1\" class=\"dataframe\">\n",
              "  <thead>\n",
              "    <tr style=\"text-align: right;\">\n",
              "      <th></th>\n",
              "      <th>summary</th>\n",
              "      <th>content_size</th>\n",
              "    </tr>\n",
              "  </thead>\n",
              "  <tbody>\n",
              "    <tr>\n",
              "      <th>0</th>\n",
              "      <td>count</td>\n",
              "      <td>3461612</td>\n",
              "    </tr>\n",
              "    <tr>\n",
              "      <th>1</th>\n",
              "      <td>mean</td>\n",
              "      <td>18928.844398216785</td>\n",
              "    </tr>\n",
              "    <tr>\n",
              "      <th>2</th>\n",
              "      <td>stddev</td>\n",
              "      <td>73031.47260949171</td>\n",
              "    </tr>\n",
              "    <tr>\n",
              "      <th>3</th>\n",
              "      <td>min</td>\n",
              "      <td>0</td>\n",
              "    </tr>\n",
              "    <tr>\n",
              "      <th>4</th>\n",
              "      <td>max</td>\n",
              "      <td>6823936</td>\n",
              "    </tr>\n",
              "  </tbody>\n",
              "</table>\n",
              "</div>"
            ],
            "text/plain": [
              "  summary        content_size\n",
              "0   count             3461612\n",
              "1    mean  18928.844398216785\n",
              "2  stddev   73031.47260949171\n",
              "3     min                   0\n",
              "4     max             6823936"
            ]
          },
          "metadata": {
            "tags": []
          },
          "execution_count": 42
        }
      ]
    },
    {
      "cell_type": "markdown",
      "metadata": {
        "id": "fY1S9FPAXvCv"
      },
      "source": [
        "Alternatively, we can use SQL to directly calculate these statistics.  You can explore many useful functions within the `pyspark.sql.functions` module in the [documentation](https://spark.apache.org/docs/latest/api/python/pyspark.sql.html#module-pyspark.sql.functions).\n",
        "\n",
        "After we apply the `.agg()` function, we call `toPandas()` to extract and convert the result into a `pandas` dataframe which has better formatting on Jupyter notebooks"
      ]
    },
    {
      "cell_type": "code",
      "metadata": {
        "colab": {
          "base_uri": "https://localhost:8080/",
          "height": 80
        },
        "id": "nonAax8AXvCx",
        "outputId": "613cfe82-be7d-4875-8f64-353350ef51b2"
      },
      "source": [
        "from pyspark.sql import functions as F\n",
        "\n",
        "(logs_df.agg(F.min(logs_df['content_size']).alias('min_content_size'),\n",
        "             F.max(logs_df['content_size']).alias('max_content_size'),\n",
        "             F.mean(logs_df['content_size']).alias('mean_content_size'),\n",
        "             F.stddev(logs_df['content_size']).alias('std_content_size'),\n",
        "             F.count(logs_df['content_size']).alias('count_content_size'))\n",
        "        .toPandas())"
      ],
      "execution_count": 43,
      "outputs": [
        {
          "output_type": "execute_result",
          "data": {
            "text/html": [
              "<div>\n",
              "<style scoped>\n",
              "    .dataframe tbody tr th:only-of-type {\n",
              "        vertical-align: middle;\n",
              "    }\n",
              "\n",
              "    .dataframe tbody tr th {\n",
              "        vertical-align: top;\n",
              "    }\n",
              "\n",
              "    .dataframe thead th {\n",
              "        text-align: right;\n",
              "    }\n",
              "</style>\n",
              "<table border=\"1\" class=\"dataframe\">\n",
              "  <thead>\n",
              "    <tr style=\"text-align: right;\">\n",
              "      <th></th>\n",
              "      <th>min_content_size</th>\n",
              "      <th>max_content_size</th>\n",
              "      <th>mean_content_size</th>\n",
              "      <th>std_content_size</th>\n",
              "      <th>count_content_size</th>\n",
              "    </tr>\n",
              "  </thead>\n",
              "  <tbody>\n",
              "    <tr>\n",
              "      <th>0</th>\n",
              "      <td>0</td>\n",
              "      <td>6823936</td>\n",
              "      <td>18928.844398</td>\n",
              "      <td>73031.472609</td>\n",
              "      <td>3461612</td>\n",
              "    </tr>\n",
              "  </tbody>\n",
              "</table>\n",
              "</div>"
            ],
            "text/plain": [
              "   min_content_size  max_content_size  ...  std_content_size  count_content_size\n",
              "0                 0           6823936  ...      73031.472609             3461612\n",
              "\n",
              "[1 rows x 5 columns]"
            ]
          },
          "metadata": {
            "tags": []
          },
          "execution_count": 43
        }
      ]
    },
    {
      "cell_type": "markdown",
      "metadata": {
        "id": "8hat3HPwXvC0"
      },
      "source": [
        "## Example: HTTP Status Code Analysis\n",
        "\n",
        "Next, let's look at the status code values that appear in the log. We want to know which status code values appear in the data and how many times.  \n",
        "\n",
        "We again start with `logs_df`, then group by the `status` column, apply the `.count()` aggregation function, and sort by the `status` column."
      ]
    },
    {
      "cell_type": "code",
      "metadata": {
        "collapsed": true,
        "id": "jL-vEt0FXvC1"
      },
      "source": [
        "status_freq_df = (logs_df\n",
        "                     .groupBy('status')\n",
        "                     .count()\n",
        "                     .sort('status')\n",
        "                     .cache())"
      ],
      "execution_count": 44,
      "outputs": []
    },
    {
      "cell_type": "code",
      "metadata": {
        "colab": {
          "base_uri": "https://localhost:8080/"
        },
        "id": "a0iPsCW2XvC3",
        "outputId": "0a9ffa63-039e-4640-934a-00484e13a888"
      },
      "source": [
        "print('Total distinct HTTP Status Codes:', status_freq_df.count())"
      ],
      "execution_count": 45,
      "outputs": [
        {
          "output_type": "stream",
          "text": [
            "Total distinct HTTP Status Codes: 8\n"
          ],
          "name": "stdout"
        }
      ]
    },
    {
      "cell_type": "code",
      "metadata": {
        "colab": {
          "base_uri": "https://localhost:8080/",
          "height": 297
        },
        "id": "SZO7ncjdXvC6",
        "outputId": "22066f62-fbdd-40d1-d0cc-741299f0cada"
      },
      "source": [
        "status_freq_pd_df = status_freq_df.toPandas()\n",
        "status_freq_pd_df"
      ],
      "execution_count": 46,
      "outputs": [
        {
          "output_type": "execute_result",
          "data": {
            "text/html": [
              "<div>\n",
              "<style scoped>\n",
              "    .dataframe tbody tr th:only-of-type {\n",
              "        vertical-align: middle;\n",
              "    }\n",
              "\n",
              "    .dataframe tbody tr th {\n",
              "        vertical-align: top;\n",
              "    }\n",
              "\n",
              "    .dataframe thead th {\n",
              "        text-align: right;\n",
              "    }\n",
              "</style>\n",
              "<table border=\"1\" class=\"dataframe\">\n",
              "  <thead>\n",
              "    <tr style=\"text-align: right;\">\n",
              "      <th></th>\n",
              "      <th>status</th>\n",
              "      <th>count</th>\n",
              "    </tr>\n",
              "  </thead>\n",
              "  <tbody>\n",
              "    <tr>\n",
              "      <th>0</th>\n",
              "      <td>200</td>\n",
              "      <td>3100524</td>\n",
              "    </tr>\n",
              "    <tr>\n",
              "      <th>1</th>\n",
              "      <td>302</td>\n",
              "      <td>73070</td>\n",
              "    </tr>\n",
              "    <tr>\n",
              "      <th>2</th>\n",
              "      <td>304</td>\n",
              "      <td>266773</td>\n",
              "    </tr>\n",
              "    <tr>\n",
              "      <th>3</th>\n",
              "      <td>400</td>\n",
              "      <td>15</td>\n",
              "    </tr>\n",
              "    <tr>\n",
              "      <th>4</th>\n",
              "      <td>403</td>\n",
              "      <td>225</td>\n",
              "    </tr>\n",
              "    <tr>\n",
              "      <th>5</th>\n",
              "      <td>404</td>\n",
              "      <td>20899</td>\n",
              "    </tr>\n",
              "    <tr>\n",
              "      <th>6</th>\n",
              "      <td>500</td>\n",
              "      <td>65</td>\n",
              "    </tr>\n",
              "    <tr>\n",
              "      <th>7</th>\n",
              "      <td>501</td>\n",
              "      <td>41</td>\n",
              "    </tr>\n",
              "  </tbody>\n",
              "</table>\n",
              "</div>"
            ],
            "text/plain": [
              "   status    count\n",
              "0     200  3100524\n",
              "1     302    73070\n",
              "2     304   266773\n",
              "3     400       15\n",
              "4     403      225\n",
              "5     404    20899\n",
              "6     500       65\n",
              "7     501       41"
            ]
          },
          "metadata": {
            "tags": []
          },
          "execution_count": 46
        }
      ]
    },
    {
      "cell_type": "code",
      "metadata": {
        "colab": {
          "base_uri": "https://localhost:8080/",
          "height": 316
        },
        "id": "KXkKQA-WXvC8",
        "outputId": "7db49763-8ab7-450a-f080-339b5effff56"
      },
      "source": [
        "import matplotlib.pyplot as plt\n",
        "%matplotlib inline\n",
        "\n",
        "status_freq_pd_df.plot(x='status', y='count', kind='bar')"
      ],
      "execution_count": 47,
      "outputs": [
        {
          "output_type": "execute_result",
          "data": {
            "text/plain": [
              "<matplotlib.axes._subplots.AxesSubplot at 0x7f1348c41fd0>"
            ]
          },
          "metadata": {
            "tags": []
          },
          "execution_count": 47
        },
        {
          "output_type": "display_data",
          "data": {
            "image/png": "[encoded data removed]",
            "text/plain": [
              "<Figure size 432x288 with 1 Axes>"
            ]
          },
          "metadata": {
            "tags": [],
            "needs_background": "light"
          }
        }
      ]
    },
    {
      "cell_type": "code",
      "metadata": {
        "colab": {
          "base_uri": "https://localhost:8080/"
        },
        "id": "iabid8S6XvC_",
        "outputId": "6cbd72a6-9bf9-4073-d06a-d29b3677fecd"
      },
      "source": [
        "log_freq_df = status_freq_df.withColumn('log(count)', F.log(status_freq_df['count']))\n",
        "log_freq_df.show()"
      ],
      "execution_count": 48,
      "outputs": [
        {
          "output_type": "stream",
          "text": [
            "+------+-------+------------------+\n",
            "|status|  count|        log(count)|\n",
            "+------+-------+------------------+\n",
            "|   200|3100524|14.947081687429097|\n",
            "|   302|  73070|11.199173164785263|\n",
            "|   304| 266773|12.494153388502301|\n",
            "|   400|     15|  2.70805020110221|\n",
            "|   403|    225|  5.41610040220442|\n",
            "|   404|  20899| 9.947456589918252|\n",
            "|   500|     65| 4.174387269895637|\n",
            "|   501|     41| 3.713572066704308|\n",
            "+------+-------+------------------+\n",
            "\n"
          ],
          "name": "stdout"
        }
      ]
    },
    {
      "cell_type": "markdown",
      "metadata": {
        "id": "CWcfTjlUXvDC"
      },
      "source": [
        "#### Q5: Your Turn: Convert the log\\_freq\\_df to a pandas DataFrame and plot a bar chart displaying counts of each HTTP Status Code"
      ]
    },
    {
      "cell_type": "markdown",
      "metadata": {
        "id": "1Awfg6Wf-KMY"
      },
      "source": [
        "## **Q5: Answer**"
      ]
    },
    {
      "cell_type": "code",
      "metadata": {
        "colab": {
          "base_uri": "https://localhost:8080/",
          "height": 305
        },
        "id": "RWWwF5NcXvDD",
        "outputId": "7e5f1676-a1c7-4f12-bc3f-d88802f52052"
      },
      "source": [
        "log_freq_pd_df = log_freq_df.toPandas()\n",
        "log_freq_pd_df.plot(x = 'status', y = 'log(count)', kind = 'bar')"
      ],
      "execution_count": 49,
      "outputs": [
        {
          "output_type": "execute_result",
          "data": {
            "text/plain": [
              "<matplotlib.axes._subplots.AxesSubplot at 0x7f1348b55510>"
            ]
          },
          "metadata": {
            "tags": []
          },
          "execution_count": 49
        },
        {
          "output_type": "display_data",
          "data": {
            "image/png": "[encoded data removed]",
            "text/plain": [
              "<Figure size 432x288 with 1 Axes>"
            ]
          },
          "metadata": {
            "tags": [],
            "needs_background": "light"
          }
        }
      ]
    },
    {
      "cell_type": "markdown",
      "metadata": {
        "id": "k5oXMLxSXvDH"
      },
      "source": [
        "## Your Turn: Q6: Analyzing Frequent Hosts\n",
        "\n",
        "Let's look at hosts that have accessed the server frequently. Try to get the count of total accesses by each `host` and then sort by the counts and display only the top ten most frequent hosts.\n",
        "\n",
        "__Hints:__\n",
        "\n",
        "- Your Spark DataFrame has a `host` column\n",
        "- Get the counts per `host` which would make a `count` column\n",
        "- Sort by the counts. Please check [__the documentation__](https://spark.apache.org/docs/latest/api/python/pyspark.sql.html#pyspark.sql.DataFrame.sort) to see how to sort in reverse\n",
        "- Remember only to get the top 10 rows from the aggregated dataframe and show them"
      ]
    },
    {
      "cell_type": "markdown",
      "metadata": {
        "id": "wiE9TKe_-Oyt"
      },
      "source": [
        "## **Q6: Answer**"
      ]
    },
    {
      "cell_type": "code",
      "metadata": {
        "colab": {
          "base_uri": "https://localhost:8080/"
        },
        "id": "eBBayokUXvDM",
        "outputId": "add4f83b-4894-4ecc-8d8b-94b8fc49d2e3"
      },
      "source": [
        "from pyspark.sql.functions import col\n",
        "\n",
        "host_sum_df = (logs_df\n",
        "                     .groupBy('host')\n",
        "                     .count()\n",
        "                     .sort(col('count').desc())\n",
        "                     .cache())\n",
        "\n",
        "host_sum_df.show(10,truncate=False)"
      ],
      "execution_count": 50,
      "outputs": [
        {
          "output_type": "stream",
          "text": [
            "+--------------------+-----+\n",
            "|host                |count|\n",
            "+--------------------+-----+\n",
            "|piweba3y.prodigy.com|21988|\n",
            "|piweba4y.prodigy.com|16437|\n",
            "|piweba1y.prodigy.com|12825|\n",
            "|edams.ksc.nasa.gov  |11964|\n",
            "|163.206.89.4        |9697 |\n",
            "|news.ti.com         |8161 |\n",
            "|www-d1.proxy.aol.com|8047 |\n",
            "|alyssa.prodigy.com  |8037 |\n",
            "|                    |7660 |\n",
            "|siltb10.orl.mmc.com |7573 |\n",
            "+--------------------+-----+\n",
            "only showing top 10 rows\n",
            "\n"
          ],
          "name": "stdout"
        }
      ]
    },
    {
      "cell_type": "code",
      "metadata": {
        "colab": {
          "base_uri": "https://localhost:8080/",
          "height": 35
        },
        "id": "1dv8Ny3iXvDQ",
        "outputId": "628f9d8b-0bf0-4dd6-ecc0-04905deea21c"
      },
      "source": [
        "host_sum_pd_df = host_sum_df.toPandas()\n",
        "host_sum_pd_df.iloc[8]['host']"
      ],
      "execution_count": 51,
      "outputs": [
        {
          "output_type": "execute_result",
          "data": {
            "application/vnd.google.colaboratory.intrinsic+json": {
              "type": "string"
            },
            "text/plain": [
              "''"
            ]
          },
          "metadata": {
            "tags": []
          },
          "execution_count": 51
        }
      ]
    },
    {
      "cell_type": "markdown",
      "metadata": {
        "id": "qJNpJU2VXvDT"
      },
      "source": [
        "Looks like we have some empty strings as one of the top host names! This teaches us a valuable lesson to not just check for nulls but also potentially empty strings when data wrangling."
      ]
    },
    {
      "cell_type": "markdown",
      "metadata": {
        "id": "Pq5jiBtIXvDU"
      },
      "source": [
        "## Your Turn: Q7: Display the Top 20 Frequent EndPoints\n",
        "\n",
        "Now, let's visualize the number of hits to endpoints (URIs) in the log. To perform this task, start with our `logs_df` and group by the `endpoint` column, aggregate by count, and sort in descending order like the previous question. Also remember to show only the top 20 most frequently accessed endpoints"
      ]
    },
    {
      "cell_type": "markdown",
      "metadata": {
        "id": "YEkvLNUT-UiQ"
      },
      "source": [
        "## **Q7: Answer**"
      ]
    },
    {
      "cell_type": "code",
      "metadata": {
        "id": "oxZRXX-AXvDU"
      },
      "source": [
        "paths_df = (logs_df\n",
        "                .groupBy('endpoint')\n",
        "                .count()\n",
        "                .sort(col('count').desc())\n",
        "                .cache())"
      ],
      "execution_count": 52,
      "outputs": []
    },
    {
      "cell_type": "code",
      "metadata": {
        "colab": {
          "base_uri": "https://localhost:8080/",
          "height": 669
        },
        "id": "DwfjJG2jXvDX",
        "outputId": "024fd1e3-9fc7-4f01-d964-6c5f339e8d61"
      },
      "source": [
        "paths_pd_df = paths_df.toPandas()\n",
        "paths_pd_df.head(20)"
      ],
      "execution_count": 53,
      "outputs": [
        {
          "output_type": "execute_result",
          "data": {
            "text/html": [
              "<div>\n",
              "<style scoped>\n",
              "    .dataframe tbody tr th:only-of-type {\n",
              "        vertical-align: middle;\n",
              "    }\n",
              "\n",
              "    .dataframe tbody tr th {\n",
              "        vertical-align: top;\n",
              "    }\n",
              "\n",
              "    .dataframe thead th {\n",
              "        text-align: right;\n",
              "    }\n",
              "</style>\n",
              "<table border=\"1\" class=\"dataframe\">\n",
              "  <thead>\n",
              "    <tr style=\"text-align: right;\">\n",
              "      <th></th>\n",
              "      <th>endpoint</th>\n",
              "      <th>count</th>\n",
              "    </tr>\n",
              "  </thead>\n",
              "  <tbody>\n",
              "    <tr>\n",
              "      <th>0</th>\n",
              "      <td>/images/NASA-logosmall.gif</td>\n",
              "      <td>208714</td>\n",
              "    </tr>\n",
              "    <tr>\n",
              "      <th>1</th>\n",
              "      <td>/images/KSC-logosmall.gif</td>\n",
              "      <td>164970</td>\n",
              "    </tr>\n",
              "    <tr>\n",
              "      <th>2</th>\n",
              "      <td>/images/MOSAIC-logosmall.gif</td>\n",
              "      <td>127908</td>\n",
              "    </tr>\n",
              "    <tr>\n",
              "      <th>3</th>\n",
              "      <td>/images/USA-logosmall.gif</td>\n",
              "      <td>127074</td>\n",
              "    </tr>\n",
              "    <tr>\n",
              "      <th>4</th>\n",
              "      <td>/images/WORLD-logosmall.gif</td>\n",
              "      <td>125925</td>\n",
              "    </tr>\n",
              "    <tr>\n",
              "      <th>5</th>\n",
              "      <td>/images/ksclogo-medium.gif</td>\n",
              "      <td>121572</td>\n",
              "    </tr>\n",
              "    <tr>\n",
              "      <th>6</th>\n",
              "      <td>/ksc.html</td>\n",
              "      <td>83909</td>\n",
              "    </tr>\n",
              "    <tr>\n",
              "      <th>7</th>\n",
              "      <td>/images/launch-logo.gif</td>\n",
              "      <td>76006</td>\n",
              "    </tr>\n",
              "    <tr>\n",
              "      <th>8</th>\n",
              "      <td>/history/apollo/images/apollo-logo1.gif</td>\n",
              "      <td>68896</td>\n",
              "    </tr>\n",
              "    <tr>\n",
              "      <th>9</th>\n",
              "      <td>/shuttle/countdown/</td>\n",
              "      <td>64736</td>\n",
              "    </tr>\n",
              "    <tr>\n",
              "      <th>10</th>\n",
              "      <td>/</td>\n",
              "      <td>63171</td>\n",
              "    </tr>\n",
              "    <tr>\n",
              "      <th>11</th>\n",
              "      <td>/images/ksclogosmall.gif</td>\n",
              "      <td>61393</td>\n",
              "    </tr>\n",
              "    <tr>\n",
              "      <th>12</th>\n",
              "      <td>/shuttle/missions/missions.html</td>\n",
              "      <td>47315</td>\n",
              "    </tr>\n",
              "    <tr>\n",
              "      <th>13</th>\n",
              "      <td>/images/launchmedium.gif</td>\n",
              "      <td>40687</td>\n",
              "    </tr>\n",
              "    <tr>\n",
              "      <th>14</th>\n",
              "      <td>/htbin/cdt_main.pl</td>\n",
              "      <td>39871</td>\n",
              "    </tr>\n",
              "    <tr>\n",
              "      <th>15</th>\n",
              "      <td>/shuttle/missions/sts-69/mission-sts-69.html</td>\n",
              "      <td>31574</td>\n",
              "    </tr>\n",
              "    <tr>\n",
              "      <th>16</th>\n",
              "      <td>/shuttle/countdown/liftoff.html</td>\n",
              "      <td>29865</td>\n",
              "    </tr>\n",
              "    <tr>\n",
              "      <th>17</th>\n",
              "      <td>/icons/menu.xbm</td>\n",
              "      <td>29190</td>\n",
              "    </tr>\n",
              "    <tr>\n",
              "      <th>18</th>\n",
              "      <td>/shuttle/missions/sts-69/sts-69-patch-small.gif</td>\n",
              "      <td>29118</td>\n",
              "    </tr>\n",
              "    <tr>\n",
              "      <th>19</th>\n",
              "      <td>/icons/blank.xbm</td>\n",
              "      <td>28852</td>\n",
              "    </tr>\n",
              "  </tbody>\n",
              "</table>\n",
              "</div>"
            ],
            "text/plain": [
              "                                           endpoint   count\n",
              "0                        /images/NASA-logosmall.gif  208714\n",
              "1                         /images/KSC-logosmall.gif  164970\n",
              "2                      /images/MOSAIC-logosmall.gif  127908\n",
              "3                         /images/USA-logosmall.gif  127074\n",
              "4                       /images/WORLD-logosmall.gif  125925\n",
              "5                        /images/ksclogo-medium.gif  121572\n",
              "6                                         /ksc.html   83909\n",
              "7                           /images/launch-logo.gif   76006\n",
              "8           /history/apollo/images/apollo-logo1.gif   68896\n",
              "9                               /shuttle/countdown/   64736\n",
              "10                                                /   63171\n",
              "11                         /images/ksclogosmall.gif   61393\n",
              "12                  /shuttle/missions/missions.html   47315\n",
              "13                         /images/launchmedium.gif   40687\n",
              "14                               /htbin/cdt_main.pl   39871\n",
              "15     /shuttle/missions/sts-69/mission-sts-69.html   31574\n",
              "16                  /shuttle/countdown/liftoff.html   29865\n",
              "17                                  /icons/menu.xbm   29190\n",
              "18  /shuttle/missions/sts-69/sts-69-patch-small.gif   29118\n",
              "19                                 /icons/blank.xbm   28852"
            ]
          },
          "metadata": {
            "tags": []
          },
          "execution_count": 53
        }
      ]
    },
    {
      "cell_type": "markdown",
      "metadata": {
        "id": "LrK4j5aIXvDb"
      },
      "source": [
        "## Your Turn: Q8: Top Ten Error Endpoints\n",
        "\n",
        "What are the top ten endpoints requested which did not have return code 200 (HTTP Status OK)? \n",
        "\n",
        "Create a sorted list containing the endpoints and the number of times that they were accessed with a non-200 return code and show the top ten.\n",
        "\n",
        "Think about the steps that you need to perform to determine which endpoints did not have a 200 return code (combination of filtering, grouping, sorting and selecting the top ten aggregated records)"
      ]
    },
    {
      "cell_type": "markdown",
      "metadata": {
        "id": "yCLJGvCr-i1L"
      },
      "source": [
        "## **Q8: Answer**"
      ]
    },
    {
      "cell_type": "code",
      "metadata": {
        "id": "s57_3ODMXvDc"
      },
      "source": [
        "not200_df = logs_df.filter(~logs_df['status'].rlike(r'200'))\n",
        "\n",
        "error_endpoints_freq_df = (not200_df\n",
        "                               .groupBy('endpoint')\n",
        "                               .count()\n",
        "                               .sort(col('count').desc())\n",
        "                               .cache())"
      ],
      "execution_count": 54,
      "outputs": []
    },
    {
      "cell_type": "code",
      "metadata": {
        "colab": {
          "base_uri": "https://localhost:8080/"
        },
        "id": "GeAUAEMBXvDh",
        "outputId": "c412a7c7-365d-4e57-a92c-b8e48610d66a"
      },
      "source": [
        "error_endpoints_freq_df.show(10,truncate=False)"
      ],
      "execution_count": 55,
      "outputs": [
        {
          "output_type": "stream",
          "text": [
            "+---------------------------------------+-----+\n",
            "|endpoint                               |count|\n",
            "+---------------------------------------+-----+\n",
            "|/images/NASA-logosmall.gif             |40082|\n",
            "|/images/KSC-logosmall.gif              |23763|\n",
            "|/images/MOSAIC-logosmall.gif           |15245|\n",
            "|/images/USA-logosmall.gif              |15142|\n",
            "|/images/WORLD-logosmall.gif            |14773|\n",
            "|/images/ksclogo-medium.gif             |13559|\n",
            "|/images/launch-logo.gif                |8806 |\n",
            "|/history/apollo/images/apollo-logo1.gif|7489 |\n",
            "|/                                      |6296 |\n",
            "|/images/ksclogosmall.gif               |5669 |\n",
            "+---------------------------------------+-----+\n",
            "only showing top 10 rows\n",
            "\n"
          ],
          "name": "stdout"
        }
      ]
    },
    {
      "cell_type": "markdown",
      "metadata": {
        "id": "ij1wJnMwXvDm"
      },
      "source": [
        "## Example: Number of Unique Daily Hosts\n",
        "\n",
        "For an advanced example, let's look at a way to determine the number of unique hosts in the entire log on a day-by-day basis. This computation will give us counts of the number of unique daily hosts. \n",
        "\n",
        "We'd like a DataFrame sorted by increasing day of the month which includes the day of the month and the associated number of unique hosts for that day. \n",
        "\n",
        "Think about the steps that you need to perform to count the number of different hosts that make requests *each* day.\n",
        "*Since the log only covers a single month, you can ignore the month.*  You may want to use the [`dayofmonth` function](https://spark.apache.org/docs/latest/api/python/pyspark.sql.html#pyspark.sql.functions.dayofmonth) in the `pyspark.sql.functions` module (which we have already imported as __`F`__.\n",
        "\n",
        "\n",
        "**`host_day_df`**\n",
        "\n",
        "A DataFrame with two columns\n",
        "\n",
        "| column | explanation          |\n",
        "| ------ | -------------------- |\n",
        "| `host` | the host name        |\n",
        "| `day`  | the day of the month |\n",
        "\n",
        "There will be one row in this DataFrame for each row in `logs_df`. Essentially, we are just transforming each row of `logs_df`. For example, for this row in `logs_df`:\n",
        "\n",
        "```\n",
        "unicomp6.unicomp.net - - [01/Aug/1995:00:35:41 -0400] \"GET /shuttle/missions/sts-73/news HTTP/1.0\" 302 -\n",
        "```\n",
        "\n",
        "your `host_day_df` should have:\n",
        "\n",
        "```\n",
        "unicomp6.unicomp.net 1\n",
        "```"
      ]
    },
    {
      "cell_type": "code",
      "metadata": {
        "colab": {
          "base_uri": "https://localhost:8080/"
        },
        "id": "c0i7-gm9XvDm",
        "outputId": "82307a24-219c-45a3-da4d-c686d15917ef"
      },
      "source": [
        "host_day_df = logs_df.select(logs_df.host, \n",
        "                             F.dayofmonth('time').alias('day'))\n",
        "host_day_df.show(5, truncate=False)"
      ],
      "execution_count": 56,
      "outputs": [
        {
          "output_type": "stream",
          "text": [
            "+-----------------+---+\n",
            "|host             |day|\n",
            "+-----------------+---+\n",
            "|in24.inetnebr.com|1  |\n",
            "|uplherc.upl.com  |1  |\n",
            "|uplherc.upl.com  |1  |\n",
            "|uplherc.upl.com  |1  |\n",
            "|uplherc.upl.com  |1  |\n",
            "+-----------------+---+\n",
            "only showing top 5 rows\n",
            "\n"
          ],
          "name": "stdout"
        }
      ]
    },
    {
      "cell_type": "markdown",
      "metadata": {
        "id": "HRu_5V4bXvDs"
      },
      "source": [
        "**`host_day_distinct_df`**\n",
        "\n",
        "This DataFrame has the same columns as `host_day_distinct_df`, but with duplicate (`day`, `host`) rows removed."
      ]
    },
    {
      "cell_type": "code",
      "metadata": {
        "colab": {
          "base_uri": "https://localhost:8080/"
        },
        "id": "be9KD86vXvDt",
        "outputId": "22f69dc4-5116-422e-9796-08539fb5f037"
      },
      "source": [
        "host_day_distinct_df = (host_day_df\n",
        "                          .dropDuplicates())\n",
        "host_day_distinct_df.show(5, truncate=False)"
      ],
      "execution_count": 57,
      "outputs": [
        {
          "output_type": "stream",
          "text": [
            "+------------------------+---+\n",
            "|host                    |day|\n",
            "+------------------------+---+\n",
            "|194.96.3.34             |1  |\n",
            "|132.165.96.3            |1  |\n",
            "|slip37-202.il.us.ibm.net|1  |\n",
            "|199.1.50.225            |1  |\n",
            "|ppp1004.po.iijnet.or.jp |1  |\n",
            "+------------------------+---+\n",
            "only showing top 5 rows\n",
            "\n"
          ],
          "name": "stdout"
        }
      ]
    },
    {
      "cell_type": "markdown",
      "metadata": {
        "id": "OlCEA952XvDv"
      },
      "source": [
        "**`daily_unique_hosts_df`**\n",
        "\n",
        "A DataFrame with two columns:\n",
        "\n",
        "| column  | explanation                                        |\n",
        "| ------- | -------------------------------------------------- |\n",
        "| `day`   | the day of the month                               |\n",
        "| `count` | the number of unique requesting hosts for that day |"
      ]
    },
    {
      "cell_type": "code",
      "metadata": {
        "colab": {
          "base_uri": "https://localhost:8080/",
          "height": 131
        },
        "id": "TrVQJOKPXvDv",
        "outputId": "6ae1b053-648e-43cf-c6da-ffe559a9af2d"
      },
      "source": [
        "daily_hosts_df = (host_day_distinct_df\n",
        "                     .groupBy('day')\n",
        "                     .count()\n",
        "                     .sort(\"day\"))\n",
        "daily_hosts_df = daily_hosts_df.toPandas()\n",
        "daily_hosts_df.T                            #(.T) gives the Transpose"
      ],
      "execution_count": 58,
      "outputs": [
        {
          "output_type": "execute_result",
          "data": {
            "text/html": [
              "<div>\n",
              "<style scoped>\n",
              "    .dataframe tbody tr th:only-of-type {\n",
              "        vertical-align: middle;\n",
              "    }\n",
              "\n",
              "    .dataframe tbody tr th {\n",
              "        vertical-align: top;\n",
              "    }\n",
              "\n",
              "    .dataframe thead th {\n",
              "        text-align: right;\n",
              "    }\n",
              "</style>\n",
              "<table border=\"1\" class=\"dataframe\">\n",
              "  <thead>\n",
              "    <tr style=\"text-align: right;\">\n",
              "      <th></th>\n",
              "      <th>0</th>\n",
              "      <th>1</th>\n",
              "      <th>2</th>\n",
              "      <th>3</th>\n",
              "      <th>4</th>\n",
              "      <th>5</th>\n",
              "      <th>6</th>\n",
              "      <th>7</th>\n",
              "      <th>8</th>\n",
              "      <th>9</th>\n",
              "      <th>10</th>\n",
              "      <th>11</th>\n",
              "      <th>12</th>\n",
              "      <th>13</th>\n",
              "      <th>14</th>\n",
              "      <th>15</th>\n",
              "      <th>16</th>\n",
              "      <th>17</th>\n",
              "      <th>18</th>\n",
              "      <th>19</th>\n",
              "      <th>20</th>\n",
              "      <th>21</th>\n",
              "      <th>22</th>\n",
              "      <th>23</th>\n",
              "      <th>24</th>\n",
              "      <th>25</th>\n",
              "      <th>26</th>\n",
              "      <th>27</th>\n",
              "      <th>28</th>\n",
              "      <th>29</th>\n",
              "      <th>30</th>\n",
              "    </tr>\n",
              "  </thead>\n",
              "  <tbody>\n",
              "    <tr>\n",
              "      <th>day</th>\n",
              "      <td>1</td>\n",
              "      <td>2</td>\n",
              "      <td>3</td>\n",
              "      <td>4</td>\n",
              "      <td>5</td>\n",
              "      <td>6</td>\n",
              "      <td>7</td>\n",
              "      <td>8</td>\n",
              "      <td>9</td>\n",
              "      <td>10</td>\n",
              "      <td>11</td>\n",
              "      <td>12</td>\n",
              "      <td>13</td>\n",
              "      <td>14</td>\n",
              "      <td>15</td>\n",
              "      <td>16</td>\n",
              "      <td>17</td>\n",
              "      <td>18</td>\n",
              "      <td>19</td>\n",
              "      <td>20</td>\n",
              "      <td>21</td>\n",
              "      <td>22</td>\n",
              "      <td>23</td>\n",
              "      <td>24</td>\n",
              "      <td>25</td>\n",
              "      <td>26</td>\n",
              "      <td>27</td>\n",
              "      <td>28</td>\n",
              "      <td>29</td>\n",
              "      <td>30</td>\n",
              "      <td>31</td>\n",
              "    </tr>\n",
              "    <tr>\n",
              "      <th>count</th>\n",
              "      <td>7609</td>\n",
              "      <td>4858</td>\n",
              "      <td>10238</td>\n",
              "      <td>9411</td>\n",
              "      <td>9640</td>\n",
              "      <td>10133</td>\n",
              "      <td>10048</td>\n",
              "      <td>7112</td>\n",
              "      <td>6699</td>\n",
              "      <td>8532</td>\n",
              "      <td>8786</td>\n",
              "      <td>8135</td>\n",
              "      <td>9567</td>\n",
              "      <td>9302</td>\n",
              "      <td>7126</td>\n",
              "      <td>7143</td>\n",
              "      <td>8840</td>\n",
              "      <td>8262</td>\n",
              "      <td>7237</td>\n",
              "      <td>7072</td>\n",
              "      <td>8036</td>\n",
              "      <td>6828</td>\n",
              "      <td>6797</td>\n",
              "      <td>7946</td>\n",
              "      <td>8333</td>\n",
              "      <td>6741</td>\n",
              "      <td>6846</td>\n",
              "      <td>6090</td>\n",
              "      <td>4825</td>\n",
              "      <td>5265</td>\n",
              "      <td>5913</td>\n",
              "    </tr>\n",
              "  </tbody>\n",
              "</table>\n",
              "</div>"
            ],
            "text/plain": [
              "         0     1      2     3     4      5   ...    25    26    27    28    29    30\n",
              "day       1     2      3     4     5      6  ...    26    27    28    29    30    31\n",
              "count  7609  4858  10238  9411  9640  10133  ...  6741  6846  6090  4825  5265  5913\n",
              "\n",
              "[2 rows x 31 columns]"
            ]
          },
          "metadata": {
            "tags": []
          },
          "execution_count": 58
        }
      ]
    },
    {
      "cell_type": "code",
      "metadata": {
        "colab": {
          "base_uri": "https://localhost:8080/",
          "height": 296
        },
        "id": "PUdqNQHiXvDz",
        "outputId": "3ccd9062-ae49-4a6f-839b-5ad5808ffee7"
      },
      "source": [
        "daily_hosts_df.plot(x='day', y='count', kind='line')"
      ],
      "execution_count": 59,
      "outputs": [
        {
          "output_type": "execute_result",
          "data": {
            "text/plain": [
              "<matplotlib.axes._subplots.AxesSubplot at 0x7f1348d174d0>"
            ]
          },
          "metadata": {
            "tags": []
          },
          "execution_count": 59
        },
        {
          "output_type": "display_data",
          "data": {
            "image/png": "[encoded data removed]",
            "text/plain": [
              "<Figure size 432x288 with 1 Axes>"
            ]
          },
          "metadata": {
            "tags": [],
            "needs_background": "light"
          }
        }
      ]
    },
    {
      "cell_type": "markdown",
      "metadata": {
        "id": "O5M-HoWHXvD1"
      },
      "source": [
        "## Your Turn: Q9: Counting 404 Response Codes\n",
        "\n",
        "Create a DataFrame containing only log records with a 404 status code (Not Found). \n",
        "\n",
        "Make sure you `cache()` the `not_found_df` dataframe as we will use it in the rest of the exercises here.\n",
        "\n",
        "__How many 404 records are in the log?__"
      ]
    },
    {
      "cell_type": "markdown",
      "metadata": {
        "id": "-a0GJxCi-oXo"
      },
      "source": [
        "## **Q9: Answer**"
      ]
    },
    {
      "cell_type": "code",
      "metadata": {
        "colab": {
          "base_uri": "https://localhost:8080/"
        },
        "id": "XovkxrduXvD2",
        "outputId": "8b86f8ba-db8b-4c68-b0df-9397584721e1"
      },
      "source": [
        "not_found_df = logs_df.filter(logs_df['status'].rlike(r'404')).cache()\n",
        "\n",
        "print(('Total 404 responses: {}').format(not_found_df.count()))"
      ],
      "execution_count": 60,
      "outputs": [
        {
          "output_type": "stream",
          "text": [
            "Total 404 responses: 20899\n"
          ],
          "name": "stdout"
        }
      ]
    },
    {
      "cell_type": "markdown",
      "metadata": {
        "id": "wdwYDLCnXvD5"
      },
      "source": [
        "## Your Turn: Q10: Listing the Top Twenty 404 Response Code Endpoints\n",
        "\n",
        "Using the DataFrame containing only log records with a 404 response code that you cached in Q9, print out a list of the top twenty endpoints that generate the most 404 errors.\n",
        "\n",
        "*Remember, top endpoints should be in sorted order*"
      ]
    },
    {
      "cell_type": "markdown",
      "metadata": {
        "id": "EnHi7NZc-tAy"
      },
      "source": [
        "## **Q10: Answer**"
      ]
    },
    {
      "cell_type": "code",
      "metadata": {
        "colab": {
          "base_uri": "https://localhost:8080/"
        },
        "id": "Gv3egQAEXvD5",
        "outputId": "985597b3-aa7b-463a-a571-2829ef18b7b6"
      },
      "source": [
        "hosts_404_count_df = (not_found_df\n",
        "                          .groupBy('endpoint')\n",
        "                          .count()\n",
        "                          .sort(col('count').desc())\n",
        "                          )\n",
        "\n",
        "hosts_404_count_df.show(20, truncate=False)"
      ],
      "execution_count": 61,
      "outputs": [
        {
          "output_type": "stream",
          "text": [
            "+-----------------------------------------------------------------+-----+\n",
            "|endpoint                                                         |count|\n",
            "+-----------------------------------------------------------------+-----+\n",
            "|/pub/winvn/readme.txt                                            |2004 |\n",
            "|/pub/winvn/release.txt                                           |1732 |\n",
            "|/shuttle/missions/STS-69/mission-STS-69.html                     |683  |\n",
            "|/shuttle/missions/sts-68/ksc-upclose.gif                         |428  |\n",
            "|/history/apollo/a-001/a-001-patch-small.gif                      |384  |\n",
            "|/history/apollo/sa-1/sa-1-patch-small.gif                        |383  |\n",
            "|/://spacelink.msfc.nasa.gov                                      |381  |\n",
            "|/images/crawlerway-logo.gif                                      |374  |\n",
            "|/elv/DELTA/uncons.htm                                            |372  |\n",
            "|/history/apollo/pad-abort-test-1/pad-abort-test-1-patch-small.gif|359  |\n",
            "|/images/nasa-logo.gif                                            |319  |\n",
            "|/shuttle/resources/orbiters/atlantis.gif                         |314  |\n",
            "|/history/apollo/apollo-13.html                                   |304  |\n",
            "|/shuttle/resources/orbiters/discovery.gif                        |263  |\n",
            "|/shuttle/missions/sts-71/images/KSC-95EC-0916.txt                |190  |\n",
            "|/shuttle/resources/orbiters/challenger.gif                       |170  |\n",
            "|/shuttle/missions/technology/sts-newsref/stsref-toc.html         |158  |\n",
            "|/history/apollo/images/little-joe.jpg                            |150  |\n",
            "|/images/lf-logo.gif                                              |143  |\n",
            "|/history/apollo/publications/sp-350/sp-350.txt~                  |140  |\n",
            "+-----------------------------------------------------------------+-----+\n",
            "only showing top 20 rows\n",
            "\n"
          ],
          "name": "stdout"
        }
      ]
    },
    {
      "cell_type": "markdown",
      "metadata": {
        "id": "UpQl8xaPXvD8"
      },
      "source": [
        "## Your Turn: Q11: Visualizing 404 Errors per Day\n",
        "\n",
        "Let's explore the 404 records temporally now. Similar to the example showing the number of unique daily hosts, break down the 404 requests by day and get the daily counts sorted by day in `errors_by_date_sorted_df`.\n",
        "\n",
        "- Display the results as a pandas dataframe \n",
        "- Also visualize the same dataframe then as a line chart"
      ]
    },
    {
      "cell_type": "markdown",
      "metadata": {
        "id": "sc3Ap3D2-yXy"
      },
      "source": [
        "## **Q11: Answer**"
      ]
    },
    {
      "cell_type": "code",
      "metadata": {
        "colab": {
          "base_uri": "https://localhost:8080/",
          "height": 131
        },
        "id": "69N8tHpzXvD9",
        "outputId": "def8b231-8a69-42fd-f29b-743c46d38d3c"
      },
      "source": [
        "errors_by_date_sorted_df = (not_found_df\n",
        "                                  .drop_duplicates()\n",
        "                                  .select(not_found_df.status, \n",
        "                                           F.dayofmonth('time').alias('day'))\n",
        "                                  .groupBy('day')\n",
        "                                  .count()\n",
        "                                  .sort(col('day')))\n",
        "\n",
        "errors_by_date_sorted_df = errors_by_date_sorted_df.toPandas()\n",
        "errors_by_date_sorted_df.T"
      ],
      "execution_count": 62,
      "outputs": [
        {
          "output_type": "execute_result",
          "data": {
            "text/html": [
              "<div>\n",
              "<style scoped>\n",
              "    .dataframe tbody tr th:only-of-type {\n",
              "        vertical-align: middle;\n",
              "    }\n",
              "\n",
              "    .dataframe tbody tr th {\n",
              "        vertical-align: top;\n",
              "    }\n",
              "\n",
              "    .dataframe thead th {\n",
              "        text-align: right;\n",
              "    }\n",
              "</style>\n",
              "<table border=\"1\" class=\"dataframe\">\n",
              "  <thead>\n",
              "    <tr style=\"text-align: right;\">\n",
              "      <th></th>\n",
              "      <th>0</th>\n",
              "      <th>1</th>\n",
              "      <th>2</th>\n",
              "      <th>3</th>\n",
              "      <th>4</th>\n",
              "      <th>5</th>\n",
              "      <th>6</th>\n",
              "      <th>7</th>\n",
              "      <th>8</th>\n",
              "      <th>9</th>\n",
              "      <th>10</th>\n",
              "      <th>11</th>\n",
              "      <th>12</th>\n",
              "      <th>13</th>\n",
              "      <th>14</th>\n",
              "      <th>15</th>\n",
              "      <th>16</th>\n",
              "      <th>17</th>\n",
              "      <th>18</th>\n",
              "      <th>19</th>\n",
              "      <th>20</th>\n",
              "      <th>21</th>\n",
              "      <th>22</th>\n",
              "      <th>23</th>\n",
              "      <th>24</th>\n",
              "      <th>25</th>\n",
              "      <th>26</th>\n",
              "      <th>27</th>\n",
              "      <th>28</th>\n",
              "      <th>29</th>\n",
              "      <th>30</th>\n",
              "    </tr>\n",
              "  </thead>\n",
              "  <tbody>\n",
              "    <tr>\n",
              "      <th>day</th>\n",
              "      <td>1</td>\n",
              "      <td>2</td>\n",
              "      <td>3</td>\n",
              "      <td>4</td>\n",
              "      <td>5</td>\n",
              "      <td>6</td>\n",
              "      <td>7</td>\n",
              "      <td>8</td>\n",
              "      <td>9</td>\n",
              "      <td>10</td>\n",
              "      <td>11</td>\n",
              "      <td>12</td>\n",
              "      <td>13</td>\n",
              "      <td>14</td>\n",
              "      <td>15</td>\n",
              "      <td>16</td>\n",
              "      <td>17</td>\n",
              "      <td>18</td>\n",
              "      <td>19</td>\n",
              "      <td>20</td>\n",
              "      <td>21</td>\n",
              "      <td>22</td>\n",
              "      <td>23</td>\n",
              "      <td>24</td>\n",
              "      <td>25</td>\n",
              "      <td>26</td>\n",
              "      <td>27</td>\n",
              "      <td>28</td>\n",
              "      <td>29</td>\n",
              "      <td>30</td>\n",
              "      <td>31</td>\n",
              "    </tr>\n",
              "    <tr>\n",
              "      <th>count</th>\n",
              "      <td>559</td>\n",
              "      <td>290</td>\n",
              "      <td>776</td>\n",
              "      <td>704</td>\n",
              "      <td>732</td>\n",
              "      <td>1006</td>\n",
              "      <td>1106</td>\n",
              "      <td>691</td>\n",
              "      <td>627</td>\n",
              "      <td>709</td>\n",
              "      <td>730</td>\n",
              "      <td>660</td>\n",
              "      <td>748</td>\n",
              "      <td>698</td>\n",
              "      <td>580</td>\n",
              "      <td>514</td>\n",
              "      <td>675</td>\n",
              "      <td>717</td>\n",
              "      <td>848</td>\n",
              "      <td>727</td>\n",
              "      <td>639</td>\n",
              "      <td>478</td>\n",
              "      <td>578</td>\n",
              "      <td>747</td>\n",
              "      <td>874</td>\n",
              "      <td>701</td>\n",
              "      <td>704</td>\n",
              "      <td>497</td>\n",
              "      <td>418</td>\n",
              "      <td>571</td>\n",
              "      <td>526</td>\n",
              "    </tr>\n",
              "  </tbody>\n",
              "</table>\n",
              "</div>"
            ],
            "text/plain": [
              "        0    1    2    3    4     5     6   ...   24   25   26   27   28   29   30\n",
              "day      1    2    3    4    5     6     7  ...   25   26   27   28   29   30   31\n",
              "count  559  290  776  704  732  1006  1106  ...  874  701  704  497  418  571  526\n",
              "\n",
              "[2 rows x 31 columns]"
            ]
          },
          "metadata": {
            "tags": []
          },
          "execution_count": 62
        }
      ]
    },
    {
      "cell_type": "code",
      "metadata": {
        "colab": {
          "base_uri": "https://localhost:8080/",
          "height": 296
        },
        "id": "y-pFX8dJXvD_",
        "outputId": "c1bed83a-b436-48c0-ea7c-c229e731f18c"
      },
      "source": [
        "errors_by_date_sorted_df.plot(x='day', y='count', kind='line')"
      ],
      "execution_count": 63,
      "outputs": [
        {
          "output_type": "execute_result",
          "data": {
            "text/plain": [
              "<matplotlib.axes._subplots.AxesSubplot at 0x7f1346950bd0>"
            ]
          },
          "metadata": {
            "tags": []
          },
          "execution_count": 63
        },
        {
          "output_type": "display_data",
          "data": {
            "image/png": "[encoded data removed]",
            "text/plain": [
              "<Figure size 432x288 with 1 Axes>"
            ]
          },
          "metadata": {
            "tags": [],
            "needs_background": "light"
          }
        }
      ]
    },
    {
      "cell_type": "markdown",
      "metadata": {
        "id": "lRY2RYHeXvED"
      },
      "source": [
        "## Your Turn: Q12: Visualizing Hourly 404 Errors\n",
        "\n",
        "Using the DataFrame `not_found_df` you cached in the Q10, group and sort by hour of the day in increasing order, to create a DataFrame containing the total number of 404 responses for HTTP requests for each hour of the day (midnight starts at 0). \n",
        "\n",
        "- Remember to check out the [__hour__](https://spark.apache.org/docs/latest/api/python/pyspark.sql.html#pyspark.sql.functions.hour) function and use it (we have already imported __`pyspark.sql.functions`__ as __`F`__ earlier\n",
        "- Output should be a bar graph displaying the total number of 404 errors per hour"
      ]
    },
    {
      "cell_type": "markdown",
      "metadata": {
        "id": "Xcafz-7M-52q"
      },
      "source": [
        "## **Q12: Answer**"
      ]
    },
    {
      "cell_type": "code",
      "metadata": {
        "colab": {
          "base_uri": "https://localhost:8080/",
          "height": 131
        },
        "id": "T7Y0Dbz3XvEF",
        "outputId": "4d81c029-8923-408a-9194-10f37fc0a876"
      },
      "source": [
        "hourly_avg_errors_sorted_df = (not_found_df\n",
        "                                  .drop_duplicates()\n",
        "                                  .select(not_found_df.status, \n",
        "                                           F.hour('time').alias('hour'))\n",
        "                                  .groupBy('hour')\n",
        "                                  .count()\n",
        "                                  .sort(col('hour')))\n",
        "\n",
        "hourly_avg_errors_sorted_df = hourly_avg_errors_sorted_df.toPandas()\n",
        "hourly_avg_errors_sorted_df.T"
      ],
      "execution_count": 64,
      "outputs": [
        {
          "output_type": "execute_result",
          "data": {
            "text/html": [
              "<div>\n",
              "<style scoped>\n",
              "    .dataframe tbody tr th:only-of-type {\n",
              "        vertical-align: middle;\n",
              "    }\n",
              "\n",
              "    .dataframe tbody tr th {\n",
              "        vertical-align: top;\n",
              "    }\n",
              "\n",
              "    .dataframe thead th {\n",
              "        text-align: right;\n",
              "    }\n",
              "</style>\n",
              "<table border=\"1\" class=\"dataframe\">\n",
              "  <thead>\n",
              "    <tr style=\"text-align: right;\">\n",
              "      <th></th>\n",
              "      <th>0</th>\n",
              "      <th>1</th>\n",
              "      <th>2</th>\n",
              "      <th>3</th>\n",
              "      <th>4</th>\n",
              "      <th>5</th>\n",
              "      <th>6</th>\n",
              "      <th>7</th>\n",
              "      <th>8</th>\n",
              "      <th>9</th>\n",
              "      <th>10</th>\n",
              "      <th>11</th>\n",
              "      <th>12</th>\n",
              "      <th>13</th>\n",
              "      <th>14</th>\n",
              "      <th>15</th>\n",
              "      <th>16</th>\n",
              "      <th>17</th>\n",
              "      <th>18</th>\n",
              "      <th>19</th>\n",
              "      <th>20</th>\n",
              "      <th>21</th>\n",
              "      <th>22</th>\n",
              "      <th>23</th>\n",
              "    </tr>\n",
              "  </thead>\n",
              "  <tbody>\n",
              "    <tr>\n",
              "      <th>hour</th>\n",
              "      <td>0</td>\n",
              "      <td>1</td>\n",
              "      <td>2</td>\n",
              "      <td>3</td>\n",
              "      <td>4</td>\n",
              "      <td>5</td>\n",
              "      <td>6</td>\n",
              "      <td>7</td>\n",
              "      <td>8</td>\n",
              "      <td>9</td>\n",
              "      <td>10</td>\n",
              "      <td>11</td>\n",
              "      <td>12</td>\n",
              "      <td>13</td>\n",
              "      <td>14</td>\n",
              "      <td>15</td>\n",
              "      <td>16</td>\n",
              "      <td>17</td>\n",
              "      <td>18</td>\n",
              "      <td>19</td>\n",
              "      <td>20</td>\n",
              "      <td>21</td>\n",
              "      <td>22</td>\n",
              "      <td>23</td>\n",
              "    </tr>\n",
              "    <tr>\n",
              "      <th>count</th>\n",
              "      <td>774</td>\n",
              "      <td>641</td>\n",
              "      <td>868</td>\n",
              "      <td>601</td>\n",
              "      <td>349</td>\n",
              "      <td>307</td>\n",
              "      <td>269</td>\n",
              "      <td>452</td>\n",
              "      <td>703</td>\n",
              "      <td>839</td>\n",
              "      <td>1074</td>\n",
              "      <td>1159</td>\n",
              "      <td>1301</td>\n",
              "      <td>1151</td>\n",
              "      <td>1268</td>\n",
              "      <td>1378</td>\n",
              "      <td>1179</td>\n",
              "      <td>1203</td>\n",
              "      <td>928</td>\n",
              "      <td>851</td>\n",
              "      <td>812</td>\n",
              "      <td>876</td>\n",
              "      <td>914</td>\n",
              "      <td>933</td>\n",
              "    </tr>\n",
              "  </tbody>\n",
              "</table>\n",
              "</div>"
            ],
            "text/plain": [
              "        0    1    2    3    4    5    6   ...    17   18   19   20   21   22   23\n",
              "hour     0    1    2    3    4    5    6  ...    17   18   19   20   21   22   23\n",
              "count  774  641  868  601  349  307  269  ...  1203  928  851  812  876  914  933\n",
              "\n",
              "[2 rows x 24 columns]"
            ]
          },
          "metadata": {
            "tags": []
          },
          "execution_count": 64
        }
      ]
    },
    {
      "cell_type": "code",
      "metadata": {
        "colab": {
          "base_uri": "https://localhost:8080/",
          "height": 299
        },
        "id": "R1vsAPs1XvEJ",
        "outputId": "e0df5b05-8053-4e10-b0a6-f06f90b03615"
      },
      "source": [
        "hourly_avg_errors_sorted_df.plot(x='hour', y='count', kind='bar')"
      ],
      "execution_count": 65,
      "outputs": [
        {
          "output_type": "execute_result",
          "data": {
            "text/plain": [
              "<matplotlib.axes._subplots.AxesSubplot at 0x7f1347505d10>"
            ]
          },
          "metadata": {
            "tags": []
          },
          "execution_count": 65
        },
        {
          "output_type": "display_data",
          "data": {
            "image/png": "[encoded data removed]",
            "text/plain": [
              "<Figure size 432x288 with 1 Axes>"
            ]
          },
          "metadata": {
            "tags": [],
            "needs_background": "light"
          }
        }
      ]
    },
    {
      "cell_type": "markdown",
      "metadata": {
        "id": "GYWAsa8mY425"
      },
      "source": [
        "# Load Data"
      ]
    },
    {
      "cell_type": "markdown",
      "metadata": {
        "id": "woEUWlYCY9h0"
      },
      "source": [
        "Up till now, you have completed data extraction, data transformation, and some exploratory data analysis. In the end of this project, we will complete the last step of ETL process: data loading, so the data after  your processing, wrangling, cleaning, can be used by either yourself or other colleagues later. Since we have gone through a few iteration of data processing and data wrangling, it is a good idea to make sure which one is the current dataframe you want to store and load."
      ]
    },
    {
      "cell_type": "markdown",
      "metadata": {
        "id": "gde50KFwZCyR"
      },
      "source": [
        "## Your Turn: Q13: Check data integrity before loading"
      ]
    },
    {
      "cell_type": "markdown",
      "metadata": {
        "id": "o_9Qqg4l_BGN"
      },
      "source": [
        "## **Q13: Answer**"
      ]
    },
    {
      "cell_type": "code",
      "metadata": {
        "colab": {
          "base_uri": "https://localhost:8080/"
        },
        "id": "Jp9HtJDZZDgm",
        "outputId": "e2c151ac-eed0-4728-ab58-2dca33ac8710"
      },
      "source": [
        "#Review the data frame you will like to store and load\n",
        "\n",
        "print(logs_df.count())\n",
        "print(logs_df.columns)"
      ],
      "execution_count": 66,
      "outputs": [
        {
          "output_type": "stream",
          "text": [
            "3461612\n",
            "['host', 'method', 'endpoint', 'protocol', 'status', 'content_size', 'time']\n"
          ],
          "name": "stdout"
        }
      ]
    },
    {
      "cell_type": "markdown",
      "metadata": {
        "id": "6KT_ajIJZFsi"
      },
      "source": [
        "To save your dataframe in CSV file format, you call simply replace the name of the dataframe and assign file name in the following:"
      ]
    },
    {
      "cell_type": "markdown",
      "metadata": {
        "id": "GuiBAZEqZJT1"
      },
      "source": [
        "## Your Turn: Q14: Save your data as a CSV file"
      ]
    },
    {
      "cell_type": "markdown",
      "metadata": {
        "id": "E9NEe5Fv_OSL"
      },
      "source": [
        "## **Q14: Answer**"
      ]
    },
    {
      "cell_type": "code",
      "metadata": {
        "id": "DHLpKGA7ZP8P"
      },
      "source": [
        "#Review the data frame you will like to store and load into a csv file.\n",
        "\n",
        "logs_df.write.save(\"NASA_logs_JulToAug.csv\", format = 'csv')"
      ],
      "execution_count": 67,
      "outputs": []
    },
    {
      "cell_type": "code",
      "metadata": {
        "colab": {
          "base_uri": "https://localhost:8080/"
        },
        "id": "EJN6Xy76ZTkW",
        "outputId": "2a6bc07c-fb54-486e-ee2e-9cf3fc4bbfe8"
      },
      "source": [
        "#Check to see if you have stored and loaded the CSV file successfully by checking the first 5 rows. \n",
        "\n",
        "spark\\\n",
        "\t.sparkContext\\\n",
        "\t.textFile(\"NASA_logs_JulToAug.csv\")\\\n",
        "\t.take(5)"
      ],
      "execution_count": 68,
      "outputs": [
        {
          "output_type": "execute_result",
          "data": {
            "text/plain": [
              "['gk-west.usps.gov,GET,/images/MOSAIC-logosmall.gif,HTTP/1.0,200,363,1995-07-17T13:25:22.000Z',\n",
              " 'shooter.bluemarble.net,GET,\"/cgi-bin/imagemap/countdown70?169,290\",HTTP/1.0,302,110,1995-07-17T13:25:23.000Z',\n",
              " 'ppp02-13.net.uoguelph.ca,GET,/shuttle/missions/sts-64/mission-sts-64.html,HTTP/1.0,200,58176,1995-07-17T13:25:24.000Z',\n",
              " 'gk-west.usps.gov,GET,/images/USA-logosmall.gif,HTTP/1.0,200,234,1995-07-17T13:25:24.000Z',\n",
              " 'shooter.bluemarble.net,GET,/shuttle/missions/sts-70/movies/movies.html,HTTP/1.0,200,2435,1995-07-17T13:25:24.000Z']"
            ]
          },
          "metadata": {
            "tags": []
          },
          "execution_count": 68
        }
      ]
    },
    {
      "cell_type": "markdown",
      "metadata": {
        "id": "nkz9rKU3ZV7S"
      },
      "source": [
        "Similarly, you can also store and load your dataframe as a JSON file by completing the following:"
      ]
    },
    {
      "cell_type": "markdown",
      "metadata": {
        "id": "l6N5oSjgZaiX"
      },
      "source": [
        "## Your Turn: Q15: Save your data as a JSON file"
      ]
    },
    {
      "cell_type": "markdown",
      "metadata": {
        "id": "eU-CBRNZ_ZT_"
      },
      "source": [
        "## **Q15: Answer**"
      ]
    },
    {
      "cell_type": "code",
      "metadata": {
        "id": "nPp5cHZeZZCQ"
      },
      "source": [
        "#Review the data frame you will like to store and load into a json file. \n",
        "\n",
        "logs_df.write.save(\"NASA_logs_JulToAug.json\", format = 'json')"
      ],
      "execution_count": 69,
      "outputs": []
    },
    {
      "cell_type": "code",
      "metadata": {
        "colab": {
          "base_uri": "https://localhost:8080/"
        },
        "id": "56w3oyaOZgiE",
        "outputId": "e4f8e43d-6541-40a2-ebe6-cc369a72f797"
      },
      "source": [
        "#Similarly, check the first 5 rows in the JSON file.\n",
        "\n",
        "spark\\\n",
        "\t.sparkContext\\\n",
        "\t.textFile(\"NASA_logs_JulToAug.json\")\\\n",
        "\t.take(5)"
      ],
      "execution_count": 70,
      "outputs": [
        {
          "output_type": "execute_result",
          "data": {
            "text/plain": [
              "['{\"host\":\"in24.inetnebr.com\",\"method\":\"GET\",\"endpoint\":\"/shuttle/missions/sts-68/news/sts-68-mcc-05.txt\",\"protocol\":\"HTTP/1.0\",\"status\":200,\"content_size\":1839,\"time\":\"1995-08-01T00:00:01.000Z\"}',\n",
              " '{\"host\":\"uplherc.upl.com\",\"method\":\"GET\",\"endpoint\":\"/\",\"protocol\":\"HTTP/1.0\",\"status\":304,\"content_size\":0,\"time\":\"1995-08-01T00:00:07.000Z\"}',\n",
              " '{\"host\":\"uplherc.upl.com\",\"method\":\"GET\",\"endpoint\":\"/images/ksclogo-medium.gif\",\"protocol\":\"HTTP/1.0\",\"status\":304,\"content_size\":0,\"time\":\"1995-08-01T00:00:08.000Z\"}',\n",
              " '{\"host\":\"uplherc.upl.com\",\"method\":\"GET\",\"endpoint\":\"/images/MOSAIC-logosmall.gif\",\"protocol\":\"HTTP/1.0\",\"status\":304,\"content_size\":0,\"time\":\"1995-08-01T00:00:08.000Z\"}',\n",
              " '{\"host\":\"uplherc.upl.com\",\"method\":\"GET\",\"endpoint\":\"/images/USA-logosmall.gif\",\"protocol\":\"HTTP/1.0\",\"status\":304,\"content_size\":0,\"time\":\"1995-08-01T00:00:08.000Z\"}']"
            ]
          },
          "metadata": {
            "tags": []
          },
          "execution_count": 70
        }
      ]
    },
    {
      "cell_type": "markdown",
      "metadata": {
        "id": "P9zYYUIcZjUU"
      },
      "source": [
        "There is a lot more you can do about data storing and loading in terms of data formats and settings. Check out more about these options [__here__](https://spark.apache.org/docs/latest/sql-data-sources-load-save-functions.html)."
      ]
    },
    {
      "cell_type": "markdown",
      "metadata": {
        "id": "lLXpioWzZlug"
      },
      "source": [
        "### Congratulations! You have finished the mini-project for this unit!"
      ]
    }
  ]
}