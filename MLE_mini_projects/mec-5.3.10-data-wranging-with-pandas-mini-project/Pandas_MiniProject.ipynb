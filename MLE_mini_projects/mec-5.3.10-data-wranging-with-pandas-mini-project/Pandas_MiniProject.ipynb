{
  "nbformat": 4,
  "nbformat_minor": 0,
  "metadata": {
    "kernelspec": {
      "display_name": "Python 3",
      "language": "python",
      "name": "python3"
    },
    "language_info": {
      "codemirror_mode": {
        "name": "ipython",
        "version": 3
      },
      "file_extension": ".py",
      "mimetype": "text/x-python",
      "name": "python",
      "nbconvert_exporter": "python",
      "pygments_lexer": "ipython3",
      "version": "3.7.6"
    },
    "colab": {
      "name": "Pandas_MiniProject.ipynb",
      "provenance": [],
      "collapsed_sections": [],
      "toc_visible": true
    }
  },
  "cells": [
    {
      "cell_type": "markdown",
      "metadata": {
        "id": "_go2X5AC-mKJ"
      },
      "source": [
        "# Mini-Project: Data Wrangling and Transformation with Pandas\n",
        "\n",
        "Working with tabular data is a necessity for anyone with enterprises having a majority of their data in relational databases and flat files. This mini-project is adopted from the excellent tutorial on pandas by Brandon Rhodes which you have watched earlier in the Data Wrangling Unit. In this mini-project, we will be looking at some interesting data based on movie data from the IMDB.\n",
        "\n",
        "This assignment should help you reinforce the concepts you learnt in the curriculum for Data Wrangling and sharpen your skills in using Pandas. Good Luck!"
      ]
    },
    {
      "cell_type": "markdown",
      "metadata": {
        "id": "mEYwXyY--mKc"
      },
      "source": [
        "### Please make sure you have one of the more recent versions of Pandas"
      ]
    },
    {
      "cell_type": "code",
      "metadata": {
        "id": "FPBN4bSe-mKg"
      },
      "source": [
        "import pandas as pd\n",
        "import matplotlib.pyplot as plt\n",
        "\n",
        "%matplotlib inline"
      ],
      "execution_count": 1,
      "outputs": []
    },
    {
      "cell_type": "code",
      "metadata": {
        "colab": {
          "base_uri": "https://localhost:8080/",
          "height": 35
        },
        "id": "sDrxzulG-mKh",
        "outputId": "824a91f4-0e67-46f7-f69c-b1b7025b7d85"
      },
      "source": [
        "pd.__version__"
      ],
      "execution_count": 2,
      "outputs": [
        {
          "output_type": "execute_result",
          "data": {
            "application/vnd.google.colaboratory.intrinsic+json": {
              "type": "string"
            },
            "text/plain": [
              "'1.1.5'"
            ]
          },
          "metadata": {
            "tags": []
          },
          "execution_count": 2
        }
      ]
    },
    {
      "cell_type": "markdown",
      "metadata": {
        "id": "8EvzUWu6-mKk"
      },
      "source": [
        "## Taking a look at the Movies dataset\n",
        "This data shows the movies based on their title and the year of release"
      ]
    },
    {
      "cell_type": "code",
      "metadata": {
        "colab": {
          "base_uri": "https://localhost:8080/"
        },
        "id": "XKC89c1K-mKm",
        "outputId": "66aefa0f-af97-4ca2-8ca1-afb492cd5262"
      },
      "source": [
        "movies = pd.read_csv('titles.csv')\n",
        "movies.info()"
      ],
      "execution_count": 3,
      "outputs": [
        {
          "output_type": "stream",
          "text": [
            "<class 'pandas.core.frame.DataFrame'>\n",
            "RangeIndex: 244914 entries, 0 to 244913\n",
            "Data columns (total 2 columns):\n",
            " #   Column  Non-Null Count   Dtype \n",
            "---  ------  --------------   ----- \n",
            " 0   title   244914 non-null  object\n",
            " 1   year    244914 non-null  int64 \n",
            "dtypes: int64(1), object(1)\n",
            "memory usage: 3.7+ MB\n"
          ],
          "name": "stdout"
        }
      ]
    },
    {
      "cell_type": "code",
      "metadata": {
        "colab": {
          "base_uri": "https://localhost:8080/",
          "height": 204
        },
        "id": "O7gioGeD-mKn",
        "outputId": "d452e860-9878-4f56-8c06-c57b37b3156b"
      },
      "source": [
        "movies.head()"
      ],
      "execution_count": 4,
      "outputs": [
        {
          "output_type": "execute_result",
          "data": {
            "text/html": [
              "<div>\n",
              "<style scoped>\n",
              "    .dataframe tbody tr th:only-of-type {\n",
              "        vertical-align: middle;\n",
              "    }\n",
              "\n",
              "    .dataframe tbody tr th {\n",
              "        vertical-align: top;\n",
              "    }\n",
              "\n",
              "    .dataframe thead th {\n",
              "        text-align: right;\n",
              "    }\n",
              "</style>\n",
              "<table border=\"1\" class=\"dataframe\">\n",
              "  <thead>\n",
              "    <tr style=\"text-align: right;\">\n",
              "      <th></th>\n",
              "      <th>title</th>\n",
              "      <th>year</th>\n",
              "    </tr>\n",
              "  </thead>\n",
              "  <tbody>\n",
              "    <tr>\n",
              "      <th>0</th>\n",
              "      <td>The Ticket to the Life</td>\n",
              "      <td>2009</td>\n",
              "    </tr>\n",
              "    <tr>\n",
              "      <th>1</th>\n",
              "      <td>Parallel Worlds: A New Rock Music Experience</td>\n",
              "      <td>2016</td>\n",
              "    </tr>\n",
              "    <tr>\n",
              "      <th>2</th>\n",
              "      <td>Morita - La hija de Jesus</td>\n",
              "      <td>2008</td>\n",
              "    </tr>\n",
              "    <tr>\n",
              "      <th>3</th>\n",
              "      <td>Gun</td>\n",
              "      <td>2017</td>\n",
              "    </tr>\n",
              "    <tr>\n",
              "      <th>4</th>\n",
              "      <td>Love or Nothing at All</td>\n",
              "      <td>2014</td>\n",
              "    </tr>\n",
              "  </tbody>\n",
              "</table>\n",
              "</div>"
            ],
            "text/plain": [
              "                                          title  year\n",
              "0                        The Ticket to the Life  2009\n",
              "1  Parallel Worlds: A New Rock Music Experience  2016\n",
              "2                     Morita - La hija de Jesus  2008\n",
              "3                                           Gun  2017\n",
              "4                        Love or Nothing at All  2014"
            ]
          },
          "metadata": {
            "tags": []
          },
          "execution_count": 4
        }
      ]
    },
    {
      "cell_type": "markdown",
      "metadata": {
        "id": "ygv-I0cp-mKn"
      },
      "source": [
        "## Taking a look at the Cast dataset\n",
        "\n",
        "This data shows the cast (actors, actresses, supporting roles) for each movie\n",
        "\n",
        "- The attribute `n` basically tells the importance of the cast role, lower the number, more important the role.\n",
        "- Supporting cast usually don't have any value for `n`"
      ]
    },
    {
      "cell_type": "code",
      "metadata": {
        "id": "lwSo-fL1-mKo",
        "colab": {
          "base_uri": "https://localhost:8080/"
        },
        "outputId": "44dea494-965d-43fd-8f49-639b319e5edf"
      },
      "source": [
        "cast = pd.read_csv('cast.csv')\n",
        "cast.info()"
      ],
      "execution_count": 5,
      "outputs": [
        {
          "output_type": "stream",
          "text": [
            "<class 'pandas.core.frame.DataFrame'>\n",
            "RangeIndex: 3786176 entries, 0 to 3786175\n",
            "Data columns (total 6 columns):\n",
            " #   Column     Dtype  \n",
            "---  ------     -----  \n",
            " 0   title      object \n",
            " 1   year       int64  \n",
            " 2   name       object \n",
            " 3   type       object \n",
            " 4   character  object \n",
            " 5   n          float64\n",
            "dtypes: float64(1), int64(1), object(4)\n",
            "memory usage: 173.3+ MB\n"
          ],
          "name": "stdout"
        }
      ]
    },
    {
      "cell_type": "code",
      "metadata": {
        "id": "CgGRl66m-mKp",
        "colab": {
          "base_uri": "https://localhost:8080/",
          "height": 359
        },
        "outputId": "b69b014e-b6c1-44d3-d5e5-2d9529edc4c9"
      },
      "source": [
        "cast.head(10)"
      ],
      "execution_count": 6,
      "outputs": [
        {
          "output_type": "execute_result",
          "data": {
            "text/html": [
              "<div>\n",
              "<style scoped>\n",
              "    .dataframe tbody tr th:only-of-type {\n",
              "        vertical-align: middle;\n",
              "    }\n",
              "\n",
              "    .dataframe tbody tr th {\n",
              "        vertical-align: top;\n",
              "    }\n",
              "\n",
              "    .dataframe thead th {\n",
              "        text-align: right;\n",
              "    }\n",
              "</style>\n",
              "<table border=\"1\" class=\"dataframe\">\n",
              "  <thead>\n",
              "    <tr style=\"text-align: right;\">\n",
              "      <th></th>\n",
              "      <th>title</th>\n",
              "      <th>year</th>\n",
              "      <th>name</th>\n",
              "      <th>type</th>\n",
              "      <th>character</th>\n",
              "      <th>n</th>\n",
              "    </tr>\n",
              "  </thead>\n",
              "  <tbody>\n",
              "    <tr>\n",
              "      <th>0</th>\n",
              "      <td>Closet Monster</td>\n",
              "      <td>2015</td>\n",
              "      <td>Buffy #1</td>\n",
              "      <td>actor</td>\n",
              "      <td>Buffy 4</td>\n",
              "      <td>31.0</td>\n",
              "    </tr>\n",
              "    <tr>\n",
              "      <th>1</th>\n",
              "      <td>Suuri illusioni</td>\n",
              "      <td>1985</td>\n",
              "      <td>Homo $</td>\n",
              "      <td>actor</td>\n",
              "      <td>Guests</td>\n",
              "      <td>22.0</td>\n",
              "    </tr>\n",
              "    <tr>\n",
              "      <th>2</th>\n",
              "      <td>Battle of the Sexes</td>\n",
              "      <td>2017</td>\n",
              "      <td>$hutter</td>\n",
              "      <td>actor</td>\n",
              "      <td>Bobby Riggs Fan</td>\n",
              "      <td>10.0</td>\n",
              "    </tr>\n",
              "    <tr>\n",
              "      <th>3</th>\n",
              "      <td>Secret in Their Eyes</td>\n",
              "      <td>2015</td>\n",
              "      <td>$hutter</td>\n",
              "      <td>actor</td>\n",
              "      <td>2002 Dodger Fan</td>\n",
              "      <td>NaN</td>\n",
              "    </tr>\n",
              "    <tr>\n",
              "      <th>4</th>\n",
              "      <td>Steve Jobs</td>\n",
              "      <td>2015</td>\n",
              "      <td>$hutter</td>\n",
              "      <td>actor</td>\n",
              "      <td>1988 Opera House Patron</td>\n",
              "      <td>NaN</td>\n",
              "    </tr>\n",
              "    <tr>\n",
              "      <th>5</th>\n",
              "      <td>Straight Outta Compton</td>\n",
              "      <td>2015</td>\n",
              "      <td>$hutter</td>\n",
              "      <td>actor</td>\n",
              "      <td>Club Patron</td>\n",
              "      <td>NaN</td>\n",
              "    </tr>\n",
              "    <tr>\n",
              "      <th>6</th>\n",
              "      <td>Straight Outta Compton</td>\n",
              "      <td>2015</td>\n",
              "      <td>$hutter</td>\n",
              "      <td>actor</td>\n",
              "      <td>Dopeman</td>\n",
              "      <td>NaN</td>\n",
              "    </tr>\n",
              "    <tr>\n",
              "      <th>7</th>\n",
              "      <td>For Thy Love 2</td>\n",
              "      <td>2009</td>\n",
              "      <td>Bee Moe $lim</td>\n",
              "      <td>actor</td>\n",
              "      <td>Thug 1</td>\n",
              "      <td>NaN</td>\n",
              "    </tr>\n",
              "    <tr>\n",
              "      <th>8</th>\n",
              "      <td>Lapis, Ballpen at Diploma, a True to Life Journey</td>\n",
              "      <td>2014</td>\n",
              "      <td>Jori ' Danilo' Jurado Jr.</td>\n",
              "      <td>actor</td>\n",
              "      <td>Jaime (young)</td>\n",
              "      <td>9.0</td>\n",
              "    </tr>\n",
              "    <tr>\n",
              "      <th>9</th>\n",
              "      <td>Desire (III)</td>\n",
              "      <td>2014</td>\n",
              "      <td>Syaiful 'Ariffin</td>\n",
              "      <td>actor</td>\n",
              "      <td>Actor Playing Eteocles from 'Antigone'</td>\n",
              "      <td>NaN</td>\n",
              "    </tr>\n",
              "  </tbody>\n",
              "</table>\n",
              "</div>"
            ],
            "text/plain": [
              "                                               title  ...     n\n",
              "0                                     Closet Monster  ...  31.0\n",
              "1                                    Suuri illusioni  ...  22.0\n",
              "2                                Battle of the Sexes  ...  10.0\n",
              "3                               Secret in Their Eyes  ...   NaN\n",
              "4                                         Steve Jobs  ...   NaN\n",
              "5                             Straight Outta Compton  ...   NaN\n",
              "6                             Straight Outta Compton  ...   NaN\n",
              "7                                     For Thy Love 2  ...   NaN\n",
              "8  Lapis, Ballpen at Diploma, a True to Life Journey  ...   9.0\n",
              "9                                       Desire (III)  ...   NaN\n",
              "\n",
              "[10 rows x 6 columns]"
            ]
          },
          "metadata": {
            "tags": []
          },
          "execution_count": 6
        }
      ]
    },
    {
      "cell_type": "markdown",
      "metadata": {
        "id": "VidkpXNJ-mKp"
      },
      "source": [
        "## Taking a look at the Release dataset\n",
        "\n",
        "This data shows details of when each movie was release in each country with the release date"
      ]
    },
    {
      "cell_type": "code",
      "metadata": {
        "id": "PsRBixfR-mKq",
        "colab": {
          "base_uri": "https://localhost:8080/"
        },
        "outputId": "b3a7b094-f612-4ec0-888f-a40c4bb7e78a"
      },
      "source": [
        "release_dates = pd.read_csv('release_dates.csv', parse_dates=['date'], infer_datetime_format=True)\n",
        "release_dates.info()"
      ],
      "execution_count": 7,
      "outputs": [
        {
          "output_type": "stream",
          "text": [
            "<class 'pandas.core.frame.DataFrame'>\n",
            "RangeIndex: 479488 entries, 0 to 479487\n",
            "Data columns (total 4 columns):\n",
            " #   Column   Non-Null Count   Dtype         \n",
            "---  ------   --------------   -----         \n",
            " 0   title    479488 non-null  object        \n",
            " 1   year     479488 non-null  int64         \n",
            " 2   country  479488 non-null  object        \n",
            " 3   date     479488 non-null  datetime64[ns]\n",
            "dtypes: datetime64[ns](1), int64(1), object(2)\n",
            "memory usage: 14.6+ MB\n"
          ],
          "name": "stdout"
        }
      ]
    },
    {
      "cell_type": "code",
      "metadata": {
        "id": "i0MnFW09-mKq",
        "colab": {
          "base_uri": "https://localhost:8080/",
          "height": 204
        },
        "outputId": "d1ec1325-a2c5-414e-f29e-0319ab969244"
      },
      "source": [
        "release_dates.head()"
      ],
      "execution_count": 8,
      "outputs": [
        {
          "output_type": "execute_result",
          "data": {
            "text/html": [
              "<div>\n",
              "<style scoped>\n",
              "    .dataframe tbody tr th:only-of-type {\n",
              "        vertical-align: middle;\n",
              "    }\n",
              "\n",
              "    .dataframe tbody tr th {\n",
              "        vertical-align: top;\n",
              "    }\n",
              "\n",
              "    .dataframe thead th {\n",
              "        text-align: right;\n",
              "    }\n",
              "</style>\n",
              "<table border=\"1\" class=\"dataframe\">\n",
              "  <thead>\n",
              "    <tr style=\"text-align: right;\">\n",
              "      <th></th>\n",
              "      <th>title</th>\n",
              "      <th>year</th>\n",
              "      <th>country</th>\n",
              "      <th>date</th>\n",
              "    </tr>\n",
              "  </thead>\n",
              "  <tbody>\n",
              "    <tr>\n",
              "      <th>0</th>\n",
              "      <td>#73, Shaanthi Nivaasa</td>\n",
              "      <td>2007</td>\n",
              "      <td>India</td>\n",
              "      <td>2007-06-15</td>\n",
              "    </tr>\n",
              "    <tr>\n",
              "      <th>1</th>\n",
              "      <td>#BKKY</td>\n",
              "      <td>2016</td>\n",
              "      <td>Cambodia</td>\n",
              "      <td>2017-10-12</td>\n",
              "    </tr>\n",
              "    <tr>\n",
              "      <th>2</th>\n",
              "      <td>#Beings</td>\n",
              "      <td>2015</td>\n",
              "      <td>Romania</td>\n",
              "      <td>2015-01-29</td>\n",
              "    </tr>\n",
              "    <tr>\n",
              "      <th>3</th>\n",
              "      <td>#Captured</td>\n",
              "      <td>2017</td>\n",
              "      <td>USA</td>\n",
              "      <td>2017-09-05</td>\n",
              "    </tr>\n",
              "    <tr>\n",
              "      <th>4</th>\n",
              "      <td>#Ewankosau saranghaeyo</td>\n",
              "      <td>2015</td>\n",
              "      <td>Philippines</td>\n",
              "      <td>2015-01-21</td>\n",
              "    </tr>\n",
              "  </tbody>\n",
              "</table>\n",
              "</div>"
            ],
            "text/plain": [
              "                    title  year      country       date\n",
              "0   #73, Shaanthi Nivaasa  2007        India 2007-06-15\n",
              "1                   #BKKY  2016     Cambodia 2017-10-12\n",
              "2                 #Beings  2015      Romania 2015-01-29\n",
              "3               #Captured  2017          USA 2017-09-05\n",
              "4  #Ewankosau saranghaeyo  2015  Philippines 2015-01-21"
            ]
          },
          "metadata": {
            "tags": []
          },
          "execution_count": 8
        }
      ]
    },
    {
      "cell_type": "markdown",
      "metadata": {
        "id": "j60TMJZW-mKr"
      },
      "source": [
        "# Section I - Basic Querying, Filtering and Transformations"
      ]
    },
    {
      "cell_type": "markdown",
      "metadata": {
        "id": "yvpUelaY-mKs"
      },
      "source": [
        "### What is the total number of movies?"
      ]
    },
    {
      "cell_type": "code",
      "metadata": {
        "colab": {
          "base_uri": "https://localhost:8080/"
        },
        "id": "4UmdjbkE-mKt",
        "outputId": "27ba0851-108f-4577-f1dc-916bfc8bb77f"
      },
      "source": [
        "len(movies)"
      ],
      "execution_count": 9,
      "outputs": [
        {
          "output_type": "execute_result",
          "data": {
            "text/plain": [
              "244914"
            ]
          },
          "metadata": {
            "tags": []
          },
          "execution_count": 9
        }
      ]
    },
    {
      "cell_type": "markdown",
      "metadata": {
        "id": "pFJvkm4D-mKt"
      },
      "source": [
        "### List all Batman movies ever made"
      ]
    },
    {
      "cell_type": "code",
      "metadata": {
        "id": "RMSplYjq-mKt",
        "colab": {
          "base_uri": "https://localhost:8080/",
          "height": 128
        },
        "outputId": "2e5976b9-e5d3-4164-bfa3-48bfb3db3ed0"
      },
      "source": [
        "batman_df = movies[movies.title == 'Batman']\n",
        "print('Total Batman Movies:', len(batman_df))\n",
        "batman_df"
      ],
      "execution_count": 10,
      "outputs": [
        {
          "output_type": "stream",
          "text": [
            "Total Batman Movies: 2\n"
          ],
          "name": "stdout"
        },
        {
          "output_type": "execute_result",
          "data": {
            "text/html": [
              "<div>\n",
              "<style scoped>\n",
              "    .dataframe tbody tr th:only-of-type {\n",
              "        vertical-align: middle;\n",
              "    }\n",
              "\n",
              "    .dataframe tbody tr th {\n",
              "        vertical-align: top;\n",
              "    }\n",
              "\n",
              "    .dataframe thead th {\n",
              "        text-align: right;\n",
              "    }\n",
              "</style>\n",
              "<table border=\"1\" class=\"dataframe\">\n",
              "  <thead>\n",
              "    <tr style=\"text-align: right;\">\n",
              "      <th></th>\n",
              "      <th>title</th>\n",
              "      <th>year</th>\n",
              "    </tr>\n",
              "  </thead>\n",
              "  <tbody>\n",
              "    <tr>\n",
              "      <th>52734</th>\n",
              "      <td>Batman</td>\n",
              "      <td>1943</td>\n",
              "    </tr>\n",
              "    <tr>\n",
              "      <th>150621</th>\n",
              "      <td>Batman</td>\n",
              "      <td>1989</td>\n",
              "    </tr>\n",
              "  </tbody>\n",
              "</table>\n",
              "</div>"
            ],
            "text/plain": [
              "         title  year\n",
              "52734   Batman  1943\n",
              "150621  Batman  1989"
            ]
          },
          "metadata": {
            "tags": []
          },
          "execution_count": 10
        }
      ]
    },
    {
      "cell_type": "markdown",
      "metadata": {
        "id": "d5-5x__c-mKv"
      },
      "source": [
        "### List all Batman movies ever made - the right approach"
      ]
    },
    {
      "cell_type": "code",
      "metadata": {
        "id": "4NwJyB_8-mKw",
        "colab": {
          "base_uri": "https://localhost:8080/",
          "height": 376
        },
        "outputId": "1f9f9152-fc99-4f03-b9c6-973badab1d8a"
      },
      "source": [
        "batman_df = movies[movies.title.str.contains('Batman', case=False)]\n",
        "print('Total Batman Movies:', len(batman_df))\n",
        "batman_df.head(10)"
      ],
      "execution_count": 11,
      "outputs": [
        {
          "output_type": "stream",
          "text": [
            "Total Batman Movies: 35\n"
          ],
          "name": "stdout"
        },
        {
          "output_type": "execute_result",
          "data": {
            "text/html": [
              "<div>\n",
              "<style scoped>\n",
              "    .dataframe tbody tr th:only-of-type {\n",
              "        vertical-align: middle;\n",
              "    }\n",
              "\n",
              "    .dataframe tbody tr th {\n",
              "        vertical-align: top;\n",
              "    }\n",
              "\n",
              "    .dataframe thead th {\n",
              "        text-align: right;\n",
              "    }\n",
              "</style>\n",
              "<table border=\"1\" class=\"dataframe\">\n",
              "  <thead>\n",
              "    <tr style=\"text-align: right;\">\n",
              "      <th></th>\n",
              "      <th>title</th>\n",
              "      <th>year</th>\n",
              "    </tr>\n",
              "  </thead>\n",
              "  <tbody>\n",
              "    <tr>\n",
              "      <th>16813</th>\n",
              "      <td>Batman: Anarchy</td>\n",
              "      <td>2016</td>\n",
              "    </tr>\n",
              "    <tr>\n",
              "      <th>30236</th>\n",
              "      <td>Batman Forever</td>\n",
              "      <td>1995</td>\n",
              "    </tr>\n",
              "    <tr>\n",
              "      <th>31674</th>\n",
              "      <td>Batman Untold</td>\n",
              "      <td>2010</td>\n",
              "    </tr>\n",
              "    <tr>\n",
              "      <th>31711</th>\n",
              "      <td>Scooby-Doo &amp; Batman: the Brave and the Bold</td>\n",
              "      <td>2018</td>\n",
              "    </tr>\n",
              "    <tr>\n",
              "      <th>41881</th>\n",
              "      <td>Batman the Rise of Red Hood</td>\n",
              "      <td>2018</td>\n",
              "    </tr>\n",
              "    <tr>\n",
              "      <th>43484</th>\n",
              "      <td>Batman: Return of the Caped Crusaders</td>\n",
              "      <td>2016</td>\n",
              "    </tr>\n",
              "    <tr>\n",
              "      <th>46333</th>\n",
              "      <td>Batman &amp; Robin</td>\n",
              "      <td>1997</td>\n",
              "    </tr>\n",
              "    <tr>\n",
              "      <th>51811</th>\n",
              "      <td>Batman Revealed</td>\n",
              "      <td>2012</td>\n",
              "    </tr>\n",
              "    <tr>\n",
              "      <th>52734</th>\n",
              "      <td>Batman</td>\n",
              "      <td>1943</td>\n",
              "    </tr>\n",
              "    <tr>\n",
              "      <th>56029</th>\n",
              "      <td>Batman Beyond: Rising Knight</td>\n",
              "      <td>2014</td>\n",
              "    </tr>\n",
              "  </tbody>\n",
              "</table>\n",
              "</div>"
            ],
            "text/plain": [
              "                                             title  year\n",
              "16813                              Batman: Anarchy  2016\n",
              "30236                               Batman Forever  1995\n",
              "31674                                Batman Untold  2010\n",
              "31711  Scooby-Doo & Batman: the Brave and the Bold  2018\n",
              "41881                  Batman the Rise of Red Hood  2018\n",
              "43484        Batman: Return of the Caped Crusaders  2016\n",
              "46333                               Batman & Robin  1997\n",
              "51811                              Batman Revealed  2012\n",
              "52734                                       Batman  1943\n",
              "56029                 Batman Beyond: Rising Knight  2014"
            ]
          },
          "metadata": {
            "tags": []
          },
          "execution_count": 11
        }
      ]
    },
    {
      "cell_type": "markdown",
      "metadata": {
        "id": "aLiH0nri-mKw"
      },
      "source": [
        "### Display the top 15 Batman movies in the order they were released"
      ]
    },
    {
      "cell_type": "code",
      "metadata": {
        "id": "Ljw2bT7c-mKx",
        "colab": {
          "base_uri": "https://localhost:8080/",
          "height": 514
        },
        "outputId": "d39c8751-cd19-4327-c90f-815edd2e9bc4"
      },
      "source": [
        "batman_df.sort_values(by=['year'], ascending=True).iloc[:15]"
      ],
      "execution_count": 12,
      "outputs": [
        {
          "output_type": "execute_result",
          "data": {
            "text/html": [
              "<div>\n",
              "<style scoped>\n",
              "    .dataframe tbody tr th:only-of-type {\n",
              "        vertical-align: middle;\n",
              "    }\n",
              "\n",
              "    .dataframe tbody tr th {\n",
              "        vertical-align: top;\n",
              "    }\n",
              "\n",
              "    .dataframe thead th {\n",
              "        text-align: right;\n",
              "    }\n",
              "</style>\n",
              "<table border=\"1\" class=\"dataframe\">\n",
              "  <thead>\n",
              "    <tr style=\"text-align: right;\">\n",
              "      <th></th>\n",
              "      <th>title</th>\n",
              "      <th>year</th>\n",
              "    </tr>\n",
              "  </thead>\n",
              "  <tbody>\n",
              "    <tr>\n",
              "      <th>52734</th>\n",
              "      <td>Batman</td>\n",
              "      <td>1943</td>\n",
              "    </tr>\n",
              "    <tr>\n",
              "      <th>100056</th>\n",
              "      <td>Batman and Robin</td>\n",
              "      <td>1949</td>\n",
              "    </tr>\n",
              "    <tr>\n",
              "      <th>161439</th>\n",
              "      <td>Batman Dracula</td>\n",
              "      <td>1964</td>\n",
              "    </tr>\n",
              "    <tr>\n",
              "      <th>84327</th>\n",
              "      <td>Alyas Batman at Robin</td>\n",
              "      <td>1965</td>\n",
              "    </tr>\n",
              "    <tr>\n",
              "      <th>68364</th>\n",
              "      <td>James Batman</td>\n",
              "      <td>1966</td>\n",
              "    </tr>\n",
              "    <tr>\n",
              "      <th>161527</th>\n",
              "      <td>Batman: The Movie</td>\n",
              "      <td>1966</td>\n",
              "    </tr>\n",
              "    <tr>\n",
              "      <th>56159</th>\n",
              "      <td>Batman Fights Dracula</td>\n",
              "      <td>1967</td>\n",
              "    </tr>\n",
              "    <tr>\n",
              "      <th>168504</th>\n",
              "      <td>Fight! Batman, Fight!</td>\n",
              "      <td>1973</td>\n",
              "    </tr>\n",
              "    <tr>\n",
              "      <th>150621</th>\n",
              "      <td>Batman</td>\n",
              "      <td>1989</td>\n",
              "    </tr>\n",
              "    <tr>\n",
              "      <th>156239</th>\n",
              "      <td>Alyas Batman en Robin</td>\n",
              "      <td>1991</td>\n",
              "    </tr>\n",
              "    <tr>\n",
              "      <th>156755</th>\n",
              "      <td>Batman Returns</td>\n",
              "      <td>1992</td>\n",
              "    </tr>\n",
              "    <tr>\n",
              "      <th>63366</th>\n",
              "      <td>Batman: Mask of the Phantasm</td>\n",
              "      <td>1993</td>\n",
              "    </tr>\n",
              "    <tr>\n",
              "      <th>30236</th>\n",
              "      <td>Batman Forever</td>\n",
              "      <td>1995</td>\n",
              "    </tr>\n",
              "    <tr>\n",
              "      <th>46333</th>\n",
              "      <td>Batman &amp; Robin</td>\n",
              "      <td>1997</td>\n",
              "    </tr>\n",
              "    <tr>\n",
              "      <th>208220</th>\n",
              "      <td>Batman Begins</td>\n",
              "      <td>2005</td>\n",
              "    </tr>\n",
              "  </tbody>\n",
              "</table>\n",
              "</div>"
            ],
            "text/plain": [
              "                               title  year\n",
              "52734                         Batman  1943\n",
              "100056              Batman and Robin  1949\n",
              "161439                Batman Dracula  1964\n",
              "84327          Alyas Batman at Robin  1965\n",
              "68364                   James Batman  1966\n",
              "161527             Batman: The Movie  1966\n",
              "56159          Batman Fights Dracula  1967\n",
              "168504         Fight! Batman, Fight!  1973\n",
              "150621                        Batman  1989\n",
              "156239         Alyas Batman en Robin  1991\n",
              "156755                Batman Returns  1992\n",
              "63366   Batman: Mask of the Phantasm  1993\n",
              "30236                 Batman Forever  1995\n",
              "46333                 Batman & Robin  1997\n",
              "208220                 Batman Begins  2005"
            ]
          },
          "metadata": {
            "tags": []
          },
          "execution_count": 12
        }
      ]
    },
    {
      "cell_type": "markdown",
      "metadata": {
        "id": "lvjCY5Tu-mKx"
      },
      "source": [
        "### Section I - Q1 : List all the 'Harry Potter' movies from the most recent to the earliest"
      ]
    },
    {
      "cell_type": "code",
      "metadata": {
        "id": "9gLFhjDL-mKy",
        "colab": {
          "base_uri": "https://localhost:8080/",
          "height": 297
        },
        "outputId": "de45f089-4a8c-4227-a4e5-b4129c17265b"
      },
      "source": [
        "potter_df = movies[movies.title.str.contains('Harry Potter', case=False)]\n",
        "potter_df.sort_values(by = ['year'],ascending=True)\n",
        "potter_df"
      ],
      "execution_count": 13,
      "outputs": [
        {
          "output_type": "execute_result",
          "data": {
            "text/html": [
              "<div>\n",
              "<style scoped>\n",
              "    .dataframe tbody tr th:only-of-type {\n",
              "        vertical-align: middle;\n",
              "    }\n",
              "\n",
              "    .dataframe tbody tr th {\n",
              "        vertical-align: top;\n",
              "    }\n",
              "\n",
              "    .dataframe thead th {\n",
              "        text-align: right;\n",
              "    }\n",
              "</style>\n",
              "<table border=\"1\" class=\"dataframe\">\n",
              "  <thead>\n",
              "    <tr style=\"text-align: right;\">\n",
              "      <th></th>\n",
              "      <th>title</th>\n",
              "      <th>year</th>\n",
              "    </tr>\n",
              "  </thead>\n",
              "  <tbody>\n",
              "    <tr>\n",
              "      <th>50581</th>\n",
              "      <td>Harry Potter and the Order of the Phoenix</td>\n",
              "      <td>2007</td>\n",
              "    </tr>\n",
              "    <tr>\n",
              "      <th>61957</th>\n",
              "      <td>Harry Potter and the Prisoner of Azkaban</td>\n",
              "      <td>2004</td>\n",
              "    </tr>\n",
              "    <tr>\n",
              "      <th>82791</th>\n",
              "      <td>Harry Potter and the Chamber of Secrets</td>\n",
              "      <td>2002</td>\n",
              "    </tr>\n",
              "    <tr>\n",
              "      <th>109213</th>\n",
              "      <td>Harry Potter and the Half-Blood Prince</td>\n",
              "      <td>2009</td>\n",
              "    </tr>\n",
              "    <tr>\n",
              "      <th>143147</th>\n",
              "      <td>Harry Potter and the Deathly Hallows: Part 2</td>\n",
              "      <td>2011</td>\n",
              "    </tr>\n",
              "    <tr>\n",
              "      <th>152831</th>\n",
              "      <td>Harry Potter and the Deathly Hallows: Part 1</td>\n",
              "      <td>2010</td>\n",
              "    </tr>\n",
              "    <tr>\n",
              "      <th>187926</th>\n",
              "      <td>Harry Potter and the Goblet of Fire</td>\n",
              "      <td>2005</td>\n",
              "    </tr>\n",
              "    <tr>\n",
              "      <th>223087</th>\n",
              "      <td>Harry Potter and the Sorcerer's Stone</td>\n",
              "      <td>2001</td>\n",
              "    </tr>\n",
              "  </tbody>\n",
              "</table>\n",
              "</div>"
            ],
            "text/plain": [
              "                                               title  year\n",
              "50581      Harry Potter and the Order of the Phoenix  2007\n",
              "61957       Harry Potter and the Prisoner of Azkaban  2004\n",
              "82791        Harry Potter and the Chamber of Secrets  2002\n",
              "109213        Harry Potter and the Half-Blood Prince  2009\n",
              "143147  Harry Potter and the Deathly Hallows: Part 2  2011\n",
              "152831  Harry Potter and the Deathly Hallows: Part 1  2010\n",
              "187926           Harry Potter and the Goblet of Fire  2005\n",
              "223087         Harry Potter and the Sorcerer's Stone  2001"
            ]
          },
          "metadata": {
            "tags": []
          },
          "execution_count": 13
        }
      ]
    },
    {
      "cell_type": "markdown",
      "metadata": {
        "id": "04YF2NFy-mKy"
      },
      "source": [
        "### How many movies were made in the year 2017?"
      ]
    },
    {
      "cell_type": "code",
      "metadata": {
        "id": "PyccNeYp-mKz",
        "colab": {
          "base_uri": "https://localhost:8080/"
        },
        "outputId": "b7a5479f-98a3-48c7-e2b0-c66574f1bec9"
      },
      "source": [
        "len(movies[movies.year == 2017])"
      ],
      "execution_count": 14,
      "outputs": [
        {
          "output_type": "execute_result",
          "data": {
            "text/plain": [
              "11474"
            ]
          },
          "metadata": {
            "tags": []
          },
          "execution_count": 14
        }
      ]
    },
    {
      "cell_type": "markdown",
      "metadata": {
        "id": "7f1MzMjX-mKz"
      },
      "source": [
        "### Section I - Q2 : How many movies were made in the year 2015?"
      ]
    },
    {
      "cell_type": "code",
      "metadata": {
        "id": "H5o5jdya-mKz",
        "colab": {
          "base_uri": "https://localhost:8080/"
        },
        "outputId": "2460e5fe-afc1-480d-d45e-d2c14bdfac85"
      },
      "source": [
        "len(movies[movies['year'] == 2015])"
      ],
      "execution_count": 15,
      "outputs": [
        {
          "output_type": "execute_result",
          "data": {
            "text/plain": [
              "8702"
            ]
          },
          "metadata": {
            "tags": []
          },
          "execution_count": 15
        }
      ]
    },
    {
      "cell_type": "markdown",
      "metadata": {
        "id": "NKeKMhWh-mK0"
      },
      "source": [
        "### Section I - Q3 : How many movies were made from 2000 till 2018?\n",
        "- You can chain multiple conditions using OR (`|`) as well as AND (`&`) depending on the condition"
      ]
    },
    {
      "cell_type": "code",
      "metadata": {
        "id": "bji60RaU-mK0",
        "colab": {
          "base_uri": "https://localhost:8080/"
        },
        "outputId": "bde18459-195e-42e2-8c17-f4aba3adb7ac"
      },
      "source": [
        "len(movies[(movies.year >= 2000) & (movies.year < 2018)])"
      ],
      "execution_count": 16,
      "outputs": [
        {
          "output_type": "execute_result",
          "data": {
            "text/plain": [
              "106029"
            ]
          },
          "metadata": {
            "tags": []
          },
          "execution_count": 16
        }
      ]
    },
    {
      "cell_type": "markdown",
      "metadata": {
        "id": "M-i6E7Gc-mK0"
      },
      "source": [
        "### Section I - Q4: How many movies are titled \"Hamlet\"?"
      ]
    },
    {
      "cell_type": "code",
      "metadata": {
        "id": "PeEv10On-mK1",
        "colab": {
          "base_uri": "https://localhost:8080/"
        },
        "outputId": "164af758-9e2a-4304-895d-4f5971197073"
      },
      "source": [
        "hamlet_df = movies[movies.title == 'Hamlet']\n",
        "\n",
        "print('There are', len(hamlet_df), 'Hamlet movies')\n"
      ],
      "execution_count": 17,
      "outputs": [
        {
          "output_type": "stream",
          "text": [
            "There are 20 Hamlet movies\n"
          ],
          "name": "stdout"
        }
      ]
    },
    {
      "cell_type": "markdown",
      "metadata": {
        "id": "nCuSrk27-mK1"
      },
      "source": [
        "### Section I - Q5: List all movies titled \"Hamlet\" \n",
        "- The movies should only have been released on or after the year 2000\n",
        "- Display the movies based on the year they were released (earliest to most recent)"
      ]
    },
    {
      "cell_type": "code",
      "metadata": {
        "id": "Z-9iPOwC-mK1",
        "colab": {
          "base_uri": "https://localhost:8080/",
          "height": 266
        },
        "outputId": "428e3d5e-639d-45d5-f36c-8a34ceb42f16"
      },
      "source": [
        "hamlet_df[hamlet_df.year >= 2000].sort_values(by = ['year'], ascending = True)"
      ],
      "execution_count": 18,
      "outputs": [
        {
          "output_type": "execute_result",
          "data": {
            "text/html": [
              "<div>\n",
              "<style scoped>\n",
              "    .dataframe tbody tr th:only-of-type {\n",
              "        vertical-align: middle;\n",
              "    }\n",
              "\n",
              "    .dataframe tbody tr th {\n",
              "        vertical-align: top;\n",
              "    }\n",
              "\n",
              "    .dataframe thead th {\n",
              "        text-align: right;\n",
              "    }\n",
              "</style>\n",
              "<table border=\"1\" class=\"dataframe\">\n",
              "  <thead>\n",
              "    <tr style=\"text-align: right;\">\n",
              "      <th></th>\n",
              "      <th>title</th>\n",
              "      <th>year</th>\n",
              "    </tr>\n",
              "  </thead>\n",
              "  <tbody>\n",
              "    <tr>\n",
              "      <th>55639</th>\n",
              "      <td>Hamlet</td>\n",
              "      <td>2000</td>\n",
              "    </tr>\n",
              "    <tr>\n",
              "      <th>1931</th>\n",
              "      <td>Hamlet</td>\n",
              "      <td>2009</td>\n",
              "    </tr>\n",
              "    <tr>\n",
              "      <th>227953</th>\n",
              "      <td>Hamlet</td>\n",
              "      <td>2011</td>\n",
              "    </tr>\n",
              "    <tr>\n",
              "      <th>178290</th>\n",
              "      <td>Hamlet</td>\n",
              "      <td>2014</td>\n",
              "    </tr>\n",
              "    <tr>\n",
              "      <th>186137</th>\n",
              "      <td>Hamlet</td>\n",
              "      <td>2015</td>\n",
              "    </tr>\n",
              "    <tr>\n",
              "      <th>191940</th>\n",
              "      <td>Hamlet</td>\n",
              "      <td>2016</td>\n",
              "    </tr>\n",
              "    <tr>\n",
              "      <th>244747</th>\n",
              "      <td>Hamlet</td>\n",
              "      <td>2017</td>\n",
              "    </tr>\n",
              "  </tbody>\n",
              "</table>\n",
              "</div>"
            ],
            "text/plain": [
              "         title  year\n",
              "55639   Hamlet  2000\n",
              "1931    Hamlet  2009\n",
              "227953  Hamlet  2011\n",
              "178290  Hamlet  2014\n",
              "186137  Hamlet  2015\n",
              "191940  Hamlet  2016\n",
              "244747  Hamlet  2017"
            ]
          },
          "metadata": {
            "tags": []
          },
          "execution_count": 18
        }
      ]
    },
    {
      "cell_type": "markdown",
      "metadata": {
        "id": "-d3rdwft-mK2"
      },
      "source": [
        "### Section I - Q6: How many roles in the movie \"Inception\" are of the supporting cast (extra credits)\n",
        "- supporting cast are NOT ranked by an \"n\" value (NaN)\n",
        "- check for how to filter based on nulls"
      ]
    },
    {
      "cell_type": "code",
      "metadata": {
        "id": "p6YeEIOb-mK2",
        "colab": {
          "base_uri": "https://localhost:8080/"
        },
        "outputId": "ae42c773-9535-4ca2-ed97-4f08309371e7"
      },
      "source": [
        "inception = cast[cast['title'] == 'Inception']\n",
        "len(inception[inception['n'].isnull()])"
      ],
      "execution_count": 19,
      "outputs": [
        {
          "output_type": "execute_result",
          "data": {
            "text/plain": [
              "27"
            ]
          },
          "metadata": {
            "tags": []
          },
          "execution_count": 19
        }
      ]
    },
    {
      "cell_type": "markdown",
      "metadata": {
        "id": "dXsAkC2K-mK2"
      },
      "source": [
        "### Section I - Q7: How many roles in the movie \"Inception\" are of the main cast\n",
        "- main cast always have an 'n' value"
      ]
    },
    {
      "cell_type": "code",
      "metadata": {
        "id": "qYxQbdq_-mK3",
        "colab": {
          "base_uri": "https://localhost:8080/"
        },
        "outputId": "4c603684-a13a-4ddf-d35d-44bb2a3e16ee"
      },
      "source": [
        "len(inception[inception['n'].isnull() == False])"
      ],
      "execution_count": 20,
      "outputs": [
        {
          "output_type": "execute_result",
          "data": {
            "text/plain": [
              "51"
            ]
          },
          "metadata": {
            "tags": []
          },
          "execution_count": 20
        }
      ]
    },
    {
      "cell_type": "markdown",
      "metadata": {
        "id": "D5I49oae-mK3"
      },
      "source": [
        "### Section I - Q8: Show the top ten cast (actors\\actresses) in the movie \"Inception\" \n",
        "- main cast always have an 'n' value\n",
        "- remember to sort!"
      ]
    },
    {
      "cell_type": "code",
      "metadata": {
        "id": "1deluyLf-mK4",
        "colab": {
          "base_uri": "https://localhost:8080/",
          "height": 359
        },
        "outputId": "fcbcafa2-f3df-49e9-aab7-cdd1f218fdd9"
      },
      "source": [
        "top_ten = inception[inception['n'].isnull() == False].sort_values(by=['n'], ascending = True).iloc[:10]\n",
        "top_ten[['name','n']]"
      ],
      "execution_count": 21,
      "outputs": [
        {
          "output_type": "execute_result",
          "data": {
            "text/html": [
              "<div>\n",
              "<style scoped>\n",
              "    .dataframe tbody tr th:only-of-type {\n",
              "        vertical-align: middle;\n",
              "    }\n",
              "\n",
              "    .dataframe tbody tr th {\n",
              "        vertical-align: top;\n",
              "    }\n",
              "\n",
              "    .dataframe thead th {\n",
              "        text-align: right;\n",
              "    }\n",
              "</style>\n",
              "<table border=\"1\" class=\"dataframe\">\n",
              "  <thead>\n",
              "    <tr style=\"text-align: right;\">\n",
              "      <th></th>\n",
              "      <th>name</th>\n",
              "      <th>n</th>\n",
              "    </tr>\n",
              "  </thead>\n",
              "  <tbody>\n",
              "    <tr>\n",
              "      <th>590576</th>\n",
              "      <td>Leonardo DiCaprio</td>\n",
              "      <td>1.0</td>\n",
              "    </tr>\n",
              "    <tr>\n",
              "      <th>859993</th>\n",
              "      <td>Joseph Gordon-Levitt</td>\n",
              "      <td>2.0</td>\n",
              "    </tr>\n",
              "    <tr>\n",
              "      <th>3387147</th>\n",
              "      <td>Ellen Page</td>\n",
              "      <td>3.0</td>\n",
              "    </tr>\n",
              "    <tr>\n",
              "      <th>940923</th>\n",
              "      <td>Tom Hardy</td>\n",
              "      <td>4.0</td>\n",
              "    </tr>\n",
              "    <tr>\n",
              "      <th>2406531</th>\n",
              "      <td>Ken Watanabe</td>\n",
              "      <td>5.0</td>\n",
              "    </tr>\n",
              "    <tr>\n",
              "      <th>1876301</th>\n",
              "      <td>Dileep Rao</td>\n",
              "      <td>6.0</td>\n",
              "    </tr>\n",
              "    <tr>\n",
              "      <th>1615709</th>\n",
              "      <td>Cillian Murphy</td>\n",
              "      <td>7.0</td>\n",
              "    </tr>\n",
              "    <tr>\n",
              "      <th>183937</th>\n",
              "      <td>Tom Berenger</td>\n",
              "      <td>8.0</td>\n",
              "    </tr>\n",
              "    <tr>\n",
              "      <th>2765969</th>\n",
              "      <td>Marion Cotillard</td>\n",
              "      <td>9.0</td>\n",
              "    </tr>\n",
              "    <tr>\n",
              "      <th>1826027</th>\n",
              "      <td>Pete Postlethwaite</td>\n",
              "      <td>10.0</td>\n",
              "    </tr>\n",
              "  </tbody>\n",
              "</table>\n",
              "</div>"
            ],
            "text/plain": [
              "                         name     n\n",
              "590576      Leonardo DiCaprio   1.0\n",
              "859993   Joseph Gordon-Levitt   2.0\n",
              "3387147            Ellen Page   3.0\n",
              "940923              Tom Hardy   4.0\n",
              "2406531          Ken Watanabe   5.0\n",
              "1876301            Dileep Rao   6.0\n",
              "1615709        Cillian Murphy   7.0\n",
              "183937           Tom Berenger   8.0\n",
              "2765969      Marion Cotillard   9.0\n",
              "1826027    Pete Postlethwaite  10.0"
            ]
          },
          "metadata": {
            "tags": []
          },
          "execution_count": 21
        }
      ]
    },
    {
      "cell_type": "markdown",
      "metadata": {
        "id": "baAxyom6-mK4"
      },
      "source": [
        "### Section I - Q9:\n",
        "\n",
        "(A) List all movies where there was a character 'Albus Dumbledore' \n",
        "\n",
        "(B) Now modify the above to show only the actors who played the character 'Albus Dumbledore'\n",
        "- For Part (B) remember the same actor might play the same role in multiple movies"
      ]
    },
    {
      "cell_type": "code",
      "metadata": {
        "id": "eZ7WZHni-mK5",
        "colab": {
          "base_uri": "https://localhost:8080/",
          "height": 421
        },
        "outputId": "70bf9fbe-1245-4227-9f73-af67e3725575"
      },
      "source": [
        "albus = cast[cast.character.str.contains('Albus Dumbledore', case=False)]\n",
        "albus[['title','character']]"
      ],
      "execution_count": 22,
      "outputs": [
        {
          "output_type": "execute_result",
          "data": {
            "text/html": [
              "<div>\n",
              "<style scoped>\n",
              "    .dataframe tbody tr th:only-of-type {\n",
              "        vertical-align: middle;\n",
              "    }\n",
              "\n",
              "    .dataframe tbody tr th {\n",
              "        vertical-align: top;\n",
              "    }\n",
              "\n",
              "    .dataframe thead th {\n",
              "        text-align: right;\n",
              "    }\n",
              "</style>\n",
              "<table border=\"1\" class=\"dataframe\">\n",
              "  <thead>\n",
              "    <tr style=\"text-align: right;\">\n",
              "      <th></th>\n",
              "      <th>title</th>\n",
              "      <th>character</th>\n",
              "    </tr>\n",
              "  </thead>\n",
              "  <tbody>\n",
              "    <tr>\n",
              "      <th>704984</th>\n",
              "      <td>Epic Movie</td>\n",
              "      <td>Albus Dumbledore</td>\n",
              "    </tr>\n",
              "    <tr>\n",
              "      <th>792419</th>\n",
              "      <td>Harry Potter and the Deathly Hallows: Part 1</td>\n",
              "      <td>Professor Albus Dumbledore</td>\n",
              "    </tr>\n",
              "    <tr>\n",
              "      <th>792420</th>\n",
              "      <td>Harry Potter and the Deathly Hallows: Part 2</td>\n",
              "      <td>Professor Albus Dumbledore</td>\n",
              "    </tr>\n",
              "    <tr>\n",
              "      <th>792421</th>\n",
              "      <td>Harry Potter and the Goblet of Fire</td>\n",
              "      <td>Albus Dumbledore</td>\n",
              "    </tr>\n",
              "    <tr>\n",
              "      <th>792422</th>\n",
              "      <td>Harry Potter and the Half-Blood Prince</td>\n",
              "      <td>Professor Albus Dumbledore</td>\n",
              "    </tr>\n",
              "    <tr>\n",
              "      <th>792423</th>\n",
              "      <td>Harry Potter and the Order of the Phoenix</td>\n",
              "      <td>Albus Dumbledore</td>\n",
              "    </tr>\n",
              "    <tr>\n",
              "      <th>792424</th>\n",
              "      <td>Harry Potter and the Prisoner of Azkaban</td>\n",
              "      <td>Albus Dumbledore</td>\n",
              "    </tr>\n",
              "    <tr>\n",
              "      <th>947789</th>\n",
              "      <td>Harry Potter and the Chamber of Secrets</td>\n",
              "      <td>Albus Dumbledore</td>\n",
              "    </tr>\n",
              "    <tr>\n",
              "      <th>947790</th>\n",
              "      <td>Harry Potter and the Sorcerer's Stone</td>\n",
              "      <td>Albus Dumbledore</td>\n",
              "    </tr>\n",
              "    <tr>\n",
              "      <th>1685537</th>\n",
              "      <td>Ultimate Hero Project</td>\n",
              "      <td>Albus Dumbledore</td>\n",
              "    </tr>\n",
              "    <tr>\n",
              "      <th>1893421</th>\n",
              "      <td>Harry Potter and the Deathly Hallows: Part 1</td>\n",
              "      <td>Young Albus Dumbledore</td>\n",
              "    </tr>\n",
              "    <tr>\n",
              "      <th>2248085</th>\n",
              "      <td>Potter</td>\n",
              "      <td>Albus Dumbledore</td>\n",
              "    </tr>\n",
              "  </tbody>\n",
              "</table>\n",
              "</div>"
            ],
            "text/plain": [
              "                                                title                   character\n",
              "704984                                     Epic Movie            Albus Dumbledore\n",
              "792419   Harry Potter and the Deathly Hallows: Part 1  Professor Albus Dumbledore\n",
              "792420   Harry Potter and the Deathly Hallows: Part 2  Professor Albus Dumbledore\n",
              "792421            Harry Potter and the Goblet of Fire            Albus Dumbledore\n",
              "792422         Harry Potter and the Half-Blood Prince  Professor Albus Dumbledore\n",
              "792423      Harry Potter and the Order of the Phoenix            Albus Dumbledore\n",
              "792424       Harry Potter and the Prisoner of Azkaban            Albus Dumbledore\n",
              "947789        Harry Potter and the Chamber of Secrets            Albus Dumbledore\n",
              "947790          Harry Potter and the Sorcerer's Stone            Albus Dumbledore\n",
              "1685537                         Ultimate Hero Project            Albus Dumbledore\n",
              "1893421  Harry Potter and the Deathly Hallows: Part 1      Young Albus Dumbledore\n",
              "2248085                                        Potter            Albus Dumbledore"
            ]
          },
          "metadata": {
            "tags": []
          },
          "execution_count": 22
        }
      ]
    },
    {
      "cell_type": "code",
      "metadata": {
        "id": "z9dw8NPp-mK9",
        "colab": {
          "base_uri": "https://localhost:8080/"
        },
        "outputId": "9942b368-0170-4b1b-ab2b-d85e64e18a31"
      },
      "source": [
        "albus['name'].drop_duplicates()"
      ],
      "execution_count": 23,
      "outputs": [
        {
          "output_type": "execute_result",
          "data": {
            "text/plain": [
              "704984            Dane Farwell\n",
              "792419          Michael Gambon\n",
              "947789          Richard Harris\n",
              "1685537    George (X) O'Connor\n",
              "1893421             Toby Regbo\n",
              "2248085      Timothy Tedmanson\n",
              "Name: name, dtype: object"
            ]
          },
          "metadata": {
            "tags": []
          },
          "execution_count": 23
        }
      ]
    },
    {
      "cell_type": "markdown",
      "metadata": {
        "id": "Y5yuvtCl-mK9"
      },
      "source": [
        "### Section I - Q10:\n",
        "\n",
        "(A) How many roles has 'Keanu Reeves' played throughout his career?\n",
        "\n",
        "(B) List the leading roles that 'Keanu Reeves' played on or after 1999 in order by year."
      ]
    },
    {
      "cell_type": "code",
      "metadata": {
        "id": "4efwKfJF-mK9",
        "colab": {
          "base_uri": "https://localhost:8080/"
        },
        "outputId": "13430aab-7d4a-43f7-b195-2ef71177bc3f"
      },
      "source": [
        "keanu = cast[cast['name'] == 'Keanu Reeves']\n",
        "len(keanu)"
      ],
      "execution_count": 24,
      "outputs": [
        {
          "output_type": "execute_result",
          "data": {
            "text/plain": [
              "62"
            ]
          },
          "metadata": {
            "tags": []
          },
          "execution_count": 24
        }
      ]
    },
    {
      "cell_type": "code",
      "metadata": {
        "id": "6UeRr1Z5-mK-",
        "colab": {
          "base_uri": "https://localhost:8080/",
          "height": 514
        },
        "outputId": "52ab173b-7a76-494c-92cc-7a827c35802c"
      },
      "source": [
        "lead = keanu[(keanu['n'] == 1) & (keanu['year'] >= 1999)].sort_values(by = ['year'], ascending = True)\n",
        "lead[['title', 'year', 'character']]"
      ],
      "execution_count": 25,
      "outputs": [
        {
          "output_type": "execute_result",
          "data": {
            "text/html": [
              "<div>\n",
              "<style scoped>\n",
              "    .dataframe tbody tr th:only-of-type {\n",
              "        vertical-align: middle;\n",
              "    }\n",
              "\n",
              "    .dataframe tbody tr th {\n",
              "        vertical-align: top;\n",
              "    }\n",
              "\n",
              "    .dataframe thead th {\n",
              "        text-align: right;\n",
              "    }\n",
              "</style>\n",
              "<table border=\"1\" class=\"dataframe\">\n",
              "  <thead>\n",
              "    <tr style=\"text-align: right;\">\n",
              "      <th></th>\n",
              "      <th>title</th>\n",
              "      <th>year</th>\n",
              "      <th>character</th>\n",
              "    </tr>\n",
              "  </thead>\n",
              "  <tbody>\n",
              "    <tr>\n",
              "      <th>1892390</th>\n",
              "      <td>The Matrix</td>\n",
              "      <td>1999</td>\n",
              "      <td>Neo</td>\n",
              "    </tr>\n",
              "    <tr>\n",
              "      <th>1892397</th>\n",
              "      <td>The Replacements</td>\n",
              "      <td>2000</td>\n",
              "      <td>Shane Falco</td>\n",
              "    </tr>\n",
              "    <tr>\n",
              "      <th>1892358</th>\n",
              "      <td>Hard Ball</td>\n",
              "      <td>2001</td>\n",
              "      <td>Conor O'Neill</td>\n",
              "    </tr>\n",
              "    <tr>\n",
              "      <th>1892383</th>\n",
              "      <td>Sweet November</td>\n",
              "      <td>2001</td>\n",
              "      <td>Nelson Moss</td>\n",
              "    </tr>\n",
              "    <tr>\n",
              "      <th>1892348</th>\n",
              "      <td>Constantine</td>\n",
              "      <td>2005</td>\n",
              "      <td>John Constantine</td>\n",
              "    </tr>\n",
              "    <tr>\n",
              "      <th>1892388</th>\n",
              "      <td>The Lake House</td>\n",
              "      <td>2006</td>\n",
              "      <td>Alex Wyler</td>\n",
              "    </tr>\n",
              "    <tr>\n",
              "      <th>1892382</th>\n",
              "      <td>Street Kings</td>\n",
              "      <td>2008</td>\n",
              "      <td>Detective Tom Ludlow</td>\n",
              "    </tr>\n",
              "    <tr>\n",
              "      <th>1892385</th>\n",
              "      <td>The Day the Earth Stood Still</td>\n",
              "      <td>2008</td>\n",
              "      <td>Klaatu</td>\n",
              "    </tr>\n",
              "    <tr>\n",
              "      <th>1892359</th>\n",
              "      <td>Henry's Crime</td>\n",
              "      <td>2010</td>\n",
              "      <td>Henry Torne</td>\n",
              "    </tr>\n",
              "    <tr>\n",
              "      <th>1892342</th>\n",
              "      <td>47 Ronin</td>\n",
              "      <td>2013</td>\n",
              "      <td>Kai</td>\n",
              "    </tr>\n",
              "    <tr>\n",
              "      <th>1892361</th>\n",
              "      <td>John Wick</td>\n",
              "      <td>2014</td>\n",
              "      <td>John Wick</td>\n",
              "    </tr>\n",
              "    <tr>\n",
              "      <th>1892366</th>\n",
              "      <td>Knock Knock</td>\n",
              "      <td>2015</td>\n",
              "      <td>Evan</td>\n",
              "    </tr>\n",
              "    <tr>\n",
              "      <th>1892399</th>\n",
              "      <td>The Whole Truth</td>\n",
              "      <td>2016</td>\n",
              "      <td>Ramsey</td>\n",
              "    </tr>\n",
              "    <tr>\n",
              "      <th>1892362</th>\n",
              "      <td>John Wick: Chapter 2</td>\n",
              "      <td>2017</td>\n",
              "      <td>John Wick</td>\n",
              "    </tr>\n",
              "    <tr>\n",
              "      <th>1892378</th>\n",
              "      <td>Siberia</td>\n",
              "      <td>2018</td>\n",
              "      <td>Lucas Hill</td>\n",
              "    </tr>\n",
              "  </tbody>\n",
              "</table>\n",
              "</div>"
            ],
            "text/plain": [
              "                                 title  year             character\n",
              "1892390                     The Matrix  1999                   Neo\n",
              "1892397               The Replacements  2000           Shane Falco\n",
              "1892358                      Hard Ball  2001         Conor O'Neill\n",
              "1892383                 Sweet November  2001           Nelson Moss\n",
              "1892348                    Constantine  2005      John Constantine\n",
              "1892388                 The Lake House  2006            Alex Wyler\n",
              "1892382                   Street Kings  2008  Detective Tom Ludlow\n",
              "1892385  The Day the Earth Stood Still  2008                Klaatu\n",
              "1892359                  Henry's Crime  2010           Henry Torne\n",
              "1892342                       47 Ronin  2013                   Kai\n",
              "1892361                      John Wick  2014             John Wick\n",
              "1892366                    Knock Knock  2015                  Evan\n",
              "1892399                The Whole Truth  2016                Ramsey\n",
              "1892362           John Wick: Chapter 2  2017             John Wick\n",
              "1892378                        Siberia  2018            Lucas Hill"
            ]
          },
          "metadata": {
            "tags": []
          },
          "execution_count": 25
        }
      ]
    },
    {
      "cell_type": "markdown",
      "metadata": {
        "id": "MTIaApA7-mK-"
      },
      "source": [
        "### Section I - Q11: \n",
        "\n",
        "(A) List the total number of actor and actress roles available from 1950 - 1960\n",
        "\n",
        "(B) List the total number of actor and actress roles available from 2007 - 2017"
      ]
    },
    {
      "cell_type": "code",
      "metadata": {
        "id": "73-1t822-mK_",
        "colab": {
          "base_uri": "https://localhost:8080/"
        },
        "outputId": "89440c5e-1f38-4126-f14b-18432978025e"
      },
      "source": [
        "len(cast[(cast['year'] >= 1950) &(cast['year'] <= 1960)])"
      ],
      "execution_count": 26,
      "outputs": [
        {
          "output_type": "execute_result",
          "data": {
            "text/plain": [
              "234635"
            ]
          },
          "metadata": {
            "tags": []
          },
          "execution_count": 26
        }
      ]
    },
    {
      "cell_type": "code",
      "metadata": {
        "id": "klen_b4b-mK_",
        "colab": {
          "base_uri": "https://localhost:8080/"
        },
        "outputId": "a2babffa-b2c5-4429-f0a2-93b46fad82a5"
      },
      "source": [
        "len(cast[(cast['year'] >= 2007) &(cast['year'] <= 2017)])"
      ],
      "execution_count": 27,
      "outputs": [
        {
          "output_type": "execute_result",
          "data": {
            "text/plain": [
              "1452413"
            ]
          },
          "metadata": {
            "tags": []
          },
          "execution_count": 27
        }
      ]
    },
    {
      "cell_type": "markdown",
      "metadata": {
        "id": "ZHcl_Rxy-mK_"
      },
      "source": [
        "### Section I - Q12: \n",
        "\n",
        "(A) List the total number of leading roles available from 2000 to present\n",
        "\n",
        "(B) List the total number of non-leading roles available from 2000 - present (exclude support cast)\n",
        "\n",
        "(C) List the total number of support\\extra-credit roles available from 2000 - present"
      ]
    },
    {
      "cell_type": "code",
      "metadata": {
        "id": "Oax_wO-0-mK_",
        "colab": {
          "base_uri": "https://localhost:8080/"
        },
        "outputId": "a1a09cf7-d450-4bb7-da5f-2047302e085a"
      },
      "source": [
        "len(cast[(cast['year'] >= 2000)& (cast['n'] == 1)])"
      ],
      "execution_count": 28,
      "outputs": [
        {
          "output_type": "execute_result",
          "data": {
            "text/plain": [
              "60568"
            ]
          },
          "metadata": {
            "tags": []
          },
          "execution_count": 28
        }
      ]
    },
    {
      "cell_type": "code",
      "metadata": {
        "id": "JXo-qDcL-mLA",
        "colab": {
          "base_uri": "https://localhost:8080/"
        },
        "outputId": "a90d5b4d-ed2d-4e5d-ddd7-529363695a0d"
      },
      "source": [
        "len(cast[(cast['year'] >= 2000) & (cast['n'] > 1) & (cast['n'].notnull())])"
      ],
      "execution_count": 29,
      "outputs": [
        {
          "output_type": "execute_result",
          "data": {
            "text/plain": [
              "1001710"
            ]
          },
          "metadata": {
            "tags": []
          },
          "execution_count": 29
        }
      ]
    },
    {
      "cell_type": "code",
      "metadata": {
        "id": "Zf05Ymwk-mLA",
        "colab": {
          "base_uri": "https://localhost:8080/"
        },
        "outputId": "492ee5b0-c493-48b6-a6f2-7b29d5d0e755"
      },
      "source": [
        "len(cast[(cast['year'] >= 2000) & (cast['n'].isnull())])"
      ],
      "execution_count": 30,
      "outputs": [
        {
          "output_type": "execute_result",
          "data": {
            "text/plain": [
              "887484"
            ]
          },
          "metadata": {
            "tags": []
          },
          "execution_count": 30
        }
      ]
    },
    {
      "cell_type": "markdown",
      "metadata": {
        "id": "dFpVYCEw-mLA"
      },
      "source": [
        "# Section II - Aggregations, Transformations and Visualizations"
      ]
    },
    {
      "cell_type": "markdown",
      "metadata": {
        "id": "LGBHJ2cQ-mLA"
      },
      "source": [
        "## What are the top ten most common movie names of all time?\n"
      ]
    },
    {
      "cell_type": "code",
      "metadata": {
        "id": "uA5aPbXa-mLB",
        "colab": {
          "base_uri": "https://localhost:8080/"
        },
        "outputId": "2aabd696-00cd-492e-ae5c-70535e18c99d"
      },
      "source": [
        "top_ten = movies.title.value_counts()[:10]\n",
        "top_ten"
      ],
      "execution_count": 31,
      "outputs": [
        {
          "output_type": "execute_result",
          "data": {
            "text/plain": [
              "Hamlet                  20\n",
              "Carmen                  17\n",
              "Macbeth                 16\n",
              "Temptation              12\n",
              "The Outsider            12\n",
              "Maya                    12\n",
              "Othello                 11\n",
              "Honeymoon               11\n",
              "Freedom                 11\n",
              "The Three Musketeers    11\n",
              "Name: title, dtype: int64"
            ]
          },
          "metadata": {
            "tags": []
          },
          "execution_count": 31
        }
      ]
    },
    {
      "cell_type": "markdown",
      "metadata": {
        "id": "CKCcTEaI-mLB"
      },
      "source": [
        "### Plot the top ten common movie names of all time"
      ]
    },
    {
      "cell_type": "code",
      "metadata": {
        "id": "C0RAbbeq-mLC",
        "colab": {
          "base_uri": "https://localhost:8080/",
          "height": 282
        },
        "outputId": "365e7f08-20b4-47e0-e86f-0fd783720bb7"
      },
      "source": [
        "top_ten.plot(kind='barh')"
      ],
      "execution_count": 32,
      "outputs": [
        {
          "output_type": "execute_result",
          "data": {
            "text/plain": [
              "<matplotlib.axes._subplots.AxesSubplot at 0x7fae7466ff10>"
            ]
          },
          "metadata": {
            "tags": []
          },
          "execution_count": 32
        },
        {
          "output_type": "display_data",
          "data": {
            "image/png": "[encoded data removed]",
            "text/plain": [
              "<Figure size 432x288 with 1 Axes>"
            ]
          },
          "metadata": {
            "tags": [],
            "needs_background": "light"
          }
        }
      ]
    },
    {
      "cell_type": "markdown",
      "metadata": {
        "id": "eF8f81L--mLC"
      },
      "source": [
        "### Section II - Q1:  Which years in the 2000s saw the most movies released? (Show top 3)"
      ]
    },
    {
      "cell_type": "code",
      "metadata": {
        "id": "iKTRpQL1-mLC",
        "colab": {
          "base_uri": "https://localhost:8080/",
          "height": 173
        },
        "outputId": "c8de08b8-2050-437d-8fc3-e02e97c673d7"
      },
      "source": [
        "decade_2000s = movies[(movies['year']>= 2000)&(movies['year'] < 2010)].groupby(['year']).agg('count')\n",
        "decade_2000s = decade_2000s.rename(columns={'title':'Total # of movies'})\n",
        "decade_2000s.sort_values(by=['Total # of movies'], ascending = False).head(3)"
      ],
      "execution_count": 33,
      "outputs": [
        {
          "output_type": "execute_result",
          "data": {
            "text/html": [
              "<div>\n",
              "<style scoped>\n",
              "    .dataframe tbody tr th:only-of-type {\n",
              "        vertical-align: middle;\n",
              "    }\n",
              "\n",
              "    .dataframe tbody tr th {\n",
              "        vertical-align: top;\n",
              "    }\n",
              "\n",
              "    .dataframe thead th {\n",
              "        text-align: right;\n",
              "    }\n",
              "</style>\n",
              "<table border=\"1\" class=\"dataframe\">\n",
              "  <thead>\n",
              "    <tr style=\"text-align: right;\">\n",
              "      <th></th>\n",
              "      <th>Total # of movies</th>\n",
              "    </tr>\n",
              "    <tr>\n",
              "      <th>year</th>\n",
              "      <th></th>\n",
              "    </tr>\n",
              "  </thead>\n",
              "  <tbody>\n",
              "    <tr>\n",
              "      <th>2009</th>\n",
              "      <td>6125</td>\n",
              "    </tr>\n",
              "    <tr>\n",
              "      <th>2008</th>\n",
              "      <td>5151</td>\n",
              "    </tr>\n",
              "    <tr>\n",
              "      <th>2007</th>\n",
              "      <td>4467</td>\n",
              "    </tr>\n",
              "  </tbody>\n",
              "</table>\n",
              "</div>"
            ],
            "text/plain": [
              "      Total # of movies\n",
              "year                   \n",
              "2009               6125\n",
              "2008               5151\n",
              "2007               4467"
            ]
          },
          "metadata": {
            "tags": []
          },
          "execution_count": 33
        }
      ]
    },
    {
      "cell_type": "markdown",
      "metadata": {
        "id": "T9oppBDi-mLD"
      },
      "source": [
        "### Section II - Q2: # Plot the total number of films released per-decade (1890, 1900, 1910,....)\n",
        "- Hint: Dividing the year and multiplying with a number might give you the decade the year falls into!\n",
        "- You might need to sort before plotting"
      ]
    },
    {
      "cell_type": "code",
      "metadata": {
        "id": "LiRz5pcc-mLD",
        "colab": {
          "base_uri": "https://localhost:8080/",
          "height": 545
        },
        "outputId": "dd6e5c50-3735-4d5d-e0fc-4efbe64d612d"
      },
      "source": [
        "decades = movies\n",
        "decades['decade'] = ((movies['year']/10).astype(int))*10\n",
        "decades = decades[['title','decade']].groupby(['decade']).agg('count').rename(columns = {'title':'Total # of films'})\n",
        "decades"
      ],
      "execution_count": 34,
      "outputs": [
        {
          "output_type": "execute_result",
          "data": {
            "text/html": [
              "<div>\n",
              "<style scoped>\n",
              "    .dataframe tbody tr th:only-of-type {\n",
              "        vertical-align: middle;\n",
              "    }\n",
              "\n",
              "    .dataframe tbody tr th {\n",
              "        vertical-align: top;\n",
              "    }\n",
              "\n",
              "    .dataframe thead th {\n",
              "        text-align: right;\n",
              "    }\n",
              "</style>\n",
              "<table border=\"1\" class=\"dataframe\">\n",
              "  <thead>\n",
              "    <tr style=\"text-align: right;\">\n",
              "      <th></th>\n",
              "      <th>Total # of films</th>\n",
              "    </tr>\n",
              "    <tr>\n",
              "      <th>decade</th>\n",
              "      <th></th>\n",
              "    </tr>\n",
              "  </thead>\n",
              "  <tbody>\n",
              "    <tr>\n",
              "      <th>1890</th>\n",
              "      <td>3</td>\n",
              "    </tr>\n",
              "    <tr>\n",
              "      <th>1900</th>\n",
              "      <td>39</td>\n",
              "    </tr>\n",
              "    <tr>\n",
              "      <th>1910</th>\n",
              "      <td>6799</td>\n",
              "    </tr>\n",
              "    <tr>\n",
              "      <th>1920</th>\n",
              "      <td>9034</td>\n",
              "    </tr>\n",
              "    <tr>\n",
              "      <th>1930</th>\n",
              "      <td>10388</td>\n",
              "    </tr>\n",
              "    <tr>\n",
              "      <th>1940</th>\n",
              "      <td>8718</td>\n",
              "    </tr>\n",
              "    <tr>\n",
              "      <th>1950</th>\n",
              "      <td>12934</td>\n",
              "    </tr>\n",
              "    <tr>\n",
              "      <th>1960</th>\n",
              "      <td>17976</td>\n",
              "    </tr>\n",
              "    <tr>\n",
              "      <th>1970</th>\n",
              "      <td>19526</td>\n",
              "    </tr>\n",
              "    <tr>\n",
              "      <th>1980</th>\n",
              "      <td>21034</td>\n",
              "    </tr>\n",
              "    <tr>\n",
              "      <th>1990</th>\n",
              "      <td>22992</td>\n",
              "    </tr>\n",
              "    <tr>\n",
              "      <th>2000</th>\n",
              "      <td>39452</td>\n",
              "    </tr>\n",
              "    <tr>\n",
              "      <th>2010</th>\n",
              "      <td>75733</td>\n",
              "    </tr>\n",
              "    <tr>\n",
              "      <th>2020</th>\n",
              "      <td>285</td>\n",
              "    </tr>\n",
              "    <tr>\n",
              "      <th>2110</th>\n",
              "      <td>1</td>\n",
              "    </tr>\n",
              "  </tbody>\n",
              "</table>\n",
              "</div>"
            ],
            "text/plain": [
              "        Total # of films\n",
              "decade                  \n",
              "1890                   3\n",
              "1900                  39\n",
              "1910                6799\n",
              "1920                9034\n",
              "1930               10388\n",
              "1940                8718\n",
              "1950               12934\n",
              "1960               17976\n",
              "1970               19526\n",
              "1980               21034\n",
              "1990               22992\n",
              "2000               39452\n",
              "2010               75733\n",
              "2020                 285\n",
              "2110                   1"
            ]
          },
          "metadata": {
            "tags": []
          },
          "execution_count": 34
        }
      ]
    },
    {
      "cell_type": "code",
      "metadata": {
        "colab": {
          "base_uri": "https://localhost:8080/",
          "height": 282
        },
        "id": "3T_MpFJ-HL2_",
        "outputId": "e8d4f086-aef7-4c33-bf15-cfaf7c081a0d"
      },
      "source": [
        "decades.plot(kind='barh')"
      ],
      "execution_count": 35,
      "outputs": [
        {
          "output_type": "execute_result",
          "data": {
            "text/plain": [
              "<matplotlib.axes._subplots.AxesSubplot at 0x7fae752f08d0>"
            ]
          },
          "metadata": {
            "tags": []
          },
          "execution_count": 35
        },
        {
          "output_type": "display_data",
          "data": {
            "image/png": "[encoded data removed]",
            "text/plain": [
              "<Figure size 432x288 with 1 Axes>"
            ]
          },
          "metadata": {
            "tags": [],
            "needs_background": "light"
          }
        }
      ]
    },
    {
      "cell_type": "markdown",
      "metadata": {
        "id": "lk2AvokH-mLD"
      },
      "source": [
        "### Section II - Q3: \n",
        "\n",
        "(A) What are the top 10 most common character names in movie history?\n",
        "\n",
        "(B) Who are the top 10 people most often credited as \"Herself\" in movie history?\n",
        "\n",
        "(C) Who are the top 10 people most often credited as \"Himself\" in movie history?"
      ]
    },
    {
      "cell_type": "code",
      "metadata": {
        "id": "DgRz_Ors-mLE",
        "colab": {
          "base_uri": "https://localhost:8080/"
        },
        "outputId": "84cc39b2-7332-4d4a-80dd-0a675083095f"
      },
      "source": [
        "cast['character'].value_counts()[:10]"
      ],
      "execution_count": 36,
      "outputs": [
        {
          "output_type": "execute_result",
          "data": {
            "text/plain": [
              "Himself        20746\n",
              "Dancer         12477\n",
              "Extra          11948\n",
              "Reporter        8434\n",
              "Student         7773\n",
              "Doctor          7669\n",
              "Party Guest     7245\n",
              "Policeman       7029\n",
              "Nurse           6999\n",
              "Bartender       6802\n",
              "Name: character, dtype: int64"
            ]
          },
          "metadata": {
            "tags": []
          },
          "execution_count": 36
        }
      ]
    },
    {
      "cell_type": "code",
      "metadata": {
        "id": "iswNmmTs-mLE",
        "colab": {
          "base_uri": "https://localhost:8080/"
        },
        "outputId": "a1955f14-8c29-413e-b618-37f5c9422ac8"
      },
      "source": [
        "cast[cast['character'] == 'Herself']['name'].value_counts()[:10]"
      ],
      "execution_count": 37,
      "outputs": [
        {
          "output_type": "execute_result",
          "data": {
            "text/plain": [
              "Queen Elizabeth II           12\n",
              "Mar?a Luisa (V) Mart?n        9\n",
              "Joyce Brothers                9\n",
              "Luisa Horga                   9\n",
              "Hillary Clinton               8\n",
              "Margaret Thatcher             8\n",
              "Joan Rivers                   6\n",
              "Marilyn Monroe                6\n",
              "Rekha                         6\n",
              "Mar?a Isabel (III) Mart?n     6\n",
              "Name: name, dtype: int64"
            ]
          },
          "metadata": {
            "tags": []
          },
          "execution_count": 37
        }
      ]
    },
    {
      "cell_type": "code",
      "metadata": {
        "id": "qtn2-9SL-mLE",
        "colab": {
          "base_uri": "https://localhost:8080/"
        },
        "outputId": "d068121e-7332-4a07-876a-b7923a71b12c"
      },
      "source": [
        "cast[cast['character'] == 'Himself']['name'].value_counts()[:10]"
      ],
      "execution_count": 38,
      "outputs": [
        {
          "output_type": "execute_result",
          "data": {
            "text/plain": [
              "Adolf Hitler          99\n",
              "Richard Nixon         44\n",
              "Ronald Reagan         41\n",
              "John F. Kennedy       37\n",
              "George W. Bush        25\n",
              "Winston Churchill     24\n",
              "Martin Luther King    23\n",
              "Ron Jeremy            22\n",
              "Bill Clinton          22\n",
              "Benito Mussolini      21\n",
              "Name: name, dtype: int64"
            ]
          },
          "metadata": {
            "tags": []
          },
          "execution_count": 38
        }
      ]
    },
    {
      "cell_type": "markdown",
      "metadata": {
        "id": "SVKA-dlU-mLE"
      },
      "source": [
        "### Section II - Q4: \n",
        "\n",
        "(A) What are the top 10 most frequent roles that start with the word \"Zombie\"?\n",
        "\n",
        "(B) What are the top 10 most frequent roles that start with the word \"Police\"?\n",
        "\n",
        "- Hint: The `startswith()` function might be useful"
      ]
    },
    {
      "cell_type": "code",
      "metadata": {
        "id": "n7spr5wP-mLF",
        "colab": {
          "base_uri": "https://localhost:8080/",
          "height": 390
        },
        "outputId": "f552a24c-0d3f-4b4a-c776-ea064d8f355a"
      },
      "source": [
        "zombie = cast[cast['character'].str.startswith('Zombie')]\n",
        "zombie = zombie.groupby(['character']).agg('count').sort_values(by=['title'],ascending=False)[['title']].rename(columns={'title':'count'})\n",
        "zombie[:10]"
      ],
      "execution_count": 39,
      "outputs": [
        {
          "output_type": "execute_result",
          "data": {
            "text/html": [
              "<div>\n",
              "<style scoped>\n",
              "    .dataframe tbody tr th:only-of-type {\n",
              "        vertical-align: middle;\n",
              "    }\n",
              "\n",
              "    .dataframe tbody tr th {\n",
              "        vertical-align: top;\n",
              "    }\n",
              "\n",
              "    .dataframe thead th {\n",
              "        text-align: right;\n",
              "    }\n",
              "</style>\n",
              "<table border=\"1\" class=\"dataframe\">\n",
              "  <thead>\n",
              "    <tr style=\"text-align: right;\">\n",
              "      <th></th>\n",
              "      <th>count</th>\n",
              "    </tr>\n",
              "    <tr>\n",
              "      <th>character</th>\n",
              "      <th></th>\n",
              "    </tr>\n",
              "  </thead>\n",
              "  <tbody>\n",
              "    <tr>\n",
              "      <th>Zombie</th>\n",
              "      <td>6264</td>\n",
              "    </tr>\n",
              "    <tr>\n",
              "      <th>Zombie Horde</th>\n",
              "      <td>206</td>\n",
              "    </tr>\n",
              "    <tr>\n",
              "      <th>Zombie - Protestor - Victim</th>\n",
              "      <td>78</td>\n",
              "    </tr>\n",
              "    <tr>\n",
              "      <th>Zombie Extra</th>\n",
              "      <td>70</td>\n",
              "    </tr>\n",
              "    <tr>\n",
              "      <th>Zombie Dancer</th>\n",
              "      <td>43</td>\n",
              "    </tr>\n",
              "    <tr>\n",
              "      <th>Zombie Girl</th>\n",
              "      <td>36</td>\n",
              "    </tr>\n",
              "    <tr>\n",
              "      <th>Zombie #1</th>\n",
              "      <td>36</td>\n",
              "    </tr>\n",
              "    <tr>\n",
              "      <th>Zombie #2</th>\n",
              "      <td>31</td>\n",
              "    </tr>\n",
              "    <tr>\n",
              "      <th>Zombie Vampire</th>\n",
              "      <td>25</td>\n",
              "    </tr>\n",
              "    <tr>\n",
              "      <th>Zombie Victim</th>\n",
              "      <td>22</td>\n",
              "    </tr>\n",
              "  </tbody>\n",
              "</table>\n",
              "</div>"
            ],
            "text/plain": [
              "                             count\n",
              "character                         \n",
              "Zombie                        6264\n",
              "Zombie Horde                   206\n",
              "Zombie - Protestor - Victim     78\n",
              "Zombie Extra                    70\n",
              "Zombie Dancer                   43\n",
              "Zombie Girl                     36\n",
              "Zombie #1                       36\n",
              "Zombie #2                       31\n",
              "Zombie Vampire                  25\n",
              "Zombie Victim                   22"
            ]
          },
          "metadata": {
            "tags": []
          },
          "execution_count": 39
        }
      ]
    },
    {
      "cell_type": "code",
      "metadata": {
        "id": "b6bD5HAr-mLF",
        "colab": {
          "base_uri": "https://localhost:8080/",
          "height": 390
        },
        "outputId": "6a201f53-c837-4a96-dc6a-4eac75673be8"
      },
      "source": [
        "police = cast[cast['character'].str.startswith('Police')]\n",
        "police = police.groupby(['character']).agg('count').sort_values(by=['title'],ascending=False)[['title']].rename(columns={'title':'count'})\n",
        "police[:10]"
      ],
      "execution_count": 40,
      "outputs": [
        {
          "output_type": "execute_result",
          "data": {
            "text/html": [
              "<div>\n",
              "<style scoped>\n",
              "    .dataframe tbody tr th:only-of-type {\n",
              "        vertical-align: middle;\n",
              "    }\n",
              "\n",
              "    .dataframe tbody tr th {\n",
              "        vertical-align: top;\n",
              "    }\n",
              "\n",
              "    .dataframe thead th {\n",
              "        text-align: right;\n",
              "    }\n",
              "</style>\n",
              "<table border=\"1\" class=\"dataframe\">\n",
              "  <thead>\n",
              "    <tr style=\"text-align: right;\">\n",
              "      <th></th>\n",
              "      <th>count</th>\n",
              "    </tr>\n",
              "    <tr>\n",
              "      <th>character</th>\n",
              "      <th></th>\n",
              "    </tr>\n",
              "  </thead>\n",
              "  <tbody>\n",
              "    <tr>\n",
              "      <th>Policeman</th>\n",
              "      <td>7029</td>\n",
              "    </tr>\n",
              "    <tr>\n",
              "      <th>Police Officer</th>\n",
              "      <td>4808</td>\n",
              "    </tr>\n",
              "    <tr>\n",
              "      <th>Police Inspector</th>\n",
              "      <td>742</td>\n",
              "    </tr>\n",
              "    <tr>\n",
              "      <th>Police Sergeant</th>\n",
              "      <td>674</td>\n",
              "    </tr>\n",
              "    <tr>\n",
              "      <th>Police officer</th>\n",
              "      <td>539</td>\n",
              "    </tr>\n",
              "    <tr>\n",
              "      <th>Police</th>\n",
              "      <td>456</td>\n",
              "    </tr>\n",
              "    <tr>\n",
              "      <th>Policewoman</th>\n",
              "      <td>415</td>\n",
              "    </tr>\n",
              "    <tr>\n",
              "      <th>Police Chief</th>\n",
              "      <td>410</td>\n",
              "    </tr>\n",
              "    <tr>\n",
              "      <th>Police Captain</th>\n",
              "      <td>387</td>\n",
              "    </tr>\n",
              "    <tr>\n",
              "      <th>Police Commissioner</th>\n",
              "      <td>337</td>\n",
              "    </tr>\n",
              "  </tbody>\n",
              "</table>\n",
              "</div>"
            ],
            "text/plain": [
              "                     count\n",
              "character                 \n",
              "Policeman             7029\n",
              "Police Officer        4808\n",
              "Police Inspector       742\n",
              "Police Sergeant        674\n",
              "Police officer         539\n",
              "Police                 456\n",
              "Policewoman            415\n",
              "Police Chief           410\n",
              "Police Captain         387\n",
              "Police Commissioner    337"
            ]
          },
          "metadata": {
            "tags": []
          },
          "execution_count": 40
        }
      ]
    },
    {
      "cell_type": "markdown",
      "metadata": {
        "id": "v3rmTDkN-mLF"
      },
      "source": [
        "### Section II - Q5: Plot how many roles 'Keanu Reeves' has played in each year of his career."
      ]
    },
    {
      "cell_type": "code",
      "metadata": {
        "id": "_AIiZTQB-mLG",
        "colab": {
          "base_uri": "https://localhost:8080/",
          "height": 283
        },
        "outputId": "9da54e36-4a84-42cc-97be-04f9f23a1b9f"
      },
      "source": [
        "keanu_roles = cast[cast['name'] == 'Keanu Reeves']\n",
        "keanu_data = keanu_roles[['year','character']].groupby('year').agg('count').rename(columns={'character':'# of roles'})\n",
        "keanu_data.plot(kind='barh')"
      ],
      "execution_count": 41,
      "outputs": [
        {
          "output_type": "execute_result",
          "data": {
            "text/plain": [
              "<matplotlib.axes._subplots.AxesSubplot at 0x7fae75315910>"
            ]
          },
          "metadata": {
            "tags": []
          },
          "execution_count": 41
        },
        {
          "output_type": "display_data",
          "data": {
            "image/png": "[encoded data removed]",
            "text/plain": [
              "<Figure size 432x288 with 1 Axes>"
            ]
          },
          "metadata": {
            "tags": [],
            "needs_background": "light"
          }
        }
      ]
    },
    {
      "cell_type": "markdown",
      "metadata": {
        "id": "fDO6aoD3-mLG"
      },
      "source": [
        "### Section II - Q6: Plot the cast positions (n-values) of Keanu Reeve's roles through his career over the years.\n"
      ]
    },
    {
      "cell_type": "code",
      "metadata": {
        "id": "TH_0fd2H-mLG",
        "colab": {
          "base_uri": "https://localhost:8080/",
          "height": 279
        },
        "outputId": "129a7279-38e4-4c65-c3dc-05d17b1763b9"
      },
      "source": [
        "keanu_cast = cast[cast['name'] == 'Keanu Reeves']\n",
        "keanu_data = keanu_cast[['year','n']]\n",
        "keanu_data.plot(kind = 'scatter', x= 'year', y ='n' );\n",
        "plt.show()"
      ],
      "execution_count": 42,
      "outputs": [
        {
          "output_type": "display_data",
          "data": {
            "image/png": "[encoded data removed]",
            "text/plain": [
              "<Figure size 432x288 with 1 Axes>"
            ]
          },
          "metadata": {
            "tags": [],
            "needs_background": "light"
          }
        }
      ]
    },
    {
      "cell_type": "markdown",
      "metadata": {
        "id": "yACm6rBY-mLI"
      },
      "source": [
        "### Section II - Q7: Plot the number of \"Hamlet\" films made by each decade"
      ]
    },
    {
      "cell_type": "code",
      "metadata": {
        "id": "eMh_BkvY-mLO",
        "colab": {
          "base_uri": "https://localhost:8080/",
          "height": 404
        },
        "outputId": "f2a0dce3-e9c2-48b9-afef-48637107c247"
      },
      "source": [
        "hamlet_decades = movies[movies['title'] == 'Hamlet']\n",
        "hamlet_decades['decade'] = ((movies['year']/10).astype(int))*10\n",
        "hamlet_decades = hamlet_decades[['title','decade']].groupby(['decade']).agg('count').rename(columns = {'title':'Total # of Hamlet films'})\n",
        "hamlet_decades.plot(kind='barh')\n"
      ],
      "execution_count": 43,
      "outputs": [
        {
          "output_type": "stream",
          "text": [
            "/usr/local/lib/python3.7/dist-packages/ipykernel_launcher.py:2: SettingWithCopyWarning: \n",
            "A value is trying to be set on a copy of a slice from a DataFrame.\n",
            "Try using .loc[row_indexer,col_indexer] = value instead\n",
            "\n",
            "See the caveats in the documentation: https://pandas.pydata.org/pandas-docs/stable/user_guide/indexing.html#returning-a-view-versus-a-copy\n",
            "  \n"
          ],
          "name": "stderr"
        },
        {
          "output_type": "execute_result",
          "data": {
            "text/plain": [
              "<matplotlib.axes._subplots.AxesSubplot at 0x7fae74af1a90>"
            ]
          },
          "metadata": {
            "tags": []
          },
          "execution_count": 43
        },
        {
          "output_type": "display_data",
          "data": {
            "image/png": "[encoded data removed]",
            "text/plain": [
              "<Figure size 432x288 with 1 Axes>"
            ]
          },
          "metadata": {
            "tags": [],
            "needs_background": "light"
          }
        }
      ]
    },
    {
      "cell_type": "markdown",
      "metadata": {
        "id": "0Nka4cXh-mLP"
      },
      "source": [
        "### Section II - Q8: \n",
        "\n",
        "(A) How many leading roles were available to both actors and actresses, in the 1960s (1960-1969)?\n",
        "\n",
        "(B) How many leading roles were available to both actors and actresses, in the 2000s (2000-2009)?\n",
        "\n",
        "- Hint: A specific value of n might indicate a leading role"
      ]
    },
    {
      "cell_type": "code",
      "metadata": {
        "id": "PLIoIS8I-mLQ",
        "colab": {
          "base_uri": "https://localhost:8080/"
        },
        "outputId": "3137276a-4200-4496-95a7-318a4ee8818e"
      },
      "source": [
        "sixties_roles = cast[(cast['n'] == 1) & (cast['year'] >= 1960) & (cast['year'] < 1970) & ((cast['type'] == 'actor') | (cast['type'] == 'actress'))]\n",
        "len(sixties_roles)"
      ],
      "execution_count": 44,
      "outputs": [
        {
          "output_type": "execute_result",
          "data": {
            "text/plain": [
              "11823"
            ]
          },
          "metadata": {
            "tags": []
          },
          "execution_count": 44
        }
      ]
    },
    {
      "cell_type": "code",
      "metadata": {
        "id": "joUxzOoW-mLQ",
        "colab": {
          "base_uri": "https://localhost:8080/"
        },
        "outputId": "ab3f6bfb-9663-4581-e9a8-da49587476dc"
      },
      "source": [
        "twentyfirst_roles = cast[(cast['n'] == 1) & (cast['year'] >= 2000) & (cast['year'] < 2010) & ((cast['type'] == 'actor') | (cast['type'] == 'actress'))]\n",
        "len(twentyfirst_roles)"
      ],
      "execution_count": 45,
      "outputs": [
        {
          "output_type": "execute_result",
          "data": {
            "text/plain": [
              "26344"
            ]
          },
          "metadata": {
            "tags": []
          },
          "execution_count": 45
        }
      ]
    },
    {
      "cell_type": "markdown",
      "metadata": {
        "id": "C1tgaLAE-mLR"
      },
      "source": [
        "### Section II - Q9: List, in order by year, each of the films in which Frank Oz has played more than 1 role."
      ]
    },
    {
      "cell_type": "code",
      "metadata": {
        "id": "hztvEAgv-mLS",
        "colab": {
          "base_uri": "https://localhost:8080/",
          "height": 390
        },
        "outputId": "5eb2ef31-3abc-42af-f9a7-809f9ffcf369"
      },
      "source": [
        "frank_oz = cast[cast['name'] == 'Frank Oz'].groupby(['title','year']).agg('count')\n",
        "frank_oz = frank_oz[['name']].rename(columns={'name':'# of roles'}).sort_values(by=['year'], ascending = True)\n",
        "frank_oz[frank_oz['# of roles'] > 1]"
      ],
      "execution_count": 46,
      "outputs": [
        {
          "output_type": "execute_result",
          "data": {
            "text/html": [
              "<div>\n",
              "<style scoped>\n",
              "    .dataframe tbody tr th:only-of-type {\n",
              "        vertical-align: middle;\n",
              "    }\n",
              "\n",
              "    .dataframe tbody tr th {\n",
              "        vertical-align: top;\n",
              "    }\n",
              "\n",
              "    .dataframe thead th {\n",
              "        text-align: right;\n",
              "    }\n",
              "</style>\n",
              "<table border=\"1\" class=\"dataframe\">\n",
              "  <thead>\n",
              "    <tr style=\"text-align: right;\">\n",
              "      <th></th>\n",
              "      <th></th>\n",
              "      <th># of roles</th>\n",
              "    </tr>\n",
              "    <tr>\n",
              "      <th>title</th>\n",
              "      <th>year</th>\n",
              "      <th></th>\n",
              "    </tr>\n",
              "  </thead>\n",
              "  <tbody>\n",
              "    <tr>\n",
              "      <th>The Muppet Movie</th>\n",
              "      <th>1979</th>\n",
              "      <td>8</td>\n",
              "    </tr>\n",
              "    <tr>\n",
              "      <th>An American Werewolf in London</th>\n",
              "      <th>1981</th>\n",
              "      <td>2</td>\n",
              "    </tr>\n",
              "    <tr>\n",
              "      <th>The Great Muppet Caper</th>\n",
              "      <th>1981</th>\n",
              "      <td>6</td>\n",
              "    </tr>\n",
              "    <tr>\n",
              "      <th>The Dark Crystal</th>\n",
              "      <th>1982</th>\n",
              "      <td>2</td>\n",
              "    </tr>\n",
              "    <tr>\n",
              "      <th>The Muppets Take Manhattan</th>\n",
              "      <th>1984</th>\n",
              "      <td>7</td>\n",
              "    </tr>\n",
              "    <tr>\n",
              "      <th>Follow That Bird</th>\n",
              "      <th>1985</th>\n",
              "      <td>3</td>\n",
              "    </tr>\n",
              "    <tr>\n",
              "      <th>The Muppet Christmas Carol</th>\n",
              "      <th>1992</th>\n",
              "      <td>7</td>\n",
              "    </tr>\n",
              "    <tr>\n",
              "      <th>Muppet Treasure Island</th>\n",
              "      <th>1996</th>\n",
              "      <td>4</td>\n",
              "    </tr>\n",
              "    <tr>\n",
              "      <th>Muppets from Space</th>\n",
              "      <th>1999</th>\n",
              "      <td>4</td>\n",
              "    </tr>\n",
              "    <tr>\n",
              "      <th>The Adventures of Elmo in Grouchland</th>\n",
              "      <th>1999</th>\n",
              "      <td>3</td>\n",
              "    </tr>\n",
              "  </tbody>\n",
              "</table>\n",
              "</div>"
            ],
            "text/plain": [
              "                                           # of roles\n",
              "title                                year            \n",
              "The Muppet Movie                     1979           8\n",
              "An American Werewolf in London       1981           2\n",
              "The Great Muppet Caper               1981           6\n",
              "The Dark Crystal                     1982           2\n",
              "The Muppets Take Manhattan           1984           7\n",
              "Follow That Bird                     1985           3\n",
              "The Muppet Christmas Carol           1992           7\n",
              "Muppet Treasure Island               1996           4\n",
              "Muppets from Space                   1999           4\n",
              "The Adventures of Elmo in Grouchland 1999           3"
            ]
          },
          "metadata": {
            "tags": []
          },
          "execution_count": 46
        }
      ]
    },
    {
      "cell_type": "markdown",
      "metadata": {
        "id": "nswXN0Eq-mLT"
      },
      "source": [
        "### Section II - Q10: List each of the characters that Frank Oz has portrayed at least twice"
      ]
    },
    {
      "cell_type": "code",
      "metadata": {
        "id": "Pnw_x6mQ-mLT",
        "colab": {
          "base_uri": "https://localhost:8080/",
          "height": 328
        },
        "outputId": "1532d52f-99db-4809-8afb-1b17cca2a823"
      },
      "source": [
        "frank_oz_char = cast[(cast['name'] == 'Frank Oz')].groupby(['character']).agg('count')\n",
        "frank_oz_char = frank_oz_char[['title']].rename(columns={'title': '# of times character potrayed'}).sort_values(by=['# of times character potrayed'], ascending = False)\n",
        "frank_oz_char[frank_oz_char['# of times character potrayed'] >= 2]"
      ],
      "execution_count": 47,
      "outputs": [
        {
          "output_type": "execute_result",
          "data": {
            "text/html": [
              "<div>\n",
              "<style scoped>\n",
              "    .dataframe tbody tr th:only-of-type {\n",
              "        vertical-align: middle;\n",
              "    }\n",
              "\n",
              "    .dataframe tbody tr th {\n",
              "        vertical-align: top;\n",
              "    }\n",
              "\n",
              "    .dataframe thead th {\n",
              "        text-align: right;\n",
              "    }\n",
              "</style>\n",
              "<table border=\"1\" class=\"dataframe\">\n",
              "  <thead>\n",
              "    <tr style=\"text-align: right;\">\n",
              "      <th></th>\n",
              "      <th># of times character potrayed</th>\n",
              "    </tr>\n",
              "    <tr>\n",
              "      <th>character</th>\n",
              "      <th></th>\n",
              "    </tr>\n",
              "  </thead>\n",
              "  <tbody>\n",
              "    <tr>\n",
              "      <th>Animal</th>\n",
              "      <td>6</td>\n",
              "    </tr>\n",
              "    <tr>\n",
              "      <th>Miss Piggy</th>\n",
              "      <td>6</td>\n",
              "    </tr>\n",
              "    <tr>\n",
              "      <th>Yoda</th>\n",
              "      <td>6</td>\n",
              "    </tr>\n",
              "    <tr>\n",
              "      <th>Cookie Monster</th>\n",
              "      <td>5</td>\n",
              "    </tr>\n",
              "    <tr>\n",
              "      <th>Sam the Eagle</th>\n",
              "      <td>5</td>\n",
              "    </tr>\n",
              "    <tr>\n",
              "      <th>Fozzie Bear</th>\n",
              "      <td>4</td>\n",
              "    </tr>\n",
              "    <tr>\n",
              "      <th>Bert</th>\n",
              "      <td>3</td>\n",
              "    </tr>\n",
              "    <tr>\n",
              "      <th>Grover</th>\n",
              "      <td>2</td>\n",
              "    </tr>\n",
              "  </tbody>\n",
              "</table>\n",
              "</div>"
            ],
            "text/plain": [
              "                # of times character potrayed\n",
              "character                                    \n",
              "Animal                                      6\n",
              "Miss Piggy                                  6\n",
              "Yoda                                        6\n",
              "Cookie Monster                              5\n",
              "Sam the Eagle                               5\n",
              "Fozzie Bear                                 4\n",
              "Bert                                        3\n",
              "Grover                                      2"
            ]
          },
          "metadata": {
            "tags": []
          },
          "execution_count": 47
        }
      ]
    },
    {
      "cell_type": "markdown",
      "metadata": {
        "id": "unD37UeN-mLT"
      },
      "source": [
        "# Section III - Advanced Merging, Querying and Visualizations"
      ]
    },
    {
      "cell_type": "markdown",
      "metadata": {
        "id": "M_-ehVD8-mLU"
      },
      "source": [
        "## Make a bar plot with the following conditions\n",
        "- Frequency of the number of movies with \"Christmas\" in their title \n",
        "- Movies should be such that they are released in the USA.\n",
        "- Show the frequency plot by month"
      ]
    },
    {
      "cell_type": "code",
      "metadata": {
        "id": "HPECWdOM-mLU",
        "colab": {
          "base_uri": "https://localhost:8080/",
          "height": 285
        },
        "outputId": "021110d9-6ee7-4d4f-c790-c927fb94e6da"
      },
      "source": [
        "christmas = release_dates[(release_dates.title.str.contains('Christmas')) & (release_dates.country == 'USA')]\n",
        "christmas.date.dt.month.value_counts().sort_index().plot(kind='bar')"
      ],
      "execution_count": 48,
      "outputs": [
        {
          "output_type": "execute_result",
          "data": {
            "text/plain": [
              "<matplotlib.axes._subplots.AxesSubplot at 0x7fae74a90110>"
            ]
          },
          "metadata": {
            "tags": []
          },
          "execution_count": 48
        },
        {
          "output_type": "display_data",
          "data": {
            "image/png": "[encoded data removed]",
            "text/plain": [
              "<Figure size 432x288 with 1 Axes>"
            ]
          },
          "metadata": {
            "tags": [],
            "needs_background": "light"
          }
        }
      ]
    },
    {
      "cell_type": "markdown",
      "metadata": {
        "id": "z7IvyGVM-mLU"
      },
      "source": [
        "### Section III - Q1: Make a bar plot with the following conditions\n",
        "- Frequency of the number of movies with \"Summer\" in their title \n",
        "- Movies should be such that they are released in the USA.\n",
        "- Show the frequency plot by month"
      ]
    },
    {
      "cell_type": "code",
      "metadata": {
        "id": "VGufgHJl-mLU",
        "colab": {
          "base_uri": "https://localhost:8080/",
          "height": 285
        },
        "outputId": "01fd350c-bcf7-44b1-866e-c2590e88363e"
      },
      "source": [
        "summer = release_dates[(release_dates['title'].str.contains('Summer')) & (release_dates['country'] == 'USA')]\n",
        "summer.date.dt.month.value_counts().sort_index().plot(kind = 'bar')"
      ],
      "execution_count": 49,
      "outputs": [
        {
          "output_type": "execute_result",
          "data": {
            "text/plain": [
              "<matplotlib.axes._subplots.AxesSubplot at 0x7fae749bc2d0>"
            ]
          },
          "metadata": {
            "tags": []
          },
          "execution_count": 49
        },
        {
          "output_type": "display_data",
          "data": {
            "image/png": "[encoded data removed]",
            "text/plain": [
              "<Figure size 432x288 with 1 Axes>"
            ]
          },
          "metadata": {
            "tags": [],
            "needs_background": "light"
          }
        }
      ]
    },
    {
      "cell_type": "markdown",
      "metadata": {
        "id": "6uJoh2j6-mLV"
      },
      "source": [
        "### Section III - Q2: Make a bar plot with the following conditions\n",
        "- Frequency of the number of movies with \"Action\" in their title \n",
        "- Movies should be such that they are released in the USA.\n",
        "- Show the frequency plot by week"
      ]
    },
    {
      "cell_type": "code",
      "metadata": {
        "id": "Fcsry77k-mLV",
        "colab": {
          "base_uri": "https://localhost:8080/",
          "height": 339
        },
        "outputId": "b91aa059-02a8-4cbc-d4e5-cf2acb6de75d"
      },
      "source": [
        "action = release_dates[(release_dates['title'].str.contains('Action')) & (release_dates['country'] == 'USA')]\n",
        "action.date.dt.week.value_counts().sort_index().plot(kind = 'bar')"
      ],
      "execution_count": 50,
      "outputs": [
        {
          "output_type": "stream",
          "text": [
            "/usr/local/lib/python3.7/dist-packages/ipykernel_launcher.py:2: FutureWarning: Series.dt.weekofyear and Series.dt.week have been deprecated.  Please use Series.dt.isocalendar().week instead.\n",
            "  \n"
          ],
          "name": "stderr"
        },
        {
          "output_type": "execute_result",
          "data": {
            "text/plain": [
              "<matplotlib.axes._subplots.AxesSubplot at 0x7fae74767910>"
            ]
          },
          "metadata": {
            "tags": []
          },
          "execution_count": 50
        },
        {
          "output_type": "display_data",
          "data": {
            "image/png": "[encoded data removed]",
            "text/plain": [
              "<Figure size 432x288 with 1 Axes>"
            ]
          },
          "metadata": {
            "tags": [],
            "needs_background": "light"
          }
        }
      ]
    },
    {
      "cell_type": "markdown",
      "metadata": {
        "id": "EMmhuPVX-mLV"
      },
      "source": [
        "### Section III - Q3: Show all the movies in which Keanu Reeves has played the lead role along with their   release date in the USA sorted by the date of release\n",
        "- Hint: You might need to join or merge two datasets!"
      ]
    },
    {
      "cell_type": "code",
      "metadata": {
        "id": "BKf38y9i-mLW",
        "colab": {
          "base_uri": "https://localhost:8080/",
          "height": 731
        },
        "outputId": "2bf9bd9c-7b7a-4fdd-afdc-5f37dd3ebcc5"
      },
      "source": [
        "#This ONLY displays the movies in which Keanu Reeves had the leading role. (Supporting roles not included)\n",
        "reeves_lead = cast[(cast['name']=='Keanu Reeves') &(cast['n']== 1)]\n",
        "reeves_lead = reeves_lead[['title','year']]\n",
        "dates = release_dates[release_dates['country']== 'USA']\n",
        "\n",
        "keanu_merged = pd.merge(left=reeves_lead, right=dates, on=['title','year'])\n",
        "keanu_merged = keanu_merged.sort_values(by=['date'])[['title','country','date']]\n",
        "keanu_merged"
      ],
      "execution_count": 51,
      "outputs": [
        {
          "output_type": "execute_result",
          "data": {
            "text/html": [
              "<div>\n",
              "<style scoped>\n",
              "    .dataframe tbody tr th:only-of-type {\n",
              "        vertical-align: middle;\n",
              "    }\n",
              "\n",
              "    .dataframe tbody tr th {\n",
              "        vertical-align: top;\n",
              "    }\n",
              "\n",
              "    .dataframe thead th {\n",
              "        text-align: right;\n",
              "    }\n",
              "</style>\n",
              "<table border=\"1\" class=\"dataframe\">\n",
              "  <thead>\n",
              "    <tr style=\"text-align: right;\">\n",
              "      <th></th>\n",
              "      <th>title</th>\n",
              "      <th>country</th>\n",
              "      <th>date</th>\n",
              "    </tr>\n",
              "  </thead>\n",
              "  <tbody>\n",
              "    <tr>\n",
              "      <th>20</th>\n",
              "      <td>The Night Before</td>\n",
              "      <td>USA</td>\n",
              "      <td>1988-04-15</td>\n",
              "    </tr>\n",
              "    <tr>\n",
              "      <th>3</th>\n",
              "      <td>Bill &amp; Ted's Excellent Adventure</td>\n",
              "      <td>USA</td>\n",
              "      <td>1989-02-17</td>\n",
              "    </tr>\n",
              "    <tr>\n",
              "      <th>2</th>\n",
              "      <td>Bill &amp; Ted's Bogus Journey</td>\n",
              "      <td>USA</td>\n",
              "      <td>1991-07-19</td>\n",
              "    </tr>\n",
              "    <tr>\n",
              "      <th>12</th>\n",
              "      <td>Little Buddha</td>\n",
              "      <td>USA</td>\n",
              "      <td>1994-05-25</td>\n",
              "    </tr>\n",
              "    <tr>\n",
              "      <th>13</th>\n",
              "      <td>Speed</td>\n",
              "      <td>USA</td>\n",
              "      <td>1994-06-10</td>\n",
              "    </tr>\n",
              "    <tr>\n",
              "      <th>10</th>\n",
              "      <td>Johnny Mnemonic</td>\n",
              "      <td>USA</td>\n",
              "      <td>1995-05-26</td>\n",
              "    </tr>\n",
              "    <tr>\n",
              "      <th>1</th>\n",
              "      <td>A Walk in the Clouds</td>\n",
              "      <td>USA</td>\n",
              "      <td>1995-08-11</td>\n",
              "    </tr>\n",
              "    <tr>\n",
              "      <th>4</th>\n",
              "      <td>Chain Reaction</td>\n",
              "      <td>USA</td>\n",
              "      <td>1996-08-02</td>\n",
              "    </tr>\n",
              "    <tr>\n",
              "      <th>6</th>\n",
              "      <td>Feeling Minnesota</td>\n",
              "      <td>USA</td>\n",
              "      <td>1996-09-13</td>\n",
              "    </tr>\n",
              "    <tr>\n",
              "      <th>17</th>\n",
              "      <td>The Devil's Advocate</td>\n",
              "      <td>USA</td>\n",
              "      <td>1997-10-17</td>\n",
              "    </tr>\n",
              "    <tr>\n",
              "      <th>19</th>\n",
              "      <td>The Matrix</td>\n",
              "      <td>USA</td>\n",
              "      <td>1999-03-31</td>\n",
              "    </tr>\n",
              "    <tr>\n",
              "      <th>21</th>\n",
              "      <td>The Replacements</td>\n",
              "      <td>USA</td>\n",
              "      <td>2000-08-11</td>\n",
              "    </tr>\n",
              "    <tr>\n",
              "      <th>15</th>\n",
              "      <td>Sweet November</td>\n",
              "      <td>USA</td>\n",
              "      <td>2001-02-16</td>\n",
              "    </tr>\n",
              "    <tr>\n",
              "      <th>7</th>\n",
              "      <td>Hard Ball</td>\n",
              "      <td>USA</td>\n",
              "      <td>2001-09-14</td>\n",
              "    </tr>\n",
              "    <tr>\n",
              "      <th>5</th>\n",
              "      <td>Constantine</td>\n",
              "      <td>USA</td>\n",
              "      <td>2005-02-18</td>\n",
              "    </tr>\n",
              "    <tr>\n",
              "      <th>18</th>\n",
              "      <td>The Lake House</td>\n",
              "      <td>USA</td>\n",
              "      <td>2006-06-16</td>\n",
              "    </tr>\n",
              "    <tr>\n",
              "      <th>14</th>\n",
              "      <td>Street Kings</td>\n",
              "      <td>USA</td>\n",
              "      <td>2008-04-11</td>\n",
              "    </tr>\n",
              "    <tr>\n",
              "      <th>16</th>\n",
              "      <td>The Day the Earth Stood Still</td>\n",
              "      <td>USA</td>\n",
              "      <td>2008-12-12</td>\n",
              "    </tr>\n",
              "    <tr>\n",
              "      <th>0</th>\n",
              "      <td>47 Ronin</td>\n",
              "      <td>USA</td>\n",
              "      <td>2013-12-25</td>\n",
              "    </tr>\n",
              "    <tr>\n",
              "      <th>8</th>\n",
              "      <td>John Wick</td>\n",
              "      <td>USA</td>\n",
              "      <td>2014-10-24</td>\n",
              "    </tr>\n",
              "    <tr>\n",
              "      <th>11</th>\n",
              "      <td>Knock Knock</td>\n",
              "      <td>USA</td>\n",
              "      <td>2015-10-09</td>\n",
              "    </tr>\n",
              "    <tr>\n",
              "      <th>9</th>\n",
              "      <td>John Wick: Chapter 2</td>\n",
              "      <td>USA</td>\n",
              "      <td>2017-02-10</td>\n",
              "    </tr>\n",
              "  </tbody>\n",
              "</table>\n",
              "</div>"
            ],
            "text/plain": [
              "                               title country       date\n",
              "20                  The Night Before     USA 1988-04-15\n",
              "3   Bill & Ted's Excellent Adventure     USA 1989-02-17\n",
              "2         Bill & Ted's Bogus Journey     USA 1991-07-19\n",
              "12                     Little Buddha     USA 1994-05-25\n",
              "13                             Speed     USA 1994-06-10\n",
              "10                   Johnny Mnemonic     USA 1995-05-26\n",
              "1               A Walk in the Clouds     USA 1995-08-11\n",
              "4                     Chain Reaction     USA 1996-08-02\n",
              "6                  Feeling Minnesota     USA 1996-09-13\n",
              "17              The Devil's Advocate     USA 1997-10-17\n",
              "19                        The Matrix     USA 1999-03-31\n",
              "21                  The Replacements     USA 2000-08-11\n",
              "15                    Sweet November     USA 2001-02-16\n",
              "7                          Hard Ball     USA 2001-09-14\n",
              "5                        Constantine     USA 2005-02-18\n",
              "18                    The Lake House     USA 2006-06-16\n",
              "14                      Street Kings     USA 2008-04-11\n",
              "16     The Day the Earth Stood Still     USA 2008-12-12\n",
              "0                           47 Ronin     USA 2013-12-25\n",
              "8                          John Wick     USA 2014-10-24\n",
              "11                       Knock Knock     USA 2015-10-09\n",
              "9               John Wick: Chapter 2     USA 2017-02-10"
            ]
          },
          "metadata": {
            "tags": []
          },
          "execution_count": 51
        }
      ]
    },
    {
      "cell_type": "markdown",
      "metadata": {
        "id": "vEpyMTug-mLW"
      },
      "source": [
        "### Section III - Q4: Make a bar plot showing the months in which movies with Keanu Reeves tend to be released in the USA?"
      ]
    },
    {
      "cell_type": "code",
      "metadata": {
        "id": "QFhiJFC4-mLX",
        "colab": {
          "base_uri": "https://localhost:8080/",
          "height": 285
        },
        "outputId": "43a1a17e-bf1c-4208-c823-dc63788d90b6"
      },
      "source": [
        "# This includes all movies in which Keanu Reeves has played leading AND supporting roles \n",
        "df = cast[(cast['name']=='Keanu Reeves')]\n",
        "df = df[['title','year']]\n",
        "dates = release_dates[release_dates['country']== 'USA']\n",
        "\n",
        "k_merged = pd.merge(left=df, right=dates, on=['title','year'])\n",
        "k_merged = k_merged.sort_values(by=['date'])[['title','country','date']]\n",
        "\n",
        "k_merged.date.dt.month.value_counts().sort_index().plot(kind = 'bar')"
      ],
      "execution_count": 52,
      "outputs": [
        {
          "output_type": "execute_result",
          "data": {
            "text/plain": [
              "<matplotlib.axes._subplots.AxesSubplot at 0x7fae74b33f50>"
            ]
          },
          "metadata": {
            "tags": []
          },
          "execution_count": 52
        },
        {
          "output_type": "display_data",
          "data": {
            "image/png": "[encoded data removed]",
            "text/plain": [
              "<Figure size 432x288 with 1 Axes>"
            ]
          },
          "metadata": {
            "tags": [],
            "needs_background": "light"
          }
        }
      ]
    },
    {
      "cell_type": "markdown",
      "metadata": {
        "id": "e3Ky5XaW-mLX"
      },
      "source": [
        "### Section III - Q5: Make a bar plot showing the years in which movies with Ian McKellen tend to be released in the USA?"
      ]
    },
    {
      "cell_type": "code",
      "metadata": {
        "id": "NoN_QjVz-mLY",
        "colab": {
          "base_uri": "https://localhost:8080/",
          "height": 298
        },
        "outputId": "15087d9e-88db-4b7d-cc21-43e68cba25dc"
      },
      "source": [
        "# This includes all movies in which Ian McKellen has played leading and supporting roles \n",
        "ian = cast[(cast['name'] == 'Ian McKellen')]\n",
        "ian = ian[['title','year']]\n",
        "dates = release_dates[release_dates['country']== 'USA']\n",
        "\n",
        "ian_merged = pd.merge(left=ian, right=dates, on=['title','year'])\n",
        "ian_merged.date.dt.year.value_counts().sort_index().plot(kind = 'bar')"
      ],
      "execution_count": 53,
      "outputs": [
        {
          "output_type": "execute_result",
          "data": {
            "text/plain": [
              "<matplotlib.axes._subplots.AxesSubplot at 0x7fae72eb8610>"
            ]
          },
          "metadata": {
            "tags": []
          },
          "execution_count": 53
        },
        {
          "output_type": "display_data",
          "data": {
            "image/png": "[encoded data removed]",
            "text/plain": [
              "<Figure size 432x288 with 1 Axes>"
            ]
          },
          "metadata": {
            "tags": [],
            "needs_background": "light"
          }
        }
      ]
    }
  ]
}