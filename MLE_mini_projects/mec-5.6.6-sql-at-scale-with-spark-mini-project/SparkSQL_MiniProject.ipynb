{
  "nbformat": 4,
  "nbformat_minor": 0,
  "metadata": {
    "name": "Mini_Project_SQL_with_Spark",
    "notebookId": 1931807081501742,
    "colab": {
      "name": "SparkSQL_MiniProject.ipynb",
      "provenance": [],
      "collapsed_sections": [],
      "toc_visible": true
    },
    "kernelspec": {
      "name": "python3",
      "display_name": "Python 3"
    }
  },
  "cells": [
    {
      "cell_type": "markdown",
      "metadata": {
        "id": "om1WsS3vge2V"
      },
      "source": [
        "## SQL at Scale with Spark SQL\n",
        "\n",
        "Welcome to the SQL mini project. For this project, you will use the Databricks Platform and work through a series of exercises using Spark SQL. The dataset size may not be too big but the intent here is to familiarize yourself with the Spark SQL interface which scales easily to huge datasets, without you having to worry about changing your SQL queries. \n",
        "\n",
        "The data you need is present in the mini-project folder in the form of three CSV files. This data will be imported in Databricks to create the following tables under the __`country_club`__ database.\n",
        "\n",
        "<br>\n",
        "1. The __`bookings`__ table,\n",
        "2. The __`facilities`__ table, and\n",
        "3. The __`members`__ table.\n",
        "\n",
        "You will be uploading these datasets shortly into the Databricks platform to understand how to create a database within minutes! Once the database and the tables are populated, you will be focusing on the mini-project questions.\n",
        "\n",
        "In the mini project, you'll be asked a series of questions. You can solve them using the databricks platform, but for the final deliverable,\n",
        "please download this notebook as an IPython notebook (__`File -> Export -> IPython Notebook`__) and upload it to your GitHub."
      ]
    },
    {
      "cell_type": "markdown",
      "metadata": {
        "id": "JlJ_bgqRge2g"
      },
      "source": [
        "### Creating the Database\n",
        "\n",
        "We will first create our database in which we will be creating our three tables of interest"
      ]
    },
    {
      "cell_type": "code",
      "metadata": {
        "colab": {
          "base_uri": "https://localhost:8080/"
        },
        "id": "cvY_7a72g3pV",
        "outputId": "8d96ba9f-12c9-44a3-b10c-11bd18b0e6a1"
      },
      "source": [
        "!pip install pyspark"
      ],
      "execution_count": 1,
      "outputs": [
        {
          "output_type": "stream",
          "text": [
            "Requirement already satisfied: pyspark in /usr/local/lib/python3.7/dist-packages (3.1.1)\n",
            "Requirement already satisfied: py4j==0.10.9 in /usr/local/lib/python3.7/dist-packages (from pyspark) (0.10.9)\n"
          ],
          "name": "stdout"
        }
      ]
    },
    {
      "cell_type": "code",
      "metadata": {
        "id": "cAbIT1lShEKY"
      },
      "source": [
        "from pyspark import SparkContext \n",
        "from pyspark.sql import SQLContext\n",
        "from pyspark.sql import SparkSession"
      ],
      "execution_count": 2,
      "outputs": []
    },
    {
      "cell_type": "code",
      "metadata": {
        "id": "75JNSQXWjiO_"
      },
      "source": [
        "sc = SparkSession.builder.master(\"local\").appName(\"sample\").getOrCreate()\n",
        "spark = SQLContext(sc)"
      ],
      "execution_count": 3,
      "outputs": []
    },
    {
      "cell_type": "code",
      "metadata": {
        "colab": {
          "base_uri": "https://localhost:8080/"
        },
        "id": "imniRrE3ge2h",
        "outputId": "efa5c344-06b6-485b-e9fc-0e8f7b41968d"
      },
      "source": [
        " spark.sql('drop database if exists country_club cascade;')\n",
        " spark.sql('create database country_club;')\n",
        " spark.sql('show databases;' )"
      ],
      "execution_count": 8,
      "outputs": [
        {
          "output_type": "execute_result",
          "data": {
            "text/plain": [
              "DataFrame[namespace: string]"
            ]
          },
          "metadata": {
            "tags": []
          },
          "execution_count": 8
        }
      ]
    },
    {
      "cell_type": "markdown",
      "metadata": {
        "id": "0wJYC6DXge2j"
      },
      "source": [
        "### Creating the Tables\n",
        "\n",
        "In this section, we will be creating the three tables of interest and populate them with the data from the CSV files already available to you. \n",
        "To get started, first upload the three CSV files to the DBFS as depicted in the following figure\n",
        "\n",
        "![](https://i.imgur.com/QcCruBr.png)\n",
        "\n",
        "\n",
        "Once you have done this, please remember to execute the following code to build the dataframes which will be saved as tables in our database"
      ]
    },
    {
      "cell_type": "code",
      "metadata": {
        "id": "n3fgavowge2j"
      },
      "source": [
        "# File location and type\n",
        "file_location_bookings = \"Bookings.csv\"\n",
        "file_location_facilities = \"Facilities.csv\"\n",
        "file_location_members = \"Members.csv\"\n",
        "\n",
        "file_type = \"csv\"\n",
        "\n",
        "# CSV options\n",
        "infer_schema = \"true\"\n",
        "first_row_is_header = \"true\"\n",
        "delimiter = \",\"\n",
        "\n",
        "# The applied options are for CSV files. For other file types, these will be ignored.\n",
        "bookings_df = (spark.read.format(file_type) \n",
        "                    .option(\"inferSchema\", infer_schema) \n",
        "                    .option(\"header\", first_row_is_header) \n",
        "                    .option(\"sep\", delimiter) \n",
        "                    .load(file_location_bookings))\n",
        "\n",
        "facilities_df = (spark.read.format(file_type) \n",
        "                      .option(\"inferSchema\", infer_schema) \n",
        "                      .option(\"header\", first_row_is_header) \n",
        "                      .option(\"sep\", delimiter) \n",
        "                      .load(file_location_facilities))\n",
        "\n",
        "members_df = (spark.read.format(file_type) \n",
        "                      .option(\"inferSchema\", infer_schema) \n",
        "                      .option(\"header\", first_row_is_header) \n",
        "                      .option(\"sep\", delimiter) \n",
        "                      .load(file_location_members))"
      ],
      "execution_count": 5,
      "outputs": []
    },
    {
      "cell_type": "markdown",
      "metadata": {
        "id": "J4PZ7lD2ge2k"
      },
      "source": [
        "### Viewing the dataframe schemas\n",
        "\n",
        "We can take a look at the schemas of our potential tables to be written to our database soon"
      ]
    },
    {
      "cell_type": "code",
      "metadata": {
        "colab": {
          "base_uri": "https://localhost:8080/"
        },
        "id": "fF-ZAdHGge2l",
        "outputId": "0a21c896-7a36-4faa-b884-d36671e7595b"
      },
      "source": [
        "print('Bookings Schema')\n",
        "bookings_df.printSchema()\n",
        "print('Facilities Schema')\n",
        "facilities_df.printSchema()\n",
        "print('Members Schema')\n",
        "members_df.printSchema()"
      ],
      "execution_count": 6,
      "outputs": [
        {
          "output_type": "stream",
          "text": [
            "Bookings Schema\n",
            "root\n",
            " |-- bookid: integer (nullable = true)\n",
            " |-- facid: integer (nullable = true)\n",
            " |-- memid: integer (nullable = true)\n",
            " |-- starttime: string (nullable = true)\n",
            " |-- slots: integer (nullable = true)\n",
            "\n",
            "Facilities Schema\n",
            "root\n",
            " |-- facid: integer (nullable = true)\n",
            " |-- name: string (nullable = true)\n",
            " |-- membercost: double (nullable = true)\n",
            " |-- guestcost: double (nullable = true)\n",
            " |-- initialoutlay: integer (nullable = true)\n",
            " |-- monthlymaintenance: integer (nullable = true)\n",
            "\n",
            "Members Schema\n",
            "root\n",
            " |-- memid: integer (nullable = true)\n",
            " |-- surname: string (nullable = true)\n",
            " |-- firstname: string (nullable = true)\n",
            " |-- address: string (nullable = true)\n",
            " |-- zipcode: integer (nullable = true)\n",
            " |-- telephone: string (nullable = true)\n",
            " |-- recommendedby: integer (nullable = true)\n",
            " |-- joindate: string (nullable = true)\n",
            "\n"
          ],
          "name": "stdout"
        }
      ]
    },
    {
      "cell_type": "markdown",
      "metadata": {
        "id": "Vqc3qrzhge2l"
      },
      "source": [
        "### Create permanent tables\n",
        "We will be creating three permanent tables here in our __`country_club`__ database as we discussed previously with the following code"
      ]
    },
    {
      "cell_type": "code",
      "metadata": {
        "id": "LKnxilXjge2m"
      },
      "source": [
        "permanent_table_name_bookings = \"country_club.Bookings\"\n",
        "bookings_df.write.format(\"parquet\").saveAsTable(permanent_table_name_bookings)\n",
        "\n",
        "permanent_table_name_facilities = \"country_club.Facilities\"\n",
        "facilities_df.write.format(\"parquet\").saveAsTable(permanent_table_name_facilities)\n",
        "\n",
        "permanent_table_name_members = \"country_club.Members\"\n",
        "members_df.write.format(\"parquet\").saveAsTable(permanent_table_name_members)"
      ],
      "execution_count": 9,
      "outputs": []
    },
    {
      "cell_type": "markdown",
      "metadata": {
        "id": "2bRmLkBFge2m"
      },
      "source": [
        "### Refresh tables and check them"
      ]
    },
    {
      "cell_type": "code",
      "metadata": {
        "colab": {
          "base_uri": "https://localhost:8080/"
        },
        "id": "ieR-Th7Wge2n",
        "outputId": "cfbcab79-fb73-4546-b88b-3aa9e86affb7"
      },
      "source": [
        "spark.sql('USE country_club;')\n",
        "spark.sql('REFRESH TABLE bookings;')\n",
        "spark.sql('REFRESH TABLE facilities;')\n",
        "spark.sql('REFRESH TABLE members;')\n",
        "spark.sql('SHOW TABLES;')"
      ],
      "execution_count": 10,
      "outputs": [
        {
          "output_type": "execute_result",
          "data": {
            "text/plain": [
              "DataFrame[database: string, tableName: string, isTemporary: boolean]"
            ]
          },
          "metadata": {
            "tags": []
          },
          "execution_count": 10
        }
      ]
    },
    {
      "cell_type": "markdown",
      "metadata": {
        "id": "E8K4z5-hge2n"
      },
      "source": [
        "### Test a sample SQL query\n",
        "\n",
        "__Note:__ You can use __`%sql`__ at the beginning of a cell and write SQL queries directly as seen in the following cell. Neat isn't it!"
      ]
    },
    {
      "cell_type": "code",
      "metadata": {
        "colab": {
          "base_uri": "https://localhost:8080/"
        },
        "id": "ITDo-vOTge2o",
        "outputId": "723d647e-5872-4393-a2da-ae98f32ef0d5"
      },
      "source": [
        "query = spark.sql('select * from bookings limit 3')\n",
        "query.show()"
      ],
      "execution_count": 11,
      "outputs": [
        {
          "output_type": "stream",
          "text": [
            "+------+-----+-----+-------------------+-----+\n",
            "|bookid|facid|memid|          starttime|slots|\n",
            "+------+-----+-----+-------------------+-----+\n",
            "|     0|    3|    1|2012-07-03 11:00:00|    2|\n",
            "|     1|    4|    1|2012-07-03 08:00:00|    2|\n",
            "|     2|    6|    0|2012-07-03 18:00:00|    2|\n",
            "+------+-----+-----+-------------------+-----+\n",
            "\n"
          ],
          "name": "stdout"
        }
      ]
    },
    {
      "cell_type": "markdown",
      "metadata": {
        "id": "WWXOYUnRge2o"
      },
      "source": [
        "#### Q1: Some of the facilities charge a fee to members, but some do not. Please list the names of the facilities that do."
      ]
    },
    {
      "cell_type": "code",
      "metadata": {
        "colab": {
          "base_uri": "https://localhost:8080/"
        },
        "id": "W68exOt1ge2o",
        "outputId": "f79b0920-4a17-4fac-bb0b-31545fc39482"
      },
      "source": [
        "q1_query = spark.sql('''SELECT name, membercost FROM facilities \n",
        "                        WHERE membercost != 0''')\n",
        "q1_query.show()"
      ],
      "execution_count": 12,
      "outputs": [
        {
          "output_type": "stream",
          "text": [
            "+--------------+----------+\n",
            "|          name|membercost|\n",
            "+--------------+----------+\n",
            "|Tennis Court 1|       5.0|\n",
            "|Tennis Court 2|       5.0|\n",
            "|Massage Room 1|       9.9|\n",
            "|Massage Room 2|       9.9|\n",
            "|  Squash Court|       3.5|\n",
            "+--------------+----------+\n",
            "\n"
          ],
          "name": "stdout"
        }
      ]
    },
    {
      "cell_type": "markdown",
      "metadata": {
        "id": "DoI89uOMge2p"
      },
      "source": [
        "####  Q2: How many facilities do not charge a fee to members?"
      ]
    },
    {
      "cell_type": "code",
      "metadata": {
        "colab": {
          "base_uri": "https://localhost:8080/"
        },
        "id": "3OVaIT4age2p",
        "outputId": "37878c42-0a4d-414e-d375-03f246134468"
      },
      "source": [
        "q2_query1 = spark.sql('SELECT count(*) FROM facilities WHERE membercost = 0')\n",
        "q2_query1.show()\n",
        "\n",
        "q2_query2 = spark.sql('SELECT name, membercost FROM facilities WHERE membercost = 0')\n",
        "q2_query2.show()"
      ],
      "execution_count": 13,
      "outputs": [
        {
          "output_type": "stream",
          "text": [
            "+--------+\n",
            "|count(1)|\n",
            "+--------+\n",
            "|       4|\n",
            "+--------+\n",
            "\n",
            "+---------------+----------+\n",
            "|           name|membercost|\n",
            "+---------------+----------+\n",
            "|Badminton Court|       0.0|\n",
            "|   Table Tennis|       0.0|\n",
            "|  Snooker Table|       0.0|\n",
            "|     Pool Table|       0.0|\n",
            "+---------------+----------+\n",
            "\n"
          ],
          "name": "stdout"
        }
      ]
    },
    {
      "cell_type": "markdown",
      "metadata": {
        "id": "3ozzNSThge2p"
      },
      "source": [
        "#### Q3: How can you produce a list of facilities that charge a fee to members, where the fee is less than 20% of the facility's monthly maintenance cost? \n",
        "#### Return the facid, facility name, member cost, and monthly maintenance of the facilities in question."
      ]
    },
    {
      "cell_type": "code",
      "metadata": {
        "colab": {
          "base_uri": "https://localhost:8080/"
        },
        "id": "ljkJP5gdge2q",
        "outputId": "c2758217-6295-4f05-a900-31fd3d790a91"
      },
      "source": [
        "q3_query = spark.sql('''SELECT facid, name, membercost, monthlymaintenance \n",
        "                        FROM facilities WHERE membercost != 0 AND \n",
        "                        membercost < (monthlymaintenance * 0.2)''')\n",
        "q3_query.show()\n"
      ],
      "execution_count": 14,
      "outputs": [
        {
          "output_type": "stream",
          "text": [
            "+-----+--------------+----------+------------------+\n",
            "|facid|          name|membercost|monthlymaintenance|\n",
            "+-----+--------------+----------+------------------+\n",
            "|    0|Tennis Court 1|       5.0|               200|\n",
            "|    1|Tennis Court 2|       5.0|               200|\n",
            "|    4|Massage Room 1|       9.9|              3000|\n",
            "|    5|Massage Room 2|       9.9|              3000|\n",
            "|    6|  Squash Court|       3.5|                80|\n",
            "+-----+--------------+----------+------------------+\n",
            "\n"
          ],
          "name": "stdout"
        }
      ]
    },
    {
      "cell_type": "markdown",
      "metadata": {
        "id": "hm21Jmitge2q"
      },
      "source": [
        "#### Q4: How can you retrieve the details of facilities with ID 1 and 5? Write the query without using the OR operator."
      ]
    },
    {
      "cell_type": "code",
      "metadata": {
        "colab": {
          "base_uri": "https://localhost:8080/"
        },
        "id": "TkjC6kO-ge2q",
        "outputId": "6853e1c6-5c56-421b-8659-11706e1b20e3"
      },
      "source": [
        "q4_query = spark.sql('''SELECT * FROM facilities \n",
        "                        WHERE facid in (1, 5)''')\n",
        "q4_query.show()"
      ],
      "execution_count": 15,
      "outputs": [
        {
          "output_type": "stream",
          "text": [
            "+-----+--------------+----------+---------+-------------+------------------+\n",
            "|facid|          name|membercost|guestcost|initialoutlay|monthlymaintenance|\n",
            "+-----+--------------+----------+---------+-------------+------------------+\n",
            "|    1|Tennis Court 2|       5.0|     25.0|         8000|               200|\n",
            "|    5|Massage Room 2|       9.9|     80.0|         4000|              3000|\n",
            "+-----+--------------+----------+---------+-------------+------------------+\n",
            "\n"
          ],
          "name": "stdout"
        }
      ]
    },
    {
      "cell_type": "markdown",
      "metadata": {
        "id": "gzp08_sGge2q"
      },
      "source": [
        "#### Q5: How can you produce a list of facilities, with each labelled as 'cheap' or 'expensive', depending on if their monthly maintenance cost is more than $100? \n",
        "#### Return the name and monthly maintenance of the facilities in question."
      ]
    },
    {
      "cell_type": "code",
      "metadata": {
        "colab": {
          "base_uri": "https://localhost:8080/"
        },
        "id": "IWCR3NPGge2r",
        "outputId": "12b8c71f-0fd2-4470-cef5-6f588ce485ef"
      },
      "source": [
        "q5_query = spark.sql('''SELECT name, monthlymaintenance, \n",
        "                        CASE WHEN (monthlymaintenance > 100) \n",
        "                              THEN 'expensive' \n",
        "                              ELSE 'cheap' END AS price_guage \n",
        "                        FROM facilities; ''')\n",
        "q5_query.show()"
      ],
      "execution_count": 16,
      "outputs": [
        {
          "output_type": "stream",
          "text": [
            "+---------------+------------------+-----------+\n",
            "|           name|monthlymaintenance|price_guage|\n",
            "+---------------+------------------+-----------+\n",
            "| Tennis Court 1|               200|  expensive|\n",
            "| Tennis Court 2|               200|  expensive|\n",
            "|Badminton Court|                50|      cheap|\n",
            "|   Table Tennis|                10|      cheap|\n",
            "| Massage Room 1|              3000|  expensive|\n",
            "| Massage Room 2|              3000|  expensive|\n",
            "|   Squash Court|                80|      cheap|\n",
            "|  Snooker Table|                15|      cheap|\n",
            "|     Pool Table|                15|      cheap|\n",
            "+---------------+------------------+-----------+\n",
            "\n"
          ],
          "name": "stdout"
        }
      ]
    },
    {
      "cell_type": "markdown",
      "metadata": {
        "id": "6u9keyeIge2r"
      },
      "source": [
        "#### Q6: You'd like to get the first and last name of the last member(s) who signed up. Do not use the LIMIT clause for your solution."
      ]
    },
    {
      "cell_type": "code",
      "metadata": {
        "colab": {
          "base_uri": "https://localhost:8080/"
        },
        "id": "DBwigXoTge2r",
        "outputId": "a2544b89-9a37-4d63-e83a-2206b3c871e8"
      },
      "source": [
        "q6_query = spark.sql('''SELECT firstname,surname FROM members\n",
        "                        WHERE memid=(SELECT max(memid) FROM members);''')\n",
        "q6_query.show()"
      ],
      "execution_count": 17,
      "outputs": [
        {
          "output_type": "stream",
          "text": [
            "+---------+-------+\n",
            "|firstname|surname|\n",
            "+---------+-------+\n",
            "|   Darren|  Smith|\n",
            "+---------+-------+\n",
            "\n"
          ],
          "name": "stdout"
        }
      ]
    },
    {
      "cell_type": "markdown",
      "metadata": {
        "id": "1hafqxdtge2s"
      },
      "source": [
        "####  Q7: How can you produce a list of all members who have used a tennis court?\n",
        "- Include in your output the name of the court, and the name of the member formatted as a single column. \n",
        "- Ensure no duplicate data\n",
        "- Also order by the member name."
      ]
    },
    {
      "cell_type": "code",
      "metadata": {
        "colab": {
          "base_uri": "https://localhost:8080/"
        },
        "id": "1mV-Wj82ge2s",
        "outputId": "6a46ed38-d6f6-4b61-ef1a-4205c48cb401"
      },
      "source": [
        "q7_query = spark.sql('''SELECT DISTINCT memid, firstname, surname \n",
        "                      FROM members WHERE memid IN \n",
        "                        (SELECT memid FROM bookings WHERE facid = 0 OR facid = 1) \n",
        "                      ORDER BY surname;''')\n",
        "\n",
        "q7_query.show(members_df.count(), truncate = False)"
      ],
      "execution_count": 18,
      "outputs": [
        {
          "output_type": "stream",
          "text": [
            "+-----+---------+--------+\n",
            "|memid|firstname|surname |\n",
            "+-----+---------+--------+\n",
            "|15   |Florence |Bader   |\n",
            "|16   |Timothy  |Baker   |\n",
            "|12   |Anne     |Baker   |\n",
            "|8    |Tim      |Boothe  |\n",
            "|5    |Gerald   |Butters |\n",
            "|22   |Joan     |Coplin  |\n",
            "|36   |Erica    |Crumpet |\n",
            "|7    |Nancy    |Dare    |\n",
            "|28   |David    |Farrell |\n",
            "|13   |Jemima   |Farrell |\n",
            "|0    |GUEST    |GUEST   |\n",
            "|20   |Matthew  |Genting |\n",
            "|35   |John     |Hunt    |\n",
            "|26   |Douglas  |Jones   |\n",
            "|11   |David    |Jones   |\n",
            "|4    |Janice   |Joplette|\n",
            "|10   |Charles  |Owen    |\n",
            "|17   |David    |Pinker  |\n",
            "|30   |Millicent|Purview |\n",
            "|3    |Tim      |Rownam  |\n",
            "|27   |Henrietta|Rumney  |\n",
            "|24   |Ramnaresh|Sarwin  |\n",
            "|2    |Tracy    |Smith   |\n",
            "|14   |Jack     |Smith   |\n",
            "|1    |Darren   |Smith   |\n",
            "|9    |Ponder   |Stibbons|\n",
            "|6    |Burton   |Tracy   |\n",
            "+-----+---------+--------+\n",
            "\n"
          ],
          "name": "stdout"
        }
      ]
    },
    {
      "cell_type": "markdown",
      "metadata": {
        "id": "HaSNf3eDge2t"
      },
      "source": [
        "#### Q8: How can you produce a list of bookings on the day of 2012-09-14 which will cost the member (or guest) more than $30? \n",
        "\n",
        "- Remember that guests have different costs to members (the listed costs are per half-hour 'slot')\n",
        "- The guest user's ID is always 0. \n",
        "\n",
        "#### Include in your output the name of the facility, the name of the member formatted as a single column, and the cost.\n",
        "\n",
        "- Order by descending cost, and do not use any subqueries."
      ]
    },
    {
      "cell_type": "code",
      "metadata": {
        "colab": {
          "base_uri": "https://localhost:8080/"
        },
        "id": "Kn_-6wwuge2t",
        "outputId": "4370fdb3-49cd-44c3-dfbc-5be519af1060"
      },
      "source": [
        "q8_query = spark.sql('''SELECT members.firstname || ' ' || members.surname as fullname, facilities.name as facility,\n",
        "                        CASE\n",
        "                            WHEN members.memid = 0 THEN \n",
        "                            (facilities.guestcost*bookings.slots)\n",
        "                            WHEN members.memid != 0 THEN\n",
        "                            (facilities.membercost*bookings.slots) \n",
        "                        END AS cost\n",
        "\n",
        "           FROM members INNER JOIN bookings ON members.memid = bookings.memid\n",
        "                        INNER JOIN facilities ON bookings.facid = facilities.facid \n",
        "\n",
        "          WHERE (DATE(bookings.starttime) >= '2012-09-14' AND \n",
        "                DATE(bookings.starttime) < '2012-09-15') AND (\n",
        "\t\t            (members.memid = 0 AND bookings.slots*facilities.guestcost >= 30) OR\n",
        "                 (members.memid != 0 AND bookings.slots*facilities.membercost >= 30)\n",
        "                 )\n",
        "          ORDER BY cost DESC;''')\n",
        "      \n",
        "q8_query.show()"
      ],
      "execution_count": 19,
      "outputs": [
        {
          "output_type": "stream",
          "text": [
            "+--------------+--------------+-----+\n",
            "|      fullname|      facility| cost|\n",
            "+--------------+--------------+-----+\n",
            "|   GUEST GUEST|Massage Room 2|320.0|\n",
            "|   GUEST GUEST|Massage Room 1|160.0|\n",
            "|   GUEST GUEST|Massage Room 1|160.0|\n",
            "|   GUEST GUEST|Massage Room 1|160.0|\n",
            "|   GUEST GUEST|Tennis Court 2|150.0|\n",
            "|   GUEST GUEST|Tennis Court 2| 75.0|\n",
            "|   GUEST GUEST|Tennis Court 1| 75.0|\n",
            "|   GUEST GUEST|Tennis Court 1| 75.0|\n",
            "|   GUEST GUEST|  Squash Court| 70.0|\n",
            "|Jemima Farrell|Massage Room 1| 39.6|\n",
            "|   GUEST GUEST|  Squash Court| 35.0|\n",
            "|   GUEST GUEST|  Squash Court| 35.0|\n",
            "|   David Jones|Tennis Court 2| 30.0|\n",
            "|    Tim Boothe|Tennis Court 2| 30.0|\n",
            "+--------------+--------------+-----+\n",
            "\n"
          ],
          "name": "stdout"
        }
      ]
    },
    {
      "cell_type": "markdown",
      "metadata": {
        "id": "PjESvYT6ge2t"
      },
      "source": [
        "#### Q9: This time, produce the same result as in Q8, but using a subquery."
      ]
    },
    {
      "cell_type": "code",
      "metadata": {
        "colab": {
          "base_uri": "https://localhost:8080/"
        },
        "id": "FXZP9uUYge2u",
        "outputId": "80b6900e-e54a-4604-8b53-ab23dcb281b0"
      },
      "source": [
        "q9_query = spark.sql('''SELECT fullname, facility, cost FROM (\n",
        "                        SELECT members.firstname || ' ' || members.surname as fullname, \n",
        "                        facilities.name as facility,\n",
        "                        CASE\n",
        "                            WHEN members.memid = 0 THEN \n",
        "                            (facilities.guestcost*bookings.slots)\n",
        "                            WHEN members.memid != 0 THEN\n",
        "                            (facilities.membercost*bookings.slots) \n",
        "                        END AS cost\n",
        "\n",
        "            FROM members INNER JOIN bookings ON members.memid = bookings.memid\n",
        "                         INNER JOIN facilities ON bookings.facid = facilities.facid \n",
        "            WHERE \n",
        "               DATE(bookings.starttime) >= '2012-09-14' AND \n",
        "               DATE(bookings.starttime) < '2012-09-15'\n",
        "                            ) AS bookings WHERE cost >= 30 ORDER by cost DESC; ''')\n",
        "            \n",
        "        \n",
        "q9_query.show()"
      ],
      "execution_count": 20,
      "outputs": [
        {
          "output_type": "stream",
          "text": [
            "+--------------+--------------+-----+\n",
            "|      fullname|      facility| cost|\n",
            "+--------------+--------------+-----+\n",
            "|   GUEST GUEST|Massage Room 2|320.0|\n",
            "|   GUEST GUEST|Massage Room 1|160.0|\n",
            "|   GUEST GUEST|Massage Room 1|160.0|\n",
            "|   GUEST GUEST|Massage Room 1|160.0|\n",
            "|   GUEST GUEST|Tennis Court 2|150.0|\n",
            "|   GUEST GUEST|Tennis Court 2| 75.0|\n",
            "|   GUEST GUEST|Tennis Court 1| 75.0|\n",
            "|   GUEST GUEST|Tennis Court 1| 75.0|\n",
            "|   GUEST GUEST|  Squash Court| 70.0|\n",
            "|Jemima Farrell|Massage Room 1| 39.6|\n",
            "|   GUEST GUEST|  Squash Court| 35.0|\n",
            "|   GUEST GUEST|  Squash Court| 35.0|\n",
            "|   David Jones|Tennis Court 2| 30.0|\n",
            "|    Tim Boothe|Tennis Court 2| 30.0|\n",
            "+--------------+--------------+-----+\n",
            "\n"
          ],
          "name": "stdout"
        }
      ]
    },
    {
      "cell_type": "markdown",
      "metadata": {
        "id": "Uu0TTOPTge2u"
      },
      "source": [
        "#### Q10: Produce a list of facilities with a total revenue less than 1000.\n",
        "- The output should have facility name and total revenue, sorted by revenue. \n",
        "- Remember that there's a different cost for guests and members!"
      ]
    },
    {
      "cell_type": "markdown",
      "metadata": {
        "id": "RIPjO8WlP9tP"
      },
      "source": [
        "#### **Q10 - Answer (Without using a Subquery) :**\n",
        "\n",
        "\n"
      ]
    },
    {
      "cell_type": "code",
      "metadata": {
        "colab": {
          "base_uri": "https://localhost:8080/"
        },
        "id": "MEHjolkLQWZW",
        "outputId": "19f77186-c176-44fe-9c2c-d72781717dc4"
      },
      "source": [
        "q10_query1 = spark.sql('''SELECT facilities.name, \n",
        "                          sum(CASE\n",
        "                               WHEN bookings.memid = 0 THEN \n",
        "                                  facilities.guestcost*bookings.slots\n",
        "                               WHEN bookings.memid != 0 THEN\n",
        "                                  facilities.membercost*bookings.slots END)\n",
        "                           AS total_revenue \n",
        "\n",
        "                      FROM bookings INNER JOIN facilities \n",
        "                      ON bookings.facid = facilities.facid \n",
        "                      GROUP BY facilities.name HAVING \n",
        "                          sum(CASE \n",
        "                                WHEN bookings.memid = 0 THEN \n",
        "                                  facilities.guestcost*bookings.slots\n",
        "                               WHEN bookings.memid != 0 THEN\n",
        "                                  facilities.membercost*bookings.slots END) < 1000\n",
        "                      ORDER BY total_revenue;''' )\n",
        "q10_query1.show()"
      ],
      "execution_count": 21,
      "outputs": [
        {
          "output_type": "stream",
          "text": [
            "+-------------+-------------+\n",
            "|         name|total_revenue|\n",
            "+-------------+-------------+\n",
            "| Table Tennis|        180.0|\n",
            "|Snooker Table|        240.0|\n",
            "|   Pool Table|        270.0|\n",
            "+-------------+-------------+\n",
            "\n"
          ],
          "name": "stdout"
        }
      ]
    },
    {
      "cell_type": "markdown",
      "metadata": {
        "id": "SFFBP5_tPvQW"
      },
      "source": [
        "#### **Q10 - Answer (Using a Subquery) :**"
      ]
    },
    {
      "cell_type": "code",
      "metadata": {
        "id": "xTQWcMa0ge2u",
        "colab": {
          "base_uri": "https://localhost:8080/"
        },
        "outputId": "ec2212ba-f60b-48a4-d9f6-85326b635efc"
      },
      "source": [
        "q10_query2 = spark.sql(''' SELECT name, total_revenue FROM (\n",
        "                          SELECT facilities.name, \n",
        "                          sum(CASE\n",
        "                               WHEN bookings.memid = 0 THEN \n",
        "                                  facilities.guestcost*bookings.slots\n",
        "                               WHEN bookings.memid != 0 THEN\n",
        "                                  facilities.membercost*bookings.slots END)\n",
        "                           AS total_revenue\n",
        "\n",
        "                      FROM bookings INNER JOIN facilities \n",
        "                      ON bookings.facid = facilities.facid GROUP BY facilities.name\n",
        "                               ) AS agg WHERE total_revenue < 1000 ORDER BY total_revenue;''') \n",
        "\n",
        "q10_query2.show()"
      ],
      "execution_count": 22,
      "outputs": [
        {
          "output_type": "stream",
          "text": [
            "+-------------+-------------+\n",
            "|         name|total_revenue|\n",
            "+-------------+-------------+\n",
            "| Table Tennis|        180.0|\n",
            "|Snooker Table|        240.0|\n",
            "|   Pool Table|        270.0|\n",
            "+-------------+-------------+\n",
            "\n"
          ],
          "name": "stdout"
        }
      ]
    }
  ]
}